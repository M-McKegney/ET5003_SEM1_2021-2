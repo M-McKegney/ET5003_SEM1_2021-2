{
  "nbformat": 4,
  "nbformat_minor": 0,
  "metadata": {
    "colab": {
      "name": "ET5003_KaggleCompetition_MichaelMcKegney_20149743.ipynb",
      "provenance": [],
      "collapsed_sections": [],
      "include_colab_link": true
    },
    "kernelspec": {
      "name": "python3",
      "display_name": "Python 3"
    },
    "language_info": {
      "name": "python"
    }
  },
  "cells": [
    {
      "cell_type": "markdown",
      "metadata": {
        "id": "view-in-github",
        "colab_type": "text"
      },
      "source": [
        "<a href=\"https://colab.research.google.com/github/M-McKegney/ET5003_SEM1_2021-2/blob/MMcKegneyKaggleET5003/ET5003_KaggleCompetition_MichaelMcKegney_20149743.ipynb\" target=\"_parent\"><img src=\"https://colab.research.google.com/assets/colab-badge.svg\" alt=\"Open In Colab\"/></a>"
      ]
    },
    {
      "cell_type": "markdown",
      "metadata": {
        "id": "5k_RWxe9-cT8"
      },
      "source": [
        "# Student Name: Michael McKegney\n",
        "\n",
        "# Student ID: 20149743"
      ]
    },
    {
      "cell_type": "markdown",
      "metadata": {
        "id": "930vlW5BrOtq"
      },
      "source": [
        "<div>\n",
        "<img src=\"https://drive.google.com/uc?export=view&id=1vK33e_EqaHgBHcbRV_m38hx6IkG0blK_\" width=\"350\"/>\n",
        "</div> \n",
        "\n",
        "#**Artificial Intelligence - MSc**\n",
        "##ET5003 - MACHINE LEARNING APPLICATIONS \n",
        "\n",
        "###Instructor: Enrique Naredo\n",
        "###ET5003_KaggleCompetition"
      ]
    },
    {
      "cell_type": "code",
      "metadata": {
        "id": "LqXD_IwUQuBF",
        "cellView": "form"
      },
      "source": [
        "#@title Current Date\n",
        "Today = '2021-10-19' #@param {type:\"date\"}\n"
      ],
      "execution_count": 220,
      "outputs": []
    },
    {
      "cell_type": "code",
      "metadata": {
        "id": "uzDKau31OjVO",
        "cellView": "form"
      },
      "source": [
        "#@markdown ---\n",
        "#@markdown ### Enter your details here:\n",
        "Team_Number = \"8\" #@param {type:\"string\"}\n",
        "Student_IDandName = \"20149743\tMichael McKegney\" #@param {type:\"string\"}\n",
        "Student_IDandName = \"20197772\tBarry Lawton\" #@param {type:\"string\"}\n",
        "Student_IDandName = \"20179766\tOlga Minguett\" #@param {type:\"string\"}\n",
        "Student_IDandName = \"20179782\tTimothy Hrisikos\" #@param {type:\"string\"}\n",
        "Student_IDandName = \"20174578\tNiall Smith\" #@param {type:\"string\"}\n",
        "#@markdown ---"
      ],
      "execution_count": 221,
      "outputs": []
    },
    {
      "cell_type": "code",
      "metadata": {
        "id": "r39xGZckTpKx",
        "cellView": "form"
      },
      "source": [
        "#@title Notebook information\n",
        "Notebook_type = 'Etivity' #@param [\"Example\", \"Lab\", \"Practice\", \"Etivity\", \"Assignment\", \"Exam\"]\n",
        "Version = 'Final' #@param [\"Draft\", \"Final\"] {type:\"raw\"}\n",
        "Submission = False #@param {type:\"boolean\"}"
      ],
      "execution_count": 222,
      "outputs": []
    },
    {
      "cell_type": "markdown",
      "metadata": {
        "id": "_A0Z6S-r6DpA"
      },
      "source": [
        "# **INTRODUCTION**"
      ]
    },
    {
      "cell_type": "markdown",
      "metadata": {
        "id": "d2vlkUAJ7Pz7"
      },
      "source": [
        "For the Kaggle competition (Etivity 3) three approaches are used to try aid with predicting house price.\n",
        "\n",
        "*   NLP (Natural Language Processing)\n",
        "*   Piecewise Regression\n",
        "*   Bayesian Neural Networks\n",
        "\n",
        "As part of the NLP approach, sklearn's MLPRegressor was used to help check predictions on the validation set. The test set was used here to make an initial prediction of house price to submit to the Kaggle competition.\n",
        "\n",
        "For the Piecewise Regression and Bayesian Neural Network approaches, I split the training data into a train and validation set to try assess out of sample performance.\n"
      ]
    },
    {
      "cell_type": "markdown",
      "metadata": {
        "id": "aajlS0WCJ8pm"
      },
      "source": [
        "***The goal is to use advanced Machine Learning methods to predict House price.***"
      ]
    },
    {
      "cell_type": "markdown",
      "metadata": {
        "id": "Wg7VCbX77eAA"
      },
      "source": [
        "## Imports"
      ]
    },
    {
      "cell_type": "code",
      "metadata": {
        "id": "iFFLThrpwibd"
      },
      "source": [
        "# Suppressing Warnings:\n",
        "import warnings\n",
        "warnings.filterwarnings(\"ignore\")"
      ],
      "execution_count": 223,
      "outputs": []
    },
    {
      "cell_type": "code",
      "metadata": {
        "id": "k96-GLUGE2ux"
      },
      "source": [
        "# standard libraries\n",
        "import pandas as pd\n",
        "import numpy as np\n",
        "import matplotlib.pyplot as plt\n",
        "%matplotlib inline"
      ],
      "execution_count": 224,
      "outputs": []
    },
    {
      "cell_type": "code",
      "metadata": {
        "id": "sYPJU_Y6O6Dq"
      },
      "source": [
        "# to plot\n",
        "import matplotlib.colors\n",
        "from mpl_toolkits.mplot3d import Axes3D\n",
        "\n",
        "# to generate classification, regression and clustering datasets\n",
        "import sklearn.datasets as dt\n",
        "\n",
        "# to create data frames\n",
        "from pandas import DataFrame\n",
        "\n",
        "# to generate data from an existing dataset\n",
        "from sklearn.neighbors import KernelDensity\n",
        "from sklearn.model_selection import GridSearchCV"
      ],
      "execution_count": 225,
      "outputs": []
    },
    {
      "cell_type": "code",
      "metadata": {
        "id": "mxMYIOx1FONV"
      },
      "source": [
        "# Scikit-learn is an open source machine learning library \n",
        "# that supports supervised and unsupervised learning\n",
        "# https://scikit-learn.org/stable/\n",
        "from sklearn.model_selection import train_test_split\n",
        "from sklearn.feature_extraction.text import CountVectorizer\n",
        "from sklearn.naive_bayes import MultinomialNB\n",
        "from sklearn.metrics import accuracy_score, confusion_matrix"
      ],
      "execution_count": 226,
      "outputs": []
    },
    {
      "cell_type": "code",
      "metadata": {
        "id": "YLlFHWx4j7W6"
      },
      "source": [
        "# Regular expression operations\n",
        "#https://docs.python.org/3/library/re.html\n",
        "import re \n",
        "\n",
        "# Natural Language Toolkit\n",
        "# https://www.nltk.org/install.html\n",
        "import nltk\n",
        "\n",
        "# Stemming maps different forms of the same word to a common “stem” \n",
        "# https://pypi.org/project/snowballstemmer/\n",
        "from nltk.stem import SnowballStemmer\n",
        "\n",
        "# https://www.nltk.org/book/ch02.html\n",
        "from nltk.corpus import stopwords\n",
        "\n",
        "# https://scikit-learn.org/stable/modules/generated/sklearn.preprocessing.StandardScaler.html\n",
        "from sklearn.preprocessing import StandardScaler"
      ],
      "execution_count": 227,
      "outputs": []
    },
    {
      "cell_type": "code",
      "metadata": {
        "colab": {
          "base_uri": "https://localhost:8080/"
        },
        "id": "5cfDHD9BXh0s",
        "outputId": "15cc7fe1-6354-4785-83f4-5d163e6951e5"
      },
      "source": [
        "!pip install gpy"
      ],
      "execution_count": 228,
      "outputs": [
        {
          "output_type": "stream",
          "name": "stdout",
          "text": [
            "Requirement already satisfied: gpy in /usr/local/lib/python3.7/dist-packages (1.10.0)\n",
            "Requirement already satisfied: numpy>=1.7 in /usr/local/lib/python3.7/dist-packages (from gpy) (1.19.5)\n",
            "Requirement already satisfied: scipy>=1.3.0 in /usr/local/lib/python3.7/dist-packages (from gpy) (1.4.1)\n",
            "Requirement already satisfied: paramz>=0.9.0 in /usr/local/lib/python3.7/dist-packages (from gpy) (0.9.5)\n",
            "Requirement already satisfied: six in /usr/local/lib/python3.7/dist-packages (from gpy) (1.15.0)\n",
            "Requirement already satisfied: cython>=0.29 in /usr/local/lib/python3.7/dist-packages (from gpy) (0.29.24)\n",
            "Requirement already satisfied: decorator>=4.0.10 in /usr/local/lib/python3.7/dist-packages (from paramz>=0.9.0->gpy) (4.4.2)\n"
          ]
        }
      ]
    },
    {
      "cell_type": "code",
      "metadata": {
        "id": "SwGh2bagw4kg"
      },
      "source": [
        "import GPy as GPy\n",
        "import numpy as np\n",
        "import pylab as pb\n",
        "import pymc3 as pm\n",
        "import arviz as az"
      ],
      "execution_count": 229,
      "outputs": []
    },
    {
      "cell_type": "code",
      "metadata": {
        "id": "6MUJdlxSPSMM"
      },
      "source": [
        "# Define the seed so that results can be reproduced\n",
        "seed = 11\n",
        "rand_state = 11\n",
        "\n",
        "# Define the color maps for plots\n",
        "color_map = plt.cm.get_cmap('RdYlBu')\n",
        "color_map_discrete = matplotlib.colors.LinearSegmentedColormap.from_list(\"\", [\"red\",\"cyan\",\"magenta\",\"blue\"])"
      ],
      "execution_count": 230,
      "outputs": []
    },
    {
      "cell_type": "markdown",
      "metadata": {
        "id": "WL91ShB19RPw"
      },
      "source": [
        "# **DATASET**"
      ]
    },
    {
      "cell_type": "markdown",
      "metadata": {
        "id": "ESg5DGKWJSOf"
      },
      "source": [
        "Extract from this [paper](https://ieeexplore.ieee.org/document/9300074):\n",
        "\n",
        "* House prices are a significant impression of the economy, and its value ranges are of great concerns for the clients and property dealers. \n",
        "\n",
        "* Housing price escalate every year that eventually reinforced the need of strategy or technique that could predict house prices in future. \n",
        "\n",
        "* There are certain factors that influence house prices including physical conditions, locations, number of bedrooms and others.\n"
      ]
    },
    {
      "cell_type": "markdown",
      "metadata": {
        "id": "a8Y2pf50FlYL"
      },
      "source": [
        "1. [Download the dataset](https://github.com/UL-CS6134/CS6134_SEM1_2021-2/tree/main/Week-5). \n",
        "\n",
        "2. Upload the dataset into your folder.\n",
        "\n"
      ]
    },
    {
      "cell_type": "markdown",
      "metadata": {
        "id": "FMkdCQEmKTof"
      },
      "source": [
        "The challenge is to predict the final price of each house."
      ]
    },
    {
      "cell_type": "markdown",
      "metadata": {
        "id": "r4hSuwkUfVQb"
      },
      "source": [
        "## Read in the dataset"
      ]
    },
    {
      "cell_type": "markdown",
      "metadata": {
        "id": "iRc5KCRDW5KA"
      },
      "source": [
        "The data is relation to the research paper by Ahtesham *et al*. (2020)."
      ]
    },
    {
      "cell_type": "markdown",
      "metadata": {
        "id": "A2w7p5R2gUaw"
      },
      "source": [
        "**Be careful with the 'Path' location shown below i.e. make sure it is pointing to where you store the data for the Kaggle competition!**\n",
        "\n",
        "The following code is being used to determine if a Jupyter Notebook or Google Colab environment is being used to load the dataset.\n",
        "\n",
        "The development work for this Kaggle Competition/Etivity was done in Google Colab."
      ]
    },
    {
      "cell_type": "markdown",
      "metadata": {
        "id": "fLwRjlubV9Dr"
      },
      "source": [
        "There are 2 files to account for:\n",
        "\n",
        "*   HousePrice_Train.csv\n",
        "\n",
        "*   HousePrice_Test.csv"
      ]
    },
    {
      "cell_type": "code",
      "metadata": {
        "colab": {
          "base_uri": "https://localhost:8080/"
        },
        "id": "kRD1Buy0ikfg",
        "outputId": "d9eef511-ea53-40f4-fc50-6880c212e21a"
      },
      "source": [
        "# Checking if you are using Google Colab.\n",
        "\n",
        "RunningInCOLAB = 'google.colab' in str(get_ipython())\n",
        "\n",
        "if RunningInCOLAB:\n",
        "    from google.colab import drive\n",
        "    drive.mount('/content/drive')\n",
        "    \n",
        "    # paste the path here, keep quotation marks and the trailing slash\n",
        "    Path = '/content/drive/MyDrive/UL_Colab_Files/ET5003/Etivity 3 Kaggle Competition/'\n",
        "    \n",
        "else:\n",
        "    \n",
        "    Path = './KaggleCompetitionET5003/'"
      ],
      "execution_count": 231,
      "outputs": [
        {
          "output_type": "stream",
          "name": "stdout",
          "text": [
            "Drive already mounted at /content/drive; to attempt to forcibly remount, call drive.mount(\"/content/drive\", force_remount=True).\n"
          ]
        }
      ]
    },
    {
      "cell_type": "markdown",
      "metadata": {
        "id": "EY8pCtlBaUrY"
      },
      "source": [
        "Read in each \".csv\" file into a Pandas dataframe and print the shape of the data."
      ]
    },
    {
      "cell_type": "code",
      "metadata": {
        "colab": {
          "base_uri": "https://localhost:8080/"
        },
        "id": "_G-dubKxWewK",
        "outputId": "a2d098a4-c5bb-4f8c-d6b2-2935369f687c"
      },
      "source": [
        "# Training Dataset: \n",
        "training_file = Path + 'HousePrice_Train.csv'\n",
        "dftrain = pd.read_csv(training_file)\n",
        "print('House train data shape: ', dftrain.shape)\n",
        "\n",
        "# Test Dataset:\n",
        "testing_file = Path + 'HousePrice_Test.csv'\n",
        "dftest = pd.read_csv(testing_file)\n",
        "print('House test data shape: ', dftest.shape)\n"
      ],
      "execution_count": 232,
      "outputs": [
        {
          "output_type": "stream",
          "name": "stdout",
          "text": [
            "House train data shape:  (1638, 14)\n",
            "House test data shape:  (702, 13)\n"
          ]
        }
      ]
    },
    {
      "cell_type": "markdown",
      "metadata": {
        "id": "nOKOqfdNUIaD"
      },
      "source": [
        "# Pre-processing"
      ]
    },
    {
      "cell_type": "markdown",
      "metadata": {
        "id": "ZDYMwOV7-Lkh"
      },
      "source": [
        "## Training & Test Data"
      ]
    },
    {
      "cell_type": "markdown",
      "metadata": {
        "id": "bp2EJiVr-Lki"
      },
      "source": [
        "### Train dataset"
      ]
    },
    {
      "cell_type": "markdown",
      "metadata": {
        "id": "ENwGwNi-aeik"
      },
      "source": [
        "Check the initial rows and review some basic statistics."
      ]
    },
    {
      "cell_type": "code",
      "metadata": {
        "colab": {
          "base_uri": "https://localhost:8080/",
          "height": 293
        },
        "id": "jQeohHxL-Lkj",
        "outputId": "c337fed7-61eb-49af-d50f-1fc1ba167679"
      },
      "source": [
        "# Show first data frame rows.\n",
        "dftrain.head()"
      ],
      "execution_count": 233,
      "outputs": [
        {
          "output_type": "execute_result",
          "data": {
            "text/html": [
              "<div>\n",
              "<style scoped>\n",
              "    .dataframe tbody tr th:only-of-type {\n",
              "        vertical-align: middle;\n",
              "    }\n",
              "\n",
              "    .dataframe tbody tr th {\n",
              "        vertical-align: top;\n",
              "    }\n",
              "\n",
              "    .dataframe thead th {\n",
              "        text-align: right;\n",
              "    }\n",
              "</style>\n",
              "<table border=\"1\" class=\"dataframe\">\n",
              "  <thead>\n",
              "    <tr style=\"text-align: right;\">\n",
              "      <th></th>\n",
              "      <th>Index</th>\n",
              "      <th>ID</th>\n",
              "      <th>Location</th>\n",
              "      <th>Num_Bathrooms</th>\n",
              "      <th>Num_Beds</th>\n",
              "      <th>BER_class</th>\n",
              "      <th>Description</th>\n",
              "      <th>Services</th>\n",
              "      <th>Features</th>\n",
              "      <th>Latitude</th>\n",
              "      <th>Longitude</th>\n",
              "      <th>Type</th>\n",
              "      <th>Surface</th>\n",
              "      <th>Price</th>\n",
              "    </tr>\n",
              "  </thead>\n",
              "  <tbody>\n",
              "    <tr>\n",
              "      <th>0</th>\n",
              "      <td>1</td>\n",
              "      <td>12409116</td>\n",
              "      <td>Ongar</td>\n",
              "      <td>2</td>\n",
              "      <td>2</td>\n",
              "      <td>C3</td>\n",
              "      <td>DNG are delighted to present to the market no....</td>\n",
              "      <td>NaN</td>\n",
              "      <td>None</td>\n",
              "      <td>53.396659</td>\n",
              "      <td>-6.438791</td>\n",
              "      <td>apartment</td>\n",
              "      <td>67.00</td>\n",
              "      <td>195000</td>\n",
              "    </tr>\n",
              "    <tr>\n",
              "      <th>1</th>\n",
              "      <td>2</td>\n",
              "      <td>12320330</td>\n",
              "      <td>North Strand</td>\n",
              "      <td>1</td>\n",
              "      <td>2</td>\n",
              "      <td>D1</td>\n",
              "      <td>13 Northbrook Terrace is a charming red brick ...</td>\n",
              "      <td>NaN</td>\n",
              "      <td>Bight and Spacious interior\\nNumerous original...</td>\n",
              "      <td>53.357129</td>\n",
              "      <td>-6.239779</td>\n",
              "      <td>terraced</td>\n",
              "      <td>95.97</td>\n",
              "      <td>425000</td>\n",
              "    </tr>\n",
              "    <tr>\n",
              "      <th>2</th>\n",
              "      <td>3</td>\n",
              "      <td>12405953</td>\n",
              "      <td>Stepaside</td>\n",
              "      <td>3</td>\n",
              "      <td>3</td>\n",
              "      <td>A3</td>\n",
              "      <td>Welcome to No. 6 Cotter Close, an immaculately...</td>\n",
              "      <td>NaN</td>\n",
              "      <td>Special Features\\nLarge rear garden\\nGenerous ...</td>\n",
              "      <td>53.266468</td>\n",
              "      <td>-6.222771</td>\n",
              "      <td>semi-detached</td>\n",
              "      <td>107.00</td>\n",
              "      <td>535000</td>\n",
              "    </tr>\n",
              "    <tr>\n",
              "      <th>3</th>\n",
              "      <td>4</td>\n",
              "      <td>12202582</td>\n",
              "      <td>Cabinteely</td>\n",
              "      <td>1</td>\n",
              "      <td>3</td>\n",
              "      <td>E1</td>\n",
              "      <td>Welcome to 3 Sycamore Walk!\\n\\r\\nEnjoying a pr...</td>\n",
              "      <td>NaN</td>\n",
              "      <td>Wonderful 3 bed detached bungalow.     \\nAccom...</td>\n",
              "      <td>53.261600</td>\n",
              "      <td>-6.166738</td>\n",
              "      <td>detached</td>\n",
              "      <td>81.00</td>\n",
              "      <td>499000</td>\n",
              "    </tr>\n",
              "    <tr>\n",
              "      <th>4</th>\n",
              "      <td>5</td>\n",
              "      <td>12299336</td>\n",
              "      <td>Lusk</td>\n",
              "      <td>3</td>\n",
              "      <td>4</td>\n",
              "      <td>D1</td>\n",
              "      <td>'Four Seasons' comes to the market as a wonder...</td>\n",
              "      <td>NaN</td>\n",
              "      <td>Detached Property      \\nDouble Glazed Windows...</td>\n",
              "      <td>53.550731</td>\n",
              "      <td>-6.121415</td>\n",
              "      <td>detached</td>\n",
              "      <td>153.00</td>\n",
              "      <td>510000</td>\n",
              "    </tr>\n",
              "  </tbody>\n",
              "</table>\n",
              "</div>"
            ],
            "text/plain": [
              "   Index        ID      Location  ...           Type  Surface   Price\n",
              "0      1  12409116         Ongar  ...      apartment    67.00  195000\n",
              "1      2  12320330  North Strand  ...       terraced    95.97  425000\n",
              "2      3  12405953     Stepaside  ...  semi-detached   107.00  535000\n",
              "3      4  12202582    Cabinteely  ...       detached    81.00  499000\n",
              "4      5  12299336          Lusk  ...       detached   153.00  510000\n",
              "\n",
              "[5 rows x 14 columns]"
            ]
          },
          "metadata": {},
          "execution_count": 233
        }
      ]
    },
    {
      "cell_type": "code",
      "metadata": {
        "colab": {
          "base_uri": "https://localhost:8080/",
          "height": 300
        },
        "id": "hKgEgG7JBRnl",
        "outputId": "94b5c81b-a903-4967-a796-6e90a5915fe8"
      },
      "source": [
        "# Generate descriptive statistics.\n",
        "dftrain.describe()"
      ],
      "execution_count": 234,
      "outputs": [
        {
          "output_type": "execute_result",
          "data": {
            "text/html": [
              "<div>\n",
              "<style scoped>\n",
              "    .dataframe tbody tr th:only-of-type {\n",
              "        vertical-align: middle;\n",
              "    }\n",
              "\n",
              "    .dataframe tbody tr th {\n",
              "        vertical-align: top;\n",
              "    }\n",
              "\n",
              "    .dataframe thead th {\n",
              "        text-align: right;\n",
              "    }\n",
              "</style>\n",
              "<table border=\"1\" class=\"dataframe\">\n",
              "  <thead>\n",
              "    <tr style=\"text-align: right;\">\n",
              "      <th></th>\n",
              "      <th>Index</th>\n",
              "      <th>ID</th>\n",
              "      <th>Num_Bathrooms</th>\n",
              "      <th>Num_Beds</th>\n",
              "      <th>Latitude</th>\n",
              "      <th>Longitude</th>\n",
              "      <th>Surface</th>\n",
              "      <th>Price</th>\n",
              "    </tr>\n",
              "  </thead>\n",
              "  <tbody>\n",
              "    <tr>\n",
              "      <th>count</th>\n",
              "      <td>1638.000000</td>\n",
              "      <td>1.638000e+03</td>\n",
              "      <td>1638.000000</td>\n",
              "      <td>1638.000000</td>\n",
              "      <td>1638.000000</td>\n",
              "      <td>1638.000000</td>\n",
              "      <td>1638.000000</td>\n",
              "      <td>1.638000e+03</td>\n",
              "    </tr>\n",
              "    <tr>\n",
              "      <th>mean</th>\n",
              "      <td>819.500000</td>\n",
              "      <td>1.231930e+07</td>\n",
              "      <td>2.054335</td>\n",
              "      <td>3.043346</td>\n",
              "      <td>53.350473</td>\n",
              "      <td>-6.255086</td>\n",
              "      <td>169.540695</td>\n",
              "      <td>5.547196e+05</td>\n",
              "    </tr>\n",
              "    <tr>\n",
              "      <th>std</th>\n",
              "      <td>472.994186</td>\n",
              "      <td>1.447540e+05</td>\n",
              "      <td>1.241259</td>\n",
              "      <td>1.379650</td>\n",
              "      <td>0.076832</td>\n",
              "      <td>0.144430</td>\n",
              "      <td>1791.793934</td>\n",
              "      <td>5.652032e+05</td>\n",
              "    </tr>\n",
              "    <tr>\n",
              "      <th>min</th>\n",
              "      <td>1.000000</td>\n",
              "      <td>1.118567e+07</td>\n",
              "      <td>1.000000</td>\n",
              "      <td>1.000000</td>\n",
              "      <td>52.501856</td>\n",
              "      <td>-6.497000</td>\n",
              "      <td>3.400000</td>\n",
              "      <td>1.999500e+04</td>\n",
              "    </tr>\n",
              "    <tr>\n",
              "      <th>25%</th>\n",
              "      <td>410.250000</td>\n",
              "      <td>1.228104e+07</td>\n",
              "      <td>1.000000</td>\n",
              "      <td>2.000000</td>\n",
              "      <td>53.294261</td>\n",
              "      <td>-6.309613</td>\n",
              "      <td>73.000000</td>\n",
              "      <td>2.950000e+05</td>\n",
              "    </tr>\n",
              "    <tr>\n",
              "      <th>50%</th>\n",
              "      <td>819.500000</td>\n",
              "      <td>1.238055e+07</td>\n",
              "      <td>2.000000</td>\n",
              "      <td>3.000000</td>\n",
              "      <td>53.341386</td>\n",
              "      <td>-6.247780</td>\n",
              "      <td>97.050000</td>\n",
              "      <td>3.950000e+05</td>\n",
              "    </tr>\n",
              "    <tr>\n",
              "      <th>75%</th>\n",
              "      <td>1228.750000</td>\n",
              "      <td>1.240548e+07</td>\n",
              "      <td>3.000000</td>\n",
              "      <td>4.000000</td>\n",
              "      <td>53.382031</td>\n",
              "      <td>-6.193982</td>\n",
              "      <td>135.000000</td>\n",
              "      <td>5.950000e+05</td>\n",
              "    </tr>\n",
              "    <tr>\n",
              "      <th>max</th>\n",
              "      <td>1638.000000</td>\n",
              "      <td>1.242836e+07</td>\n",
              "      <td>18.000000</td>\n",
              "      <td>27.000000</td>\n",
              "      <td>53.630588</td>\n",
              "      <td>-1.744995</td>\n",
              "      <td>72236.387140</td>\n",
              "      <td>8.900000e+06</td>\n",
              "    </tr>\n",
              "  </tbody>\n",
              "</table>\n",
              "</div>"
            ],
            "text/plain": [
              "             Index            ID  ...       Surface         Price\n",
              "count  1638.000000  1.638000e+03  ...   1638.000000  1.638000e+03\n",
              "mean    819.500000  1.231930e+07  ...    169.540695  5.547196e+05\n",
              "std     472.994186  1.447540e+05  ...   1791.793934  5.652032e+05\n",
              "min       1.000000  1.118567e+07  ...      3.400000  1.999500e+04\n",
              "25%     410.250000  1.228104e+07  ...     73.000000  2.950000e+05\n",
              "50%     819.500000  1.238055e+07  ...     97.050000  3.950000e+05\n",
              "75%    1228.750000  1.240548e+07  ...    135.000000  5.950000e+05\n",
              "max    1638.000000  1.242836e+07  ...  72236.387140  8.900000e+06\n",
              "\n",
              "[8 rows x 8 columns]"
            ]
          },
          "metadata": {},
          "execution_count": 234
        }
      ]
    },
    {
      "cell_type": "markdown",
      "metadata": {
        "id": "3JaC0sW9EsNg"
      },
      "source": [
        "As there is 1638 unique values for both attributes '**Index**' and '**ID**', these features are not adding any useful information so will be dropped."
      ]
    },
    {
      "cell_type": "code",
      "metadata": {
        "colab": {
          "base_uri": "https://localhost:8080/"
        },
        "id": "0ScynxTvBfvR",
        "outputId": "1902cc12-aa7c-458f-e232-bc4e39cec321"
      },
      "source": [
        "print('Number of unique values for Index attribute: ', len(dftrain['Index'].unique()))\n",
        "\n",
        "print('Number of unique values for ID attribute: ', len(dftrain['ID'].unique()))\n",
        "\n",
        "dftrain.drop(columns=['Index', 'ID'], inplace=True)"
      ],
      "execution_count": 235,
      "outputs": [
        {
          "output_type": "stream",
          "name": "stdout",
          "text": [
            "Number of unique values for Index attribute:  1638\n",
            "Number of unique values for ID attribute:  1638\n"
          ]
        }
      ]
    },
    {
      "cell_type": "markdown",
      "metadata": {
        "id": "XadHvcoXLtjz"
      },
      "source": [
        "Assess count of each feature alongside the data type i.e. whether it is numeric or categorical."
      ]
    },
    {
      "cell_type": "code",
      "metadata": {
        "id": "ByiI0CQKOgKk",
        "colab": {
          "base_uri": "https://localhost:8080/"
        },
        "outputId": "0f859d93-5635-4933-9caa-d798add2db56"
      },
      "source": [
        "dftrain.info()"
      ],
      "execution_count": 236,
      "outputs": [
        {
          "output_type": "stream",
          "name": "stdout",
          "text": [
            "<class 'pandas.core.frame.DataFrame'>\n",
            "RangeIndex: 1638 entries, 0 to 1637\n",
            "Data columns (total 12 columns):\n",
            " #   Column         Non-Null Count  Dtype  \n",
            "---  ------         --------------  -----  \n",
            " 0   Location       1638 non-null   object \n",
            " 1   Num_Bathrooms  1638 non-null   int64  \n",
            " 2   Num_Beds       1638 non-null   int64  \n",
            " 3   BER_class      1387 non-null   object \n",
            " 4   Description    1638 non-null   object \n",
            " 5   Services       577 non-null    object \n",
            " 6   Features       1638 non-null   object \n",
            " 7   Latitude       1638 non-null   float64\n",
            " 8   Longitude      1638 non-null   float64\n",
            " 9   Type           1638 non-null   object \n",
            " 10  Surface        1638 non-null   float64\n",
            " 11  Price          1638 non-null   int64  \n",
            "dtypes: float64(3), int64(3), object(6)\n",
            "memory usage: 153.7+ KB\n"
          ]
        }
      ]
    },
    {
      "cell_type": "markdown",
      "metadata": {
        "id": "HpwHL39L87i4"
      },
      "source": [
        "Check each column in the dataframe how many null/NaN instances there are."
      ]
    },
    {
      "cell_type": "code",
      "metadata": {
        "colab": {
          "base_uri": "https://localhost:8080/"
        },
        "id": "UpYolpIzDCc4",
        "outputId": "e62f83ef-8112-43fd-f045-2149a659eddb"
      },
      "source": [
        "dftrain.isna().sum()"
      ],
      "execution_count": 237,
      "outputs": [
        {
          "output_type": "execute_result",
          "data": {
            "text/plain": [
              "Location            0\n",
              "Num_Bathrooms       0\n",
              "Num_Beds            0\n",
              "BER_class         251\n",
              "Description         0\n",
              "Services         1061\n",
              "Features            0\n",
              "Latitude            0\n",
              "Longitude           0\n",
              "Type                0\n",
              "Surface             0\n",
              "Price               0\n",
              "dtype: int64"
            ]
          },
          "metadata": {},
          "execution_count": 237
        }
      ]
    },
    {
      "cell_type": "markdown",
      "metadata": {
        "id": "zghHSw3FGimk"
      },
      "source": [
        "The attribute '**Services**' can be seen to have 1061 out of 1638 samples with a NaN/Null result. That accounts for nearly 65% of all data for that column. This attribute/feature will be dropped."
      ]
    },
    {
      "cell_type": "code",
      "metadata": {
        "id": "BzXfKHRxBflv"
      },
      "source": [
        "dftrain.drop(columns=['Services'], inplace=True)"
      ],
      "execution_count": 238,
      "outputs": []
    },
    {
      "cell_type": "markdown",
      "metadata": {
        "id": "9vf-30WJHjFw"
      },
      "source": [
        "The attribute '**BER_class**' has 251 instances of NaN/Null values but there are a variety of values it can take on so it will be maintained and instead the NaN/Null instances will be removed."
      ]
    },
    {
      "cell_type": "code",
      "metadata": {
        "colab": {
          "base_uri": "https://localhost:8080/"
        },
        "id": "uIGlIHDvFEEs",
        "outputId": "1ed65e5f-51db-4509-f637-dc74ebd422a5"
      },
      "source": [
        "print('Number of unique values for BER_class attribute: ', len(dftrain['BER_class'].unique()))"
      ],
      "execution_count": 239,
      "outputs": [
        {
          "output_type": "stream",
          "name": "stdout",
          "text": [
            "Number of unique values for BER_class attribute:  17\n"
          ]
        }
      ]
    },
    {
      "cell_type": "markdown",
      "metadata": {
        "id": "KzYY_dW2ISNK"
      },
      "source": [
        "Drop all rows with NaN present as the sample/observation is incomplete and may be misleading."
      ]
    },
    {
      "cell_type": "code",
      "metadata": {
        "id": "GHcnY1uaGL3n",
        "colab": {
          "base_uri": "https://localhost:8080/"
        },
        "outputId": "0a305cc5-9576-4cde-f293-ca4eb8d4cf2f"
      },
      "source": [
        "dftrain.dropna(inplace=True)\n",
        "\n",
        "dftrain.shape"
      ],
      "execution_count": 240,
      "outputs": [
        {
          "output_type": "execute_result",
          "data": {
            "text/plain": [
              "(1387, 11)"
            ]
          },
          "metadata": {},
          "execution_count": 240
        }
      ]
    },
    {
      "cell_type": "markdown",
      "metadata": {
        "id": "iJPTIrPJIbRT"
      },
      "source": [
        "Remove samples where there are 0 bathrooms and 0 bedrooms if there are any."
      ]
    },
    {
      "cell_type": "code",
      "metadata": {
        "id": "AvlmnWdXGLsu",
        "colab": {
          "base_uri": "https://localhost:8080/"
        },
        "outputId": "6718f0e7-a822-4984-9a1d-b27856b17544"
      },
      "source": [
        "dftrain.drop(dftrain[dftrain.Num_Beds == 0].index, inplace=True)\n",
        "\n",
        "dftrain.drop(dftrain[dftrain.Num_Bathrooms == 0].index, inplace=True)\n",
        "\n",
        "dftrain.shape"
      ],
      "execution_count": 241,
      "outputs": [
        {
          "output_type": "execute_result",
          "data": {
            "text/plain": [
              "(1387, 11)"
            ]
          },
          "metadata": {},
          "execution_count": 241
        }
      ]
    },
    {
      "cell_type": "markdown",
      "metadata": {
        "id": "O9FgOhqKeXwc"
      },
      "source": [
        "Check what features remain."
      ]
    },
    {
      "cell_type": "code",
      "metadata": {
        "colab": {
          "base_uri": "https://localhost:8080/",
          "height": 206
        },
        "id": "jX-s-vePMmMD",
        "outputId": "afaa19cf-2571-463c-dfab-fd5770525051"
      },
      "source": [
        "dftrain.head()"
      ],
      "execution_count": 242,
      "outputs": [
        {
          "output_type": "execute_result",
          "data": {
            "text/html": [
              "<div>\n",
              "<style scoped>\n",
              "    .dataframe tbody tr th:only-of-type {\n",
              "        vertical-align: middle;\n",
              "    }\n",
              "\n",
              "    .dataframe tbody tr th {\n",
              "        vertical-align: top;\n",
              "    }\n",
              "\n",
              "    .dataframe thead th {\n",
              "        text-align: right;\n",
              "    }\n",
              "</style>\n",
              "<table border=\"1\" class=\"dataframe\">\n",
              "  <thead>\n",
              "    <tr style=\"text-align: right;\">\n",
              "      <th></th>\n",
              "      <th>Location</th>\n",
              "      <th>Num_Bathrooms</th>\n",
              "      <th>Num_Beds</th>\n",
              "      <th>BER_class</th>\n",
              "      <th>Description</th>\n",
              "      <th>Features</th>\n",
              "      <th>Latitude</th>\n",
              "      <th>Longitude</th>\n",
              "      <th>Type</th>\n",
              "      <th>Surface</th>\n",
              "      <th>Price</th>\n",
              "    </tr>\n",
              "  </thead>\n",
              "  <tbody>\n",
              "    <tr>\n",
              "      <th>0</th>\n",
              "      <td>Ongar</td>\n",
              "      <td>2</td>\n",
              "      <td>2</td>\n",
              "      <td>C3</td>\n",
              "      <td>DNG are delighted to present to the market no....</td>\n",
              "      <td>None</td>\n",
              "      <td>53.396659</td>\n",
              "      <td>-6.438791</td>\n",
              "      <td>apartment</td>\n",
              "      <td>67.00</td>\n",
              "      <td>195000</td>\n",
              "    </tr>\n",
              "    <tr>\n",
              "      <th>1</th>\n",
              "      <td>North Strand</td>\n",
              "      <td>1</td>\n",
              "      <td>2</td>\n",
              "      <td>D1</td>\n",
              "      <td>13 Northbrook Terrace is a charming red brick ...</td>\n",
              "      <td>Bight and Spacious interior\\nNumerous original...</td>\n",
              "      <td>53.357129</td>\n",
              "      <td>-6.239779</td>\n",
              "      <td>terraced</td>\n",
              "      <td>95.97</td>\n",
              "      <td>425000</td>\n",
              "    </tr>\n",
              "    <tr>\n",
              "      <th>2</th>\n",
              "      <td>Stepaside</td>\n",
              "      <td>3</td>\n",
              "      <td>3</td>\n",
              "      <td>A3</td>\n",
              "      <td>Welcome to No. 6 Cotter Close, an immaculately...</td>\n",
              "      <td>Special Features\\nLarge rear garden\\nGenerous ...</td>\n",
              "      <td>53.266468</td>\n",
              "      <td>-6.222771</td>\n",
              "      <td>semi-detached</td>\n",
              "      <td>107.00</td>\n",
              "      <td>535000</td>\n",
              "    </tr>\n",
              "    <tr>\n",
              "      <th>3</th>\n",
              "      <td>Cabinteely</td>\n",
              "      <td>1</td>\n",
              "      <td>3</td>\n",
              "      <td>E1</td>\n",
              "      <td>Welcome to 3 Sycamore Walk!\\n\\r\\nEnjoying a pr...</td>\n",
              "      <td>Wonderful 3 bed detached bungalow.     \\nAccom...</td>\n",
              "      <td>53.261600</td>\n",
              "      <td>-6.166738</td>\n",
              "      <td>detached</td>\n",
              "      <td>81.00</td>\n",
              "      <td>499000</td>\n",
              "    </tr>\n",
              "    <tr>\n",
              "      <th>4</th>\n",
              "      <td>Lusk</td>\n",
              "      <td>3</td>\n",
              "      <td>4</td>\n",
              "      <td>D1</td>\n",
              "      <td>'Four Seasons' comes to the market as a wonder...</td>\n",
              "      <td>Detached Property      \\nDouble Glazed Windows...</td>\n",
              "      <td>53.550731</td>\n",
              "      <td>-6.121415</td>\n",
              "      <td>detached</td>\n",
              "      <td>153.00</td>\n",
              "      <td>510000</td>\n",
              "    </tr>\n",
              "  </tbody>\n",
              "</table>\n",
              "</div>"
            ],
            "text/plain": [
              "       Location  Num_Bathrooms  Num_Beds  ...           Type Surface   Price\n",
              "0         Ongar              2         2  ...      apartment   67.00  195000\n",
              "1  North Strand              1         2  ...       terraced   95.97  425000\n",
              "2     Stepaside              3         3  ...  semi-detached  107.00  535000\n",
              "3    Cabinteely              1         3  ...       detached   81.00  499000\n",
              "4          Lusk              3         4  ...       detached  153.00  510000\n",
              "\n",
              "[5 rows x 11 columns]"
            ]
          },
          "metadata": {},
          "execution_count": 242
        }
      ]
    },
    {
      "cell_type": "code",
      "metadata": {
        "colab": {
          "base_uri": "https://localhost:8080/"
        },
        "id": "1XcdleMqMfNI",
        "outputId": "6021983d-8afb-47e9-830d-995986bd3f08"
      },
      "source": [
        "dftrain['Location'].value_counts()"
      ],
      "execution_count": 243,
      "outputs": [
        {
          "output_type": "execute_result",
          "data": {
            "text/plain": [
              "Castleknock      53\n",
              "Rathfarnham      44\n",
              "Lucan            41\n",
              "Malahide         40\n",
              "Blackrock        38\n",
              "                 ..\n",
              "Garristown        1\n",
              "Loughlinstown     1\n",
              "Smithfield        1\n",
              "Oldbawn           1\n",
              "Windy Arbour      1\n",
              "Name: Location, Length: 137, dtype: int64"
            ]
          },
          "metadata": {},
          "execution_count": 243
        }
      ]
    },
    {
      "cell_type": "code",
      "metadata": {
        "colab": {
          "base_uri": "https://localhost:8080/"
        },
        "id": "5zrZNx--XbzN",
        "outputId": "f1978dec-ad78-48ac-f01c-0f2802c1743b"
      },
      "source": [
        "temporary_series = dftrain['Location'].value_counts()\n",
        "\n",
        "temporary_series.values"
      ],
      "execution_count": 244,
      "outputs": [
        {
          "output_type": "execute_result",
          "data": {
            "text/plain": [
              "array([53, 44, 41, 40, 38, 29, 28, 28, 27, 27, 25, 25, 25, 24, 24, 24, 23,\n",
              "       22, 21, 21, 21, 21, 20, 20, 20, 17, 17, 16, 15, 15, 15, 15, 14, 14,\n",
              "       14, 14, 13, 13, 12, 12, 12, 12, 11, 11, 11, 11, 11, 10, 10, 10, 10,\n",
              "        9,  9,  9,  9,  8,  8,  8,  8,  8,  8,  7,  7,  7,  7,  7,  7,  7,\n",
              "        7,  6,  6,  6,  6,  6,  6,  6,  6,  5,  5,  5,  5,  5,  5,  5,  5,\n",
              "        5,  5,  5,  5,  4,  4,  4,  4,  4,  4,  4,  4,  4,  4,  3,  3,  3,\n",
              "        3,  3,  3,  3,  3,  3,  3,  2,  2,  2,  2,  2,  2,  2,  2,  2,  2,\n",
              "        2,  2,  2,  2,  2,  1,  1,  1,  1,  1,  1,  1,  1,  1,  1,  1,  1,\n",
              "        1])"
            ]
          },
          "metadata": {},
          "execution_count": 244
        }
      ]
    },
    {
      "cell_type": "code",
      "metadata": {
        "colab": {
          "base_uri": "https://localhost:8080/"
        },
        "id": "SpVXh4JIXv8n",
        "outputId": "beda816c-5aa3-47f9-c1a9-e654e93cf618"
      },
      "source": [
        "dftrain['BER_class'].value_counts()"
      ],
      "execution_count": 245,
      "outputs": [
        {
          "output_type": "execute_result",
          "data": {
            "text/plain": [
              "D1                     182\n",
              "D2                     173\n",
              "C3                     154\n",
              "C2                     144\n",
              "C1                     133\n",
              "E1                     110\n",
              "G                      103\n",
              "E2                     101\n",
              "F                       89\n",
              "B3                      78\n",
              "B2                      48\n",
              "A3                      37\n",
              "SINo666of2006exempt     15\n",
              "A2                      12\n",
              "B1                       7\n",
              "A1                       1\n",
              "Name: BER_class, dtype: int64"
            ]
          },
          "metadata": {},
          "execution_count": 245
        }
      ]
    },
    {
      "cell_type": "code",
      "metadata": {
        "colab": {
          "base_uri": "https://localhost:8080/"
        },
        "id": "hljN6KSkXvy3",
        "outputId": "e1123eeb-7cfe-41f0-8877-4cb7de4925b5"
      },
      "source": [
        "dftrain['Type'].value_counts()"
      ],
      "execution_count": 246,
      "outputs": [
        {
          "output_type": "execute_result",
          "data": {
            "text/plain": [
              "semi-detached     399\n",
              "apartment         368\n",
              "terraced          235\n",
              "detached          204\n",
              "end-of-terrace     98\n",
              "bungalow           41\n",
              "duplex             26\n",
              "townhouse          14\n",
              "studio              1\n",
              "site                1\n",
              "Name: Type, dtype: int64"
            ]
          },
          "metadata": {},
          "execution_count": 246
        }
      ]
    },
    {
      "cell_type": "markdown",
      "metadata": {
        "id": "maa0AqJceCxm"
      },
      "source": [
        "For the categorical features '**Location**', '**BER_class**' and '**Type**' a mapping approach will be taken to convert these to numerical features going forward.\n",
        "\n",
        "\n",
        "The approach shown below was adapted from datacamp.com by Pathak (2020) which displays a very helpful way of mapping categorical features to numerical features without having to explicitly state the mapping yourself.\n"
      ]
    },
    {
      "cell_type": "markdown",
      "metadata": {
        "id": "2OhgjdzaeR6r"
      },
      "source": [
        "Convert each categorical variable in turn and update dataframe."
      ]
    },
    {
      "cell_type": "code",
      "metadata": {
        "colab": {
          "base_uri": "https://localhost:8080/"
        },
        "id": "_QJPcJiFc_Ey",
        "outputId": "d24b06c4-94fd-495e-f871-bf000314e3bb"
      },
      "source": [
        "labels = dftrain['Location'].astype('category').cat.categories.tolist()\n",
        "\n",
        "replace_map_comp_1 = {'Location' : {k: v for k,v in zip(labels,list(range(1,len(labels)+1)))}}\n",
        "\n",
        "print(replace_map_comp_1)\n",
        "\n",
        "dftrain.replace(replace_map_comp_1, inplace=True)"
      ],
      "execution_count": 247,
      "outputs": [
        {
          "output_type": "stream",
          "name": "stdout",
          "text": [
            "{'Location': {'Adamstown': 1, 'Ard Na Greine': 2, 'Artane': 3, 'Ashtown': 4, 'Balbriggan': 5, 'Baldoyle': 6, 'Balgriffin': 7, 'Ballinteer': 8, 'Ballsbridge': 9, 'Ballybough': 10, 'Ballyboughal': 11, 'Ballybrack': 12, 'Ballycullen': 13, 'Ballyfermot': 14, 'Ballymun': 15, 'Balrothery': 16, 'Beaumont': 17, 'Blackrock': 18, 'Blanchardstown': 19, 'Bluebell': 20, 'Booterstown': 21, 'Cabinteely': 22, 'Cabra': 23, 'Carrickmines': 24, 'Castleknock': 25, 'Chapelizod': 26, 'Christchurch': 27, 'Churchtown': 28, 'Citywest': 29, 'Clarehall': 30, 'Clondalkin': 31, 'Clonee': 32, 'Clongriffin': 33, 'Clonshaugh': 34, 'Clonsilla': 35, 'Clonskeagh': 36, 'Clontarf': 37, 'Coolock': 38, 'Crumlin': 39, 'Dalkey': 40, 'Darndale': 41, 'Donabate': 42, 'Donaghmede': 43, 'Donnybrook': 44, 'Donnycarney': 45, 'Drimnagh': 46, 'Drumcondra': 47, 'Dublin 1': 48, 'Dublin 2': 49, 'Dublin 4': 50, 'Dublin 7': 51, 'Dublin 8': 52, 'Dun Laoghaire': 53, 'Dundrum': 54, 'East Wall': 55, 'Fairview': 56, 'Finglas': 57, 'Firhouse': 58, 'Foxrock': 59, 'Garristown': 60, 'Glasnevin': 61, 'Glenageary': 62, 'Goatstown': 63, 'Grand Canal Dock': 64, \"Harold's Cross\": 65, 'Howth': 66, 'IFSC': 67, 'Inchicore': 68, 'Irishtown': 69, 'Islandbridge': 70, 'Killester': 71, 'Killiney': 72, 'Kilmacud': 73, 'Kilmainham': 74, 'Kilnamanagh': 75, 'Kilternan': 76, 'Kimmage': 77, 'Kingswood': 78, 'Kinsealy': 79, 'Knocklyon': 80, 'Leopardstown': 81, 'Loughlinstown': 82, 'Loughshinny': 83, 'Lucan': 84, 'Lusk': 85, 'Malahide': 86, 'Marino': 87, 'Milltown': 88, 'Monkstown': 89, 'Mount Merrion': 90, 'Mulhuddart': 91, 'Naul': 92, 'Navan Road (D7)': 93, 'Newcastle': 94, 'North Circular Road': 95, 'North Strand': 96, 'Oldbawn': 97, 'Ongar': 98, 'Palmerstown': 99, 'Park West': 100, 'Perrystown': 101, 'Phibsborough': 102, 'Portmarnock': 103, 'Portobello': 104, 'Raheny': 105, 'Ranelagh': 106, 'Rathcoole': 107, 'Rathfarnham': 108, 'Rathgar': 109, 'Rathmichael': 110, 'Rathmines': 111, 'Rialto': 112, 'Ringsend': 113, 'Rush': 114, 'Saggart': 115, 'Sallynoggin': 116, 'Sandycove': 117, 'Sandyford': 118, 'Sandymount': 119, 'Santry': 120, 'Shankill': 121, 'Skerries': 122, 'Smithfield': 123, 'Stepaside': 124, 'Stoneybatter': 125, 'Sutton': 126, 'Swords': 127, 'Tallaght': 128, 'Temple Bar': 129, 'Templeogue': 130, 'Terenure': 131, 'The Coombe': 132, 'The Ward': 133, 'Tyrrelstown': 134, 'Walkinstown': 135, 'Whitehall': 136, 'Windy Arbour': 137}}\n"
          ]
        }
      ]
    },
    {
      "cell_type": "code",
      "metadata": {
        "colab": {
          "base_uri": "https://localhost:8080/"
        },
        "id": "m3_ogR99c-5c",
        "outputId": "42b203b4-1c23-4dcc-8a69-04b0fa95776f"
      },
      "source": [
        "labels = dftrain['BER_class'].astype('category').cat.categories.tolist()\n",
        "\n",
        "replace_map_comp_2 = {'BER_class' : {k: v for k,v in zip(labels,list(range(1,len(labels)+1)))}}\n",
        "\n",
        "print(replace_map_comp_2)\n",
        "\n",
        "dftrain.replace(replace_map_comp_2, inplace=True)"
      ],
      "execution_count": 248,
      "outputs": [
        {
          "output_type": "stream",
          "name": "stdout",
          "text": [
            "{'BER_class': {'A1': 1, 'A2': 2, 'A3': 3, 'B1': 4, 'B2': 5, 'B3': 6, 'C1': 7, 'C2': 8, 'C3': 9, 'D1': 10, 'D2': 11, 'E1': 12, 'E2': 13, 'F': 14, 'G': 15, 'SINo666of2006exempt': 16}}\n"
          ]
        }
      ]
    },
    {
      "cell_type": "code",
      "metadata": {
        "colab": {
          "base_uri": "https://localhost:8080/"
        },
        "id": "jgfBrUH8eu7-",
        "outputId": "e27ce7f9-0e75-4c55-dda7-db1911acaf5f"
      },
      "source": [
        "labels = dftrain['Type'].astype('category').cat.categories.tolist()\n",
        "\n",
        "replace_map_comp_3 = {'Type' : {k: v for k,v in zip(labels,list(range(1,len(labels)+1)))}}\n",
        "\n",
        "print(replace_map_comp_3)\n",
        "\n",
        "dftrain.replace(replace_map_comp_3, inplace=True)"
      ],
      "execution_count": 249,
      "outputs": [
        {
          "output_type": "stream",
          "name": "stdout",
          "text": [
            "{'Type': {'apartment': 1, 'bungalow': 2, 'detached': 3, 'duplex': 4, 'end-of-terrace': 5, 'semi-detached': 6, 'site': 7, 'studio': 8, 'terraced': 9, 'townhouse': 10}}\n"
          ]
        }
      ]
    },
    {
      "cell_type": "code",
      "metadata": {
        "colab": {
          "base_uri": "https://localhost:8080/",
          "height": 206
        },
        "id": "SpKA5BUEfB-V",
        "outputId": "4806f382-7354-4af7-c5a3-da5e48196381"
      },
      "source": [
        "dftrain.head()"
      ],
      "execution_count": 250,
      "outputs": [
        {
          "output_type": "execute_result",
          "data": {
            "text/html": [
              "<div>\n",
              "<style scoped>\n",
              "    .dataframe tbody tr th:only-of-type {\n",
              "        vertical-align: middle;\n",
              "    }\n",
              "\n",
              "    .dataframe tbody tr th {\n",
              "        vertical-align: top;\n",
              "    }\n",
              "\n",
              "    .dataframe thead th {\n",
              "        text-align: right;\n",
              "    }\n",
              "</style>\n",
              "<table border=\"1\" class=\"dataframe\">\n",
              "  <thead>\n",
              "    <tr style=\"text-align: right;\">\n",
              "      <th></th>\n",
              "      <th>Location</th>\n",
              "      <th>Num_Bathrooms</th>\n",
              "      <th>Num_Beds</th>\n",
              "      <th>BER_class</th>\n",
              "      <th>Description</th>\n",
              "      <th>Features</th>\n",
              "      <th>Latitude</th>\n",
              "      <th>Longitude</th>\n",
              "      <th>Type</th>\n",
              "      <th>Surface</th>\n",
              "      <th>Price</th>\n",
              "    </tr>\n",
              "  </thead>\n",
              "  <tbody>\n",
              "    <tr>\n",
              "      <th>0</th>\n",
              "      <td>98</td>\n",
              "      <td>2</td>\n",
              "      <td>2</td>\n",
              "      <td>9</td>\n",
              "      <td>DNG are delighted to present to the market no....</td>\n",
              "      <td>None</td>\n",
              "      <td>53.396659</td>\n",
              "      <td>-6.438791</td>\n",
              "      <td>1</td>\n",
              "      <td>67.00</td>\n",
              "      <td>195000</td>\n",
              "    </tr>\n",
              "    <tr>\n",
              "      <th>1</th>\n",
              "      <td>96</td>\n",
              "      <td>1</td>\n",
              "      <td>2</td>\n",
              "      <td>10</td>\n",
              "      <td>13 Northbrook Terrace is a charming red brick ...</td>\n",
              "      <td>Bight and Spacious interior\\nNumerous original...</td>\n",
              "      <td>53.357129</td>\n",
              "      <td>-6.239779</td>\n",
              "      <td>9</td>\n",
              "      <td>95.97</td>\n",
              "      <td>425000</td>\n",
              "    </tr>\n",
              "    <tr>\n",
              "      <th>2</th>\n",
              "      <td>124</td>\n",
              "      <td>3</td>\n",
              "      <td>3</td>\n",
              "      <td>3</td>\n",
              "      <td>Welcome to No. 6 Cotter Close, an immaculately...</td>\n",
              "      <td>Special Features\\nLarge rear garden\\nGenerous ...</td>\n",
              "      <td>53.266468</td>\n",
              "      <td>-6.222771</td>\n",
              "      <td>6</td>\n",
              "      <td>107.00</td>\n",
              "      <td>535000</td>\n",
              "    </tr>\n",
              "    <tr>\n",
              "      <th>3</th>\n",
              "      <td>22</td>\n",
              "      <td>1</td>\n",
              "      <td>3</td>\n",
              "      <td>12</td>\n",
              "      <td>Welcome to 3 Sycamore Walk!\\n\\r\\nEnjoying a pr...</td>\n",
              "      <td>Wonderful 3 bed detached bungalow.     \\nAccom...</td>\n",
              "      <td>53.261600</td>\n",
              "      <td>-6.166738</td>\n",
              "      <td>3</td>\n",
              "      <td>81.00</td>\n",
              "      <td>499000</td>\n",
              "    </tr>\n",
              "    <tr>\n",
              "      <th>4</th>\n",
              "      <td>85</td>\n",
              "      <td>3</td>\n",
              "      <td>4</td>\n",
              "      <td>10</td>\n",
              "      <td>'Four Seasons' comes to the market as a wonder...</td>\n",
              "      <td>Detached Property      \\nDouble Glazed Windows...</td>\n",
              "      <td>53.550731</td>\n",
              "      <td>-6.121415</td>\n",
              "      <td>3</td>\n",
              "      <td>153.00</td>\n",
              "      <td>510000</td>\n",
              "    </tr>\n",
              "  </tbody>\n",
              "</table>\n",
              "</div>"
            ],
            "text/plain": [
              "   Location  Num_Bathrooms  Num_Beds  ...  Type Surface   Price\n",
              "0        98              2         2  ...     1   67.00  195000\n",
              "1        96              1         2  ...     9   95.97  425000\n",
              "2       124              3         3  ...     6  107.00  535000\n",
              "3        22              1         3  ...     3   81.00  499000\n",
              "4        85              3         4  ...     3  153.00  510000\n",
              "\n",
              "[5 rows x 11 columns]"
            ]
          },
          "metadata": {},
          "execution_count": 250
        }
      ]
    },
    {
      "cell_type": "code",
      "metadata": {
        "colab": {
          "base_uri": "https://localhost:8080/"
        },
        "id": "_jQce8j5f50k",
        "outputId": "5eb8271b-28fd-4fd1-e08c-8fb880106bd7"
      },
      "source": [
        "dftrain.shape"
      ],
      "execution_count": 251,
      "outputs": [
        {
          "output_type": "execute_result",
          "data": {
            "text/plain": [
              "(1387, 11)"
            ]
          },
          "metadata": {},
          "execution_count": 251
        }
      ]
    },
    {
      "cell_type": "markdown",
      "metadata": {
        "id": "N2M5O42jSJqh"
      },
      "source": [
        "Combine attributes '**Description**' and '**Features**' so the NLP actions/steps will apply to both. Drop those old features and just retain the combined new attribute '**Information**'."
      ]
    },
    {
      "cell_type": "code",
      "metadata": {
        "colab": {
          "base_uri": "https://localhost:8080/"
        },
        "id": "QSEo6zj8SGi5",
        "outputId": "3a71d775-accf-4ab2-e746-ca9aedf4ead7"
      },
      "source": [
        "dftrain.shape"
      ],
      "execution_count": 252,
      "outputs": [
        {
          "output_type": "execute_result",
          "data": {
            "text/plain": [
              "(1387, 11)"
            ]
          },
          "metadata": {},
          "execution_count": 252
        }
      ]
    },
    {
      "cell_type": "code",
      "metadata": {
        "colab": {
          "base_uri": "https://localhost:8080/",
          "height": 104
        },
        "id": "eDOP7C4rTRFV",
        "outputId": "56e1c34d-6f4b-4cc5-b50d-db2f6ee7338b"
      },
      "source": [
        "dftrain['Description'][0]"
      ],
      "execution_count": 253,
      "outputs": [
        {
          "output_type": "execute_result",
          "data": {
            "application/vnd.google.colaboratory.intrinsic+json": {
              "type": "string"
            },
            "text/plain": [
              "'DNG are delighted to present to the market no. 5 Chipping Row. This two bedroom apartment comes to the market in excellent condition throughout. Viewers will be sure to see the meticulous care and attention the home owner has for this property. \\n\\r\\nThis well-presented apartment comprises of an open plan living and dining room, kitchen, two spacious double bedrooms the master benefitting from the a large en-suite and an extensively tiled bathroom. This property benefits from own door access, designated car parking and a quiet and private location.\\n\\r\\nChipping Row is well serviced by excellent public transport links to Dublin City centre. Dublin Airport, N3 / M3 and M50 are all within an easy reach. Local primary and secondary schools, Blanchardstown Shopping Centre are all within driving distance. Ongar village and all it has to offer including supermarket, restaurants, shops and pharmacy€TM is only a short walk away.\\n\\r\\nViewing comes highly recommended.\\n\\r\\nFeatures:\\r\\nGround floor two bedroom apartment\\r\\n67 sqm / 721 sqft\\r\\nBuilt c. 2005\\r\\nDouble glazed windows throughout\\r\\nElectric heating\\r\\nOwn door access\\r\\nDesignated and visitor car parking \\r\\nManagement fee €\" approx. €760\\r\\nManagement Company €\" CORE\\n\\n\\r\\nAccommodation\\r\\nLiving/dining room 5.2m x 3.3m\\r\\nLaminate flooring, feature fireplace, large window to the front of the property.\\r\\nKitchen 3.4m x 1\\r\\nLaminate flooring, wall and floor fitted kitchen units, plumbed for washing machine. \\r\\nBedroom 1 5.1m x 2.2m\\r\\nLarge double bedroom, fitted wardrobes, ample storage space, en-suite off.\\r\\nEn-suite 2.5m x 1.6m\\r\\nExtensively tiled, shower, whb, wc.\\r\\nBedroom 2 3.7m x 2.7m\\r\\nLarge double bedroom, fitted wardrobes, ample storage space.\\r\\nBathroom 2.5m x 1.7m\\r\\nExtensively tiled, bath with over-head shower, whb, wc.'"
            ]
          },
          "metadata": {},
          "execution_count": 253
        }
      ]
    },
    {
      "cell_type": "code",
      "metadata": {
        "colab": {
          "base_uri": "https://localhost:8080/",
          "height": 35
        },
        "id": "LnbS0-ItTQ3p",
        "outputId": "61f17190-8433-4e53-be0e-87f78b48f546"
      },
      "source": [
        "dftrain['Features'][0]"
      ],
      "execution_count": 254,
      "outputs": [
        {
          "output_type": "execute_result",
          "data": {
            "application/vnd.google.colaboratory.intrinsic+json": {
              "type": "string"
            },
            "text/plain": [
              "'None'"
            ]
          },
          "metadata": {},
          "execution_count": 254
        }
      ]
    },
    {
      "cell_type": "code",
      "metadata": {
        "colab": {
          "base_uri": "https://localhost:8080/"
        },
        "id": "sFC6QcF7BmVS",
        "outputId": "b87bd04c-ea1b-4a3f-ffd1-6c2ac38844c9"
      },
      "source": [
        "dftrain['Information'] = dftrain['Description'] + dftrain['Features']\n",
        "\n",
        "dftrain.drop(columns=['Description', 'Features'], inplace=True)\n",
        "\n",
        "dftrain.shape"
      ],
      "execution_count": 255,
      "outputs": [
        {
          "output_type": "execute_result",
          "data": {
            "text/plain": [
              "(1387, 10)"
            ]
          },
          "metadata": {},
          "execution_count": 255
        }
      ]
    },
    {
      "cell_type": "code",
      "metadata": {
        "colab": {
          "base_uri": "https://localhost:8080/",
          "height": 423
        },
        "id": "Q4wxQoQTJ1du",
        "outputId": "4a7af0b9-2ace-4f78-c201-bad6a24d4617"
      },
      "source": [
        "dftrain"
      ],
      "execution_count": 256,
      "outputs": [
        {
          "output_type": "execute_result",
          "data": {
            "text/html": [
              "<div>\n",
              "<style scoped>\n",
              "    .dataframe tbody tr th:only-of-type {\n",
              "        vertical-align: middle;\n",
              "    }\n",
              "\n",
              "    .dataframe tbody tr th {\n",
              "        vertical-align: top;\n",
              "    }\n",
              "\n",
              "    .dataframe thead th {\n",
              "        text-align: right;\n",
              "    }\n",
              "</style>\n",
              "<table border=\"1\" class=\"dataframe\">\n",
              "  <thead>\n",
              "    <tr style=\"text-align: right;\">\n",
              "      <th></th>\n",
              "      <th>Location</th>\n",
              "      <th>Num_Bathrooms</th>\n",
              "      <th>Num_Beds</th>\n",
              "      <th>BER_class</th>\n",
              "      <th>Latitude</th>\n",
              "      <th>Longitude</th>\n",
              "      <th>Type</th>\n",
              "      <th>Surface</th>\n",
              "      <th>Price</th>\n",
              "      <th>Information</th>\n",
              "    </tr>\n",
              "  </thead>\n",
              "  <tbody>\n",
              "    <tr>\n",
              "      <th>0</th>\n",
              "      <td>98</td>\n",
              "      <td>2</td>\n",
              "      <td>2</td>\n",
              "      <td>9</td>\n",
              "      <td>53.396659</td>\n",
              "      <td>-6.438791</td>\n",
              "      <td>1</td>\n",
              "      <td>67.00</td>\n",
              "      <td>195000</td>\n",
              "      <td>DNG are delighted to present to the market no....</td>\n",
              "    </tr>\n",
              "    <tr>\n",
              "      <th>1</th>\n",
              "      <td>96</td>\n",
              "      <td>1</td>\n",
              "      <td>2</td>\n",
              "      <td>10</td>\n",
              "      <td>53.357129</td>\n",
              "      <td>-6.239779</td>\n",
              "      <td>9</td>\n",
              "      <td>95.97</td>\n",
              "      <td>425000</td>\n",
              "      <td>13 Northbrook Terrace is a charming red brick ...</td>\n",
              "    </tr>\n",
              "    <tr>\n",
              "      <th>2</th>\n",
              "      <td>124</td>\n",
              "      <td>3</td>\n",
              "      <td>3</td>\n",
              "      <td>3</td>\n",
              "      <td>53.266468</td>\n",
              "      <td>-6.222771</td>\n",
              "      <td>6</td>\n",
              "      <td>107.00</td>\n",
              "      <td>535000</td>\n",
              "      <td>Welcome to No. 6 Cotter Close, an immaculately...</td>\n",
              "    </tr>\n",
              "    <tr>\n",
              "      <th>3</th>\n",
              "      <td>22</td>\n",
              "      <td>1</td>\n",
              "      <td>3</td>\n",
              "      <td>12</td>\n",
              "      <td>53.261600</td>\n",
              "      <td>-6.166738</td>\n",
              "      <td>3</td>\n",
              "      <td>81.00</td>\n",
              "      <td>499000</td>\n",
              "      <td>Welcome to 3 Sycamore Walk!\\n\\r\\nEnjoying a pr...</td>\n",
              "    </tr>\n",
              "    <tr>\n",
              "      <th>4</th>\n",
              "      <td>85</td>\n",
              "      <td>3</td>\n",
              "      <td>4</td>\n",
              "      <td>10</td>\n",
              "      <td>53.550731</td>\n",
              "      <td>-6.121415</td>\n",
              "      <td>3</td>\n",
              "      <td>153.00</td>\n",
              "      <td>510000</td>\n",
              "      <td>'Four Seasons' comes to the market as a wonder...</td>\n",
              "    </tr>\n",
              "    <tr>\n",
              "      <th>...</th>\n",
              "      <td>...</td>\n",
              "      <td>...</td>\n",
              "      <td>...</td>\n",
              "      <td>...</td>\n",
              "      <td>...</td>\n",
              "      <td>...</td>\n",
              "      <td>...</td>\n",
              "      <td>...</td>\n",
              "      <td>...</td>\n",
              "      <td>...</td>\n",
              "    </tr>\n",
              "    <tr>\n",
              "      <th>1633</th>\n",
              "      <td>18</td>\n",
              "      <td>1</td>\n",
              "      <td>2</td>\n",
              "      <td>8</td>\n",
              "      <td>53.292767</td>\n",
              "      <td>-6.166668</td>\n",
              "      <td>2</td>\n",
              "      <td>64.00</td>\n",
              "      <td>500000</td>\n",
              "      <td>Built in c.1930 38 Stradbrook Road is a deligh...</td>\n",
              "    </tr>\n",
              "    <tr>\n",
              "      <th>1634</th>\n",
              "      <td>18</td>\n",
              "      <td>3</td>\n",
              "      <td>5</td>\n",
              "      <td>7</td>\n",
              "      <td>53.284975</td>\n",
              "      <td>-6.178685</td>\n",
              "      <td>3</td>\n",
              "      <td>175.96</td>\n",
              "      <td>795000</td>\n",
              "      <td>An impressive three-story family home superbly...</td>\n",
              "    </tr>\n",
              "    <tr>\n",
              "      <th>1635</th>\n",
              "      <td>84</td>\n",
              "      <td>2</td>\n",
              "      <td>3</td>\n",
              "      <td>3</td>\n",
              "      <td>53.351667</td>\n",
              "      <td>-6.435278</td>\n",
              "      <td>6</td>\n",
              "      <td>98.00</td>\n",
              "      <td>340000</td>\n",
              "      <td>DNG Lucan's leading estate agents are delighte...</td>\n",
              "    </tr>\n",
              "    <tr>\n",
              "      <th>1636</th>\n",
              "      <td>119</td>\n",
              "      <td>8</td>\n",
              "      <td>8</td>\n",
              "      <td>11</td>\n",
              "      <td>53.328997</td>\n",
              "      <td>-6.221030</td>\n",
              "      <td>3</td>\n",
              "      <td>507.00</td>\n",
              "      <td>2500000</td>\n",
              "      <td>Holyrood Castle is a most distinctive 19th cen...</td>\n",
              "    </tr>\n",
              "    <tr>\n",
              "      <th>1637</th>\n",
              "      <td>121</td>\n",
              "      <td>2</td>\n",
              "      <td>2</td>\n",
              "      <td>12</td>\n",
              "      <td>53.231438</td>\n",
              "      <td>-6.125022</td>\n",
              "      <td>6</td>\n",
              "      <td>50.00</td>\n",
              "      <td>370000</td>\n",
              "      <td>A superb opportunity awaits to acquire this be...</td>\n",
              "    </tr>\n",
              "  </tbody>\n",
              "</table>\n",
              "<p>1387 rows × 10 columns</p>\n",
              "</div>"
            ],
            "text/plain": [
              "      Location  ...                                        Information\n",
              "0           98  ...  DNG are delighted to present to the market no....\n",
              "1           96  ...  13 Northbrook Terrace is a charming red brick ...\n",
              "2          124  ...  Welcome to No. 6 Cotter Close, an immaculately...\n",
              "3           22  ...  Welcome to 3 Sycamore Walk!\\n\\r\\nEnjoying a pr...\n",
              "4           85  ...  'Four Seasons' comes to the market as a wonder...\n",
              "...        ...  ...                                                ...\n",
              "1633        18  ...  Built in c.1930 38 Stradbrook Road is a deligh...\n",
              "1634        18  ...  An impressive three-story family home superbly...\n",
              "1635        84  ...  DNG Lucan's leading estate agents are delighte...\n",
              "1636       119  ...  Holyrood Castle is a most distinctive 19th cen...\n",
              "1637       121  ...  A superb opportunity awaits to acquire this be...\n",
              "\n",
              "[1387 rows x 10 columns]"
            ]
          },
          "metadata": {},
          "execution_count": 256
        }
      ]
    },
    {
      "cell_type": "markdown",
      "metadata": {
        "id": "20hVjxsTyqFi"
      },
      "source": [
        "Check boxplots of each feature to assess if there are outliers present."
      ]
    },
    {
      "cell_type": "code",
      "metadata": {
        "colab": {
          "base_uri": "https://localhost:8080/",
          "height": 321
        },
        "id": "zXa_FrN-5hsR",
        "outputId": "480cc282-a229-47d8-bc86-2c7edf76f4db"
      },
      "source": [
        "dftrain.loc[:,'Location':'Type'].boxplot(figsize=(20,5))\n",
        "plt.show()"
      ],
      "execution_count": 257,
      "outputs": [
        {
          "output_type": "display_data",
          "data": {
            "image/png": "[encoded data removed]",
            "text/plain": [
              "<Figure size 1440x360 with 1 Axes>"
            ]
          },
          "metadata": {
            "needs_background": "light"
          }
        }
      ]
    },
    {
      "cell_type": "code",
      "metadata": {
        "colab": {
          "base_uri": "https://localhost:8080/",
          "height": 276
        },
        "id": "ultQbHCwLfUW",
        "outputId": "fed9e933-e2ee-43f6-fb83-b13152faddb9"
      },
      "source": [
        "dftrain.boxplot(column=['Surface', 'Price'])\n",
        "plt.show()"
      ],
      "execution_count": 258,
      "outputs": [
        {
          "output_type": "display_data",
          "data": {
            "image/png": "[encoded data removed]",
            "text/plain": [
              "<Figure size 432x288 with 1 Axes>"
            ]
          },
          "metadata": {
            "needs_background": "light"
          }
        }
      ]
    },
    {
      "cell_type": "code",
      "metadata": {
        "colab": {
          "base_uri": "https://localhost:8080/"
        },
        "id": "FrCh9-AIZBmL",
        "outputId": "759727fe-f0f5-4dc0-ffe2-c5354a199ec1"
      },
      "source": [
        "dftrain.shape"
      ],
      "execution_count": 259,
      "outputs": [
        {
          "output_type": "execute_result",
          "data": {
            "text/plain": [
              "(1387, 10)"
            ]
          },
          "metadata": {},
          "execution_count": 259
        }
      ]
    },
    {
      "cell_type": "code",
      "metadata": {
        "colab": {
          "base_uri": "https://localhost:8080/",
          "height": 423
        },
        "id": "bZLXua7UOEc0",
        "outputId": "960465bc-cf95-4042-96bf-1ba650e6a6b9"
      },
      "source": [
        "dftrain.drop(columns=['Information'])"
      ],
      "execution_count": 260,
      "outputs": [
        {
          "output_type": "execute_result",
          "data": {
            "text/html": [
              "<div>\n",
              "<style scoped>\n",
              "    .dataframe tbody tr th:only-of-type {\n",
              "        vertical-align: middle;\n",
              "    }\n",
              "\n",
              "    .dataframe tbody tr th {\n",
              "        vertical-align: top;\n",
              "    }\n",
              "\n",
              "    .dataframe thead th {\n",
              "        text-align: right;\n",
              "    }\n",
              "</style>\n",
              "<table border=\"1\" class=\"dataframe\">\n",
              "  <thead>\n",
              "    <tr style=\"text-align: right;\">\n",
              "      <th></th>\n",
              "      <th>Location</th>\n",
              "      <th>Num_Bathrooms</th>\n",
              "      <th>Num_Beds</th>\n",
              "      <th>BER_class</th>\n",
              "      <th>Latitude</th>\n",
              "      <th>Longitude</th>\n",
              "      <th>Type</th>\n",
              "      <th>Surface</th>\n",
              "      <th>Price</th>\n",
              "    </tr>\n",
              "  </thead>\n",
              "  <tbody>\n",
              "    <tr>\n",
              "      <th>0</th>\n",
              "      <td>98</td>\n",
              "      <td>2</td>\n",
              "      <td>2</td>\n",
              "      <td>9</td>\n",
              "      <td>53.396659</td>\n",
              "      <td>-6.438791</td>\n",
              "      <td>1</td>\n",
              "      <td>67.00</td>\n",
              "      <td>195000</td>\n",
              "    </tr>\n",
              "    <tr>\n",
              "      <th>1</th>\n",
              "      <td>96</td>\n",
              "      <td>1</td>\n",
              "      <td>2</td>\n",
              "      <td>10</td>\n",
              "      <td>53.357129</td>\n",
              "      <td>-6.239779</td>\n",
              "      <td>9</td>\n",
              "      <td>95.97</td>\n",
              "      <td>425000</td>\n",
              "    </tr>\n",
              "    <tr>\n",
              "      <th>2</th>\n",
              "      <td>124</td>\n",
              "      <td>3</td>\n",
              "      <td>3</td>\n",
              "      <td>3</td>\n",
              "      <td>53.266468</td>\n",
              "      <td>-6.222771</td>\n",
              "      <td>6</td>\n",
              "      <td>107.00</td>\n",
              "      <td>535000</td>\n",
              "    </tr>\n",
              "    <tr>\n",
              "      <th>3</th>\n",
              "      <td>22</td>\n",
              "      <td>1</td>\n",
              "      <td>3</td>\n",
              "      <td>12</td>\n",
              "      <td>53.261600</td>\n",
              "      <td>-6.166738</td>\n",
              "      <td>3</td>\n",
              "      <td>81.00</td>\n",
              "      <td>499000</td>\n",
              "    </tr>\n",
              "    <tr>\n",
              "      <th>4</th>\n",
              "      <td>85</td>\n",
              "      <td>3</td>\n",
              "      <td>4</td>\n",
              "      <td>10</td>\n",
              "      <td>53.550731</td>\n",
              "      <td>-6.121415</td>\n",
              "      <td>3</td>\n",
              "      <td>153.00</td>\n",
              "      <td>510000</td>\n",
              "    </tr>\n",
              "    <tr>\n",
              "      <th>...</th>\n",
              "      <td>...</td>\n",
              "      <td>...</td>\n",
              "      <td>...</td>\n",
              "      <td>...</td>\n",
              "      <td>...</td>\n",
              "      <td>...</td>\n",
              "      <td>...</td>\n",
              "      <td>...</td>\n",
              "      <td>...</td>\n",
              "    </tr>\n",
              "    <tr>\n",
              "      <th>1633</th>\n",
              "      <td>18</td>\n",
              "      <td>1</td>\n",
              "      <td>2</td>\n",
              "      <td>8</td>\n",
              "      <td>53.292767</td>\n",
              "      <td>-6.166668</td>\n",
              "      <td>2</td>\n",
              "      <td>64.00</td>\n",
              "      <td>500000</td>\n",
              "    </tr>\n",
              "    <tr>\n",
              "      <th>1634</th>\n",
              "      <td>18</td>\n",
              "      <td>3</td>\n",
              "      <td>5</td>\n",
              "      <td>7</td>\n",
              "      <td>53.284975</td>\n",
              "      <td>-6.178685</td>\n",
              "      <td>3</td>\n",
              "      <td>175.96</td>\n",
              "      <td>795000</td>\n",
              "    </tr>\n",
              "    <tr>\n",
              "      <th>1635</th>\n",
              "      <td>84</td>\n",
              "      <td>2</td>\n",
              "      <td>3</td>\n",
              "      <td>3</td>\n",
              "      <td>53.351667</td>\n",
              "      <td>-6.435278</td>\n",
              "      <td>6</td>\n",
              "      <td>98.00</td>\n",
              "      <td>340000</td>\n",
              "    </tr>\n",
              "    <tr>\n",
              "      <th>1636</th>\n",
              "      <td>119</td>\n",
              "      <td>8</td>\n",
              "      <td>8</td>\n",
              "      <td>11</td>\n",
              "      <td>53.328997</td>\n",
              "      <td>-6.221030</td>\n",
              "      <td>3</td>\n",
              "      <td>507.00</td>\n",
              "      <td>2500000</td>\n",
              "    </tr>\n",
              "    <tr>\n",
              "      <th>1637</th>\n",
              "      <td>121</td>\n",
              "      <td>2</td>\n",
              "      <td>2</td>\n",
              "      <td>12</td>\n",
              "      <td>53.231438</td>\n",
              "      <td>-6.125022</td>\n",
              "      <td>6</td>\n",
              "      <td>50.00</td>\n",
              "      <td>370000</td>\n",
              "    </tr>\n",
              "  </tbody>\n",
              "</table>\n",
              "<p>1387 rows × 9 columns</p>\n",
              "</div>"
            ],
            "text/plain": [
              "      Location  Num_Bathrooms  Num_Beds  ...  Type  Surface    Price\n",
              "0           98              2         2  ...     1    67.00   195000\n",
              "1           96              1         2  ...     9    95.97   425000\n",
              "2          124              3         3  ...     6   107.00   535000\n",
              "3           22              1         3  ...     3    81.00   499000\n",
              "4           85              3         4  ...     3   153.00   510000\n",
              "...        ...            ...       ...  ...   ...      ...      ...\n",
              "1633        18              1         2  ...     2    64.00   500000\n",
              "1634        18              3         5  ...     3   175.96   795000\n",
              "1635        84              2         3  ...     6    98.00   340000\n",
              "1636       119              8         8  ...     3   507.00  2500000\n",
              "1637       121              2         2  ...     6    50.00   370000\n",
              "\n",
              "[1387 rows x 9 columns]"
            ]
          },
          "metadata": {},
          "execution_count": 260
        }
      ]
    },
    {
      "cell_type": "code",
      "metadata": {
        "colab": {
          "base_uri": "https://localhost:8080/",
          "height": 423
        },
        "id": "ZbLkKerKOmQv",
        "outputId": "dc295d2f-157f-4d40-bcab-9300c74a1152"
      },
      "source": [
        "dftrain"
      ],
      "execution_count": 261,
      "outputs": [
        {
          "output_type": "execute_result",
          "data": {
            "text/html": [
              "<div>\n",
              "<style scoped>\n",
              "    .dataframe tbody tr th:only-of-type {\n",
              "        vertical-align: middle;\n",
              "    }\n",
              "\n",
              "    .dataframe tbody tr th {\n",
              "        vertical-align: top;\n",
              "    }\n",
              "\n",
              "    .dataframe thead th {\n",
              "        text-align: right;\n",
              "    }\n",
              "</style>\n",
              "<table border=\"1\" class=\"dataframe\">\n",
              "  <thead>\n",
              "    <tr style=\"text-align: right;\">\n",
              "      <th></th>\n",
              "      <th>Location</th>\n",
              "      <th>Num_Bathrooms</th>\n",
              "      <th>Num_Beds</th>\n",
              "      <th>BER_class</th>\n",
              "      <th>Latitude</th>\n",
              "      <th>Longitude</th>\n",
              "      <th>Type</th>\n",
              "      <th>Surface</th>\n",
              "      <th>Price</th>\n",
              "      <th>Information</th>\n",
              "    </tr>\n",
              "  </thead>\n",
              "  <tbody>\n",
              "    <tr>\n",
              "      <th>0</th>\n",
              "      <td>98</td>\n",
              "      <td>2</td>\n",
              "      <td>2</td>\n",
              "      <td>9</td>\n",
              "      <td>53.396659</td>\n",
              "      <td>-6.438791</td>\n",
              "      <td>1</td>\n",
              "      <td>67.00</td>\n",
              "      <td>195000</td>\n",
              "      <td>DNG are delighted to present to the market no....</td>\n",
              "    </tr>\n",
              "    <tr>\n",
              "      <th>1</th>\n",
              "      <td>96</td>\n",
              "      <td>1</td>\n",
              "      <td>2</td>\n",
              "      <td>10</td>\n",
              "      <td>53.357129</td>\n",
              "      <td>-6.239779</td>\n",
              "      <td>9</td>\n",
              "      <td>95.97</td>\n",
              "      <td>425000</td>\n",
              "      <td>13 Northbrook Terrace is a charming red brick ...</td>\n",
              "    </tr>\n",
              "    <tr>\n",
              "      <th>2</th>\n",
              "      <td>124</td>\n",
              "      <td>3</td>\n",
              "      <td>3</td>\n",
              "      <td>3</td>\n",
              "      <td>53.266468</td>\n",
              "      <td>-6.222771</td>\n",
              "      <td>6</td>\n",
              "      <td>107.00</td>\n",
              "      <td>535000</td>\n",
              "      <td>Welcome to No. 6 Cotter Close, an immaculately...</td>\n",
              "    </tr>\n",
              "    <tr>\n",
              "      <th>3</th>\n",
              "      <td>22</td>\n",
              "      <td>1</td>\n",
              "      <td>3</td>\n",
              "      <td>12</td>\n",
              "      <td>53.261600</td>\n",
              "      <td>-6.166738</td>\n",
              "      <td>3</td>\n",
              "      <td>81.00</td>\n",
              "      <td>499000</td>\n",
              "      <td>Welcome to 3 Sycamore Walk!\\n\\r\\nEnjoying a pr...</td>\n",
              "    </tr>\n",
              "    <tr>\n",
              "      <th>4</th>\n",
              "      <td>85</td>\n",
              "      <td>3</td>\n",
              "      <td>4</td>\n",
              "      <td>10</td>\n",
              "      <td>53.550731</td>\n",
              "      <td>-6.121415</td>\n",
              "      <td>3</td>\n",
              "      <td>153.00</td>\n",
              "      <td>510000</td>\n",
              "      <td>'Four Seasons' comes to the market as a wonder...</td>\n",
              "    </tr>\n",
              "    <tr>\n",
              "      <th>...</th>\n",
              "      <td>...</td>\n",
              "      <td>...</td>\n",
              "      <td>...</td>\n",
              "      <td>...</td>\n",
              "      <td>...</td>\n",
              "      <td>...</td>\n",
              "      <td>...</td>\n",
              "      <td>...</td>\n",
              "      <td>...</td>\n",
              "      <td>...</td>\n",
              "    </tr>\n",
              "    <tr>\n",
              "      <th>1633</th>\n",
              "      <td>18</td>\n",
              "      <td>1</td>\n",
              "      <td>2</td>\n",
              "      <td>8</td>\n",
              "      <td>53.292767</td>\n",
              "      <td>-6.166668</td>\n",
              "      <td>2</td>\n",
              "      <td>64.00</td>\n",
              "      <td>500000</td>\n",
              "      <td>Built in c.1930 38 Stradbrook Road is a deligh...</td>\n",
              "    </tr>\n",
              "    <tr>\n",
              "      <th>1634</th>\n",
              "      <td>18</td>\n",
              "      <td>3</td>\n",
              "      <td>5</td>\n",
              "      <td>7</td>\n",
              "      <td>53.284975</td>\n",
              "      <td>-6.178685</td>\n",
              "      <td>3</td>\n",
              "      <td>175.96</td>\n",
              "      <td>795000</td>\n",
              "      <td>An impressive three-story family home superbly...</td>\n",
              "    </tr>\n",
              "    <tr>\n",
              "      <th>1635</th>\n",
              "      <td>84</td>\n",
              "      <td>2</td>\n",
              "      <td>3</td>\n",
              "      <td>3</td>\n",
              "      <td>53.351667</td>\n",
              "      <td>-6.435278</td>\n",
              "      <td>6</td>\n",
              "      <td>98.00</td>\n",
              "      <td>340000</td>\n",
              "      <td>DNG Lucan's leading estate agents are delighte...</td>\n",
              "    </tr>\n",
              "    <tr>\n",
              "      <th>1636</th>\n",
              "      <td>119</td>\n",
              "      <td>8</td>\n",
              "      <td>8</td>\n",
              "      <td>11</td>\n",
              "      <td>53.328997</td>\n",
              "      <td>-6.221030</td>\n",
              "      <td>3</td>\n",
              "      <td>507.00</td>\n",
              "      <td>2500000</td>\n",
              "      <td>Holyrood Castle is a most distinctive 19th cen...</td>\n",
              "    </tr>\n",
              "    <tr>\n",
              "      <th>1637</th>\n",
              "      <td>121</td>\n",
              "      <td>2</td>\n",
              "      <td>2</td>\n",
              "      <td>12</td>\n",
              "      <td>53.231438</td>\n",
              "      <td>-6.125022</td>\n",
              "      <td>6</td>\n",
              "      <td>50.00</td>\n",
              "      <td>370000</td>\n",
              "      <td>A superb opportunity awaits to acquire this be...</td>\n",
              "    </tr>\n",
              "  </tbody>\n",
              "</table>\n",
              "<p>1387 rows × 10 columns</p>\n",
              "</div>"
            ],
            "text/plain": [
              "      Location  ...                                        Information\n",
              "0           98  ...  DNG are delighted to present to the market no....\n",
              "1           96  ...  13 Northbrook Terrace is a charming red brick ...\n",
              "2          124  ...  Welcome to No. 6 Cotter Close, an immaculately...\n",
              "3           22  ...  Welcome to 3 Sycamore Walk!\\n\\r\\nEnjoying a pr...\n",
              "4           85  ...  'Four Seasons' comes to the market as a wonder...\n",
              "...        ...  ...                                                ...\n",
              "1633        18  ...  Built in c.1930 38 Stradbrook Road is a deligh...\n",
              "1634        18  ...  An impressive three-story family home superbly...\n",
              "1635        84  ...  DNG Lucan's leading estate agents are delighte...\n",
              "1636       119  ...  Holyrood Castle is a most distinctive 19th cen...\n",
              "1637       121  ...  A superb opportunity awaits to acquire this be...\n",
              "\n",
              "[1387 rows x 10 columns]"
            ]
          },
          "metadata": {},
          "execution_count": 261
        }
      ]
    },
    {
      "cell_type": "markdown",
      "metadata": {
        "id": "CY90X9k_RaHd"
      },
      "source": [
        "\n",
        "Cycle through each numerical feature in the training data set and remove data points that are deemed outliers i.e. data points that fall outside the IQR (Interquartile Range). I adapted code by Brownlee (2018) to help assess outliers in the data."
      ]
    },
    {
      "cell_type": "code",
      "metadata": {
        "colab": {
          "base_uri": "https://localhost:8080/"
        },
        "id": "O4zsrilcOYOo",
        "outputId": "85cc88dc-252d-4133-82f9-c81da4bdb0f3"
      },
      "source": [
        "# Adapted from https://machinelearningmastery.com/how-to-use-statistics-to-identify-outliers-in-data/\n",
        "\n",
        "for each_feature in dftrain.drop(columns=['Information']):\n",
        "\n",
        "  data = dftrain[each_feature]\n",
        "\n",
        "  # Calculate IQR (Interquartile Range).\n",
        "  q25, q75 = np.percentile(data, 25), np.percentile(data, 75)\n",
        "  iqr = q75 - q25\n",
        "\n",
        "  # Calculate the outlier cut-off.\n",
        "  cut_off = iqr * 1.5\n",
        "  lower, upper = q25 - cut_off, q75 + cut_off\n",
        "\n",
        "  # Identify outliers.\n",
        "\n",
        "  index_list = []\n",
        "  outliers_list = []\n",
        "\n",
        "  index_counter = -1\n",
        "\n",
        "  for each_element in data:\n",
        "\n",
        "    index_counter += 1\n",
        "\n",
        "    if each_element < lower or each_element > upper:\n",
        "\n",
        "      outliers_list.append(each_element)\n",
        "      \n",
        "      index_list.append(index_counter)\n",
        "\n",
        "  # print(each_feature)\n",
        "  # print(len(data))\n",
        "  # print(outliers_list)\n",
        "  # print(index_list)\n",
        "  print('Number of outliers in ', each_feature, ': ', len(index_list))\n",
        "  # print('\\n')\n",
        "\n",
        "  dftrain.drop(dftrain[dftrain[each_feature].isin(outliers_list)].index, inplace=True)\n",
        "  #dftrain.shape \n"
      ],
      "execution_count": 262,
      "outputs": [
        {
          "output_type": "stream",
          "name": "stdout",
          "text": [
            "Number of outliers in  Location :  0\n",
            "Number of outliers in  Num_Bathrooms :  9\n",
            "Number of outliers in  Num_Beds :  0\n",
            "Number of outliers in  BER_class :  1\n",
            "Number of outliers in  Latitude :  76\n",
            "Number of outliers in  Longitude :  5\n",
            "Number of outliers in  Type :  0\n",
            "Number of outliers in  Surface :  82\n",
            "Number of outliers in  Price :  49\n"
          ]
        }
      ]
    },
    {
      "cell_type": "markdown",
      "metadata": {
        "id": "-mHBk4N4zWrG"
      },
      "source": [
        "New shape of the training data after removing outliers."
      ]
    },
    {
      "cell_type": "code",
      "metadata": {
        "colab": {
          "base_uri": "https://localhost:8080/"
        },
        "id": "Ns3DUM6f-n-_",
        "outputId": "c02e0870-1b83-449c-848d-1689631ae427"
      },
      "source": [
        "dftrain.shape"
      ],
      "execution_count": 263,
      "outputs": [
        {
          "output_type": "execute_result",
          "data": {
            "text/plain": [
              "(1165, 10)"
            ]
          },
          "metadata": {},
          "execution_count": 263
        }
      ]
    },
    {
      "cell_type": "markdown",
      "metadata": {
        "id": "Iqg9_uxFyZli"
      },
      "source": [
        "### Test dataset"
      ]
    },
    {
      "cell_type": "code",
      "metadata": {
        "id": "bw2_yypxMfsi",
        "colab": {
          "base_uri": "https://localhost:8080/",
          "height": 293
        },
        "outputId": "e0b518ac-df55-4b73-cf6a-83c5004ca539"
      },
      "source": [
        "# show first data frame rows \n",
        "dftest.head()"
      ],
      "execution_count": 264,
      "outputs": [
        {
          "output_type": "execute_result",
          "data": {
            "text/html": [
              "<div>\n",
              "<style scoped>\n",
              "    .dataframe tbody tr th:only-of-type {\n",
              "        vertical-align: middle;\n",
              "    }\n",
              "\n",
              "    .dataframe tbody tr th {\n",
              "        vertical-align: top;\n",
              "    }\n",
              "\n",
              "    .dataframe thead th {\n",
              "        text-align: right;\n",
              "    }\n",
              "</style>\n",
              "<table border=\"1\" class=\"dataframe\">\n",
              "  <thead>\n",
              "    <tr style=\"text-align: right;\">\n",
              "      <th></th>\n",
              "      <th>Index</th>\n",
              "      <th>ID</th>\n",
              "      <th>Location</th>\n",
              "      <th>Num_Bathrooms</th>\n",
              "      <th>Num_Beds</th>\n",
              "      <th>BER_class</th>\n",
              "      <th>Description</th>\n",
              "      <th>Services</th>\n",
              "      <th>Features</th>\n",
              "      <th>Latitude</th>\n",
              "      <th>Longitude</th>\n",
              "      <th>Type</th>\n",
              "      <th>Surface</th>\n",
              "    </tr>\n",
              "  </thead>\n",
              "  <tbody>\n",
              "    <tr>\n",
              "      <th>0</th>\n",
              "      <td>1639</td>\n",
              "      <td>12292473</td>\n",
              "      <td>Milltown</td>\n",
              "      <td>2</td>\n",
              "      <td>2</td>\n",
              "      <td>C2</td>\n",
              "      <td>OMD Estate Agents are delighted to present thi...</td>\n",
              "      <td>Parking,Oil Fired Central Heating</td>\n",
              "      <td>Designated parking spaces\\nPresented in pristi...</td>\n",
              "      <td>53.316269</td>\n",
              "      <td>-6.243391</td>\n",
              "      <td>townhouse</td>\n",
              "      <td>65.0</td>\n",
              "    </tr>\n",
              "    <tr>\n",
              "      <th>1</th>\n",
              "      <td>1640</td>\n",
              "      <td>12314667</td>\n",
              "      <td>Glasnevin</td>\n",
              "      <td>2</td>\n",
              "      <td>5</td>\n",
              "      <td>E1</td>\n",
              "      <td>Welcome to Saint Anthony No.214 Glasnevin Aven...</td>\n",
              "      <td>Parking,Gas Fired Central Heating</td>\n",
              "      <td>Modern Worcester Gas Boiler\\nSingle Glazed Win...</td>\n",
              "      <td>53.390769</td>\n",
              "      <td>-6.281936</td>\n",
              "      <td>semi-detached</td>\n",
              "      <td>142.0</td>\n",
              "    </tr>\n",
              "    <tr>\n",
              "      <th>2</th>\n",
              "      <td>1641</td>\n",
              "      <td>11699240</td>\n",
              "      <td>Dalkey</td>\n",
              "      <td>1</td>\n",
              "      <td>2</td>\n",
              "      <td>G</td>\n",
              "      <td>Located in this ever popular road, on grounds ...</td>\n",
              "      <td>NaN</td>\n",
              "      <td>2 BEDROOM DETACHED HOUSE ON  1/5th ACRE\\nOIL F...</td>\n",
              "      <td>53.272486</td>\n",
              "      <td>-6.108675</td>\n",
              "      <td>detached</td>\n",
              "      <td>80.0</td>\n",
              "    </tr>\n",
              "    <tr>\n",
              "      <th>3</th>\n",
              "      <td>1642</td>\n",
              "      <td>12416984</td>\n",
              "      <td>Raheny</td>\n",
              "      <td>4</td>\n",
              "      <td>4</td>\n",
              "      <td>A2</td>\n",
              "      <td>DNG are delighted to represent the sale of thi...</td>\n",
              "      <td>Parking,Alarm</td>\n",
              "      <td>Detached House\\nSouth Facing Garden\\nOff Stree...</td>\n",
              "      <td>53.376932</td>\n",
              "      <td>-6.185334</td>\n",
              "      <td>detached</td>\n",
              "      <td>209.0</td>\n",
              "    </tr>\n",
              "    <tr>\n",
              "      <th>4</th>\n",
              "      <td>1643</td>\n",
              "      <td>12383407</td>\n",
              "      <td>Crumlin</td>\n",
              "      <td>2</td>\n",
              "      <td>3</td>\n",
              "      <td>F</td>\n",
              "      <td>A unique opportunity to acquire this red brick...</td>\n",
              "      <td>Parking,Gas Fired Central Heating,Alarm</td>\n",
              "      <td>Red brick end of terrace property \\nC. 108sqm ...</td>\n",
              "      <td>53.327208</td>\n",
              "      <td>-6.308938</td>\n",
              "      <td>end-of-terrace</td>\n",
              "      <td>108.0</td>\n",
              "    </tr>\n",
              "  </tbody>\n",
              "</table>\n",
              "</div>"
            ],
            "text/plain": [
              "   Index        ID   Location  ...  Longitude            Type Surface\n",
              "0   1639  12292473   Milltown  ...  -6.243391       townhouse    65.0\n",
              "1   1640  12314667  Glasnevin  ...  -6.281936   semi-detached   142.0\n",
              "2   1641  11699240     Dalkey  ...  -6.108675        detached    80.0\n",
              "3   1642  12416984     Raheny  ...  -6.185334        detached   209.0\n",
              "4   1643  12383407    Crumlin  ...  -6.308938  end-of-terrace   108.0\n",
              "\n",
              "[5 rows x 13 columns]"
            ]
          },
          "metadata": {},
          "execution_count": 264
        }
      ]
    },
    {
      "cell_type": "code",
      "metadata": {
        "id": "FXo0x2u7T7-1",
        "colab": {
          "base_uri": "https://localhost:8080/",
          "height": 300
        },
        "outputId": "2dd870f5-dfb7-432c-da1b-b8941d6fe8a7"
      },
      "source": [
        "# Generate descriptive statistics\n",
        "dftest.describe()"
      ],
      "execution_count": 265,
      "outputs": [
        {
          "output_type": "execute_result",
          "data": {
            "text/html": [
              "<div>\n",
              "<style scoped>\n",
              "    .dataframe tbody tr th:only-of-type {\n",
              "        vertical-align: middle;\n",
              "    }\n",
              "\n",
              "    .dataframe tbody tr th {\n",
              "        vertical-align: top;\n",
              "    }\n",
              "\n",
              "    .dataframe thead th {\n",
              "        text-align: right;\n",
              "    }\n",
              "</style>\n",
              "<table border=\"1\" class=\"dataframe\">\n",
              "  <thead>\n",
              "    <tr style=\"text-align: right;\">\n",
              "      <th></th>\n",
              "      <th>Index</th>\n",
              "      <th>ID</th>\n",
              "      <th>Num_Bathrooms</th>\n",
              "      <th>Num_Beds</th>\n",
              "      <th>Latitude</th>\n",
              "      <th>Longitude</th>\n",
              "      <th>Surface</th>\n",
              "    </tr>\n",
              "  </thead>\n",
              "  <tbody>\n",
              "    <tr>\n",
              "      <th>count</th>\n",
              "      <td>702.000000</td>\n",
              "      <td>7.020000e+02</td>\n",
              "      <td>702.000000</td>\n",
              "      <td>702.000000</td>\n",
              "      <td>702.000000</td>\n",
              "      <td>702.000000</td>\n",
              "      <td>702.000000</td>\n",
              "    </tr>\n",
              "    <tr>\n",
              "      <th>mean</th>\n",
              "      <td>1989.500000</td>\n",
              "      <td>1.231545e+07</td>\n",
              "      <td>2.027066</td>\n",
              "      <td>2.987179</td>\n",
              "      <td>53.350445</td>\n",
              "      <td>-6.252411</td>\n",
              "      <td>132.603530</td>\n",
              "    </tr>\n",
              "    <tr>\n",
              "      <th>std</th>\n",
              "      <td>202.794231</td>\n",
              "      <td>1.420680e+05</td>\n",
              "      <td>1.071273</td>\n",
              "      <td>1.198480</td>\n",
              "      <td>0.073961</td>\n",
              "      <td>0.091600</td>\n",
              "      <td>330.347066</td>\n",
              "    </tr>\n",
              "    <tr>\n",
              "      <th>min</th>\n",
              "      <td>1639.000000</td>\n",
              "      <td>1.147889e+07</td>\n",
              "      <td>1.000000</td>\n",
              "      <td>1.000000</td>\n",
              "      <td>53.214227</td>\n",
              "      <td>-6.521183</td>\n",
              "      <td>32.100000</td>\n",
              "    </tr>\n",
              "    <tr>\n",
              "      <th>25%</th>\n",
              "      <td>1814.250000</td>\n",
              "      <td>1.227637e+07</td>\n",
              "      <td>1.000000</td>\n",
              "      <td>2.000000</td>\n",
              "      <td>53.295225</td>\n",
              "      <td>-6.304258</td>\n",
              "      <td>73.000000</td>\n",
              "    </tr>\n",
              "    <tr>\n",
              "      <th>50%</th>\n",
              "      <td>1989.500000</td>\n",
              "      <td>1.237928e+07</td>\n",
              "      <td>2.000000</td>\n",
              "      <td>3.000000</td>\n",
              "      <td>53.341153</td>\n",
              "      <td>-6.247799</td>\n",
              "      <td>99.200000</td>\n",
              "    </tr>\n",
              "    <tr>\n",
              "      <th>75%</th>\n",
              "      <td>2164.750000</td>\n",
              "      <td>1.240421e+07</td>\n",
              "      <td>3.000000</td>\n",
              "      <td>4.000000</td>\n",
              "      <td>53.381752</td>\n",
              "      <td>-6.184277</td>\n",
              "      <td>136.875000</td>\n",
              "    </tr>\n",
              "    <tr>\n",
              "      <th>max</th>\n",
              "      <td>2340.000000</td>\n",
              "      <td>1.242824e+07</td>\n",
              "      <td>9.000000</td>\n",
              "      <td>14.000000</td>\n",
              "      <td>53.617443</td>\n",
              "      <td>-6.057150</td>\n",
              "      <td>8576.000000</td>\n",
              "    </tr>\n",
              "  </tbody>\n",
              "</table>\n",
              "</div>"
            ],
            "text/plain": [
              "             Index            ID  ...   Longitude      Surface\n",
              "count   702.000000  7.020000e+02  ...  702.000000   702.000000\n",
              "mean   1989.500000  1.231545e+07  ...   -6.252411   132.603530\n",
              "std     202.794231  1.420680e+05  ...    0.091600   330.347066\n",
              "min    1639.000000  1.147889e+07  ...   -6.521183    32.100000\n",
              "25%    1814.250000  1.227637e+07  ...   -6.304258    73.000000\n",
              "50%    1989.500000  1.237928e+07  ...   -6.247799    99.200000\n",
              "75%    2164.750000  1.240421e+07  ...   -6.184277   136.875000\n",
              "max    2340.000000  1.242824e+07  ...   -6.057150  8576.000000\n",
              "\n",
              "[8 rows x 7 columns]"
            ]
          },
          "metadata": {},
          "execution_count": 265
        }
      ]
    },
    {
      "cell_type": "code",
      "metadata": {
        "colab": {
          "base_uri": "https://localhost:8080/"
        },
        "id": "wGY7UZGcFdNF",
        "outputId": "e1a56ece-5ad7-47fb-b81f-936447f46de9"
      },
      "source": [
        "dftest.shape"
      ],
      "execution_count": 266,
      "outputs": [
        {
          "output_type": "execute_result",
          "data": {
            "text/plain": [
              "(702, 13)"
            ]
          },
          "metadata": {},
          "execution_count": 266
        }
      ]
    },
    {
      "cell_type": "markdown",
      "metadata": {
        "id": "7AEXyz_JWRQG"
      },
      "source": [
        "As there is 702 unique values for both attributes '**Index**' and '**ID**', these features are not adding any useful information so will be dropped.\n",
        "\n",
        "\n",
        "\n",
        "**Can leave Index/Id in initially for Kaggle submission purposes only. It states on 'Id' on Kaggle but it is 'Index' that is required.**"
      ]
    },
    {
      "cell_type": "code",
      "metadata": {
        "colab": {
          "base_uri": "https://localhost:8080/"
        },
        "id": "A8R_X515WRQG",
        "outputId": "d16d7925-71d7-4b37-a2d1-01d48d5b2006"
      },
      "source": [
        "print('Number of unique values for Index attribute: ', len(dftest['Index'].unique()))\n",
        "\n",
        "#print('Number of unique values for ID attribute: ', len(dftest['ID'].unique()))\n",
        "\n",
        "#dftest.drop(columns=['Index', 'ID'], inplace=True)\n",
        "\n",
        "dftest.drop(columns=['ID'], inplace=True)"
      ],
      "execution_count": 267,
      "outputs": [
        {
          "output_type": "stream",
          "name": "stdout",
          "text": [
            "Number of unique values for Index attribute:  702\n"
          ]
        }
      ]
    },
    {
      "cell_type": "markdown",
      "metadata": {
        "id": "qKG81nQ6WRQH"
      },
      "source": [
        "Assess count of each feature alongside the data type i.e. whether it is numeric or categorical."
      ]
    },
    {
      "cell_type": "code",
      "metadata": {
        "colab": {
          "base_uri": "https://localhost:8080/"
        },
        "id": "jHwBbViFWRQH",
        "outputId": "9350e4d7-66f9-46bc-eab4-6f972d9f1b20"
      },
      "source": [
        "dftest.info()"
      ],
      "execution_count": 268,
      "outputs": [
        {
          "output_type": "stream",
          "name": "stdout",
          "text": [
            "<class 'pandas.core.frame.DataFrame'>\n",
            "RangeIndex: 702 entries, 0 to 701\n",
            "Data columns (total 12 columns):\n",
            " #   Column         Non-Null Count  Dtype  \n",
            "---  ------         --------------  -----  \n",
            " 0   Index          702 non-null    int64  \n",
            " 1   Location       702 non-null    object \n",
            " 2   Num_Bathrooms  702 non-null    int64  \n",
            " 3   Num_Beds       702 non-null    int64  \n",
            " 4   BER_class      594 non-null    object \n",
            " 5   Description    702 non-null    object \n",
            " 6   Services       246 non-null    object \n",
            " 7   Features       702 non-null    object \n",
            " 8   Latitude       702 non-null    float64\n",
            " 9   Longitude      702 non-null    float64\n",
            " 10  Type           702 non-null    object \n",
            " 11  Surface        702 non-null    float64\n",
            "dtypes: float64(3), int64(3), object(6)\n",
            "memory usage: 65.9+ KB\n"
          ]
        }
      ]
    },
    {
      "cell_type": "markdown",
      "metadata": {
        "id": "55DlmvObWRQH"
      },
      "source": [
        "Check each column in the dataframe how many null/NaN instances there are."
      ]
    },
    {
      "cell_type": "code",
      "metadata": {
        "colab": {
          "base_uri": "https://localhost:8080/"
        },
        "id": "jSqbgsxnWRQH",
        "outputId": "f8d6c8a9-fb4a-4d5e-b9e5-16cfbeb06f68"
      },
      "source": [
        "dftest.isna().sum()"
      ],
      "execution_count": 269,
      "outputs": [
        {
          "output_type": "execute_result",
          "data": {
            "text/plain": [
              "Index              0\n",
              "Location           0\n",
              "Num_Bathrooms      0\n",
              "Num_Beds           0\n",
              "BER_class        108\n",
              "Description        0\n",
              "Services         456\n",
              "Features           0\n",
              "Latitude           0\n",
              "Longitude          0\n",
              "Type               0\n",
              "Surface            0\n",
              "dtype: int64"
            ]
          },
          "metadata": {},
          "execution_count": 269
        }
      ]
    },
    {
      "cell_type": "markdown",
      "metadata": {
        "id": "ywfaT3PUWRQI"
      },
      "source": [
        "The attribute '**Services**' can be seen to have 456 out of 702 samples with \n",
        "a NaN/Null result. That accounts for nearly 65% of all data for that column. This attribute/feature will be dropped."
      ]
    },
    {
      "cell_type": "code",
      "metadata": {
        "id": "czq18VmJWRQI"
      },
      "source": [
        "dftest.drop(columns=['Services'], inplace=True)"
      ],
      "execution_count": 270,
      "outputs": []
    },
    {
      "cell_type": "markdown",
      "metadata": {
        "id": "RmntoRlnWRQI"
      },
      "source": [
        "The attribute '**BER_class**' will be retained as with the training data."
      ]
    },
    {
      "cell_type": "code",
      "metadata": {
        "colab": {
          "base_uri": "https://localhost:8080/"
        },
        "id": "ccyBTiHKWRQI",
        "outputId": "9d9feeb2-9a0c-4093-a8d1-3e316e2d7423"
      },
      "source": [
        "print('Number of unique values for BER_class attribute: ', len(dftest['BER_class'].unique()))"
      ],
      "execution_count": 271,
      "outputs": [
        {
          "output_type": "stream",
          "name": "stdout",
          "text": [
            "Number of unique values for BER_class attribute:  16\n"
          ]
        }
      ]
    },
    {
      "cell_type": "markdown",
      "metadata": {
        "id": "8qIBONcDWRQJ"
      },
      "source": [
        "Drop all rows with NaN present as the sample/observation is incomplete and may be misleading."
      ]
    },
    {
      "cell_type": "code",
      "metadata": {
        "colab": {
          "base_uri": "https://localhost:8080/"
        },
        "id": "7CUQMAdKWRQJ",
        "outputId": "09796fa7-c4b0-4129-81d8-6b88069cb9cc"
      },
      "source": [
        "dftest.dropna(inplace=True)\n",
        "\n",
        "dftest.shape"
      ],
      "execution_count": 272,
      "outputs": [
        {
          "output_type": "execute_result",
          "data": {
            "text/plain": [
              "(594, 11)"
            ]
          },
          "metadata": {},
          "execution_count": 272
        }
      ]
    },
    {
      "cell_type": "markdown",
      "metadata": {
        "id": "EohRFFdFWRQJ"
      },
      "source": [
        "Remove samples where there are 0 bathrooms and 0 bedrooms if there are any."
      ]
    },
    {
      "cell_type": "code",
      "metadata": {
        "colab": {
          "base_uri": "https://localhost:8080/"
        },
        "id": "W8YUgvP4WRQJ",
        "outputId": "02b88918-b162-48bd-cff7-e5217d0ec876"
      },
      "source": [
        "dftest.drop(dftest[dftest.Num_Beds == 0].index, inplace=True)\n",
        "\n",
        "dftest.drop(dftest[dftest.Num_Bathrooms == 0].index, inplace=True)\n",
        "\n",
        "dftest.shape"
      ],
      "execution_count": 273,
      "outputs": [
        {
          "output_type": "execute_result",
          "data": {
            "text/plain": [
              "(594, 11)"
            ]
          },
          "metadata": {},
          "execution_count": 273
        }
      ]
    },
    {
      "cell_type": "markdown",
      "metadata": {
        "id": "1LnlZUB9WRQK"
      },
      "source": [
        "Check what features remain."
      ]
    },
    {
      "cell_type": "code",
      "metadata": {
        "colab": {
          "base_uri": "https://localhost:8080/",
          "height": 206
        },
        "id": "9TtjBuxFWRQK",
        "outputId": "ad3da2c2-45ea-49d4-9d9c-be8abb4198fe"
      },
      "source": [
        "dftest.head()"
      ],
      "execution_count": 274,
      "outputs": [
        {
          "output_type": "execute_result",
          "data": {
            "text/html": [
              "<div>\n",
              "<style scoped>\n",
              "    .dataframe tbody tr th:only-of-type {\n",
              "        vertical-align: middle;\n",
              "    }\n",
              "\n",
              "    .dataframe tbody tr th {\n",
              "        vertical-align: top;\n",
              "    }\n",
              "\n",
              "    .dataframe thead th {\n",
              "        text-align: right;\n",
              "    }\n",
              "</style>\n",
              "<table border=\"1\" class=\"dataframe\">\n",
              "  <thead>\n",
              "    <tr style=\"text-align: right;\">\n",
              "      <th></th>\n",
              "      <th>Index</th>\n",
              "      <th>Location</th>\n",
              "      <th>Num_Bathrooms</th>\n",
              "      <th>Num_Beds</th>\n",
              "      <th>BER_class</th>\n",
              "      <th>Description</th>\n",
              "      <th>Features</th>\n",
              "      <th>Latitude</th>\n",
              "      <th>Longitude</th>\n",
              "      <th>Type</th>\n",
              "      <th>Surface</th>\n",
              "    </tr>\n",
              "  </thead>\n",
              "  <tbody>\n",
              "    <tr>\n",
              "      <th>0</th>\n",
              "      <td>1639</td>\n",
              "      <td>Milltown</td>\n",
              "      <td>2</td>\n",
              "      <td>2</td>\n",
              "      <td>C2</td>\n",
              "      <td>OMD Estate Agents are delighted to present thi...</td>\n",
              "      <td>Designated parking spaces\\nPresented in pristi...</td>\n",
              "      <td>53.316269</td>\n",
              "      <td>-6.243391</td>\n",
              "      <td>townhouse</td>\n",
              "      <td>65.0</td>\n",
              "    </tr>\n",
              "    <tr>\n",
              "      <th>1</th>\n",
              "      <td>1640</td>\n",
              "      <td>Glasnevin</td>\n",
              "      <td>2</td>\n",
              "      <td>5</td>\n",
              "      <td>E1</td>\n",
              "      <td>Welcome to Saint Anthony No.214 Glasnevin Aven...</td>\n",
              "      <td>Modern Worcester Gas Boiler\\nSingle Glazed Win...</td>\n",
              "      <td>53.390769</td>\n",
              "      <td>-6.281936</td>\n",
              "      <td>semi-detached</td>\n",
              "      <td>142.0</td>\n",
              "    </tr>\n",
              "    <tr>\n",
              "      <th>2</th>\n",
              "      <td>1641</td>\n",
              "      <td>Dalkey</td>\n",
              "      <td>1</td>\n",
              "      <td>2</td>\n",
              "      <td>G</td>\n",
              "      <td>Located in this ever popular road, on grounds ...</td>\n",
              "      <td>2 BEDROOM DETACHED HOUSE ON  1/5th ACRE\\nOIL F...</td>\n",
              "      <td>53.272486</td>\n",
              "      <td>-6.108675</td>\n",
              "      <td>detached</td>\n",
              "      <td>80.0</td>\n",
              "    </tr>\n",
              "    <tr>\n",
              "      <th>3</th>\n",
              "      <td>1642</td>\n",
              "      <td>Raheny</td>\n",
              "      <td>4</td>\n",
              "      <td>4</td>\n",
              "      <td>A2</td>\n",
              "      <td>DNG are delighted to represent the sale of thi...</td>\n",
              "      <td>Detached House\\nSouth Facing Garden\\nOff Stree...</td>\n",
              "      <td>53.376932</td>\n",
              "      <td>-6.185334</td>\n",
              "      <td>detached</td>\n",
              "      <td>209.0</td>\n",
              "    </tr>\n",
              "    <tr>\n",
              "      <th>4</th>\n",
              "      <td>1643</td>\n",
              "      <td>Crumlin</td>\n",
              "      <td>2</td>\n",
              "      <td>3</td>\n",
              "      <td>F</td>\n",
              "      <td>A unique opportunity to acquire this red brick...</td>\n",
              "      <td>Red brick end of terrace property \\nC. 108sqm ...</td>\n",
              "      <td>53.327208</td>\n",
              "      <td>-6.308938</td>\n",
              "      <td>end-of-terrace</td>\n",
              "      <td>108.0</td>\n",
              "    </tr>\n",
              "  </tbody>\n",
              "</table>\n",
              "</div>"
            ],
            "text/plain": [
              "   Index   Location  Num_Bathrooms  ...  Longitude            Type Surface\n",
              "0   1639   Milltown              2  ...  -6.243391       townhouse    65.0\n",
              "1   1640  Glasnevin              2  ...  -6.281936   semi-detached   142.0\n",
              "2   1641     Dalkey              1  ...  -6.108675        detached    80.0\n",
              "3   1642     Raheny              4  ...  -6.185334        detached   209.0\n",
              "4   1643    Crumlin              2  ...  -6.308938  end-of-terrace   108.0\n",
              "\n",
              "[5 rows x 11 columns]"
            ]
          },
          "metadata": {},
          "execution_count": 274
        }
      ]
    },
    {
      "cell_type": "code",
      "metadata": {
        "colab": {
          "base_uri": "https://localhost:8080/"
        },
        "id": "5XRDruCMWRQK",
        "outputId": "02faa39b-bab4-4a96-ad25-8bdeddd42444"
      },
      "source": [
        "dftest['Location'].value_counts()"
      ],
      "execution_count": 275,
      "outputs": [
        {
          "output_type": "execute_result",
          "data": {
            "text/plain": [
              "Rathfarnham     28\n",
              "Clontarf        17\n",
              "Malahide        17\n",
              "Dublin 8        16\n",
              "Drumcondra      15\n",
              "                ..\n",
              "Balrothery       1\n",
              "Carrickmines     1\n",
              "Newcastle        1\n",
              "Kilternan        1\n",
              "Kiltipper        1\n",
              "Name: Location, Length: 121, dtype: int64"
            ]
          },
          "metadata": {},
          "execution_count": 275
        }
      ]
    },
    {
      "cell_type": "code",
      "metadata": {
        "colab": {
          "base_uri": "https://localhost:8080/"
        },
        "id": "h2bENQBEWRQK",
        "outputId": "b17e0d44-1cc4-4e92-f168-2be8e6e2dcd3"
      },
      "source": [
        "temporary_series = dftest['Location'].value_counts()\n",
        "\n",
        "temporary_series.values"
      ],
      "execution_count": 276,
      "outputs": [
        {
          "output_type": "execute_result",
          "data": {
            "text/plain": [
              "array([28, 17, 17, 16, 15, 15, 14, 14, 13, 13, 13, 12, 11, 10, 10, 10,  9,\n",
              "        9,  9,  8,  8,  8,  8,  8,  7,  7,  7,  7,  7,  6,  6,  6,  6,  6,\n",
              "        6,  6,  6,  6,  6,  6,  5,  5,  5,  5,  5,  5,  5,  5,  5,  5,  4,\n",
              "        4,  4,  4,  4,  4,  4,  4,  4,  4,  4,  3,  3,  3,  3,  3,  3,  3,\n",
              "        3,  3,  3,  3,  3,  3,  3,  3,  2,  2,  2,  2,  2,  2,  2,  2,  2,\n",
              "        2,  2,  2,  2,  2,  1,  1,  1,  1,  1,  1,  1,  1,  1,  1,  1,  1,\n",
              "        1,  1,  1,  1,  1,  1,  1,  1,  1,  1,  1,  1,  1,  1,  1,  1,  1,\n",
              "        1,  1])"
            ]
          },
          "metadata": {},
          "execution_count": 276
        }
      ]
    },
    {
      "cell_type": "code",
      "metadata": {
        "colab": {
          "base_uri": "https://localhost:8080/"
        },
        "id": "w5UtQihPWRQL",
        "outputId": "46468006-f2a4-4ba0-a204-6bdf05dd9165"
      },
      "source": [
        "dftest['BER_class'].value_counts()"
      ],
      "execution_count": 277,
      "outputs": [
        {
          "output_type": "execute_result",
          "data": {
            "text/plain": [
              "D1                     72\n",
              "C3                     70\n",
              "D2                     68\n",
              "C2                     65\n",
              "C1                     49\n",
              "E2                     47\n",
              "F                      46\n",
              "E1                     44\n",
              "G                      41\n",
              "B3                     28\n",
              "B2                     21\n",
              "A3                     20\n",
              "SINo666of2006exempt     8\n",
              "A2                      8\n",
              "B1                      7\n",
              "Name: BER_class, dtype: int64"
            ]
          },
          "metadata": {},
          "execution_count": 277
        }
      ]
    },
    {
      "cell_type": "code",
      "metadata": {
        "colab": {
          "base_uri": "https://localhost:8080/"
        },
        "id": "aCkknPszWRQL",
        "outputId": "594e1559-d0af-439e-f581-7f066544f686"
      },
      "source": [
        "dftest['Type'].value_counts()"
      ],
      "execution_count": 278,
      "outputs": [
        {
          "output_type": "execute_result",
          "data": {
            "text/plain": [
              "apartment         160\n",
              "semi-detached     154\n",
              "terraced          104\n",
              "detached           89\n",
              "end-of-terrace     55\n",
              "bungalow           15\n",
              "duplex             11\n",
              "townhouse           4\n",
              "site                2\n",
              "Name: Type, dtype: int64"
            ]
          },
          "metadata": {},
          "execution_count": 278
        }
      ]
    },
    {
      "cell_type": "markdown",
      "metadata": {
        "id": "3XUQmr30WRQL"
      },
      "source": [
        "For the categorical features '**Location**', '**BER_class**' and '**Type**' a mapping approach will be taken to convert these to numerical features going forward.\n",
        "\n",
        "\n",
        "The approach shown below was adapted from datacamp.com by Pathak (2020) which displays a very helpful way of mapping categorical features to numerical features without having to explicitly state the mapping yourself.\n"
      ]
    },
    {
      "cell_type": "markdown",
      "metadata": {
        "id": "c4G020FSWRQL"
      },
      "source": [
        "Convert each categorical variable in turn and update dataframe."
      ]
    },
    {
      "cell_type": "code",
      "metadata": {
        "colab": {
          "base_uri": "https://localhost:8080/"
        },
        "id": "FnAvx_3JWRQM",
        "outputId": "b652d41b-f9c9-4483-cb04-5f9f610294cb"
      },
      "source": [
        "labels = dftest['Location'].astype('category').cat.categories.tolist()\n",
        "\n",
        "replace_map_comp_1 = {'Location' : {k: v for k,v in zip(labels,list(range(1,len(labels)+1)))}}\n",
        "\n",
        "print(replace_map_comp_1)\n",
        "\n",
        "dftest.replace(replace_map_comp_1, inplace=True)"
      ],
      "execution_count": 279,
      "outputs": [
        {
          "output_type": "stream",
          "name": "stdout",
          "text": [
            "{'Location': {'Artane': 1, 'Ashtown': 2, 'Balbriggan': 3, 'Baldoyle': 4, 'Balgriffin': 5, 'Ballinteer': 6, 'Ballsbridge': 7, 'Ballybrack': 8, 'Ballycullen': 9, 'Ballyfermot': 10, 'Ballymun': 11, 'Balrothery': 12, 'Beaumont': 13, 'Blackrock': 14, 'Blanchardstown': 15, 'Booterstown': 16, 'Brittas': 17, 'Cabinteely': 18, 'Cabra': 19, 'Carrickmines': 20, 'Castleknock': 21, 'Chapelizod': 22, 'Christchurch': 23, 'Churchtown': 24, 'Citywest': 25, 'Clarehall': 26, 'Clondalkin': 27, 'Clonee': 28, 'Clongriffin': 29, 'Clonshaugh': 30, 'Clonsilla': 31, 'Clonskeagh': 32, 'Clontarf': 33, 'Coolock': 34, 'Crumlin': 35, 'Dalkey': 36, 'Dartry': 37, 'Donabate': 38, 'Donnybrook': 39, 'Donnycarney': 40, 'Drimnagh': 41, 'Drumcondra': 42, 'Dublin 1': 43, 'Dublin 2': 44, 'Dublin 4': 45, 'Dublin 7': 46, 'Dublin 8': 47, 'Dun Laoghaire': 48, 'Dundrum': 49, 'East Wall': 50, 'Edenmore': 51, 'Finglas': 52, 'Foxrock': 53, 'Glasnevin': 54, 'Glenageary': 55, 'Goatstown': 56, 'Grand Canal Dock': 57, 'Greenhills': 58, \"Harold's Cross\": 59, 'Howth': 60, 'IFSC': 61, 'Inchicore': 62, 'Irishtown': 63, 'Killester': 64, 'Killiney': 65, 'Kilmainham': 66, 'Kilmore': 67, 'Kilternan': 68, 'Kiltipper': 69, 'Kinsealy': 70, 'Knocklyon': 71, 'Leopardstown': 72, 'Loughshinny': 73, 'Lucan': 74, 'Lusk': 75, 'Malahide': 76, 'Milltown': 77, 'Monkstown': 78, 'Mount Merrion': 79, 'Mulhuddart': 80, 'Naul': 81, 'Navan Road (D7)': 82, 'Newcastle': 83, 'North Circular Road': 84, 'Ongar': 85, 'Palmerstown': 86, 'Park West': 87, 'Perrystown': 88, 'Phibsborough': 89, 'Portmarnock': 90, 'Portobello': 91, 'Raheny': 92, 'Ranelagh': 93, 'Rathcoole': 94, 'Rathfarnham': 95, 'Rathgar': 96, 'Rathmichael': 97, 'Rialto': 98, 'Ringsend': 99, 'Rush': 100, 'Saggart': 101, 'Sallynoggin': 102, 'Sandycove': 103, 'Sandyford': 104, 'Sandymount': 105, 'Santry': 106, 'Shankill': 107, 'Skerries': 108, 'Smithfield': 109, 'South Circular Road': 110, 'Stepaside': 111, 'Stoneybatter': 112, 'Sutton': 113, 'Swords': 114, 'Tallaght': 115, 'Templeogue': 116, 'Terenure': 117, 'The Ward': 118, 'Tyrrelstown': 119, 'Walkinstown': 120, 'Windy Arbour': 121}}\n"
          ]
        }
      ]
    },
    {
      "cell_type": "code",
      "metadata": {
        "colab": {
          "base_uri": "https://localhost:8080/"
        },
        "id": "JKxT92DPWRQM",
        "outputId": "f8d82d34-b560-4596-d33e-0d9dc60a30fa"
      },
      "source": [
        "labels = dftest['BER_class'].astype('category').cat.categories.tolist()\n",
        "\n",
        "replace_map_comp_2 = {'BER_class' : {k: v for k,v in zip(labels,list(range(1,len(labels)+1)))}}\n",
        "\n",
        "print(replace_map_comp_2)\n",
        "\n",
        "dftest.replace(replace_map_comp_2, inplace=True)"
      ],
      "execution_count": 280,
      "outputs": [
        {
          "output_type": "stream",
          "name": "stdout",
          "text": [
            "{'BER_class': {'A2': 1, 'A3': 2, 'B1': 3, 'B2': 4, 'B3': 5, 'C1': 6, 'C2': 7, 'C3': 8, 'D1': 9, 'D2': 10, 'E1': 11, 'E2': 12, 'F': 13, 'G': 14, 'SINo666of2006exempt': 15}}\n"
          ]
        }
      ]
    },
    {
      "cell_type": "code",
      "metadata": {
        "colab": {
          "base_uri": "https://localhost:8080/"
        },
        "id": "u9nYQYt9WRQM",
        "outputId": "b8ceac27-57ec-46c0-c790-6db842f6e9c1"
      },
      "source": [
        "labels = dftest['Type'].astype('category').cat.categories.tolist()\n",
        "\n",
        "replace_map_comp_3 = {'Type' : {k: v for k,v in zip(labels,list(range(1,len(labels)+1)))}}\n",
        "\n",
        "print(replace_map_comp_3)\n",
        "\n",
        "dftest.replace(replace_map_comp_3, inplace=True)"
      ],
      "execution_count": 281,
      "outputs": [
        {
          "output_type": "stream",
          "name": "stdout",
          "text": [
            "{'Type': {'apartment': 1, 'bungalow': 2, 'detached': 3, 'duplex': 4, 'end-of-terrace': 5, 'semi-detached': 6, 'site': 7, 'terraced': 8, 'townhouse': 9}}\n"
          ]
        }
      ]
    },
    {
      "cell_type": "code",
      "metadata": {
        "colab": {
          "base_uri": "https://localhost:8080/",
          "height": 206
        },
        "id": "QvDxRONBWRQM",
        "outputId": "7753f58e-3069-4b77-a280-fe49d82604e7"
      },
      "source": [
        "dftest.head()"
      ],
      "execution_count": 282,
      "outputs": [
        {
          "output_type": "execute_result",
          "data": {
            "text/html": [
              "<div>\n",
              "<style scoped>\n",
              "    .dataframe tbody tr th:only-of-type {\n",
              "        vertical-align: middle;\n",
              "    }\n",
              "\n",
              "    .dataframe tbody tr th {\n",
              "        vertical-align: top;\n",
              "    }\n",
              "\n",
              "    .dataframe thead th {\n",
              "        text-align: right;\n",
              "    }\n",
              "</style>\n",
              "<table border=\"1\" class=\"dataframe\">\n",
              "  <thead>\n",
              "    <tr style=\"text-align: right;\">\n",
              "      <th></th>\n",
              "      <th>Index</th>\n",
              "      <th>Location</th>\n",
              "      <th>Num_Bathrooms</th>\n",
              "      <th>Num_Beds</th>\n",
              "      <th>BER_class</th>\n",
              "      <th>Description</th>\n",
              "      <th>Features</th>\n",
              "      <th>Latitude</th>\n",
              "      <th>Longitude</th>\n",
              "      <th>Type</th>\n",
              "      <th>Surface</th>\n",
              "    </tr>\n",
              "  </thead>\n",
              "  <tbody>\n",
              "    <tr>\n",
              "      <th>0</th>\n",
              "      <td>1639</td>\n",
              "      <td>77</td>\n",
              "      <td>2</td>\n",
              "      <td>2</td>\n",
              "      <td>7</td>\n",
              "      <td>OMD Estate Agents are delighted to present thi...</td>\n",
              "      <td>Designated parking spaces\\nPresented in pristi...</td>\n",
              "      <td>53.316269</td>\n",
              "      <td>-6.243391</td>\n",
              "      <td>9</td>\n",
              "      <td>65.0</td>\n",
              "    </tr>\n",
              "    <tr>\n",
              "      <th>1</th>\n",
              "      <td>1640</td>\n",
              "      <td>54</td>\n",
              "      <td>2</td>\n",
              "      <td>5</td>\n",
              "      <td>11</td>\n",
              "      <td>Welcome to Saint Anthony No.214 Glasnevin Aven...</td>\n",
              "      <td>Modern Worcester Gas Boiler\\nSingle Glazed Win...</td>\n",
              "      <td>53.390769</td>\n",
              "      <td>-6.281936</td>\n",
              "      <td>6</td>\n",
              "      <td>142.0</td>\n",
              "    </tr>\n",
              "    <tr>\n",
              "      <th>2</th>\n",
              "      <td>1641</td>\n",
              "      <td>36</td>\n",
              "      <td>1</td>\n",
              "      <td>2</td>\n",
              "      <td>14</td>\n",
              "      <td>Located in this ever popular road, on grounds ...</td>\n",
              "      <td>2 BEDROOM DETACHED HOUSE ON  1/5th ACRE\\nOIL F...</td>\n",
              "      <td>53.272486</td>\n",
              "      <td>-6.108675</td>\n",
              "      <td>3</td>\n",
              "      <td>80.0</td>\n",
              "    </tr>\n",
              "    <tr>\n",
              "      <th>3</th>\n",
              "      <td>1642</td>\n",
              "      <td>92</td>\n",
              "      <td>4</td>\n",
              "      <td>4</td>\n",
              "      <td>1</td>\n",
              "      <td>DNG are delighted to represent the sale of thi...</td>\n",
              "      <td>Detached House\\nSouth Facing Garden\\nOff Stree...</td>\n",
              "      <td>53.376932</td>\n",
              "      <td>-6.185334</td>\n",
              "      <td>3</td>\n",
              "      <td>209.0</td>\n",
              "    </tr>\n",
              "    <tr>\n",
              "      <th>4</th>\n",
              "      <td>1643</td>\n",
              "      <td>35</td>\n",
              "      <td>2</td>\n",
              "      <td>3</td>\n",
              "      <td>13</td>\n",
              "      <td>A unique opportunity to acquire this red brick...</td>\n",
              "      <td>Red brick end of terrace property \\nC. 108sqm ...</td>\n",
              "      <td>53.327208</td>\n",
              "      <td>-6.308938</td>\n",
              "      <td>5</td>\n",
              "      <td>108.0</td>\n",
              "    </tr>\n",
              "  </tbody>\n",
              "</table>\n",
              "</div>"
            ],
            "text/plain": [
              "   Index  Location  Num_Bathrooms  ...  Longitude  Type Surface\n",
              "0   1639        77              2  ...  -6.243391     9    65.0\n",
              "1   1640        54              2  ...  -6.281936     6   142.0\n",
              "2   1641        36              1  ...  -6.108675     3    80.0\n",
              "3   1642        92              4  ...  -6.185334     3   209.0\n",
              "4   1643        35              2  ...  -6.308938     5   108.0\n",
              "\n",
              "[5 rows x 11 columns]"
            ]
          },
          "metadata": {},
          "execution_count": 282
        }
      ]
    },
    {
      "cell_type": "code",
      "metadata": {
        "colab": {
          "base_uri": "https://localhost:8080/"
        },
        "id": "sul7BaODWRQN",
        "outputId": "5ec652ca-9f20-47d6-9c20-3070440abb8c"
      },
      "source": [
        "dftest.shape"
      ],
      "execution_count": 283,
      "outputs": [
        {
          "output_type": "execute_result",
          "data": {
            "text/plain": [
              "(594, 11)"
            ]
          },
          "metadata": {},
          "execution_count": 283
        }
      ]
    },
    {
      "cell_type": "markdown",
      "metadata": {
        "id": "zdTkE-B6WRQN"
      },
      "source": [
        "Combine attributes '**Description**' and '**Features**' so the NLP actions/steps will apply to both. Drop those old features and just retain the combined new attribute '**Information**'."
      ]
    },
    {
      "cell_type": "code",
      "metadata": {
        "colab": {
          "base_uri": "https://localhost:8080/"
        },
        "id": "IL67BnEsWRQN",
        "outputId": "b7e40cc7-b65a-4223-c1ff-ccfc7a18f155"
      },
      "source": [
        "dftest.shape"
      ],
      "execution_count": 284,
      "outputs": [
        {
          "output_type": "execute_result",
          "data": {
            "text/plain": [
              "(594, 11)"
            ]
          },
          "metadata": {},
          "execution_count": 284
        }
      ]
    },
    {
      "cell_type": "code",
      "metadata": {
        "colab": {
          "base_uri": "https://localhost:8080/",
          "height": 104
        },
        "id": "nyxbrZR_WRQN",
        "outputId": "2531663f-0607-4f95-d78f-093127c35de3"
      },
      "source": [
        "dftest['Description'][0]"
      ],
      "execution_count": 285,
      "outputs": [
        {
          "output_type": "execute_result",
          "data": {
            "application/vnd.google.colaboratory.intrinsic+json": {
              "type": "string"
            },
            "text/plain": [
              "'OMD Estate Agents are delighted to present this 2 bed townhouse situated in this well sought after location. The property is presented in immaculate condition and is conveniently located within a short stroll of Milltown, Ranelagh and Donnybrook villages. \\r\\nThe accommodation comprises of 2 double bedrooms, both rooms with built in wardrobes and family bathroom. Downstairs consists of good sized living area with stove fire, under stairs storage room, kitchen/ dining room with all integrated goods and w.c. There is a sunny paved terrace to the rear.\\n\\r\\nIt has O.F.C.H, PVC double glazing throughout, designated parking space. Local amenities include Luas, bus routes, shops, Wilde and Green, David Lloyd Riverview gym, restaurants, bars and U.C.D.\\n\\r\\nLiving Room 4.46m x 3.56m\\r\\nKitchen 4.00m x 3.65m\\r\\nW.c 1.65m x 1.90m\\r\\nBed 1) 3.11m x 3.53m\\r\\nBed 2) 2.63m x 3.54m\\r\\nBathroom 2.68m x 1.43m\\r\\nLanding 2.57m x .82m'"
            ]
          },
          "metadata": {},
          "execution_count": 285
        }
      ]
    },
    {
      "cell_type": "code",
      "metadata": {
        "colab": {
          "base_uri": "https://localhost:8080/",
          "height": 35
        },
        "id": "Xa2Nr8TyWRQN",
        "outputId": "edf229f0-6c31-4701-d90d-41f795a27812"
      },
      "source": [
        "dftest['Features'][0]"
      ],
      "execution_count": 286,
      "outputs": [
        {
          "output_type": "execute_result",
          "data": {
            "application/vnd.google.colaboratory.intrinsic+json": {
              "type": "string"
            },
            "text/plain": [
              "'Designated parking spaces\\nPresented in pristine condition\\nPVC double glazing throughout\\nO.F.C.H\\nSunny terrace\\nManagement fees €1,300 per annum.\\n'"
            ]
          },
          "metadata": {},
          "execution_count": 286
        }
      ]
    },
    {
      "cell_type": "code",
      "metadata": {
        "colab": {
          "base_uri": "https://localhost:8080/"
        },
        "id": "NfZUBJTQWRQO",
        "outputId": "4ecbc8ae-292d-44ec-ac62-d1971c75008a"
      },
      "source": [
        "dftest['Information'] = dftest['Description'] + dftest['Features']\n",
        "\n",
        "dftest.drop(columns=['Description', 'Features'], inplace=True)\n",
        "\n",
        "dftest.shape"
      ],
      "execution_count": 287,
      "outputs": [
        {
          "output_type": "execute_result",
          "data": {
            "text/plain": [
              "(594, 10)"
            ]
          },
          "metadata": {},
          "execution_count": 287
        }
      ]
    },
    {
      "cell_type": "code",
      "metadata": {
        "colab": {
          "base_uri": "https://localhost:8080/",
          "height": 423
        },
        "id": "NRfXW_swWRQO",
        "outputId": "e65ab6c7-5010-43e9-ad71-06a46bcfa534"
      },
      "source": [
        "dftest"
      ],
      "execution_count": 288,
      "outputs": [
        {
          "output_type": "execute_result",
          "data": {
            "text/html": [
              "<div>\n",
              "<style scoped>\n",
              "    .dataframe tbody tr th:only-of-type {\n",
              "        vertical-align: middle;\n",
              "    }\n",
              "\n",
              "    .dataframe tbody tr th {\n",
              "        vertical-align: top;\n",
              "    }\n",
              "\n",
              "    .dataframe thead th {\n",
              "        text-align: right;\n",
              "    }\n",
              "</style>\n",
              "<table border=\"1\" class=\"dataframe\">\n",
              "  <thead>\n",
              "    <tr style=\"text-align: right;\">\n",
              "      <th></th>\n",
              "      <th>Index</th>\n",
              "      <th>Location</th>\n",
              "      <th>Num_Bathrooms</th>\n",
              "      <th>Num_Beds</th>\n",
              "      <th>BER_class</th>\n",
              "      <th>Latitude</th>\n",
              "      <th>Longitude</th>\n",
              "      <th>Type</th>\n",
              "      <th>Surface</th>\n",
              "      <th>Information</th>\n",
              "    </tr>\n",
              "  </thead>\n",
              "  <tbody>\n",
              "    <tr>\n",
              "      <th>0</th>\n",
              "      <td>1639</td>\n",
              "      <td>77</td>\n",
              "      <td>2</td>\n",
              "      <td>2</td>\n",
              "      <td>7</td>\n",
              "      <td>53.316269</td>\n",
              "      <td>-6.243391</td>\n",
              "      <td>9</td>\n",
              "      <td>65.00</td>\n",
              "      <td>OMD Estate Agents are delighted to present thi...</td>\n",
              "    </tr>\n",
              "    <tr>\n",
              "      <th>1</th>\n",
              "      <td>1640</td>\n",
              "      <td>54</td>\n",
              "      <td>2</td>\n",
              "      <td>5</td>\n",
              "      <td>11</td>\n",
              "      <td>53.390769</td>\n",
              "      <td>-6.281936</td>\n",
              "      <td>6</td>\n",
              "      <td>142.00</td>\n",
              "      <td>Welcome to Saint Anthony No.214 Glasnevin Aven...</td>\n",
              "    </tr>\n",
              "    <tr>\n",
              "      <th>2</th>\n",
              "      <td>1641</td>\n",
              "      <td>36</td>\n",
              "      <td>1</td>\n",
              "      <td>2</td>\n",
              "      <td>14</td>\n",
              "      <td>53.272486</td>\n",
              "      <td>-6.108675</td>\n",
              "      <td>3</td>\n",
              "      <td>80.00</td>\n",
              "      <td>Located in this ever popular road, on grounds ...</td>\n",
              "    </tr>\n",
              "    <tr>\n",
              "      <th>3</th>\n",
              "      <td>1642</td>\n",
              "      <td>92</td>\n",
              "      <td>4</td>\n",
              "      <td>4</td>\n",
              "      <td>1</td>\n",
              "      <td>53.376932</td>\n",
              "      <td>-6.185334</td>\n",
              "      <td>3</td>\n",
              "      <td>209.00</td>\n",
              "      <td>DNG are delighted to represent the sale of thi...</td>\n",
              "    </tr>\n",
              "    <tr>\n",
              "      <th>4</th>\n",
              "      <td>1643</td>\n",
              "      <td>35</td>\n",
              "      <td>2</td>\n",
              "      <td>3</td>\n",
              "      <td>13</td>\n",
              "      <td>53.327208</td>\n",
              "      <td>-6.308938</td>\n",
              "      <td>5</td>\n",
              "      <td>108.00</td>\n",
              "      <td>A unique opportunity to acquire this red brick...</td>\n",
              "    </tr>\n",
              "    <tr>\n",
              "      <th>...</th>\n",
              "      <td>...</td>\n",
              "      <td>...</td>\n",
              "      <td>...</td>\n",
              "      <td>...</td>\n",
              "      <td>...</td>\n",
              "      <td>...</td>\n",
              "      <td>...</td>\n",
              "      <td>...</td>\n",
              "      <td>...</td>\n",
              "      <td>...</td>\n",
              "    </tr>\n",
              "    <tr>\n",
              "      <th>696</th>\n",
              "      <td>2335</td>\n",
              "      <td>19</td>\n",
              "      <td>1</td>\n",
              "      <td>3</td>\n",
              "      <td>7</td>\n",
              "      <td>53.370882</td>\n",
              "      <td>-6.298255</td>\n",
              "      <td>8</td>\n",
              "      <td>80.62</td>\n",
              "      <td>The Property Shop are delighted to being this ...</td>\n",
              "    </tr>\n",
              "    <tr>\n",
              "      <th>697</th>\n",
              "      <td>2336</td>\n",
              "      <td>66</td>\n",
              "      <td>1</td>\n",
              "      <td>1</td>\n",
              "      <td>14</td>\n",
              "      <td>53.343377</td>\n",
              "      <td>-6.296654</td>\n",
              "      <td>1</td>\n",
              "      <td>40.00</td>\n",
              "      <td>Sherry FitzGerald is delighted to present 56 B...</td>\n",
              "    </tr>\n",
              "    <tr>\n",
              "      <th>698</th>\n",
              "      <td>2337</td>\n",
              "      <td>112</td>\n",
              "      <td>1</td>\n",
              "      <td>2</td>\n",
              "      <td>10</td>\n",
              "      <td>53.351074</td>\n",
              "      <td>-6.285557</td>\n",
              "      <td>8</td>\n",
              "      <td>57.00</td>\n",
              "      <td>26 Viking Road is a well presented and moderni...</td>\n",
              "    </tr>\n",
              "    <tr>\n",
              "      <th>699</th>\n",
              "      <td>2338</td>\n",
              "      <td>18</td>\n",
              "      <td>1</td>\n",
              "      <td>3</td>\n",
              "      <td>9</td>\n",
              "      <td>53.261710</td>\n",
              "      <td>-6.164979</td>\n",
              "      <td>6</td>\n",
              "      <td>93.00</td>\n",
              "      <td>FIRST OPEN VIEW SATURDAY 8TH FEBRUARY 11 - 11....</td>\n",
              "    </tr>\n",
              "    <tr>\n",
              "      <th>701</th>\n",
              "      <td>2340</td>\n",
              "      <td>55</td>\n",
              "      <td>1</td>\n",
              "      <td>3</td>\n",
              "      <td>13</td>\n",
              "      <td>53.280408</td>\n",
              "      <td>-6.132925</td>\n",
              "      <td>6</td>\n",
              "      <td>122.00</td>\n",
              "      <td>This is an instantly appealing Jennings built ...</td>\n",
              "    </tr>\n",
              "  </tbody>\n",
              "</table>\n",
              "<p>594 rows × 10 columns</p>\n",
              "</div>"
            ],
            "text/plain": [
              "     Index  ...                                        Information\n",
              "0     1639  ...  OMD Estate Agents are delighted to present thi...\n",
              "1     1640  ...  Welcome to Saint Anthony No.214 Glasnevin Aven...\n",
              "2     1641  ...  Located in this ever popular road, on grounds ...\n",
              "3     1642  ...  DNG are delighted to represent the sale of thi...\n",
              "4     1643  ...  A unique opportunity to acquire this red brick...\n",
              "..     ...  ...                                                ...\n",
              "696   2335  ...  The Property Shop are delighted to being this ...\n",
              "697   2336  ...  Sherry FitzGerald is delighted to present 56 B...\n",
              "698   2337  ...  26 Viking Road is a well presented and moderni...\n",
              "699   2338  ...  FIRST OPEN VIEW SATURDAY 8TH FEBRUARY 11 - 11....\n",
              "701   2340  ...  This is an instantly appealing Jennings built ...\n",
              "\n",
              "[594 rows x 10 columns]"
            ]
          },
          "metadata": {},
          "execution_count": 288
        }
      ]
    },
    {
      "cell_type": "markdown",
      "metadata": {
        "id": "3SVDtFL6WRQO"
      },
      "source": [
        "Check boxplots of each feature to assess if there are outliers present."
      ]
    },
    {
      "cell_type": "code",
      "metadata": {
        "colab": {
          "base_uri": "https://localhost:8080/",
          "height": 321
        },
        "id": "6cepYeX3WRQO",
        "outputId": "238a0aef-69d1-480c-ef2b-1cd13f8c7d38"
      },
      "source": [
        "dftest.loc[:,'Location':'Type'].boxplot(figsize=(20,5))\n",
        "plt.show()"
      ],
      "execution_count": 289,
      "outputs": [
        {
          "output_type": "display_data",
          "data": {
            "image/png": "[encoded data removed]",
            "text/plain": [
              "<Figure size 1440x360 with 1 Axes>"
            ]
          },
          "metadata": {
            "needs_background": "light"
          }
        }
      ]
    },
    {
      "cell_type": "code",
      "metadata": {
        "colab": {
          "base_uri": "https://localhost:8080/",
          "height": 265
        },
        "id": "ChDdkn2IWRQO",
        "outputId": "ff7f8e33-8662-42b3-f84b-ac35874d0ae1"
      },
      "source": [
        "dftest.boxplot(column=['Surface'])\n",
        "plt.show()"
      ],
      "execution_count": 290,
      "outputs": [
        {
          "output_type": "display_data",
          "data": {
            "image/png": "[encoded data removed]",
            "text/plain": [
              "<Figure size 432x288 with 1 Axes>"
            ]
          },
          "metadata": {
            "needs_background": "light"
          }
        }
      ]
    },
    {
      "cell_type": "code",
      "metadata": {
        "colab": {
          "base_uri": "https://localhost:8080/"
        },
        "id": "nmmCqdAQWRQP",
        "outputId": "0e0396a5-d9e0-424e-e706-33777db27f2e"
      },
      "source": [
        "dftest.shape"
      ],
      "execution_count": 291,
      "outputs": [
        {
          "output_type": "execute_result",
          "data": {
            "text/plain": [
              "(594, 10)"
            ]
          },
          "metadata": {},
          "execution_count": 291
        }
      ]
    },
    {
      "cell_type": "code",
      "metadata": {
        "colab": {
          "base_uri": "https://localhost:8080/",
          "height": 423
        },
        "id": "ALYy0U2ZWRQP",
        "outputId": "6fe2afee-4710-4b1a-a6e1-b684de041436"
      },
      "source": [
        "dftest.drop(columns=['Information'])"
      ],
      "execution_count": 292,
      "outputs": [
        {
          "output_type": "execute_result",
          "data": {
            "text/html": [
              "<div>\n",
              "<style scoped>\n",
              "    .dataframe tbody tr th:only-of-type {\n",
              "        vertical-align: middle;\n",
              "    }\n",
              "\n",
              "    .dataframe tbody tr th {\n",
              "        vertical-align: top;\n",
              "    }\n",
              "\n",
              "    .dataframe thead th {\n",
              "        text-align: right;\n",
              "    }\n",
              "</style>\n",
              "<table border=\"1\" class=\"dataframe\">\n",
              "  <thead>\n",
              "    <tr style=\"text-align: right;\">\n",
              "      <th></th>\n",
              "      <th>Index</th>\n",
              "      <th>Location</th>\n",
              "      <th>Num_Bathrooms</th>\n",
              "      <th>Num_Beds</th>\n",
              "      <th>BER_class</th>\n",
              "      <th>Latitude</th>\n",
              "      <th>Longitude</th>\n",
              "      <th>Type</th>\n",
              "      <th>Surface</th>\n",
              "    </tr>\n",
              "  </thead>\n",
              "  <tbody>\n",
              "    <tr>\n",
              "      <th>0</th>\n",
              "      <td>1639</td>\n",
              "      <td>77</td>\n",
              "      <td>2</td>\n",
              "      <td>2</td>\n",
              "      <td>7</td>\n",
              "      <td>53.316269</td>\n",
              "      <td>-6.243391</td>\n",
              "      <td>9</td>\n",
              "      <td>65.00</td>\n",
              "    </tr>\n",
              "    <tr>\n",
              "      <th>1</th>\n",
              "      <td>1640</td>\n",
              "      <td>54</td>\n",
              "      <td>2</td>\n",
              "      <td>5</td>\n",
              "      <td>11</td>\n",
              "      <td>53.390769</td>\n",
              "      <td>-6.281936</td>\n",
              "      <td>6</td>\n",
              "      <td>142.00</td>\n",
              "    </tr>\n",
              "    <tr>\n",
              "      <th>2</th>\n",
              "      <td>1641</td>\n",
              "      <td>36</td>\n",
              "      <td>1</td>\n",
              "      <td>2</td>\n",
              "      <td>14</td>\n",
              "      <td>53.272486</td>\n",
              "      <td>-6.108675</td>\n",
              "      <td>3</td>\n",
              "      <td>80.00</td>\n",
              "    </tr>\n",
              "    <tr>\n",
              "      <th>3</th>\n",
              "      <td>1642</td>\n",
              "      <td>92</td>\n",
              "      <td>4</td>\n",
              "      <td>4</td>\n",
              "      <td>1</td>\n",
              "      <td>53.376932</td>\n",
              "      <td>-6.185334</td>\n",
              "      <td>3</td>\n",
              "      <td>209.00</td>\n",
              "    </tr>\n",
              "    <tr>\n",
              "      <th>4</th>\n",
              "      <td>1643</td>\n",
              "      <td>35</td>\n",
              "      <td>2</td>\n",
              "      <td>3</td>\n",
              "      <td>13</td>\n",
              "      <td>53.327208</td>\n",
              "      <td>-6.308938</td>\n",
              "      <td>5</td>\n",
              "      <td>108.00</td>\n",
              "    </tr>\n",
              "    <tr>\n",
              "      <th>...</th>\n",
              "      <td>...</td>\n",
              "      <td>...</td>\n",
              "      <td>...</td>\n",
              "      <td>...</td>\n",
              "      <td>...</td>\n",
              "      <td>...</td>\n",
              "      <td>...</td>\n",
              "      <td>...</td>\n",
              "      <td>...</td>\n",
              "    </tr>\n",
              "    <tr>\n",
              "      <th>696</th>\n",
              "      <td>2335</td>\n",
              "      <td>19</td>\n",
              "      <td>1</td>\n",
              "      <td>3</td>\n",
              "      <td>7</td>\n",
              "      <td>53.370882</td>\n",
              "      <td>-6.298255</td>\n",
              "      <td>8</td>\n",
              "      <td>80.62</td>\n",
              "    </tr>\n",
              "    <tr>\n",
              "      <th>697</th>\n",
              "      <td>2336</td>\n",
              "      <td>66</td>\n",
              "      <td>1</td>\n",
              "      <td>1</td>\n",
              "      <td>14</td>\n",
              "      <td>53.343377</td>\n",
              "      <td>-6.296654</td>\n",
              "      <td>1</td>\n",
              "      <td>40.00</td>\n",
              "    </tr>\n",
              "    <tr>\n",
              "      <th>698</th>\n",
              "      <td>2337</td>\n",
              "      <td>112</td>\n",
              "      <td>1</td>\n",
              "      <td>2</td>\n",
              "      <td>10</td>\n",
              "      <td>53.351074</td>\n",
              "      <td>-6.285557</td>\n",
              "      <td>8</td>\n",
              "      <td>57.00</td>\n",
              "    </tr>\n",
              "    <tr>\n",
              "      <th>699</th>\n",
              "      <td>2338</td>\n",
              "      <td>18</td>\n",
              "      <td>1</td>\n",
              "      <td>3</td>\n",
              "      <td>9</td>\n",
              "      <td>53.261710</td>\n",
              "      <td>-6.164979</td>\n",
              "      <td>6</td>\n",
              "      <td>93.00</td>\n",
              "    </tr>\n",
              "    <tr>\n",
              "      <th>701</th>\n",
              "      <td>2340</td>\n",
              "      <td>55</td>\n",
              "      <td>1</td>\n",
              "      <td>3</td>\n",
              "      <td>13</td>\n",
              "      <td>53.280408</td>\n",
              "      <td>-6.132925</td>\n",
              "      <td>6</td>\n",
              "      <td>122.00</td>\n",
              "    </tr>\n",
              "  </tbody>\n",
              "</table>\n",
              "<p>594 rows × 9 columns</p>\n",
              "</div>"
            ],
            "text/plain": [
              "     Index  Location  Num_Bathrooms  ...  Longitude  Type  Surface\n",
              "0     1639        77              2  ...  -6.243391     9    65.00\n",
              "1     1640        54              2  ...  -6.281936     6   142.00\n",
              "2     1641        36              1  ...  -6.108675     3    80.00\n",
              "3     1642        92              4  ...  -6.185334     3   209.00\n",
              "4     1643        35              2  ...  -6.308938     5   108.00\n",
              "..     ...       ...            ...  ...        ...   ...      ...\n",
              "696   2335        19              1  ...  -6.298255     8    80.62\n",
              "697   2336        66              1  ...  -6.296654     1    40.00\n",
              "698   2337       112              1  ...  -6.285557     8    57.00\n",
              "699   2338        18              1  ...  -6.164979     6    93.00\n",
              "701   2340        55              1  ...  -6.132925     6   122.00\n",
              "\n",
              "[594 rows x 9 columns]"
            ]
          },
          "metadata": {},
          "execution_count": 292
        }
      ]
    },
    {
      "cell_type": "code",
      "metadata": {
        "colab": {
          "base_uri": "https://localhost:8080/",
          "height": 423
        },
        "id": "WKv6hBZ9WRQP",
        "outputId": "c3d2e5be-aef0-440e-f6ba-e9275be26cdd"
      },
      "source": [
        "dftest"
      ],
      "execution_count": 293,
      "outputs": [
        {
          "output_type": "execute_result",
          "data": {
            "text/html": [
              "<div>\n",
              "<style scoped>\n",
              "    .dataframe tbody tr th:only-of-type {\n",
              "        vertical-align: middle;\n",
              "    }\n",
              "\n",
              "    .dataframe tbody tr th {\n",
              "        vertical-align: top;\n",
              "    }\n",
              "\n",
              "    .dataframe thead th {\n",
              "        text-align: right;\n",
              "    }\n",
              "</style>\n",
              "<table border=\"1\" class=\"dataframe\">\n",
              "  <thead>\n",
              "    <tr style=\"text-align: right;\">\n",
              "      <th></th>\n",
              "      <th>Index</th>\n",
              "      <th>Location</th>\n",
              "      <th>Num_Bathrooms</th>\n",
              "      <th>Num_Beds</th>\n",
              "      <th>BER_class</th>\n",
              "      <th>Latitude</th>\n",
              "      <th>Longitude</th>\n",
              "      <th>Type</th>\n",
              "      <th>Surface</th>\n",
              "      <th>Information</th>\n",
              "    </tr>\n",
              "  </thead>\n",
              "  <tbody>\n",
              "    <tr>\n",
              "      <th>0</th>\n",
              "      <td>1639</td>\n",
              "      <td>77</td>\n",
              "      <td>2</td>\n",
              "      <td>2</td>\n",
              "      <td>7</td>\n",
              "      <td>53.316269</td>\n",
              "      <td>-6.243391</td>\n",
              "      <td>9</td>\n",
              "      <td>65.00</td>\n",
              "      <td>OMD Estate Agents are delighted to present thi...</td>\n",
              "    </tr>\n",
              "    <tr>\n",
              "      <th>1</th>\n",
              "      <td>1640</td>\n",
              "      <td>54</td>\n",
              "      <td>2</td>\n",
              "      <td>5</td>\n",
              "      <td>11</td>\n",
              "      <td>53.390769</td>\n",
              "      <td>-6.281936</td>\n",
              "      <td>6</td>\n",
              "      <td>142.00</td>\n",
              "      <td>Welcome to Saint Anthony No.214 Glasnevin Aven...</td>\n",
              "    </tr>\n",
              "    <tr>\n",
              "      <th>2</th>\n",
              "      <td>1641</td>\n",
              "      <td>36</td>\n",
              "      <td>1</td>\n",
              "      <td>2</td>\n",
              "      <td>14</td>\n",
              "      <td>53.272486</td>\n",
              "      <td>-6.108675</td>\n",
              "      <td>3</td>\n",
              "      <td>80.00</td>\n",
              "      <td>Located in this ever popular road, on grounds ...</td>\n",
              "    </tr>\n",
              "    <tr>\n",
              "      <th>3</th>\n",
              "      <td>1642</td>\n",
              "      <td>92</td>\n",
              "      <td>4</td>\n",
              "      <td>4</td>\n",
              "      <td>1</td>\n",
              "      <td>53.376932</td>\n",
              "      <td>-6.185334</td>\n",
              "      <td>3</td>\n",
              "      <td>209.00</td>\n",
              "      <td>DNG are delighted to represent the sale of thi...</td>\n",
              "    </tr>\n",
              "    <tr>\n",
              "      <th>4</th>\n",
              "      <td>1643</td>\n",
              "      <td>35</td>\n",
              "      <td>2</td>\n",
              "      <td>3</td>\n",
              "      <td>13</td>\n",
              "      <td>53.327208</td>\n",
              "      <td>-6.308938</td>\n",
              "      <td>5</td>\n",
              "      <td>108.00</td>\n",
              "      <td>A unique opportunity to acquire this red brick...</td>\n",
              "    </tr>\n",
              "    <tr>\n",
              "      <th>...</th>\n",
              "      <td>...</td>\n",
              "      <td>...</td>\n",
              "      <td>...</td>\n",
              "      <td>...</td>\n",
              "      <td>...</td>\n",
              "      <td>...</td>\n",
              "      <td>...</td>\n",
              "      <td>...</td>\n",
              "      <td>...</td>\n",
              "      <td>...</td>\n",
              "    </tr>\n",
              "    <tr>\n",
              "      <th>696</th>\n",
              "      <td>2335</td>\n",
              "      <td>19</td>\n",
              "      <td>1</td>\n",
              "      <td>3</td>\n",
              "      <td>7</td>\n",
              "      <td>53.370882</td>\n",
              "      <td>-6.298255</td>\n",
              "      <td>8</td>\n",
              "      <td>80.62</td>\n",
              "      <td>The Property Shop are delighted to being this ...</td>\n",
              "    </tr>\n",
              "    <tr>\n",
              "      <th>697</th>\n",
              "      <td>2336</td>\n",
              "      <td>66</td>\n",
              "      <td>1</td>\n",
              "      <td>1</td>\n",
              "      <td>14</td>\n",
              "      <td>53.343377</td>\n",
              "      <td>-6.296654</td>\n",
              "      <td>1</td>\n",
              "      <td>40.00</td>\n",
              "      <td>Sherry FitzGerald is delighted to present 56 B...</td>\n",
              "    </tr>\n",
              "    <tr>\n",
              "      <th>698</th>\n",
              "      <td>2337</td>\n",
              "      <td>112</td>\n",
              "      <td>1</td>\n",
              "      <td>2</td>\n",
              "      <td>10</td>\n",
              "      <td>53.351074</td>\n",
              "      <td>-6.285557</td>\n",
              "      <td>8</td>\n",
              "      <td>57.00</td>\n",
              "      <td>26 Viking Road is a well presented and moderni...</td>\n",
              "    </tr>\n",
              "    <tr>\n",
              "      <th>699</th>\n",
              "      <td>2338</td>\n",
              "      <td>18</td>\n",
              "      <td>1</td>\n",
              "      <td>3</td>\n",
              "      <td>9</td>\n",
              "      <td>53.261710</td>\n",
              "      <td>-6.164979</td>\n",
              "      <td>6</td>\n",
              "      <td>93.00</td>\n",
              "      <td>FIRST OPEN VIEW SATURDAY 8TH FEBRUARY 11 - 11....</td>\n",
              "    </tr>\n",
              "    <tr>\n",
              "      <th>701</th>\n",
              "      <td>2340</td>\n",
              "      <td>55</td>\n",
              "      <td>1</td>\n",
              "      <td>3</td>\n",
              "      <td>13</td>\n",
              "      <td>53.280408</td>\n",
              "      <td>-6.132925</td>\n",
              "      <td>6</td>\n",
              "      <td>122.00</td>\n",
              "      <td>This is an instantly appealing Jennings built ...</td>\n",
              "    </tr>\n",
              "  </tbody>\n",
              "</table>\n",
              "<p>594 rows × 10 columns</p>\n",
              "</div>"
            ],
            "text/plain": [
              "     Index  ...                                        Information\n",
              "0     1639  ...  OMD Estate Agents are delighted to present thi...\n",
              "1     1640  ...  Welcome to Saint Anthony No.214 Glasnevin Aven...\n",
              "2     1641  ...  Located in this ever popular road, on grounds ...\n",
              "3     1642  ...  DNG are delighted to represent the sale of thi...\n",
              "4     1643  ...  A unique opportunity to acquire this red brick...\n",
              "..     ...  ...                                                ...\n",
              "696   2335  ...  The Property Shop are delighted to being this ...\n",
              "697   2336  ...  Sherry FitzGerald is delighted to present 56 B...\n",
              "698   2337  ...  26 Viking Road is a well presented and moderni...\n",
              "699   2338  ...  FIRST OPEN VIEW SATURDAY 8TH FEBRUARY 11 - 11....\n",
              "701   2340  ...  This is an instantly appealing Jennings built ...\n",
              "\n",
              "[594 rows x 10 columns]"
            ]
          },
          "metadata": {},
          "execution_count": 293
        }
      ]
    },
    {
      "cell_type": "markdown",
      "metadata": {
        "id": "xAbe7pnAWRQP"
      },
      "source": [
        "\n",
        "Cycle through each numerical feature in the test data set and remove data points that are deemed outliers i.e. data points that fall outside the IQR (Interquartile Range). I adapted code by Brownlee (2018) to help assess outliers in the data."
      ]
    },
    {
      "cell_type": "code",
      "metadata": {
        "colab": {
          "base_uri": "https://localhost:8080/"
        },
        "id": "FfysZqc0WRQP",
        "outputId": "6e688f37-ae68-439c-8307-9921be31b8d5"
      },
      "source": [
        "# Adapted from https://machinelearningmastery.com/how-to-use-statistics-to-identify-outliers-in-data/\n",
        "\n",
        "for each_feature in dftest.drop(columns=['Index', 'Information']):\n",
        "\n",
        "  data = dftest[each_feature]\n",
        "\n",
        "  # Calculate IQR (Interquartile Range).\n",
        "  q25, q75 = np.percentile(data, 25), np.percentile(data, 75)\n",
        "  iqr = q75 - q25\n",
        "\n",
        "  # Calculate the outlier cut-off.\n",
        "  cut_off = iqr * 1.5\n",
        "  lower, upper = q25 - cut_off, q75 + cut_off\n",
        "\n",
        "  # Identify outliers.\n",
        "\n",
        "  index_list = []\n",
        "  outliers_list = []\n",
        "\n",
        "  index_counter = -1\n",
        "\n",
        "  for each_element in data:\n",
        "\n",
        "    index_counter += 1\n",
        "\n",
        "    if each_element < lower or each_element > upper:\n",
        "\n",
        "      outliers_list.append(each_element)\n",
        "      \n",
        "      index_list.append(index_counter)\n",
        "\n",
        "  # print(each_feature)\n",
        "  # print(len(data))\n",
        "  # print(outliers_list)\n",
        "  # print(index_list)\n",
        "  print('Number of outliers in ', each_feature, ': ', len(index_list))\n",
        "  # print('\\n')\n",
        "\n",
        "  dftest.drop(dftest[dftest[each_feature].isin(outliers_list)].index, inplace=True)\n",
        "  #dftest.shape \n"
      ],
      "execution_count": 294,
      "outputs": [
        {
          "output_type": "stream",
          "name": "stdout",
          "text": [
            "Number of outliers in  Location :  0\n",
            "Number of outliers in  Num_Bathrooms :  0\n",
            "Number of outliers in  Num_Beds :  1\n",
            "Number of outliers in  BER_class :  0\n",
            "Number of outliers in  Latitude :  30\n",
            "Number of outliers in  Longitude :  1\n",
            "Number of outliers in  Type :  0\n",
            "Number of outliers in  Surface :  34\n"
          ]
        }
      ]
    },
    {
      "cell_type": "markdown",
      "metadata": {
        "id": "V5zzeTWVWRQQ"
      },
      "source": [
        "New shape of the training data after removing outliers."
      ]
    },
    {
      "cell_type": "code",
      "metadata": {
        "colab": {
          "base_uri": "https://localhost:8080/"
        },
        "id": "TdpiRZYDWRQQ",
        "outputId": "ce762110-dac7-4873-a720-110aadd6e998"
      },
      "source": [
        "dftest.shape"
      ],
      "execution_count": 295,
      "outputs": [
        {
          "output_type": "execute_result",
          "data": {
            "text/plain": [
              "(528, 10)"
            ]
          },
          "metadata": {},
          "execution_count": 295
        }
      ]
    },
    {
      "cell_type": "markdown",
      "metadata": {
        "id": "06PT0fcjqfyA"
      },
      "source": [
        "# **METHOD**"
      ]
    },
    {
      "cell_type": "markdown",
      "metadata": {
        "id": "G5oRiZxo2gpN"
      },
      "source": [
        "# NATURAL LANGUAGE PROCESSING"
      ]
    },
    {
      "cell_type": "markdown",
      "metadata": {
        "id": "e8s0Wi3a8yjN"
      },
      "source": [
        "Natural language processing ([NLP](https://en.wikipedia.org/wiki/Natural_language_processing)) is a subfield of linguistics, computer science, and artificial intelligence.\n",
        "\n",
        "* NLP concerned with the interactions between computers and human language.\n",
        "* In particular how to program computers to process and analyze large amounts of natural language data. \n",
        "* The goal is a computer capable of \"understanding\" the contents of documents.\n",
        "* Including the contextual nuances of the language within them. \n",
        "* The technology can then accurately extract information and insights contained in the documents.\n",
        "* As well as categorize and organize the documents themselves. "
      ]
    },
    {
      "cell_type": "code",
      "metadata": {
        "colab": {
          "base_uri": "https://localhost:8080/"
        },
        "id": "wGf2oQ0dd7Nl",
        "outputId": "c47edbb3-02ed-46c1-c644-27cfcc2e2984"
      },
      "source": [
        "dftrain.shape"
      ],
      "execution_count": 296,
      "outputs": [
        {
          "output_type": "execute_result",
          "data": {
            "text/plain": [
              "(1165, 10)"
            ]
          },
          "metadata": {},
          "execution_count": 296
        }
      ]
    },
    {
      "cell_type": "code",
      "metadata": {
        "colab": {
          "base_uri": "https://localhost:8080/",
          "height": 104
        },
        "id": "zIGdlNdnTu0L",
        "outputId": "326e011a-65b6-4aaf-ba77-082944fa6402"
      },
      "source": [
        "dftrain['Information'][0]"
      ],
      "execution_count": 297,
      "outputs": [
        {
          "output_type": "execute_result",
          "data": {
            "application/vnd.google.colaboratory.intrinsic+json": {
              "type": "string"
            },
            "text/plain": [
              "'DNG are delighted to present to the market no. 5 Chipping Row. This two bedroom apartment comes to the market in excellent condition throughout. Viewers will be sure to see the meticulous care and attention the home owner has for this property. \\n\\r\\nThis well-presented apartment comprises of an open plan living and dining room, kitchen, two spacious double bedrooms the master benefitting from the a large en-suite and an extensively tiled bathroom. This property benefits from own door access, designated car parking and a quiet and private location.\\n\\r\\nChipping Row is well serviced by excellent public transport links to Dublin City centre. Dublin Airport, N3 / M3 and M50 are all within an easy reach. Local primary and secondary schools, Blanchardstown Shopping Centre are all within driving distance. Ongar village and all it has to offer including supermarket, restaurants, shops and pharmacy€TM is only a short walk away.\\n\\r\\nViewing comes highly recommended.\\n\\r\\nFeatures:\\r\\nGround floor two bedroom apartment\\r\\n67 sqm / 721 sqft\\r\\nBuilt c. 2005\\r\\nDouble glazed windows throughout\\r\\nElectric heating\\r\\nOwn door access\\r\\nDesignated and visitor car parking \\r\\nManagement fee €\" approx. €760\\r\\nManagement Company €\" CORE\\n\\n\\r\\nAccommodation\\r\\nLiving/dining room 5.2m x 3.3m\\r\\nLaminate flooring, feature fireplace, large window to the front of the property.\\r\\nKitchen 3.4m x 1\\r\\nLaminate flooring, wall and floor fitted kitchen units, plumbed for washing machine. \\r\\nBedroom 1 5.1m x 2.2m\\r\\nLarge double bedroom, fitted wardrobes, ample storage space, en-suite off.\\r\\nEn-suite 2.5m x 1.6m\\r\\nExtensively tiled, shower, whb, wc.\\r\\nBedroom 2 3.7m x 2.7m\\r\\nLarge double bedroom, fitted wardrobes, ample storage space.\\r\\nBathroom 2.5m x 1.7m\\r\\nExtensively tiled, bath with over-head shower, whb, wc.None'"
            ]
          },
          "metadata": {},
          "execution_count": 297
        }
      ]
    },
    {
      "cell_type": "code",
      "metadata": {
        "id": "4l-T0tgVCapA",
        "colab": {
          "base_uri": "https://localhost:8080/"
        },
        "outputId": "141de3d2-e205-4440-d666-9aa26f82cc46"
      },
      "source": [
        "info_list = dftrain['Information'].tolist()\n",
        "info_list[0:9]"
      ],
      "execution_count": 298,
      "outputs": [
        {
          "output_type": "execute_result",
          "data": {
            "text/plain": [
              "['DNG are delighted to present to the market no. 5 Chipping Row. This two bedroom apartment comes to the market in excellent condition throughout. Viewers will be sure to see the meticulous care and attention the home owner has for this property. \\n\\r\\nThis well-presented apartment comprises of an open plan living and dining room, kitchen, two spacious double bedrooms the master benefitting from the a large en-suite and an extensively tiled bathroom. This property benefits from own door access, designated car parking and a quiet and private location.\\n\\r\\nChipping Row is well serviced by excellent public transport links to Dublin City centre. Dublin Airport, N3 / M3 and M50 are all within an easy reach. Local primary and secondary schools, Blanchardstown Shopping Centre are all within driving distance. Ongar village and all it has to offer including supermarket, restaurants, shops and pharmacy€TM is only a short walk away.\\n\\r\\nViewing comes highly recommended.\\n\\r\\nFeatures:\\r\\nGround floor two bedroom apartment\\r\\n67 sqm / 721 sqft\\r\\nBuilt c. 2005\\r\\nDouble glazed windows throughout\\r\\nElectric heating\\r\\nOwn door access\\r\\nDesignated and visitor car parking \\r\\nManagement fee €\" approx. €760\\r\\nManagement Company €\" CORE\\n\\n\\r\\nAccommodation\\r\\nLiving/dining room 5.2m x 3.3m\\r\\nLaminate flooring, feature fireplace, large window to the front of the property.\\r\\nKitchen 3.4m x 1\\r\\nLaminate flooring, wall and floor fitted kitchen units, plumbed for washing machine. \\r\\nBedroom 1 5.1m x 2.2m\\r\\nLarge double bedroom, fitted wardrobes, ample storage space, en-suite off.\\r\\nEn-suite 2.5m x 1.6m\\r\\nExtensively tiled, shower, whb, wc.\\r\\nBedroom 2 3.7m x 2.7m\\r\\nLarge double bedroom, fitted wardrobes, ample storage space.\\r\\nBathroom 2.5m x 1.7m\\r\\nExtensively tiled, bath with over-head shower, whb, wc.None',\n",
              " \"13 Northbrook Terrace is a charming red brick period home set in a secluded location within walking distance of Dublin's City Centre. Behind the red brick façade the light filled accommodation offers a contemporary feel while maintaining charming original features such as high ceilings, ceiling coving, beautiful cast iron fireplaces and antique style radiators. The welcoming entrance hallway is finished with beautiful American Oak flooring, a fan light above the door floods this space with natural light, this leads through to two spacious interconnecting reception rooms, from here the garden is accessed through French doors. The kitchen is located at the end of the hallway this space is fitted with modern high gloss wall and floor units there is plumbing for a dishwasher and washing machine. Ample dining space creates an ideal place to relax. A feature floor to ceiling window floods this space with natural light. French doors lead to the garden. Upstairs there are two generous double bedrooms both with feature fireplaces, sash windows and American Oak flooring. The bathroom on the return with feature roll top bath completes the accommodation on this level. The further appeal of this charming home is the converted attic space, flooded with natural light with the aid of sky lights, it offers an ideal space for a wide variety of uses. \\n\\n\\rOutside the secluded south facing rear garden is low maintenance, its laid in gravel and features a raised patio area making this sun trap an ideal space to dine alfresco. The ideal location ensures this charming home is walking distance to Connolly Station for Dart &amp; Luas with the Cross-City Luas stop at Marlborough Street, IFSC and the Dublin Dockland's also accessible on foot. There are numerous shops, restaurants and schools in the immediate locality. The Mater hospital, O'Connell Street and city colleges are all easily accessible on foot. All in all, this is an ideal city base, sound investment or charming home for potential buyers and is sure to have broad appeal.Bight and Spacious interior\\nNumerous original features to include\\nCast Iron Fireplaces, High Ceilings and Ceiling Coving\\nSash Windows\\nGas Fired Central Heating\\nSouth facing low maintained rear garden with raised patio\\nTotal floor area approx. 96 sq.m (1,033sqft) excluding the attic room of approx. 22sqm (236sq ft)\\nIdeally located within walking distance of Dublin City Centre and The IFSC\\n\",\n",
              " \"Welcome to No. 6 Cotter Close, an immaculately presented three bedroom semi-detached home positioned in a family friendly cul de sac of just 7 other homes (8 total) in this highly desirable area in Stepaside. The property has all the ingredients that young families could wish for with a newly constructed children s playground and green area less than 200 metres from the house. The house also boasts generous off street parking for up to 3 cars to the side.\\r\\nInternally the property is well laid out, the hallway has a generous guest w.c. and storage space under the stairs, the kitchen/breakfast area to the front of the house complete with smart high gloss units and Bosch built in appliances with utility off. The living and dining room is to the rear of the property which spans the width of the house and laid with semi-solid oak flooring then a door leading out to the rear garden. There are also custom fitted plantation shutters throughout the property which add greatly to the luxurious feel to this home.\\n\\r\\nUpstairs there are three bedrooms, two double bedrooms and a spacious single room, all of which have carpet flooring and the principal bedroom is also en-suite. A family bathroom completes the accommodation on this level. \\r\\nFurther to this, the attic is partially floored with lighting and pull down stair access which makes ideal for ample storage or conversion subject to planning permission. \\n\\r\\nThe wonderful village of Stepaside is within walking distance with a selection of shops, eateries and the popular Step Inn pub and restaurant. Fernhill Gardens is a fantastic attraction to the area offering acres upon acres to enjoy with walks, nature and enjoyment for the family located within a ten-minute walk. Primary and secondary schools are well catered for locally with Educate Together, Our Lady of the Wayside, St Patricks, Gaelscoil Sliabh Rua as well as Rosemont and Educate Together Secondary school. Transport options are plentiful with a choice of bus routes, easy access to the M50 and the Luas stops Glencairn and The Gallops are both less than a 10 minute walk away. Carrickmines &amp; Dundrum shopping area are all within close proximity as well as Marley Park with its many attractions for all the family. Sporting enthusiasts have plenty of options with a selection of Golf courses close by to include, Stepaside, Dun Laoghaire and Leopardstown as well as Westwood Fitness Centre close by in Leopardstown.\\n\\n\\r\\nEntrance Hall New composite door allowing plenty of natural light, alarm panel, porcelain tiles, storage, ceiling coving.\\n\\r\\nLiving Room 5.55m x 3.99m. Solid wooden flooring, centre feature lighting, ceiling coving, shutter, electric fireplace, tv point, access to garden.\\n\\r\\nKitchen 3.97m x 3.42m. Eye and floor level units, recessed lighting, tiled splash back, porcelain tiles, extractor fan, stainless steel sink with drainer, integrated oven, tv point, breakfast bar, feature light, integrated dishwasher, ceiling coving.\\n\\r\\nUtility Room 1.47m x 1.81m. Plumbed for washer, built in storage, porcelain tiles, recessed lighting\\n\\r\\nGuest WC 1.55m x 1.50m. Porcelain tiles, ceiling coving, recessed lighting, whb, wc, extractor fan.\\n\\r\\nLanding Ceiling coving, Attic access via stira, hot press.\\n\\r\\nMain Bedroom 3.70m x 3.68m. Ceiling coving, Double bedroom, built in wardrobes, shutters.\\n\\r\\nEn-Suite 0.98m x 2.75m. Tiled floor, tiled wall, window, whb, wc, extractor fan, step in shower.\\n\\r\\nBedroom 2 3.68m x 2.84m. Double, built in wardrobes, thermostat, tv point, shutters.\\n\\r\\nBedroom 3 2.66m x 2.73m. Large single, built in wardrobes, shutters.\\n\\r\\nMain Bathroom 2.38m x 1.98m. Fully tiled, bath with separate shower attachment, whb, shutters, extractor fan, wc, built in storageSpecial Features\\nLarge rear garden\\nGenerous off street parking for up to 3 cars\\nQuiet cul de sac, no through traffic\\nNew children's playground within 100m of the house\\nHigh quality custom fitted plantation shutters throughout\\nGreat family location\\nAmple off street car parking\\nHighly efficient house, very low bills. No Gas, only electricity.\\nA3 BER rating\\n\",\n",
              " \"Welcome to 3 Sycamore Walk!\\n\\r\\nEnjoying a premier address in a small and peaceful cul de sac is where you will find hidden this wonderful three bed detached bungalow. This home has been lovingly maintained by its current owners and is set in an exceptionally charming garden.\\n\\r\\nWalking into this lovely home you will be immediately struck by a lovely sense of space and light with the sun streaming through the house from early morning right through the day. Accommodation extends to approx 81 sq.m / 872 sq.ft. and comprises a front facing bedroom along with a large front facing living / dining room with the  kitchen overlooking the sunny rear garden. There are a further two double bedrooms and the family bathroom completes the picture. There is also potential to convert the attic (subject to planning permission). The gardens, both front and rear are mature and well stocked. There is also the benefit of two side entrances to the rear garden and private parking to the front.  \\n\\r\\nThe location of this home is second to none. Cabinteely Village is within walking distance, while Cabinteely Park with its state of the art children's playground and nature walks is just minutes from this house. Local schools include St Brigid's Boys and Girls National School, Hollypark and Loreto Foxrock. Dunnes Stores Cornelscourt completes the picture by offering grocery shopping on your doorstep. The N11 and its quality bus corridor is minutes away as is the M50 and the LUAS at Carrickmines.\\n\\r\\nEarly viewing is recommended to appreciate what this wonderful home has to offer.Wonderful 3 bed detached bungalow.     \\nAccommodation extends to approx. 81 sq.m. / 872 sq.ft\\nEnjoying a premier address \\nSunny Gardens to front and rear light filled house. \\nTwo side entrance to rear garden\\nPrivate Parking to the front\\nCul de sac location\\nOFCH Fully functioning alarm\\nPotential to convert attic (sub to PP.) Potential to extend to the rear (sub to PP.)\\n  Walking distance of Bus &amp; shops at Cornelscourt Easy access to leading schools and colleges Adjacent to the QBC &amp; N11\\n\",\n",
              " 'Property Team Lappin Estates take great pleasure in presenting to the market this mature 3 bedroom mid terraced family home with a floored attic conversion.  It is ideally located off Griffith Avenue extension, with a wide variety of amenities on its€TMdoorstep to include, schools, shops, restaurants, DCU, The Bons Secours Hospital, Botanic Gardens and many more.  \\r\\nThis house has been well maintained and extended by its€TMcurrent owners, but would benefit from some further modernisation.  \\r\\nThe accommodation briefly comprises, entrance porch, entrance hall, living room, dining room, kitchen, landing, 3 bedrooms, a bathroom, separate w.c. and a floored attic room. There is a driveway to the front and large rear garden.  Viewing is very highly recommended!\\n\\r\\nAccommodation\\r\\nEntrance Porch\\t\\tWith tiled floor.  \\r\\nEntrance Hall\\t5.00m x 1.85m\\tWooden floor, dado rail and under stairs storage.  \\r\\nLiving room\\t4.80m x 3.90m\\tHigh ceiling with coving, feature open fireplace, picture rail and double sliding doors leading to   \\r\\nDining Room\\t5.00m x 3.20m\\tMarble fireplace with gas fire insert, high ceiling with coving and picture rail \\r\\nKitchen\\t3.90m x 2.60m\\tFitted units and stainless steel sink.  Door to rear garden.\\r\\nUpstairs landing\\t5.40m x 2.40m\\tDado rail and hotpress.\\r\\nBedroom 1)\\t4.80m x 3.30m \\tLarge double room with tiled fireplace.  \\r\\nBedroom 2)\\t5.00m x 3.30m\\tLarge double room with tiled fireplace.  \\r\\nBedroom 3)\\t2.40m x 2.50m\\tSingle bedroom to the front.\\n\\r\\nBathroom\\t\\tBath and sink\\r\\nSeparate W.C.\\t\\tW.C.\\r\\nFloored Attic Room 4m x 3.9m\\n\\r\\nOutside\\t\\tDrive in to the front.  Large rear garden with raised bedding, patio with pond and lawn.  Purpose built shed.\\n\\r\\nSpecial Features\\n\\r\\nFloored attic room\\r\\nG.F.C.H.\\r\\nMix of double glazed uPVC and aluminium windows\\r\\nSecluded rear garden\\r\\nMany original features\\r\\nBER \\t\\r\\nHigh ceilings\\r\\nDriveway\\r\\nWell serviced by local transport links\\r\\nSchools, shops and businesses on the doorstepNone',\n",
              " '6 Marlborough Court is a bright and spacious two-bedroom first floor apartment set in a low-density development on a quiet residential road off the North Circular Road. Marlborough Road is a tranquil residential road, enjoying a cul de sac setting, lined with attractive Victorian redbrick properties. This large apartment has been well maintained throughout the years yet offers an ideal canvas for an astute purchaser to create their ideal home. Internally the accommodation comprises; a large reception hall off which all other rooms radiate. There is a spacious living room with feature fireplace, separate kitchen/ breakfast room, two double bedrooms and a bathroom with separate WC. Outside the development has mature communal grounds and the property benefits from one designated car park space. This apartment would ideally suit both owner occupier and investors alike and offers an ideal opportunity to acquire a quality apartment in a small residential development. \\n\\rMarlborough Court is a most convenient location, within walking distance of the Phoenix Park, Grangegorman DIT Campus, Smithfield and Dublin city centre and well served by local amenities, sporting facilities, transport networks, schools and shopping. The Red Line LUAS is a 10 minute walk away in Smithfield. The 46 A bus route (under 1 minute from apartment - bus to city centre frequency at peak times is every 7 minutes) The property is well positioned for ease off access to all of the major motorways and is a twenty five minute drive from Dublin International Airport.First floor purpose built apartment\\nCul de sac setting\\nOne designated car space\\nCommunal garden\\nTwo double bedrooms\\nSeparate kitchen\\nQuiet residential road\\nElectric storage heating\\nTotal floor area approx. 71 sq.m (764 sqft)\\n',\n",
              " \"DNG are delighted to present this  traditional granite stone extended three bedroom cottage with garage and ample drive. This residence enjoys all the charm of an early 1900's build with the benefit of recent work such as re - roofing and new facia soffits. This family home offers huge scope for further development (subject to relevant planning permission). \\n\\r\\nThe accommodation comprises of kitchen/dining room, living room, three bedrooms and family bathroom.  Approached by paved drive and a double door garage.  The rear garden is complete with patio slabs, wall surround, block built lean to shed plumbed for washing machine and additional coal shed.\\n\\r\\nLocated on Harold's Grange Road, close to neighbourhood shops, Taylors Three Rock, Marlay and St. Enda's Parks. Shopping centres within the area include Dundrum Town Centre, Rathfarnham, Nutgrove and Ballinteer. The area is particularly renowned for its close proximity to a wide choice of schools both primary and secondary including Loreto Beaufort primary and secondary schools; Sancta Maria girls and St. Enda's boys secondary schools in Ballyroan, St. Mary's National School, St. Columba's College, Wesley College and Terenure College. Excellent public transport links with luas Dundrum/Balally only a short drive. The 16 and 16a bus routes are located close by giving access to the city centre. Dublin airport and the rest of the country are easily accessed via the M50.\\n\\r\\nAccommodation:\\n\\r\\nKitchen: 3.28m x 2.81m\\r\\nFully fitted kitchen, downlights, splash back tile finish, rear door access to garden.\\n\\r\\nKitchen Dining Room: 3.47m x 3.25m\\r\\nAmple dining area, double door access to living room.\\n\\r\\nLiving Room: 4.37m x 4.67m\\r\\nNatural fire place with cast iron and mahogany surround, carpet finish, double doors to kitchen.\\n\\r\\nBathroom: 2.95m x 1.65m\\r\\nFully tiled bathroom, electric shower\\n\\r\\nMaster Bedroom: 3.05m x 3.09m\\r\\nCarpet finish, fitted wardrobes and vanity unit.\\n\\r\\nBedroom 2: 3.28m x 3.07m\\r\\nCarpet finish, fitted wardrobes and book shelve.\\n\\r\\nBedroom 3: 2.43m x 4.39m\\r\\nCarpet finish\\n\\r\\nCloakroom:\\r\\nAdditional storage\\n\\r\\nGarage: 3.1m x 5.5m\\r\\nBlock built garage, wired, additional shelving.\\n\\r\\nLean To:\\r\\nWired and plumbedExtended cottage\\nPotential to extend\\nDouble door garage\\nAmple drive\\nRecently re-roofed\\nNew facia soffits\\nAlarmed\\nExcellent public transport with Luas and regular Dublin Bus routes.\\nOil Central Heating\\n\",\n",
              " 'DNG Fairview are delighted to bring to the market this wonderful two bedroom semi-detached house situated on Killester Avenue, Dublin 5. The property offers generously proportioned accommodation with original fireplaces still intact. The property will appeal greatly to first time buyers and the astute investor.  While in need of some modernisation it offers the opportunity to create a wonderful home in a most convenient location.  \\n\\r\\nGround floor comprises; Front porch, entrance hall, living room, breakfast room and  kitchen.  Upstairs there are two double bedrooms and a bathroom. Conveniently located on Killester Avenue and located close to all local amenities including shops, schools and parks and a mere 5 minute walk to Killester Dart station. \\n\\r\\nViewing is highly recommended.TWO BEDROOM SEMI-DETACHED HOME\\nLARGE CORNER SITE\\nONLY A 5 MINUTE WALK TO DART STATION\\nBESIDE KILLESTER VILLAGE\\nSOUTH FACING REAR GARDEN WITH SIDE ENTRANCE\\nORIGINAL FIREPLACES STILL INTACT\\nDOUBLE GLAZED WINDOWS\\nELECTRIC STORAGE HEATING\\n',\n",
              " 'Karen Mulvaney is delighted to present No. 30 The Wintergarden to the market. A magnificently unique apartment development in the heart of Dublin City Centre. The apartments are around a really tranquil internal atrium creating a very relaxing ambience whatever the weather.\\n\\nThe development is in this much sought after and convenient location on Pearse Street beside the Maldron Hotel and is within walking distance from Pearse Street DART station, Grafton Street, Trinity College, Grand Canal Dock, IFSC and College Green. \\n\\nThrough the high ceiling hall and atrium you walk into the building on the left, up a few steps to an impressive hall door. The first thing that comes to mind when entering the charming apartment is the space. The hallway is a large square space with walk in storage cupboard off it. There are two very large and bright double bedrooms, a main bathroom, another WC, separate kitchen, spacious living/dining room with balcony and steps out into another communal open garden, shared between only 8 apartments. \\n\\nWhile living in the heart of the City Centre this wonderful development feels like you are immersed in nature.\\nThe apartment also comes with one designated underground parking space. This is an excellent opportunity to purchase a fantastic city centre apartment in a very stylish building.\\n\\nViewing is highly recommended.\\n\\nThe accommodation is well proportioned, generous throughout and comprises of;\\nEntrance Hall - 1.19m x 5.92m Carpeted spacious hall with storage.\\n\\nBedroom 1 - 4.54m x 3.01m Original wooden flooring, large bright windows and built in wardrobes.\\n\\nBedroom 2 - 4.54m x 2.81m Original wooden flooring, large bright windows and built in wardrobes.\\n\\nBathroom 1.89m x 2.27m. Floor to ceiling tiling, w.h.b., w.c. and bath/shower.\\nWC - w.h.b. and w.c.\\n\\nKitchen - 1.89m x 3.38m Laminate flooring, plentiful storage wall and floor units, tiled splash back.\\n\\nLiving/Dining Room 5.84m x 3.38m. With laminate wood flooring and access to communal courtyard.\\n\\n\\nDIRECTIONS:\\nLocated on Pearse Street beside The Maldron Hotel.\\nAccommodation\\nNotice\\nPlease note we have not tested any apparatus, fixtures, fittings, or services. Interested parties must undertake their own investigation into the working order of these items. All measurements are approximate and photographs provided for guidance only.\\n\\n Property Reference :KMUL3449Unique &amp; Tranquil Apartment Development\\nInternal Atrium\\nIn Heart of City Centre\\nSecure Underground Car Parking\\nShort Stroll to DART\\nBeside Trinity College Grand Canal Dock IFSC\\nHigh Ceilings\\nSpacious Apartment\\n']"
            ]
          },
          "metadata": {},
          "execution_count": 298
        }
      ]
    },
    {
      "cell_type": "code",
      "metadata": {
        "id": "KkUeZYWaueOr"
      },
      "source": [
        "new_df = pd.DataFrame({'message':info_list})"
      ],
      "execution_count": 299,
      "outputs": []
    },
    {
      "cell_type": "code",
      "metadata": {
        "id": "sggwZPt_i3b2"
      },
      "source": [
        "# removing everything except alphabets\n",
        "new_df['clean_message'] = new_df['message'].str.replace(\"[^a-zA-Z#]\", \" \")"
      ],
      "execution_count": 300,
      "outputs": []
    },
    {
      "cell_type": "code",
      "metadata": {
        "id": "dtuh5Ovki9Yn"
      },
      "source": [
        "# removing short words\n",
        "short_word = 4\n",
        "new_df['clean_message'] = new_df['clean_message'].apply(lambda x: ' '.join([w for w in x.split() if len(w)>short_word]))"
      ],
      "execution_count": 301,
      "outputs": []
    },
    {
      "cell_type": "code",
      "metadata": {
        "id": "KVr7QerkjMlG"
      },
      "source": [
        "# make all text lowercase\n",
        "new_df['clean_message'] = new_df['clean_message'].apply(lambda x: x.lower())"
      ],
      "execution_count": 302,
      "outputs": []
    },
    {
      "cell_type": "code",
      "metadata": {
        "id": "gG9-cDMWkUyD",
        "colab": {
          "base_uri": "https://localhost:8080/"
        },
        "outputId": "678a0390-6a0d-47ee-8bac-682ad76f90a7"
      },
      "source": [
        "import nltk\n",
        "from nltk.corpus import stopwords\n",
        "nltk.download('stopwords')\n",
        "\n",
        "swords = stopwords.words('english')"
      ],
      "execution_count": 303,
      "outputs": [
        {
          "output_type": "stream",
          "name": "stdout",
          "text": [
            "[nltk_data] Downloading package stopwords to /root/nltk_data...\n",
            "[nltk_data]   Package stopwords is already up-to-date!\n"
          ]
        }
      ]
    },
    {
      "cell_type": "code",
      "metadata": {
        "id": "VqVT2y19kWai"
      },
      "source": [
        "# tokenization\n",
        "tokenized_doc = new_df['clean_message'].apply(lambda x: x.split())"
      ],
      "execution_count": 304,
      "outputs": []
    },
    {
      "cell_type": "code",
      "metadata": {
        "id": "PWI_7-IxkX0L"
      },
      "source": [
        "# remove stop-words\n",
        "tokenized_doc = tokenized_doc.apply(lambda x: [item for item in x if item not in swords])"
      ],
      "execution_count": 305,
      "outputs": []
    },
    {
      "cell_type": "code",
      "metadata": {
        "id": "pHSU4-bCkZow"
      },
      "source": [
        "# de-tokenization\n",
        "detokenized_doc = []\n",
        "for i in range(len(new_df)):\n",
        "    t = ' '.join(tokenized_doc[i])\n",
        "    detokenized_doc.append(t)"
      ],
      "execution_count": 306,
      "outputs": []
    },
    {
      "cell_type": "code",
      "metadata": {
        "id": "1EiLYybxkbNf"
      },
      "source": [
        "new_df['clean_message'] = detokenized_doc"
      ],
      "execution_count": 307,
      "outputs": []
    },
    {
      "cell_type": "code",
      "metadata": {
        "colab": {
          "base_uri": "https://localhost:8080/",
          "height": 206
        },
        "id": "8B-xuYTVHvbG",
        "outputId": "084f0a83-2397-4720-aca1-56149630afa0"
      },
      "source": [
        "new_df.head()"
      ],
      "execution_count": 308,
      "outputs": [
        {
          "output_type": "execute_result",
          "data": {
            "text/html": [
              "<div>\n",
              "<style scoped>\n",
              "    .dataframe tbody tr th:only-of-type {\n",
              "        vertical-align: middle;\n",
              "    }\n",
              "\n",
              "    .dataframe tbody tr th {\n",
              "        vertical-align: top;\n",
              "    }\n",
              "\n",
              "    .dataframe thead th {\n",
              "        text-align: right;\n",
              "    }\n",
              "</style>\n",
              "<table border=\"1\" class=\"dataframe\">\n",
              "  <thead>\n",
              "    <tr style=\"text-align: right;\">\n",
              "      <th></th>\n",
              "      <th>message</th>\n",
              "      <th>clean_message</th>\n",
              "    </tr>\n",
              "  </thead>\n",
              "  <tbody>\n",
              "    <tr>\n",
              "      <th>0</th>\n",
              "      <td>DNG are delighted to present to the market no....</td>\n",
              "      <td>delighted present market chipping bedroom apar...</td>\n",
              "    </tr>\n",
              "    <tr>\n",
              "      <th>1</th>\n",
              "      <td>13 Northbrook Terrace is a charming red brick ...</td>\n",
              "      <td>northbrook terrace charming brick period seclu...</td>\n",
              "    </tr>\n",
              "    <tr>\n",
              "      <th>2</th>\n",
              "      <td>Welcome to No. 6 Cotter Close, an immaculately...</td>\n",
              "      <td>welcome cotter close immaculately presented th...</td>\n",
              "    </tr>\n",
              "    <tr>\n",
              "      <th>3</th>\n",
              "      <td>Welcome to 3 Sycamore Walk!\\n\\r\\nEnjoying a pr...</td>\n",
              "      <td>welcome sycamore enjoying premier address smal...</td>\n",
              "    </tr>\n",
              "    <tr>\n",
              "      <th>4</th>\n",
              "      <td>Property Team Lappin Estates take great pleasu...</td>\n",
              "      <td>property lappin estates great pleasure present...</td>\n",
              "    </tr>\n",
              "  </tbody>\n",
              "</table>\n",
              "</div>"
            ],
            "text/plain": [
              "                                             message                                      clean_message\n",
              "0  DNG are delighted to present to the market no....  delighted present market chipping bedroom apar...\n",
              "1  13 Northbrook Terrace is a charming red brick ...  northbrook terrace charming brick period seclu...\n",
              "2  Welcome to No. 6 Cotter Close, an immaculately...  welcome cotter close immaculately presented th...\n",
              "3  Welcome to 3 Sycamore Walk!\\n\\r\\nEnjoying a pr...  welcome sycamore enjoying premier address smal...\n",
              "4  Property Team Lappin Estates take great pleasu...  property lappin estates great pleasure present..."
            ]
          },
          "metadata": {},
          "execution_count": 308
        }
      ]
    },
    {
      "cell_type": "markdown",
      "metadata": {
        "id": "Bvov0OYykd74"
      },
      "source": [
        "**[TfidfVectorizer](https://scikit-learn.org/stable/modules/generated/sklearn.feature_extraction.text.TfidfVectorizer.html)**\n",
        "\n",
        "Convert a collection of raw documents to a matrix of TF-IDF features."
      ]
    },
    {
      "cell_type": "code",
      "metadata": {
        "id": "YMy3AyZpkmTq",
        "colab": {
          "base_uri": "https://localhost:8080/"
        },
        "outputId": "9d6098f4-e093-46b8-b391-f1de37dc05fb"
      },
      "source": [
        "from sklearn.feature_extraction.text import TfidfVectorizer\n",
        "\n",
        "vectorizer = TfidfVectorizer(stop_words='english', max_features= 10, max_df=0.5, smooth_idf=True)\n",
        "\n",
        "# vectorizer = TfidfVectorizer(stop_words='english', max_features= 300, max_df=0.5, smooth_idf=True)\n",
        "\n",
        "print(vectorizer)"
      ],
      "execution_count": 309,
      "outputs": [
        {
          "output_type": "stream",
          "name": "stdout",
          "text": [
            "TfidfVectorizer(analyzer='word', binary=False, decode_error='strict',\n",
            "                dtype=<class 'numpy.float64'>, encoding='utf-8',\n",
            "                input='content', lowercase=True, max_df=0.5, max_features=10,\n",
            "                min_df=1, ngram_range=(1, 1), norm='l2', preprocessor=None,\n",
            "                smooth_idf=True, stop_words='english', strip_accents=None,\n",
            "                sublinear_tf=False, token_pattern='(?u)\\\\b\\\\w\\\\w+\\\\b',\n",
            "                tokenizer=None, use_idf=True, vocabulary=None)\n"
          ]
        }
      ]
    },
    {
      "cell_type": "code",
      "metadata": {
        "colab": {
          "base_uri": "https://localhost:8080/"
        },
        "id": "lsskyTBolioX",
        "outputId": "8d9e0294-9386-4dbb-e5df-69540b8701df"
      },
      "source": [
        "X_nlp_sparse = vectorizer.fit_transform(new_df['clean_message'])\n",
        "X_nlp_sparse.shape"
      ],
      "execution_count": 310,
      "outputs": [
        {
          "output_type": "execute_result",
          "data": {
            "text/plain": [
              "(1165, 10)"
            ]
          },
          "metadata": {},
          "execution_count": 310
        }
      ]
    },
    {
      "cell_type": "code",
      "metadata": {
        "colab": {
          "base_uri": "https://localhost:8080/"
        },
        "id": "iXLBYpvVhlkE",
        "outputId": "b776671b-fb23-4997-f509-b628073238f8"
      },
      "source": [
        "type(X_nlp_sparse)"
      ],
      "execution_count": 311,
      "outputs": [
        {
          "output_type": "execute_result",
          "data": {
            "text/plain": [
              "scipy.sparse.csr.csr_matrix"
            ]
          },
          "metadata": {},
          "execution_count": 311
        }
      ]
    },
    {
      "cell_type": "code",
      "metadata": {
        "colab": {
          "base_uri": "https://localhost:8080/"
        },
        "id": "hE7TvA-yfbbw",
        "outputId": "dc8918e7-7530-4958-c333-9eb9eb450e42"
      },
      "source": [
        "nlp_train_vocab = vectorizer.vocabulary_\n",
        "\n",
        "nlp_train_vocab"
      ],
      "execution_count": 312,
      "outputs": [
        {
          "output_type": "execute_result",
          "data": {
            "text/plain": [
              "{'apartment': 0,\n",
              " 'bright': 1,\n",
              " 'development': 2,\n",
              " 'doors': 3,\n",
              " 'facing': 4,\n",
              " 'flooring': 5,\n",
              " 'fully': 6,\n",
              " 'space': 7,\n",
              " 'street': 8,\n",
              " 'window': 9}"
            ]
          },
          "metadata": {},
          "execution_count": 312
        }
      ]
    },
    {
      "cell_type": "code",
      "metadata": {
        "colab": {
          "base_uri": "https://localhost:8080/"
        },
        "id": "CsoGk8BTRGRQ",
        "outputId": "71970499-bebb-49b2-b27c-4a8b4492ca87"
      },
      "source": [
        "y_nlp = dftrain['Price']\n",
        "y_nlp.shape"
      ],
      "execution_count": 313,
      "outputs": [
        {
          "output_type": "execute_result",
          "data": {
            "text/plain": [
              "(1165,)"
            ]
          },
          "metadata": {},
          "execution_count": 313
        }
      ]
    },
    {
      "cell_type": "code",
      "metadata": {
        "colab": {
          "base_uri": "https://localhost:8080/"
        },
        "id": "jjDpk-aNDdIx",
        "outputId": "fcd592ed-562b-40b2-d67e-d8dfb7c3fbc2"
      },
      "source": [
        "type(X_nlp_sparse)\n",
        "\n",
        "# plt.scatter(X[0], X[1], 'ro')\n",
        "# plt.show()"
      ],
      "execution_count": 314,
      "outputs": [
        {
          "output_type": "execute_result",
          "data": {
            "text/plain": [
              "scipy.sparse.csr.csr_matrix"
            ]
          },
          "metadata": {},
          "execution_count": 314
        }
      ]
    },
    {
      "cell_type": "code",
      "metadata": {
        "colab": {
          "base_uri": "https://localhost:8080/"
        },
        "id": "7TBRAJ7-hUD8",
        "outputId": "c6078f87-1205-4574-d44d-6c99434ad0f7"
      },
      "source": [
        "###### my code\n",
        "\n",
        "X_nlp = X_nlp_sparse.todense()\n",
        "\n",
        "type(X_nlp)"
      ],
      "execution_count": 315,
      "outputs": [
        {
          "output_type": "execute_result",
          "data": {
            "text/plain": [
              "numpy.matrix"
            ]
          },
          "metadata": {},
          "execution_count": 315
        }
      ]
    },
    {
      "cell_type": "code",
      "metadata": {
        "id": "6Pbab-jNSHA0"
      },
      "source": [
        "# from sklearn.model_selection import train_test_split\n",
        "# X_train, X_val, y_train, y_val = train_test_split(X_bal, y_bal, test_size = 0.20, random_state = 0)\n",
        "\n",
        "\n",
        "from sklearn.model_selection import train_test_split\n",
        "X_nlp_train, X_nlp_val, y_nlp_train, y_nlp_val = train_test_split(X_nlp, y_nlp, test_size = 0.20, random_state = 0)\n"
      ],
      "execution_count": 316,
      "outputs": []
    },
    {
      "cell_type": "code",
      "metadata": {
        "id": "4FZYDVfWeV3W"
      },
      "source": [
        "from sklearn.neural_network import MLPRegressor\n",
        "\n",
        "regr = MLPRegressor(hidden_layer_sizes=(25, 25, 25),random_state=1, max_iter=500).fit(X_nlp_train, y_nlp_train)\n",
        "\n",
        "y_nlp_val_pred = regr.predict(X_nlp_val)"
      ],
      "execution_count": 317,
      "outputs": []
    },
    {
      "cell_type": "markdown",
      "metadata": {
        "id": "FvmPUCMVd3kd"
      },
      "source": [
        "https://scikit-learn.org/stable/modules/generated/sklearn.metrics.mean_squared_log_error.html"
      ]
    },
    {
      "cell_type": "code",
      "metadata": {
        "colab": {
          "base_uri": "https://localhost:8080/"
        },
        "id": "Dqwy_AE-dyo4",
        "outputId": "27fc1257-ef81-4ff5-9116-698a7729c295"
      },
      "source": [
        "from sklearn.metrics import mean_squared_log_error\n",
        "\n",
        "# squaredbool, default=True \n",
        "# If True returns MSLE (mean squared log error) value. \n",
        "# If False returns RMSLE (root mean squared log error) value.\n",
        "\n",
        "# mean_squared_log_error(y_true, y_pred)\n",
        "\n",
        "#####RMSLE_NLP = mean_squared_log_error(y_nlp_val, y_nlp_val_pred, squared=False) #????????????????\n",
        "\n",
        "RMSLE_NLP = mean_squared_log_error(y_nlp_val, y_nlp_val_pred)\n",
        "RMSLE_NLP\n",
        "#0.14\n",
        "\n",
        "np.sqrt(mean_squared_log_error( y_nlp_val, y_nlp_val_pred ))\n"
      ],
      "execution_count": 318,
      "outputs": [
        {
          "output_type": "execute_result",
          "data": {
            "text/plain": [
              "0.3829047277609516"
            ]
          },
          "metadata": {},
          "execution_count": 318
        }
      ]
    },
    {
      "cell_type": "code",
      "metadata": {
        "colab": {
          "base_uri": "https://localhost:8080/"
        },
        "id": "FuFhh481mrxb",
        "outputId": "529f823c-2526-4d13-e2a0-b5fee1cb09ba"
      },
      "source": [
        "######### my code\n",
        "\n",
        "y_nlp_val.shape\n",
        "\n",
        "y_nlp_val_pred.shape\n",
        "\n",
        "type(y_nlp_val)\n",
        "\n",
        "y_nlp_val_numpy_array = y_nlp_val.to_numpy()\n",
        "\n",
        "# type(y_nlp_val_pred)\n",
        "\n",
        "np.sqrt(mean_squared_log_error( y_nlp_val_numpy_array, y_nlp_val_pred ))"
      ],
      "execution_count": 319,
      "outputs": [
        {
          "output_type": "execute_result",
          "data": {
            "text/plain": [
              "0.3829047277609516"
            ]
          },
          "metadata": {},
          "execution_count": 319
        }
      ]
    },
    {
      "cell_type": "code",
      "metadata": {
        "id": "TWGbfibznhcx"
      },
      "source": [
        "# y_nlp_val_numpy_array\n",
        "# y_nlp_val_pred"
      ],
      "execution_count": 320,
      "outputs": []
    },
    {
      "cell_type": "markdown",
      "metadata": {
        "id": "UcJ2dGwsDI37"
      },
      "source": [
        "### Test set usage"
      ]
    },
    {
      "cell_type": "code",
      "metadata": {
        "colab": {
          "base_uri": "https://localhost:8080/"
        },
        "id": "74HN6-tWfllC",
        "outputId": "ffede516-5b99-4837-dc87-dec0cbd94fa4"
      },
      "source": [
        "dftest.shape"
      ],
      "execution_count": 321,
      "outputs": [
        {
          "output_type": "execute_result",
          "data": {
            "text/plain": [
              "(528, 10)"
            ]
          },
          "metadata": {},
          "execution_count": 321
        }
      ]
    },
    {
      "cell_type": "code",
      "metadata": {
        "colab": {
          "base_uri": "https://localhost:8080/",
          "height": 423
        },
        "id": "QU3v6ZjifqKM",
        "outputId": "9f568c9b-e286-48c1-e10a-2a5426c68ba3"
      },
      "source": [
        "dftest"
      ],
      "execution_count": 322,
      "outputs": [
        {
          "output_type": "execute_result",
          "data": {
            "text/html": [
              "<div>\n",
              "<style scoped>\n",
              "    .dataframe tbody tr th:only-of-type {\n",
              "        vertical-align: middle;\n",
              "    }\n",
              "\n",
              "    .dataframe tbody tr th {\n",
              "        vertical-align: top;\n",
              "    }\n",
              "\n",
              "    .dataframe thead th {\n",
              "        text-align: right;\n",
              "    }\n",
              "</style>\n",
              "<table border=\"1\" class=\"dataframe\">\n",
              "  <thead>\n",
              "    <tr style=\"text-align: right;\">\n",
              "      <th></th>\n",
              "      <th>Index</th>\n",
              "      <th>Location</th>\n",
              "      <th>Num_Bathrooms</th>\n",
              "      <th>Num_Beds</th>\n",
              "      <th>BER_class</th>\n",
              "      <th>Latitude</th>\n",
              "      <th>Longitude</th>\n",
              "      <th>Type</th>\n",
              "      <th>Surface</th>\n",
              "      <th>Information</th>\n",
              "    </tr>\n",
              "  </thead>\n",
              "  <tbody>\n",
              "    <tr>\n",
              "      <th>0</th>\n",
              "      <td>1639</td>\n",
              "      <td>77</td>\n",
              "      <td>2</td>\n",
              "      <td>2</td>\n",
              "      <td>7</td>\n",
              "      <td>53.316269</td>\n",
              "      <td>-6.243391</td>\n",
              "      <td>9</td>\n",
              "      <td>65.00</td>\n",
              "      <td>OMD Estate Agents are delighted to present thi...</td>\n",
              "    </tr>\n",
              "    <tr>\n",
              "      <th>1</th>\n",
              "      <td>1640</td>\n",
              "      <td>54</td>\n",
              "      <td>2</td>\n",
              "      <td>5</td>\n",
              "      <td>11</td>\n",
              "      <td>53.390769</td>\n",
              "      <td>-6.281936</td>\n",
              "      <td>6</td>\n",
              "      <td>142.00</td>\n",
              "      <td>Welcome to Saint Anthony No.214 Glasnevin Aven...</td>\n",
              "    </tr>\n",
              "    <tr>\n",
              "      <th>2</th>\n",
              "      <td>1641</td>\n",
              "      <td>36</td>\n",
              "      <td>1</td>\n",
              "      <td>2</td>\n",
              "      <td>14</td>\n",
              "      <td>53.272486</td>\n",
              "      <td>-6.108675</td>\n",
              "      <td>3</td>\n",
              "      <td>80.00</td>\n",
              "      <td>Located in this ever popular road, on grounds ...</td>\n",
              "    </tr>\n",
              "    <tr>\n",
              "      <th>3</th>\n",
              "      <td>1642</td>\n",
              "      <td>92</td>\n",
              "      <td>4</td>\n",
              "      <td>4</td>\n",
              "      <td>1</td>\n",
              "      <td>53.376932</td>\n",
              "      <td>-6.185334</td>\n",
              "      <td>3</td>\n",
              "      <td>209.00</td>\n",
              "      <td>DNG are delighted to represent the sale of thi...</td>\n",
              "    </tr>\n",
              "    <tr>\n",
              "      <th>4</th>\n",
              "      <td>1643</td>\n",
              "      <td>35</td>\n",
              "      <td>2</td>\n",
              "      <td>3</td>\n",
              "      <td>13</td>\n",
              "      <td>53.327208</td>\n",
              "      <td>-6.308938</td>\n",
              "      <td>5</td>\n",
              "      <td>108.00</td>\n",
              "      <td>A unique opportunity to acquire this red brick...</td>\n",
              "    </tr>\n",
              "    <tr>\n",
              "      <th>...</th>\n",
              "      <td>...</td>\n",
              "      <td>...</td>\n",
              "      <td>...</td>\n",
              "      <td>...</td>\n",
              "      <td>...</td>\n",
              "      <td>...</td>\n",
              "      <td>...</td>\n",
              "      <td>...</td>\n",
              "      <td>...</td>\n",
              "      <td>...</td>\n",
              "    </tr>\n",
              "    <tr>\n",
              "      <th>696</th>\n",
              "      <td>2335</td>\n",
              "      <td>19</td>\n",
              "      <td>1</td>\n",
              "      <td>3</td>\n",
              "      <td>7</td>\n",
              "      <td>53.370882</td>\n",
              "      <td>-6.298255</td>\n",
              "      <td>8</td>\n",
              "      <td>80.62</td>\n",
              "      <td>The Property Shop are delighted to being this ...</td>\n",
              "    </tr>\n",
              "    <tr>\n",
              "      <th>697</th>\n",
              "      <td>2336</td>\n",
              "      <td>66</td>\n",
              "      <td>1</td>\n",
              "      <td>1</td>\n",
              "      <td>14</td>\n",
              "      <td>53.343377</td>\n",
              "      <td>-6.296654</td>\n",
              "      <td>1</td>\n",
              "      <td>40.00</td>\n",
              "      <td>Sherry FitzGerald is delighted to present 56 B...</td>\n",
              "    </tr>\n",
              "    <tr>\n",
              "      <th>698</th>\n",
              "      <td>2337</td>\n",
              "      <td>112</td>\n",
              "      <td>1</td>\n",
              "      <td>2</td>\n",
              "      <td>10</td>\n",
              "      <td>53.351074</td>\n",
              "      <td>-6.285557</td>\n",
              "      <td>8</td>\n",
              "      <td>57.00</td>\n",
              "      <td>26 Viking Road is a well presented and moderni...</td>\n",
              "    </tr>\n",
              "    <tr>\n",
              "      <th>699</th>\n",
              "      <td>2338</td>\n",
              "      <td>18</td>\n",
              "      <td>1</td>\n",
              "      <td>3</td>\n",
              "      <td>9</td>\n",
              "      <td>53.261710</td>\n",
              "      <td>-6.164979</td>\n",
              "      <td>6</td>\n",
              "      <td>93.00</td>\n",
              "      <td>FIRST OPEN VIEW SATURDAY 8TH FEBRUARY 11 - 11....</td>\n",
              "    </tr>\n",
              "    <tr>\n",
              "      <th>701</th>\n",
              "      <td>2340</td>\n",
              "      <td>55</td>\n",
              "      <td>1</td>\n",
              "      <td>3</td>\n",
              "      <td>13</td>\n",
              "      <td>53.280408</td>\n",
              "      <td>-6.132925</td>\n",
              "      <td>6</td>\n",
              "      <td>122.00</td>\n",
              "      <td>This is an instantly appealing Jennings built ...</td>\n",
              "    </tr>\n",
              "  </tbody>\n",
              "</table>\n",
              "<p>528 rows × 10 columns</p>\n",
              "</div>"
            ],
            "text/plain": [
              "     Index  ...                                        Information\n",
              "0     1639  ...  OMD Estate Agents are delighted to present thi...\n",
              "1     1640  ...  Welcome to Saint Anthony No.214 Glasnevin Aven...\n",
              "2     1641  ...  Located in this ever popular road, on grounds ...\n",
              "3     1642  ...  DNG are delighted to represent the sale of thi...\n",
              "4     1643  ...  A unique opportunity to acquire this red brick...\n",
              "..     ...  ...                                                ...\n",
              "696   2335  ...  The Property Shop are delighted to being this ...\n",
              "697   2336  ...  Sherry FitzGerald is delighted to present 56 B...\n",
              "698   2337  ...  26 Viking Road is a well presented and moderni...\n",
              "699   2338  ...  FIRST OPEN VIEW SATURDAY 8TH FEBRUARY 11 - 11....\n",
              "701   2340  ...  This is an instantly appealing Jennings built ...\n",
              "\n",
              "[528 rows x 10 columns]"
            ]
          },
          "metadata": {},
          "execution_count": 322
        }
      ]
    },
    {
      "cell_type": "code",
      "metadata": {
        "colab": {
          "base_uri": "https://localhost:8080/",
          "height": 423
        },
        "id": "J8L3LTpw4Uw9",
        "outputId": "4eb43843-6186-455c-85de-db2556f972e4"
      },
      "source": [
        "dftest.reset_index(inplace=True)\n",
        "\n",
        "dftest"
      ],
      "execution_count": 323,
      "outputs": [
        {
          "output_type": "execute_result",
          "data": {
            "text/html": [
              "<div>\n",
              "<style scoped>\n",
              "    .dataframe tbody tr th:only-of-type {\n",
              "        vertical-align: middle;\n",
              "    }\n",
              "\n",
              "    .dataframe tbody tr th {\n",
              "        vertical-align: top;\n",
              "    }\n",
              "\n",
              "    .dataframe thead th {\n",
              "        text-align: right;\n",
              "    }\n",
              "</style>\n",
              "<table border=\"1\" class=\"dataframe\">\n",
              "  <thead>\n",
              "    <tr style=\"text-align: right;\">\n",
              "      <th></th>\n",
              "      <th>index</th>\n",
              "      <th>Index</th>\n",
              "      <th>Location</th>\n",
              "      <th>Num_Bathrooms</th>\n",
              "      <th>Num_Beds</th>\n",
              "      <th>BER_class</th>\n",
              "      <th>Latitude</th>\n",
              "      <th>Longitude</th>\n",
              "      <th>Type</th>\n",
              "      <th>Surface</th>\n",
              "      <th>Information</th>\n",
              "    </tr>\n",
              "  </thead>\n",
              "  <tbody>\n",
              "    <tr>\n",
              "      <th>0</th>\n",
              "      <td>0</td>\n",
              "      <td>1639</td>\n",
              "      <td>77</td>\n",
              "      <td>2</td>\n",
              "      <td>2</td>\n",
              "      <td>7</td>\n",
              "      <td>53.316269</td>\n",
              "      <td>-6.243391</td>\n",
              "      <td>9</td>\n",
              "      <td>65.00</td>\n",
              "      <td>OMD Estate Agents are delighted to present thi...</td>\n",
              "    </tr>\n",
              "    <tr>\n",
              "      <th>1</th>\n",
              "      <td>1</td>\n",
              "      <td>1640</td>\n",
              "      <td>54</td>\n",
              "      <td>2</td>\n",
              "      <td>5</td>\n",
              "      <td>11</td>\n",
              "      <td>53.390769</td>\n",
              "      <td>-6.281936</td>\n",
              "      <td>6</td>\n",
              "      <td>142.00</td>\n",
              "      <td>Welcome to Saint Anthony No.214 Glasnevin Aven...</td>\n",
              "    </tr>\n",
              "    <tr>\n",
              "      <th>2</th>\n",
              "      <td>2</td>\n",
              "      <td>1641</td>\n",
              "      <td>36</td>\n",
              "      <td>1</td>\n",
              "      <td>2</td>\n",
              "      <td>14</td>\n",
              "      <td>53.272486</td>\n",
              "      <td>-6.108675</td>\n",
              "      <td>3</td>\n",
              "      <td>80.00</td>\n",
              "      <td>Located in this ever popular road, on grounds ...</td>\n",
              "    </tr>\n",
              "    <tr>\n",
              "      <th>3</th>\n",
              "      <td>3</td>\n",
              "      <td>1642</td>\n",
              "      <td>92</td>\n",
              "      <td>4</td>\n",
              "      <td>4</td>\n",
              "      <td>1</td>\n",
              "      <td>53.376932</td>\n",
              "      <td>-6.185334</td>\n",
              "      <td>3</td>\n",
              "      <td>209.00</td>\n",
              "      <td>DNG are delighted to represent the sale of thi...</td>\n",
              "    </tr>\n",
              "    <tr>\n",
              "      <th>4</th>\n",
              "      <td>4</td>\n",
              "      <td>1643</td>\n",
              "      <td>35</td>\n",
              "      <td>2</td>\n",
              "      <td>3</td>\n",
              "      <td>13</td>\n",
              "      <td>53.327208</td>\n",
              "      <td>-6.308938</td>\n",
              "      <td>5</td>\n",
              "      <td>108.00</td>\n",
              "      <td>A unique opportunity to acquire this red brick...</td>\n",
              "    </tr>\n",
              "    <tr>\n",
              "      <th>...</th>\n",
              "      <td>...</td>\n",
              "      <td>...</td>\n",
              "      <td>...</td>\n",
              "      <td>...</td>\n",
              "      <td>...</td>\n",
              "      <td>...</td>\n",
              "      <td>...</td>\n",
              "      <td>...</td>\n",
              "      <td>...</td>\n",
              "      <td>...</td>\n",
              "      <td>...</td>\n",
              "    </tr>\n",
              "    <tr>\n",
              "      <th>523</th>\n",
              "      <td>696</td>\n",
              "      <td>2335</td>\n",
              "      <td>19</td>\n",
              "      <td>1</td>\n",
              "      <td>3</td>\n",
              "      <td>7</td>\n",
              "      <td>53.370882</td>\n",
              "      <td>-6.298255</td>\n",
              "      <td>8</td>\n",
              "      <td>80.62</td>\n",
              "      <td>The Property Shop are delighted to being this ...</td>\n",
              "    </tr>\n",
              "    <tr>\n",
              "      <th>524</th>\n",
              "      <td>697</td>\n",
              "      <td>2336</td>\n",
              "      <td>66</td>\n",
              "      <td>1</td>\n",
              "      <td>1</td>\n",
              "      <td>14</td>\n",
              "      <td>53.343377</td>\n",
              "      <td>-6.296654</td>\n",
              "      <td>1</td>\n",
              "      <td>40.00</td>\n",
              "      <td>Sherry FitzGerald is delighted to present 56 B...</td>\n",
              "    </tr>\n",
              "    <tr>\n",
              "      <th>525</th>\n",
              "      <td>698</td>\n",
              "      <td>2337</td>\n",
              "      <td>112</td>\n",
              "      <td>1</td>\n",
              "      <td>2</td>\n",
              "      <td>10</td>\n",
              "      <td>53.351074</td>\n",
              "      <td>-6.285557</td>\n",
              "      <td>8</td>\n",
              "      <td>57.00</td>\n",
              "      <td>26 Viking Road is a well presented and moderni...</td>\n",
              "    </tr>\n",
              "    <tr>\n",
              "      <th>526</th>\n",
              "      <td>699</td>\n",
              "      <td>2338</td>\n",
              "      <td>18</td>\n",
              "      <td>1</td>\n",
              "      <td>3</td>\n",
              "      <td>9</td>\n",
              "      <td>53.261710</td>\n",
              "      <td>-6.164979</td>\n",
              "      <td>6</td>\n",
              "      <td>93.00</td>\n",
              "      <td>FIRST OPEN VIEW SATURDAY 8TH FEBRUARY 11 - 11....</td>\n",
              "    </tr>\n",
              "    <tr>\n",
              "      <th>527</th>\n",
              "      <td>701</td>\n",
              "      <td>2340</td>\n",
              "      <td>55</td>\n",
              "      <td>1</td>\n",
              "      <td>3</td>\n",
              "      <td>13</td>\n",
              "      <td>53.280408</td>\n",
              "      <td>-6.132925</td>\n",
              "      <td>6</td>\n",
              "      <td>122.00</td>\n",
              "      <td>This is an instantly appealing Jennings built ...</td>\n",
              "    </tr>\n",
              "  </tbody>\n",
              "</table>\n",
              "<p>528 rows × 11 columns</p>\n",
              "</div>"
            ],
            "text/plain": [
              "     index  Index  ...  Surface                                        Information\n",
              "0        0   1639  ...    65.00  OMD Estate Agents are delighted to present thi...\n",
              "1        1   1640  ...   142.00  Welcome to Saint Anthony No.214 Glasnevin Aven...\n",
              "2        2   1641  ...    80.00  Located in this ever popular road, on grounds ...\n",
              "3        3   1642  ...   209.00  DNG are delighted to represent the sale of thi...\n",
              "4        4   1643  ...   108.00  A unique opportunity to acquire this red brick...\n",
              "..     ...    ...  ...      ...                                                ...\n",
              "523    696   2335  ...    80.62  The Property Shop are delighted to being this ...\n",
              "524    697   2336  ...    40.00  Sherry FitzGerald is delighted to present 56 B...\n",
              "525    698   2337  ...    57.00  26 Viking Road is a well presented and moderni...\n",
              "526    699   2338  ...    93.00  FIRST OPEN VIEW SATURDAY 8TH FEBRUARY 11 - 11....\n",
              "527    701   2340  ...   122.00  This is an instantly appealing Jennings built ...\n",
              "\n",
              "[528 rows x 11 columns]"
            ]
          },
          "metadata": {},
          "execution_count": 323
        }
      ]
    },
    {
      "cell_type": "code",
      "metadata": {
        "colab": {
          "base_uri": "https://localhost:8080/"
        },
        "id": "6wSSVjU9jX4P",
        "outputId": "e763a89f-1f81-4b96-fd0f-b6c1c3db96ef"
      },
      "source": [
        "info_list = dftest['Information'].tolist()\n",
        "info_list[0:9]"
      ],
      "execution_count": 324,
      "outputs": [
        {
          "output_type": "execute_result",
          "data": {
            "text/plain": [
              "['OMD Estate Agents are delighted to present this 2 bed townhouse situated in this well sought after location. The property is presented in immaculate condition and is conveniently located within a short stroll of Milltown, Ranelagh and Donnybrook villages. \\r\\nThe accommodation comprises of 2 double bedrooms, both rooms with built in wardrobes and family bathroom. Downstairs consists of good sized living area with stove fire, under stairs storage room, kitchen/ dining room with all integrated goods and w.c. There is a sunny paved terrace to the rear.\\n\\r\\nIt has O.F.C.H, PVC double glazing throughout, designated parking space. Local amenities include Luas, bus routes, shops, Wilde and Green, David Lloyd Riverview gym, restaurants, bars and U.C.D.\\n\\r\\nLiving Room 4.46m x 3.56m\\r\\nKitchen 4.00m x 3.65m\\r\\nW.c 1.65m x 1.90m\\r\\nBed 1) 3.11m x 3.53m\\r\\nBed 2) 2.63m x 3.54m\\r\\nBathroom 2.68m x 1.43m\\r\\nLanding 2.57m x .82mDesignated parking spaces\\nPresented in pristine condition\\nPVC double glazing throughout\\nO.F.C.H\\nSunny terrace\\nManagement fees €1,300 per annum.\\n',\n",
              " \"Welcome to Saint Anthony No.214 Glasnevin Avenue, a substantial c.142sq.m 5 bedroom residence with the added benefit of a c.60 foot long rear garden with glass house. Beyond this attractive facade is a dream property for prospective buyers looking to put their own stamp on a home that requires some upgrading.\\n\\r\\nO'Connor Estate Agents are honoured to present this fine family home to the market which will appeal to families looking for a strategically located residence on the ever popular tree lined Glasnevin Avenue. This home presents endless opportunities with excellent potential.\\n\\r\\nAccommodation:\\n\\r\\nPorch area: c.2.64m x .90 leading to main entrance door.\\n\\r\\nHallway: with carpets and downstairs WC.\\n\\r\\nLiving Area: c.3.73m x 3.59m with coving, carpets and feature fireplace with electric fire.\\n\\r\\nDining Area: c.4.03m x 3.73m with coving, carpets and fireplace.\\n\\r\\nReception: c.2.95m x 2.41m with leading to reception extension (c.3.64m x 2.73m) flooded with natural light throughout.\\n\\r\\nKitchen: c.2.91m x 1.91m with built in kitchen units.\\n\\r\\nGarage: c.5.02m x 2.83 with excellent potential to convert subject to PP.\\n\\r\\nBedroom 1: c.4.14m x c.2.80m with original flooring and walk in wardrobes.\\n\\r\\nBedroom 2: c.2.92m x 2.63m with carpets throughout.\\n\\r\\nBedroom 3: c.4.08m x 3.74m with carpets and full length built in wardrobes.\\n\\r\\nBedroom 4: c.3.73m x 3.68m with carpets throughout.\\n\\r\\nBedroom 5: c.2.81m x 2.70m with original flooring and walk in wardrobes.\\n\\r\\nBathroom: c.2.65m x 2.61m fully tiled with walk in shower, WC, WHB, recessed lighting and hotpress.\\n\\r\\nOutside: The front of the property has off street parking for a number of cars which is finished with a lawn and shrubbery. The rear of the property has a c.60 foot long garden with glass house, an outbuilding and access to annex and outside WC.\\n\\r\\n**TRANSPORT** This property has the convenience of the M50 &amp; M1 within close proximity which opens up the location to the entire county &amp; country. There are numerous bus routes on Glasnevin Avenue offering transport links to Dublin City Centre. Dublin Airport is also within close proximity.\\n\\r\\n**AMENITIES** Johnstown Park a renowned 12.75 hectare park is minutes from this property which boasts mature planting and tree lined walks to include tennis courts, playing pitches for soccer &amp; GAA and a playground to mention a few. The Botanical Gardens is within striking distance which is a popular destination for local residents. Other parks in the vicinity include Hampstead Park and Griffith Park. The Mater, Rotunda, Temple Street and The Bons Secours Hospital are located within close proximity and there are educational facilities in abundance such as St. Kevins not to mention DCU which is located nearby. Other excellent primary and secondary schools are St Brigid's, Scoil Mobhí, Glasnevin National School, Glasnevin Educate Together, NDNSP, Corpus Christi and Holy Faith. Shopping Centres nearby include Omni, Charlestown and Blanchardstown. The ever popular Autobahn Bar &amp; Restaurant is also located on Glasnevin Avenue.\\n\\r\\nPLANS PROVIDED ARE FOR ILLUSTRATION PURPOSES ONLYModern Worcester Gas Boiler\\nSingle Glazed Windows\\nLarge 60 foot rear garden and 35 foot front garden\\nSubstantial c.142sq.m residence excluding garage &amp; annex\\nOff Street parking for 2 cars\\nPotential to convert garage subject to PP\\nLarge attic space\\nEndless potential in a sought after location\\n\",\n",
              " 'Located in this ever popular road, on grounds of approximately 0.08ha (1/5th acre) with Killiney Hill Park and Dalkey Quarry on your doorstep, lies San Antonio, a detached 2 bedroom bungalow of approx 80m2 in need of complete modernisation, or alternatively development potential subject to full planning permission.\\n\\r\\nAll local amenities are within walking distance, including the many and varied shops, restaurants and pubs in both Dalkey and Killiney.\\n\\r\\nThe immediate area has seen a rejuvenation of modern residential redevelopment to an ultra high standard, while taking full adavantage of the wonderful panoramic views, over the city and bay. For any would be purchaser, this property provides the opportunity to create a contemporary detached property in one of south Dublin\\'s most sought after locations.\\n\\r\\nThe location needs little introduction, situated off Dalkey Avenue and within a five minute walk of the village and the DART, it couldn\\'t be more convenient. Dalkey offers a host of excellent amenities including its great selection of restaurants, together with some fine local food shops, churches and some of the area\\'s most enjoyable and scenic walks. There is also a selection of excellent schools including Loreto Abbey Dalkey, Castlepark School, Rathdown and St. Joseph of Cluny. The four Yacht clubs at Dun Laoghaire Harbour with its extensive marina will be of major interest to the sailing enthusiast. Dalkey itself has an excellent transport service with the No. 8 bus to the City Centre and the Dart station in the village. The Air Coach on Hyde Road outside Cuala G.A.A/ Dalkey United Football Club makes for ease of transport to Dublin Airport.\\n\\r\\nThe property is zoned \"Residential A\" in the Dun Laoghaire Rathdown County Council Development Plan.\\n\\r\\nACCOMMODATION\\n\\r\\nEntrance hall:(c.2.74m x 2.74m).\\n\\r\\nDining room: (c.4.02m x 3. 6m) brick faced fireplace, door to,\\n\\r\\nKitchen: (c.3.84m x 2.36m) high and low level units, double sink, door to garden.\\n\\r\\nLiving room: (c.4.59m x 3.21m) tiled fireplace, bay window\\n\\r\\nBedroom 1: (c.4.59m x 3.2m) built in wardrobes, bay window \\n\\r\\nBedroom 2: (c.4.05m x 2.81m) built in cupboard\\n\\r\\nBathroom: shower, w.c., w.h.b.\\n\\r\\nRear hall:\\t(c.2.83m x 1.52m) door to back garden.2 BEDROOM DETACHED HOUSE ON  1/5th ACRE\\nOIL FIRED CENTRAL HEATING \\nOFF STREET PARKING\\n12 MINUTE WALK TO THE DART STATION\\nDOUBLE GLAZING\\n',\n",
              " \"DNG are delighted to represent the sale of this impeccable Tyler Owens Designed four bedroom (plus attic) detached family home. This stylish property is truly special, consisting of gracious reception rooms, well-appointed bedrooms and a very tasteful open plan area at the heart of the home incorporating living, dining and kitchen. 8a Bettystown Avenue is set in a highly desirable location with every conceivable amenity on its doorstep. Upon entering, it is very apparent that the standard of finish and quality building materials used have attributed to an unsurprisingly impressive energy rating. The property comes with notable features such as floor to ceiling doors, Hardscape south facing rear garden designed for minimum maintenance, Herringbone flooring on the ground floor and a hardwood glass feature staircase to name a few.\\n\\r\\nThe accommodation comprises an impressive entrance hallway with boot room and guest wc just off. The hallway leads through to the stunning open plan living, dining, kitchen area with Woodale hand painted, in frame kitchen with pantry, Calacatta marble splash back and one large roof light. A large sliding door offers access to the Ventura designed living room. Each of these rooms feature large sliders offering access to the wonderful rear garden. A utility room with laundry shoot completes the description at ground floor level. Upstairs there are four bedrooms (master ensuite) and a family bathroom. The master bedroom also features a walk in wardrobe. The second floor comprises an attic room currently being used as a bedroom and an ensuite. \\n\\r\\nNo 8a is located just off Howth Road in a most desirable and picturesque residential neighbourhood. The property is located within a very short stroll of Raheny Village, St Anne\\\\'s Park, The Seafront, primary and secondary schools, shops, sports and recreational facilities and cafes. Raheny DART Station is moments away giving direct access to and from the city centre and for those travelling further afield The M1, M50 and Dublin Airport are within easy reach.  \\n\\r\\nViewing is highly recommended to appreciate this special family home.\\n\\r\\nSpecial Features:\\n\\r\\nAir to water heat pump\\r\\nSiemens appliances\\r\\nQuooker boiling water tap in kitchen\\r\\nCat 6 throughout\\r\\nCoving detail with LED lighting in living room\\r\\nUnder floor heating\\r\\nSecurity system with cloud hik vision camera system\\r\\nIntercom system\\r\\nOversized front door\\r\\nMinima lighting\\r\\nTouch screen Heatmeister heating systemDetached House\\nSouth Facing Garden\\nOff Street parking\\nModern\\nExcellent Decoration\\n\",\n",
              " \"A unique opportunity to acquire this red brick 3 bedroom property which extends to c. 108sqm / 1162 sq.ft. 2 Windmill Road provides excellent potential and offers a lucky buyer the ability to refurbish and design a home to their own taste and style. The ground floor of the property has been used as a commercial premises to the front however the layout is that of a standard 3 bedroom semi-detached home. \\n\\nAccommodation comprises of a wide entrance hallway with under stairs storage, a bright and spacious living room, dining room, kitchen, utility room, downstairs shower room. Upstairs there are 2 double bedrooms and a single bedroom and a main bathroom. Outside to the rear is a west facing garden with outbuildings, a rear garage and laneway access. \\n\\nThis property boasts excellent room proportions and with some care and a good eye can be transformed into a perfect home for a discerning purchaser while also offering an opportunity for business owners. \\n\\nWindmill Road is a ideally located close to the city centre and all it has to offer. The convenience of this location cannot be overstated; within easy reach of the city centre with every conceivable amenity on its doorstep. Superquinn shopping centre, local shops, multiple bus routes, parks and an excellent choice of schools are all close by. The luas red line is also within walking distance.\\n\\nAccommodation\\nEntrance Hallway: 1.62m X 5.05m \\n\\nLiving Room: 4.55m X 4.40m \\n\\nDining Room: 3.95m X 3.76m \\n\\nKitchen: 2.85m X 2.14m \\n\\nShower Room: 2.35m X 170m \\n\\nUtility Room: 1.6m X 1.5m \\n\\nUpstairs \\n\\nBedroom One: 3.1m X 2.4m \\n\\nBedroom Two: 4.1m X 3.7m \\n\\nBedroom Three: 3.8m X 3.7m \\n\\nBathroom: 2.4m X 1.8mRed brick end of terrace property \\nC. 108sqm / 1162sqft \\nWest facing rear garden\\nGarage to the rear\\nRear laneway access\\nGas fired central heating\\nNext to numerous bus routes \\nWalking distance to Luas Red line\\nClose to Our Lady's Children's Hospital\\n\",\n",
              " 'LEONARD WILSON KEENAN ESTATE &amp; LETTING AGENTS Our business is you...\\n\\r\\n*This vendor is now ready to sell without delay... Newly reduced asking price... \\r\\n*Book a viewing as soon as possible.***\\n\\n\\r\\nAN EXCELLENT OPPORTUNITY TO SECURE A SUPERB TWO BEDROOM HOME IN THIS HIGHLY SOUGHT AFTER QUIET SETTLED NEIGHBOURHOOD IN GLASNEVIN \\r\\n600 SQUARE FOOT\\n\\n\\r\\nThe Multi Award Winning Team Christina Wilson The Glasnevin Property Specialists are proud to bring this special house to the market. The location of this property is second to none as it is ideally situated within walking distance of Dublin City Centre. The area is extremely popular so it will attract interest from first time buyers, parties downsizing, and investors alike. This wonderful property has been tastefully decorated and is well maintained. The floor plan briefly consists of : Entrance hall, large living room, kitchen / dining room, two double bedrooms, a family bathroom and courtyard. The spacious front living room features a solid fuel burning stove. At the rear there is a bright and airy modern kitchen / dining area with designer shaker kitchen units and an abundance of worktop plus storage space. The attractive kitchen area has light terracotta coloured wall tiles and complimentary terracotta floor tiles. There are sliding doors from the kitchen to the sunny courtyard at the rear.  Upstairs the two bedrooms are carpeted and have fitted wardrobes. The family bathroom has a bath / shower with an electric shower and quality sanitary ware. The property has double glazing and a gas fired central heating system. The courtyard has rear access.  \\r\\nThis house is situated within easy walking distance of a host of amenities. There is an excellent catchment of schools in the area. Together with numerous parks and other recreational facilities in the locality. The Botanical Gardens and several sporting facilities are also in the vicinity. The Phibsborough Shopping Centre is within walking distance. The DCU College Campus and The Helix Theatre are both within easy access. There is an high frequency bus service including night link to Dublin City Centre. Also the M50 motorway and the Broombridge Luas station with connection to the Dart are both easily accessible. Dublin International Airport is within close proximity.\\n\\r\\n*Early viewing is strongly advised. \\n\\r\\n***All information provided is to the best of our knowledge. The utmost of care and attention has been placed on providing factual and correct information. In certain cases some information may have been provided by the vendor to us. We do not hold any responsibility for mistakes, errors or inaccuracies in our online advertising and give each and every viewer the right to get an opinion on any concern they may have***None',\n",
              " 'No 79 The Steeples is an impressive ground floor two-bedroom apartment located in an exclusive development which enjoys a high degree of privacy amidst immaculately maintained grounds. It is situated within walking distance of Chapelizod village and enjoys a host of excellent amenities close to home.\\nThis property is in excellent decorative order freshly painted throughout with stylish kitchen cabinets recently put in, extensive tiling, laminate wood floors and newly renovated bathroom creating a property ready to move into with no fuss it also comes with ample parking for both residents &amp; visitors.\\nThe central location is a huge bonus to any buyer as it s close to the city centre, the N4 and M50. The village offers a wealth of amenities such as schools, shops and churches and has many character pubs. No: 79 offers everything a first-time buyer needs or astute investor could want all within close proximity of the Phoenix park.\\nViewing of this lovely apartment is highly recommended.\\n\\n\\nKitchen with tiled styled lino flooring and tiled splashback newly fitted cabinets\\n\\nLiving Room A large bright living space with laminate wood flooring, large storage and access to the kitchen.\\n\\nBedroom 1 A large double bedroom with laminate flooring and built in wardrobes.\\n\\nBedroom 2 Double room with built in wardrobes and laminate flooring.\\n\\nBathroom A fully tiled bathroom complete with electric shower, whb, and wcCompletely renovated\\n2 Bedroom apartment\\nAmple parking\\nSecure development\\n',\n",
              " \"South Hill is a leafy cul de sac development, wonderfully positioned on an elevated site off St Fintans Road in Sutton, on the southern side of the Howth peninsula.  It comprises an exclusive modern development of 26 bespoke detached homes of varying designs and sizes, each occupying an elevated position looking down towards Dublin Bay.\\n\\r\\nNo. 26 is an architecturally designed full redbrick home and it comes to the market in good condition throughout having been well maintained by the present owners who have lived there since the house was built.\\n\\r\\nThe property currently extends to a healthy 2,300 sq ft (including the attic storage rooms) and is surrounded by a good sized garden.  The extra wide side entrance to the right hand side offers plenty of scope to extend if more space is required.\\n\\r\\nThe bright and well laid out split level accommodation on offer comprises a porch, reception hall, tv/playroom, a fine living room and dining room.  The good sized kitchen/breakfastroom has a utility room and WC off.  Upstairs there are four bedrooms, master ensuite, and a bathroom.  There is also a staircase off the landing to the attic level which is converted into 2 separate store rooms with Velux windows and built-in wardrobes.\\n\\r\\nThe rear garden has an elevated private paved patio above the good sized lawned area.  The patio is in an ideal spot to enjoy the bbq's on the long summer days.\\n\\r\\nThis enviable location is within easy reach of all amenities and services that this maritime address has to offer. Sutton offers an excellent choice of both primary and secondary schools and local shopping at Sutton Cross can be enjoyed within minutes of leaving your front door as can Howth village and harbour.  The numerous coastal, hill and parkland walks that the peninsula is famous for, are also nearby.\\n\\r\\nViewing can be arranged by appointment with Gallagher Quigley.\\n\\r\\nFull red brick faé§ade\\r\\nPrivate bespoke development\\r\\nOnly 26 detached homes\\r\\nPrivate gardens\\r\\nLarge side entrance with potential to extend \\r\\nc. 2300 sq ft / 214 sq m including attic rooms\\r\\nBright accommodation throughout\\r\\nD/G Rational windows OFCH\\r\\nBER D1\\r\\nSuperb location\\n\\r\\nAccommodation\\r\\nPorch\\t\\tTiled floor.\\r\\nEntrance Hall\\t5.22m x 1.98m\\tTimber flooring, shelving.\\r\\nLiving Room\\t5.8m x 2.0m\\tBay window, marble fireplace.\\r\\nDining Room\\t4.16m x 4.66m\\tSliding doors to rear patio and garden.\\r\\nTV Room\\t3.01m x 2.52m\\t\\r\\nKitchen/Breakfastroom\\t4.75m x 4.08m\\tHigh gloss units, integrated appliances, granite worktop, door to rear patio and garden.\\r\\nUtility\\t2.55m x 2.00m\\tPlumbed, built-in presses, door to side passage.\\r\\nGuest WC \\r\\nLanding\\t5.88m x 2.82m\\t\\r\\nBedroom 1\\t5.71m x 3.20m\\tBuilt-in wardrobes.\\r\\nEnsuite\\t\\tTiled with shower, wc and whb.\\r\\nBedroom 2\\t3.15m x 4.87m\\tBuilt-in wardrobes.\\r\\nBedroom 3\\t3.59m x 2.78m\\tBuilt-in wardrobes.\\r\\nBedroom 4 \\t3.66m x 2.00m\\tBuilt-in wardrobes.\\r\\nBathroom\\t2.47m x 2.78m\\tTiled with bath, separate shower, wc and whb.\\r\\nAttic Floor...\\t\\t\\r\\nStore Room 1\\t4.24m x 3.71m\\tVelux windows, built-in wardrobes.\\r\\nStore Room 2\\t4.24m x 3.27m\\tVelux windows, built-in wardrobes.\\r\\nOutside\\t\\tGood sized front garden with drivewa, lawn and extra wide side entrance.  Good sized private rear garden with lawn, flowerbeds and large raised patio area, good sized block storage shed and boiler house.None\",\n",
              " \"Sherry FitzGerald are delighted to bring number 76 Ludford Road to the market. Beyond its attractive exterior lies this truly wonderful family home, where no expense has been spared in creating a spacious, stylish and very comfortable home. No.76 is an extended large four-bedroom semi-detached home, ideally positioned within this popular development which has undergone extensive refurbishment to the highest of standards. The property is exceptionally well finished and maintained throughout.\\n\\nSituated on this highly sought after residential road, turnkey aptly describes this stunning home which enjoys a wonderful sense of privacy both inside and out. The property measures approximately 173sq.m/1,862sq. ft (plus attic room of 25sqm/269sqft) and retains much of its original charm coupled with a classic contemporary interior resulting in a modern, light-filled home. High specification materials, exemplary craftsmanship, bespoke fit-out and more than a touch of imagination and creativity are the key elements of this successful transformation.\\n\\nUpon entering you are greeted by a bright entrance hallway with under stairs Smart storage . To the right are the interconnecting reception rooms which provide a great space for entertaining. Access from the sitting room is through concertina sliding glass doors to the dining room, which leads into the open plan kitchen/breakfast area. The kitchen leads to the utility room and guest W.C. This level is complete by a study with ample storage space. The rear has a wonderful outlook over the beautifully landscaped rear garden that is accessed through concertina glass doors. Upstairs the light-filled contemporary feel continues with an airy landing leading to four bedrooms (three of which are doubles), an en-suite bathroom off the main bedroom, family bathroom and attic room.\\n\\nLocated on the quiet and mature Ludford Road you are ideally situated close to an abundance of amenities all within a short stroll. There is a pedestrian shortcut to the LUAS at Balally and the property is also on the doorstep of the popular Meadowbrook leisure centre and swimming pool. Other amenities close by include Marlay Park, local shops and pharmacy, Dundrum Town Centre not to mention a number of primary and secondary schools. The main transport links include numerous bus routes, Luas at Balally and the M50.\\n\\nAll in all, this is a most impressive family home and one that is sure to appeal.\\n\\n\\nEntrance Hall: Tiled &amp; solid wood floors, composite door, alarm panel, radiator cover, ceiling coving and under stairs Smart storage system.\\n\\nStudy: 2.82m x 3.11m. Solid wood floors with ample storage, recessed lighting and large window overlooking the front garden.\\n\\nInterconnecting\\n\\n Living room: 4.27m x 3.62m. Solid wood flooring throughout with ceiling coving, triple glazed window overlooking the front garden, two feature fireplaces, (one with wood burning stove and new flews installed in 2017), Sony surround speakers, T.V point, Wi-Fi point and sky connection. Concertina sliding glass doors leading to;\\n\\nDining Room: 4.28m x 5.28m. Steps lead down to the generous sized room that is flooded with natural light with built in units, solid wood flooring, a large window overlooking the rear garden, two Velux windows and Concertina glass sliding doors to the rear garden. Steps up lead you to the open plan kitchen area;\\n\\nKitchen/Breakfast Room: 3.95m x 6.02m. This space includes a fully fitted modern kitchen (installed 3 years ago) with quartz worktops and splash back, ceramic double sink unit, integrated oven, microwave, five ring hob with extractor fan, integrated Electrolux dishwasher and Samsung standalone American style fridge freezer. Two Velux windows, ample storage space, recessed lighting and island with breakfast bar.\\n\\nUtility Room: 2.36m x 3.45m. With plenty of extra storage, stainless steel sink unit and drainer, tiled splash back, plumbed for washing machine and dryer, tiled floor, boiler ( Climote heating system) and door to rear garden.\\n\\nGuest W.C.: 1.12m x 1.73m. Tiled floor, frosted window, wash hand basin with under storage and W.C.\\n\\n\\nLanding: Large landing, with carpet flooring, integrated shoe storage unit and radiator cover.\\n\\nMain Bedroom: 4.02m x 4.08m. Located to the rear, this is a lovely generous double bedroom with built in wardrobes, hot press, carpet flooring and large picture window overlooking the rear garden.\\n\\nEn-suite: 2.15m x 1.90m. With tiled floors and partially tiled walls, large bath with shower over, wash hand basin with under storage, heated towel rail, w.c and frosted window.\\n\\n\\nBedroom 2: 4.02m x 3.52m. Large double bedroom with built in wardrobes, carpet flooring and view over the front garden.\\n\\n\\nBedroom 3: 2.48m x 3.56m. Another well-proportioned double bedroom with stand alone wardrobes, solid wood flooring and window overlooking the front.\\n\\n\\nBedroom 4: 2.62m x 3.56. Single bedroom to the front with bespoke built in wardrobes and desk.\\n\\nBathroom 1.04m x 4.03m. With tiled floor, shower unit with Redring power shower, wash hand basin with under storage, heated towel rail, W.C and frosted window.\\n\\nAttic: 7.80m x 3.31m. Laminate wood flooring, four skylights, recessed lighting, under eaves storage, office area and T.V. point.\\n\\nGarden: The level of quality continues once outside. The front garden is fully landscaped with award winning Echium plants and offers ample off-street parking with cobble locked driveway. The rear garden was designed by Contour Greens and measures 50 ft L X 22 ft W and is utterly private that is both a place of tranquillity and fun. The split level rear garden begins with the large decking area that looks upon the maintenance free artificial grass and leads down to the beautifully presented party area.\\n\\nFrom here you enter the Putting area that leads to the covered polished sandstone patio area that has an integrated Beef Eater BBQ (installed 3 years ago) with granite worktop surfaces, outdoor lighting, darts board and a Barna Shed. All of this is surrounded by well stocked raised feature beds and bespoke wooden panelling.Solar paneled water heating system installed in 2019\\nExterior has been insulated and the interior in the attic eaves.\\nB2 energy rating\\n'Smart storage' system\\nTastefully and beautifully presented four-bedroom semi-detached double fronted home\\nLandscaped rear garden designed by Contour Greens\\nAward winning Echium trees to the front\\nWalking distance to Dundrum Town Centre\\nClose to several transport links, including bus routes, Aircoach, Balally LUAS station, park &amp; Ride and M50\\nKitchen installed 3 years ago\\n\"]"
            ]
          },
          "metadata": {},
          "execution_count": 324
        }
      ]
    },
    {
      "cell_type": "code",
      "metadata": {
        "id": "wXmeyQbsjX4V"
      },
      "source": [
        "new_df = pd.DataFrame({'message':info_list})"
      ],
      "execution_count": 325,
      "outputs": []
    },
    {
      "cell_type": "code",
      "metadata": {
        "id": "gKSHIEaLjX4V"
      },
      "source": [
        "# removing everything except alphabets\n",
        "new_df['clean_message'] = new_df['message'].str.replace(\"[^a-zA-Z#]\", \" \")"
      ],
      "execution_count": 326,
      "outputs": []
    },
    {
      "cell_type": "code",
      "metadata": {
        "id": "7iApE9kBjX4V"
      },
      "source": [
        "# removing short words\n",
        "short_word = 4\n",
        "new_df['clean_message'] = new_df['clean_message'].apply(lambda x: ' '.join([w for w in x.split() if len(w)>short_word]))"
      ],
      "execution_count": 327,
      "outputs": []
    },
    {
      "cell_type": "code",
      "metadata": {
        "id": "dJeWW3ObjX4V"
      },
      "source": [
        "# make all text lowercase\n",
        "new_df['clean_message'] = new_df['clean_message'].apply(lambda x: x.lower())"
      ],
      "execution_count": 328,
      "outputs": []
    },
    {
      "cell_type": "code",
      "metadata": {
        "colab": {
          "base_uri": "https://localhost:8080/"
        },
        "id": "sS3umTm5jX4V",
        "outputId": "9d5a6fd4-d89c-42cf-a615-4226502d85f6"
      },
      "source": [
        "import nltk\n",
        "from nltk.corpus import stopwords\n",
        "nltk.download('stopwords')\n",
        "\n",
        "swords = stopwords.words('english')"
      ],
      "execution_count": 329,
      "outputs": [
        {
          "output_type": "stream",
          "name": "stdout",
          "text": [
            "[nltk_data] Downloading package stopwords to /root/nltk_data...\n",
            "[nltk_data]   Package stopwords is already up-to-date!\n"
          ]
        }
      ]
    },
    {
      "cell_type": "code",
      "metadata": {
        "id": "lBdFXBB6jX4V"
      },
      "source": [
        "# tokenization\n",
        "tokenized_doc = new_df['clean_message'].apply(lambda x: x.split())"
      ],
      "execution_count": 330,
      "outputs": []
    },
    {
      "cell_type": "code",
      "metadata": {
        "id": "-48X9iqsjX4V"
      },
      "source": [
        "# remove stop-words\n",
        "tokenized_doc = tokenized_doc.apply(lambda x: [item for item in x if item not in swords])"
      ],
      "execution_count": 331,
      "outputs": []
    },
    {
      "cell_type": "code",
      "metadata": {
        "id": "r50ZUf1MjX4W"
      },
      "source": [
        "# de-tokenization\n",
        "detokenized_doc = []\n",
        "for i in range(len(new_df)):\n",
        "    t = ' '.join(tokenized_doc[i])\n",
        "    detokenized_doc.append(t)"
      ],
      "execution_count": 332,
      "outputs": []
    },
    {
      "cell_type": "code",
      "metadata": {
        "id": "7m6-N4uSjX4W"
      },
      "source": [
        "new_df['clean_message'] = detokenized_doc"
      ],
      "execution_count": 333,
      "outputs": []
    },
    {
      "cell_type": "code",
      "metadata": {
        "colab": {
          "base_uri": "https://localhost:8080/",
          "height": 206
        },
        "id": "VxoUGzJHjX4W",
        "outputId": "82a15a31-8c36-45c3-b5d1-7f917e8f5b7c"
      },
      "source": [
        "new_df.head()"
      ],
      "execution_count": 334,
      "outputs": [
        {
          "output_type": "execute_result",
          "data": {
            "text/html": [
              "<div>\n",
              "<style scoped>\n",
              "    .dataframe tbody tr th:only-of-type {\n",
              "        vertical-align: middle;\n",
              "    }\n",
              "\n",
              "    .dataframe tbody tr th {\n",
              "        vertical-align: top;\n",
              "    }\n",
              "\n",
              "    .dataframe thead th {\n",
              "        text-align: right;\n",
              "    }\n",
              "</style>\n",
              "<table border=\"1\" class=\"dataframe\">\n",
              "  <thead>\n",
              "    <tr style=\"text-align: right;\">\n",
              "      <th></th>\n",
              "      <th>message</th>\n",
              "      <th>clean_message</th>\n",
              "    </tr>\n",
              "  </thead>\n",
              "  <tbody>\n",
              "    <tr>\n",
              "      <th>0</th>\n",
              "      <td>OMD Estate Agents are delighted to present thi...</td>\n",
              "      <td>estate agents delighted present townhouse situ...</td>\n",
              "    </tr>\n",
              "    <tr>\n",
              "      <th>1</th>\n",
              "      <td>Welcome to Saint Anthony No.214 Glasnevin Aven...</td>\n",
              "      <td>welcome saint anthony glasnevin avenue substan...</td>\n",
              "    </tr>\n",
              "    <tr>\n",
              "      <th>2</th>\n",
              "      <td>Located in this ever popular road, on grounds ...</td>\n",
              "      <td>located popular grounds approximately killiney...</td>\n",
              "    </tr>\n",
              "    <tr>\n",
              "      <th>3</th>\n",
              "      <td>DNG are delighted to represent the sale of thi...</td>\n",
              "      <td>delighted represent impeccable tyler owens des...</td>\n",
              "    </tr>\n",
              "    <tr>\n",
              "      <th>4</th>\n",
              "      <td>A unique opportunity to acquire this red brick...</td>\n",
              "      <td>unique opportunity acquire brick bedroom prope...</td>\n",
              "    </tr>\n",
              "  </tbody>\n",
              "</table>\n",
              "</div>"
            ],
            "text/plain": [
              "                                             message                                      clean_message\n",
              "0  OMD Estate Agents are delighted to present thi...  estate agents delighted present townhouse situ...\n",
              "1  Welcome to Saint Anthony No.214 Glasnevin Aven...  welcome saint anthony glasnevin avenue substan...\n",
              "2  Located in this ever popular road, on grounds ...  located popular grounds approximately killiney...\n",
              "3  DNG are delighted to represent the sale of thi...  delighted represent impeccable tyler owens des...\n",
              "4  A unique opportunity to acquire this red brick...  unique opportunity acquire brick bedroom prope..."
            ]
          },
          "metadata": {},
          "execution_count": 334
        }
      ]
    },
    {
      "cell_type": "markdown",
      "metadata": {
        "id": "WontLtP9jX4W"
      },
      "source": [
        "**[TfidfVectorizer](https://scikit-learn.org/stable/modules/generated/sklearn.feature_extraction.text.TfidfVectorizer.html)**\n",
        "\n",
        "Convert a collection of raw documents to a matrix of TF-IDF features."
      ]
    },
    {
      "cell_type": "markdown",
      "metadata": {
        "id": "3jnhhfC2kel2"
      },
      "source": [
        "**sklearn: \"Tf means term-frequency while tf–idf means term-frequency times inverse document-frequency\"**"
      ]
    },
    {
      "cell_type": "code",
      "metadata": {
        "id": "Ivsq2j7QjX4W"
      },
      "source": [
        "# from sklearn.feature_extraction.text import TfidfVectorizer\n",
        "\n",
        "# # vectorizer = TfidfVectorizer(stop_words='english', max_features= 50, max_df=0.5, smooth_idf=True)\n",
        "\n",
        "# vectorizer = TfidfVectorizer(stop_words='english', max_features= 300, vocabulary=nlp_train_vocab, max_df=0.5, smooth_idf=True)\n",
        "\n",
        "# print(vectorizer)"
      ],
      "execution_count": 335,
      "outputs": []
    },
    {
      "cell_type": "markdown",
      "metadata": {
        "id": "-9awDZqjlXDk"
      },
      "source": [
        "**sklearn: \"Transform documents to document-term matrix.\n",
        "Uses the vocabulary and document frequencies (df) learned by fit (or fit_transform).\"**"
      ]
    },
    {
      "cell_type": "code",
      "metadata": {
        "colab": {
          "base_uri": "https://localhost:8080/"
        },
        "id": "cK8f_ltnjX4W",
        "outputId": "48db461d-c678-45d7-8596-4ec3f2a40ec1"
      },
      "source": [
        "X_nlp_sparse = vectorizer.transform(new_df['clean_message'])\n",
        "X_nlp_sparse.shape"
      ],
      "execution_count": 336,
      "outputs": [
        {
          "output_type": "execute_result",
          "data": {
            "text/plain": [
              "(528, 10)"
            ]
          },
          "metadata": {},
          "execution_count": 336
        }
      ]
    },
    {
      "cell_type": "code",
      "metadata": {
        "colab": {
          "base_uri": "https://localhost:8080/"
        },
        "id": "Uw2wSgJZjX4W",
        "outputId": "318cb67e-5b82-42e1-b5fa-685e29997bd4"
      },
      "source": [
        "type(X_nlp_sparse)"
      ],
      "execution_count": 337,
      "outputs": [
        {
          "output_type": "execute_result",
          "data": {
            "text/plain": [
              "scipy.sparse.csr.csr_matrix"
            ]
          },
          "metadata": {},
          "execution_count": 337
        }
      ]
    },
    {
      "cell_type": "code",
      "metadata": {
        "colab": {
          "base_uri": "https://localhost:8080/"
        },
        "id": "qtREIwiFjX4X",
        "outputId": "b9f4a8be-465f-4971-95e8-2da161379efe"
      },
      "source": [
        "###### my code\n",
        "\n",
        "X_nlp_test = X_nlp_sparse.todense()\n",
        "\n",
        "type(X_nlp_test)"
      ],
      "execution_count": 338,
      "outputs": [
        {
          "output_type": "execute_result",
          "data": {
            "text/plain": [
              "numpy.matrix"
            ]
          },
          "metadata": {},
          "execution_count": 338
        }
      ]
    },
    {
      "cell_type": "code",
      "metadata": {
        "colab": {
          "base_uri": "https://localhost:8080/"
        },
        "id": "JbR67Nn7sOoN",
        "outputId": "1cfc0b71-2f50-471b-dcbe-667e11a76b7c"
      },
      "source": [
        "X_nlp_test.shape"
      ],
      "execution_count": 339,
      "outputs": [
        {
          "output_type": "execute_result",
          "data": {
            "text/plain": [
              "(528, 10)"
            ]
          },
          "metadata": {},
          "execution_count": 339
        }
      ]
    },
    {
      "cell_type": "code",
      "metadata": {
        "id": "P6Xyp3gPjX4X"
      },
      "source": [
        "# from sklearn.neural_network import MLPRegressor\n",
        "\n",
        "# regr = MLPRegressor(hidden_layer_sizes=(25, 25, 25),random_state=1, max_iter=500).fit(X_nlp_train, y_nlp_train)\n",
        "\n",
        "y_nlp_test_pred = regr.predict(X_nlp_test)"
      ],
      "execution_count": 340,
      "outputs": []
    },
    {
      "cell_type": "code",
      "metadata": {
        "colab": {
          "base_uri": "https://localhost:8080/"
        },
        "id": "lzzqD5W9spPy",
        "outputId": "1ae20a91-594c-4405-9310-b821b4e1573c"
      },
      "source": [
        "type(y_nlp_test_pred)"
      ],
      "execution_count": 341,
      "outputs": [
        {
          "output_type": "execute_result",
          "data": {
            "text/plain": [
              "numpy.ndarray"
            ]
          },
          "metadata": {},
          "execution_count": 341
        }
      ]
    },
    {
      "cell_type": "code",
      "metadata": {
        "colab": {
          "base_uri": "https://localhost:8080/"
        },
        "id": "uv12AqhztccZ",
        "outputId": "4349033f-ddbd-47bb-df48-388b95a62f97"
      },
      "source": [
        "# Convert from Numpy array to Pandas DataFrame.\n",
        "\n",
        "y_nlp_test_pred_df = pd.DataFrame(data=y_nlp_test_pred, columns=[\"Price\"])\n",
        "\n",
        "y_nlp_test_pred_df.shape"
      ],
      "execution_count": 342,
      "outputs": [
        {
          "output_type": "execute_result",
          "data": {
            "text/plain": [
              "(528, 1)"
            ]
          },
          "metadata": {},
          "execution_count": 342
        }
      ]
    },
    {
      "cell_type": "code",
      "metadata": {
        "colab": {
          "base_uri": "https://localhost:8080/",
          "height": 206
        },
        "id": "LMrnRs3ipwRP",
        "outputId": "72c8772f-8378-4b3a-c6d3-19a4698db6a6"
      },
      "source": [
        "y_nlp_test_pred_df.head()"
      ],
      "execution_count": 343,
      "outputs": [
        {
          "output_type": "execute_result",
          "data": {
            "text/html": [
              "<div>\n",
              "<style scoped>\n",
              "    .dataframe tbody tr th:only-of-type {\n",
              "        vertical-align: middle;\n",
              "    }\n",
              "\n",
              "    .dataframe tbody tr th {\n",
              "        vertical-align: top;\n",
              "    }\n",
              "\n",
              "    .dataframe thead th {\n",
              "        text-align: right;\n",
              "    }\n",
              "</style>\n",
              "<table border=\"1\" class=\"dataframe\">\n",
              "  <thead>\n",
              "    <tr style=\"text-align: right;\">\n",
              "      <th></th>\n",
              "      <th>Price</th>\n",
              "    </tr>\n",
              "  </thead>\n",
              "  <tbody>\n",
              "    <tr>\n",
              "      <th>0</th>\n",
              "      <td>311796.152179</td>\n",
              "    </tr>\n",
              "    <tr>\n",
              "      <th>1</th>\n",
              "      <td>455961.301473</td>\n",
              "    </tr>\n",
              "    <tr>\n",
              "      <th>2</th>\n",
              "      <td>462403.195171</td>\n",
              "    </tr>\n",
              "    <tr>\n",
              "      <th>3</th>\n",
              "      <td>487094.811540</td>\n",
              "    </tr>\n",
              "    <tr>\n",
              "      <th>4</th>\n",
              "      <td>390584.557225</td>\n",
              "    </tr>\n",
              "  </tbody>\n",
              "</table>\n",
              "</div>"
            ],
            "text/plain": [
              "           Price\n",
              "0  311796.152179\n",
              "1  455961.301473\n",
              "2  462403.195171\n",
              "3  487094.811540\n",
              "4  390584.557225"
            ]
          },
          "metadata": {},
          "execution_count": 343
        }
      ]
    },
    {
      "cell_type": "code",
      "metadata": {
        "colab": {
          "base_uri": "https://localhost:8080/",
          "height": 206
        },
        "id": "rK2ltRSXmg1T",
        "outputId": "a05e6a2e-3df9-4a39-b4a2-f21099a0574d"
      },
      "source": [
        "nlp_test_ID = dftest.drop(['Location', 'Num_Bathrooms', 'Num_Beds', 'BER_class',\t'Latitude',\t'Longitude', 'Type', 'Surface', 'Information'], axis=1)\n",
        "\n",
        "nlp_test_ID.head()"
      ],
      "execution_count": 344,
      "outputs": [
        {
          "output_type": "execute_result",
          "data": {
            "text/html": [
              "<div>\n",
              "<style scoped>\n",
              "    .dataframe tbody tr th:only-of-type {\n",
              "        vertical-align: middle;\n",
              "    }\n",
              "\n",
              "    .dataframe tbody tr th {\n",
              "        vertical-align: top;\n",
              "    }\n",
              "\n",
              "    .dataframe thead th {\n",
              "        text-align: right;\n",
              "    }\n",
              "</style>\n",
              "<table border=\"1\" class=\"dataframe\">\n",
              "  <thead>\n",
              "    <tr style=\"text-align: right;\">\n",
              "      <th></th>\n",
              "      <th>index</th>\n",
              "      <th>Index</th>\n",
              "    </tr>\n",
              "  </thead>\n",
              "  <tbody>\n",
              "    <tr>\n",
              "      <th>0</th>\n",
              "      <td>0</td>\n",
              "      <td>1639</td>\n",
              "    </tr>\n",
              "    <tr>\n",
              "      <th>1</th>\n",
              "      <td>1</td>\n",
              "      <td>1640</td>\n",
              "    </tr>\n",
              "    <tr>\n",
              "      <th>2</th>\n",
              "      <td>2</td>\n",
              "      <td>1641</td>\n",
              "    </tr>\n",
              "    <tr>\n",
              "      <th>3</th>\n",
              "      <td>3</td>\n",
              "      <td>1642</td>\n",
              "    </tr>\n",
              "    <tr>\n",
              "      <th>4</th>\n",
              "      <td>4</td>\n",
              "      <td>1643</td>\n",
              "    </tr>\n",
              "  </tbody>\n",
              "</table>\n",
              "</div>"
            ],
            "text/plain": [
              "   index  Index\n",
              "0      0   1639\n",
              "1      1   1640\n",
              "2      2   1641\n",
              "3      3   1642\n",
              "4      4   1643"
            ]
          },
          "metadata": {},
          "execution_count": 344
        }
      ]
    },
    {
      "cell_type": "code",
      "metadata": {
        "colab": {
          "base_uri": "https://localhost:8080/"
        },
        "id": "3IjK8XQezoWL",
        "outputId": "2696b991-8c0a-4cc3-fb5b-14aeda533901"
      },
      "source": [
        "nlp_test_ID.shape"
      ],
      "execution_count": 345,
      "outputs": [
        {
          "output_type": "execute_result",
          "data": {
            "text/plain": [
              "(528, 2)"
            ]
          },
          "metadata": {},
          "execution_count": 345
        }
      ]
    },
    {
      "cell_type": "code",
      "metadata": {
        "colab": {
          "base_uri": "https://localhost:8080/",
          "height": 206
        },
        "id": "hU7Fw8_zrI9b",
        "outputId": "635d5d31-93e6-424c-980f-388ad76107a9"
      },
      "source": [
        "dftest_nlp_total = pd.concat([nlp_test_ID, y_nlp_test_pred_df], axis=1)\n",
        "\n",
        "# dftest_nlp_total.rename(columns={\"ID\": \"Id\"}, inplace=True)\n",
        "dftest_nlp_total.rename(columns={\"ID\": \"Index\"}, inplace=True)\n",
        "\n",
        "#dftest_nlp_total.drop(columns={'index'}, inplace=True)\n",
        "\n",
        "dftest_nlp_total.head()"
      ],
      "execution_count": 346,
      "outputs": [
        {
          "output_type": "execute_result",
          "data": {
            "text/html": [
              "<div>\n",
              "<style scoped>\n",
              "    .dataframe tbody tr th:only-of-type {\n",
              "        vertical-align: middle;\n",
              "    }\n",
              "\n",
              "    .dataframe tbody tr th {\n",
              "        vertical-align: top;\n",
              "    }\n",
              "\n",
              "    .dataframe thead th {\n",
              "        text-align: right;\n",
              "    }\n",
              "</style>\n",
              "<table border=\"1\" class=\"dataframe\">\n",
              "  <thead>\n",
              "    <tr style=\"text-align: right;\">\n",
              "      <th></th>\n",
              "      <th>index</th>\n",
              "      <th>Index</th>\n",
              "      <th>Price</th>\n",
              "    </tr>\n",
              "  </thead>\n",
              "  <tbody>\n",
              "    <tr>\n",
              "      <th>0</th>\n",
              "      <td>0</td>\n",
              "      <td>1639</td>\n",
              "      <td>311796.152179</td>\n",
              "    </tr>\n",
              "    <tr>\n",
              "      <th>1</th>\n",
              "      <td>1</td>\n",
              "      <td>1640</td>\n",
              "      <td>455961.301473</td>\n",
              "    </tr>\n",
              "    <tr>\n",
              "      <th>2</th>\n",
              "      <td>2</td>\n",
              "      <td>1641</td>\n",
              "      <td>462403.195171</td>\n",
              "    </tr>\n",
              "    <tr>\n",
              "      <th>3</th>\n",
              "      <td>3</td>\n",
              "      <td>1642</td>\n",
              "      <td>487094.811540</td>\n",
              "    </tr>\n",
              "    <tr>\n",
              "      <th>4</th>\n",
              "      <td>4</td>\n",
              "      <td>1643</td>\n",
              "      <td>390584.557225</td>\n",
              "    </tr>\n",
              "  </tbody>\n",
              "</table>\n",
              "</div>"
            ],
            "text/plain": [
              "   index  Index          Price\n",
              "0      0   1639  311796.152179\n",
              "1      1   1640  455961.301473\n",
              "2      2   1641  462403.195171\n",
              "3      3   1642  487094.811540\n",
              "4      4   1643  390584.557225"
            ]
          },
          "metadata": {},
          "execution_count": 346
        }
      ]
    },
    {
      "cell_type": "code",
      "metadata": {
        "colab": {
          "base_uri": "https://localhost:8080/"
        },
        "id": "tfeQ5mzVvgsm",
        "outputId": "99f17684-76e0-4055-8402-d67a7d3faf32"
      },
      "source": [
        "dftest_nlp_total.shape"
      ],
      "execution_count": 347,
      "outputs": [
        {
          "output_type": "execute_result",
          "data": {
            "text/plain": [
              "(528, 3)"
            ]
          },
          "metadata": {},
          "execution_count": 347
        }
      ]
    },
    {
      "cell_type": "code",
      "metadata": {
        "id": "ERtpzdfmvPpM"
      },
      "source": [
        "#dftest_nlp_total.to_csv('ET5003_Kaggle_MichaelMcKegney_20149743.csv', index=False)\n",
        "\n",
        "#dftest_nlp_total.to_csv('C:/Users/mmcke/ET5003_SEM1_2021-2/ET5003_Kaggle_MichaelMcKegney_20149743.csv', index=False)\n",
        "\n",
        "dftest_nlp_total.to_csv('/content/drive/MyDrive/UL_Colab_Files/ET5003/Etivity 3 Kaggle Competition/ET5003_Kaggle_MichaelMcKegney_20149743.csv', index=False)"
      ],
      "execution_count": 348,
      "outputs": []
    },
    {
      "cell_type": "markdown",
      "metadata": {
        "id": "bJFJQxAS9HZK"
      },
      "source": [
        "# PIECEWISE REGRESSION"
      ]
    },
    {
      "cell_type": "markdown",
      "metadata": {
        "id": "QkRchZtf6IV-"
      },
      "source": [
        "**Piecewise regression**, extract from [Wikipedia](https://en.wikipedia.org/wiki/Segmented_regression):\n",
        "\n",
        "Segmented regression, also known as piecewise regression or broken-stick regression, is a method in regression analysis in which the independent variable is partitioned into intervals and a separate line segment is fit to each interval. \n",
        "\n",
        "* Segmented regression analysis can also be performed on \n",
        "multivariate data by partitioning the various independent variables. \n",
        "* Segmented regression is useful when the independent variables, clustered into different groups, exhibit different relationships between the variables in these regions. \n",
        "\n",
        "* The boundaries between the segments are breakpoints.\n",
        "\n",
        "* Segmented linear regression is segmented regression whereby the relations in the intervals are obtained by linear regression. "
      ]
    },
    {
      "cell_type": "markdown",
      "metadata": {
        "id": "po84zvge2NS7"
      },
      "source": [
        "Your comments, explanation, and references here."
      ]
    },
    {
      "cell_type": "code",
      "metadata": {
        "colab": {
          "base_uri": "https://localhost:8080/",
          "height": 206
        },
        "id": "ux9Qvp3y2_eS",
        "outputId": "535a069a-520c-4453-bf74-5af2e27dc7b9"
      },
      "source": [
        "dftrain.head()"
      ],
      "execution_count": 349,
      "outputs": [
        {
          "output_type": "execute_result",
          "data": {
            "text/html": [
              "<div>\n",
              "<style scoped>\n",
              "    .dataframe tbody tr th:only-of-type {\n",
              "        vertical-align: middle;\n",
              "    }\n",
              "\n",
              "    .dataframe tbody tr th {\n",
              "        vertical-align: top;\n",
              "    }\n",
              "\n",
              "    .dataframe thead th {\n",
              "        text-align: right;\n",
              "    }\n",
              "</style>\n",
              "<table border=\"1\" class=\"dataframe\">\n",
              "  <thead>\n",
              "    <tr style=\"text-align: right;\">\n",
              "      <th></th>\n",
              "      <th>Location</th>\n",
              "      <th>Num_Bathrooms</th>\n",
              "      <th>Num_Beds</th>\n",
              "      <th>BER_class</th>\n",
              "      <th>Latitude</th>\n",
              "      <th>Longitude</th>\n",
              "      <th>Type</th>\n",
              "      <th>Surface</th>\n",
              "      <th>Price</th>\n",
              "      <th>Information</th>\n",
              "    </tr>\n",
              "  </thead>\n",
              "  <tbody>\n",
              "    <tr>\n",
              "      <th>0</th>\n",
              "      <td>98</td>\n",
              "      <td>2</td>\n",
              "      <td>2</td>\n",
              "      <td>9</td>\n",
              "      <td>53.396659</td>\n",
              "      <td>-6.438791</td>\n",
              "      <td>1</td>\n",
              "      <td>67.00</td>\n",
              "      <td>195000</td>\n",
              "      <td>DNG are delighted to present to the market no....</td>\n",
              "    </tr>\n",
              "    <tr>\n",
              "      <th>1</th>\n",
              "      <td>96</td>\n",
              "      <td>1</td>\n",
              "      <td>2</td>\n",
              "      <td>10</td>\n",
              "      <td>53.357129</td>\n",
              "      <td>-6.239779</td>\n",
              "      <td>9</td>\n",
              "      <td>95.97</td>\n",
              "      <td>425000</td>\n",
              "      <td>13 Northbrook Terrace is a charming red brick ...</td>\n",
              "    </tr>\n",
              "    <tr>\n",
              "      <th>2</th>\n",
              "      <td>124</td>\n",
              "      <td>3</td>\n",
              "      <td>3</td>\n",
              "      <td>3</td>\n",
              "      <td>53.266468</td>\n",
              "      <td>-6.222771</td>\n",
              "      <td>6</td>\n",
              "      <td>107.00</td>\n",
              "      <td>535000</td>\n",
              "      <td>Welcome to No. 6 Cotter Close, an immaculately...</td>\n",
              "    </tr>\n",
              "    <tr>\n",
              "      <th>3</th>\n",
              "      <td>22</td>\n",
              "      <td>1</td>\n",
              "      <td>3</td>\n",
              "      <td>12</td>\n",
              "      <td>53.261600</td>\n",
              "      <td>-6.166738</td>\n",
              "      <td>3</td>\n",
              "      <td>81.00</td>\n",
              "      <td>499000</td>\n",
              "      <td>Welcome to 3 Sycamore Walk!\\n\\r\\nEnjoying a pr...</td>\n",
              "    </tr>\n",
              "    <tr>\n",
              "      <th>5</th>\n",
              "      <td>61</td>\n",
              "      <td>1</td>\n",
              "      <td>3</td>\n",
              "      <td>12</td>\n",
              "      <td>53.380367</td>\n",
              "      <td>-6.279310</td>\n",
              "      <td>9</td>\n",
              "      <td>140.00</td>\n",
              "      <td>360000</td>\n",
              "      <td>Property Team Lappin Estates take great pleasu...</td>\n",
              "    </tr>\n",
              "  </tbody>\n",
              "</table>\n",
              "</div>"
            ],
            "text/plain": [
              "   Location  ...                                        Information\n",
              "0        98  ...  DNG are delighted to present to the market no....\n",
              "1        96  ...  13 Northbrook Terrace is a charming red brick ...\n",
              "2       124  ...  Welcome to No. 6 Cotter Close, an immaculately...\n",
              "3        22  ...  Welcome to 3 Sycamore Walk!\\n\\r\\nEnjoying a pr...\n",
              "5        61  ...  Property Team Lappin Estates take great pleasu...\n",
              "\n",
              "[5 rows x 10 columns]"
            ]
          },
          "metadata": {},
          "execution_count": 349
        }
      ]
    },
    {
      "cell_type": "code",
      "metadata": {
        "colab": {
          "base_uri": "https://localhost:8080/"
        },
        "id": "Th9P2aiX2_ai",
        "outputId": "3838d664-db18-4389-8202-b26bc8545808"
      },
      "source": [
        "dftrain.shape"
      ],
      "execution_count": 350,
      "outputs": [
        {
          "output_type": "execute_result",
          "data": {
            "text/plain": [
              "(1165, 10)"
            ]
          },
          "metadata": {},
          "execution_count": 350
        }
      ]
    },
    {
      "cell_type": "code",
      "metadata": {
        "colab": {
          "base_uri": "https://localhost:8080/",
          "height": 206
        },
        "id": "A-iqfsIdBeFG",
        "outputId": "9e835f26-6fde-4d6f-950c-4bc740310bc9"
      },
      "source": [
        "dftest.head()"
      ],
      "execution_count": 351,
      "outputs": [
        {
          "output_type": "execute_result",
          "data": {
            "text/html": [
              "<div>\n",
              "<style scoped>\n",
              "    .dataframe tbody tr th:only-of-type {\n",
              "        vertical-align: middle;\n",
              "    }\n",
              "\n",
              "    .dataframe tbody tr th {\n",
              "        vertical-align: top;\n",
              "    }\n",
              "\n",
              "    .dataframe thead th {\n",
              "        text-align: right;\n",
              "    }\n",
              "</style>\n",
              "<table border=\"1\" class=\"dataframe\">\n",
              "  <thead>\n",
              "    <tr style=\"text-align: right;\">\n",
              "      <th></th>\n",
              "      <th>index</th>\n",
              "      <th>Index</th>\n",
              "      <th>Location</th>\n",
              "      <th>Num_Bathrooms</th>\n",
              "      <th>Num_Beds</th>\n",
              "      <th>BER_class</th>\n",
              "      <th>Latitude</th>\n",
              "      <th>Longitude</th>\n",
              "      <th>Type</th>\n",
              "      <th>Surface</th>\n",
              "      <th>Information</th>\n",
              "    </tr>\n",
              "  </thead>\n",
              "  <tbody>\n",
              "    <tr>\n",
              "      <th>0</th>\n",
              "      <td>0</td>\n",
              "      <td>1639</td>\n",
              "      <td>77</td>\n",
              "      <td>2</td>\n",
              "      <td>2</td>\n",
              "      <td>7</td>\n",
              "      <td>53.316269</td>\n",
              "      <td>-6.243391</td>\n",
              "      <td>9</td>\n",
              "      <td>65.0</td>\n",
              "      <td>OMD Estate Agents are delighted to present thi...</td>\n",
              "    </tr>\n",
              "    <tr>\n",
              "      <th>1</th>\n",
              "      <td>1</td>\n",
              "      <td>1640</td>\n",
              "      <td>54</td>\n",
              "      <td>2</td>\n",
              "      <td>5</td>\n",
              "      <td>11</td>\n",
              "      <td>53.390769</td>\n",
              "      <td>-6.281936</td>\n",
              "      <td>6</td>\n",
              "      <td>142.0</td>\n",
              "      <td>Welcome to Saint Anthony No.214 Glasnevin Aven...</td>\n",
              "    </tr>\n",
              "    <tr>\n",
              "      <th>2</th>\n",
              "      <td>2</td>\n",
              "      <td>1641</td>\n",
              "      <td>36</td>\n",
              "      <td>1</td>\n",
              "      <td>2</td>\n",
              "      <td>14</td>\n",
              "      <td>53.272486</td>\n",
              "      <td>-6.108675</td>\n",
              "      <td>3</td>\n",
              "      <td>80.0</td>\n",
              "      <td>Located in this ever popular road, on grounds ...</td>\n",
              "    </tr>\n",
              "    <tr>\n",
              "      <th>3</th>\n",
              "      <td>3</td>\n",
              "      <td>1642</td>\n",
              "      <td>92</td>\n",
              "      <td>4</td>\n",
              "      <td>4</td>\n",
              "      <td>1</td>\n",
              "      <td>53.376932</td>\n",
              "      <td>-6.185334</td>\n",
              "      <td>3</td>\n",
              "      <td>209.0</td>\n",
              "      <td>DNG are delighted to represent the sale of thi...</td>\n",
              "    </tr>\n",
              "    <tr>\n",
              "      <th>4</th>\n",
              "      <td>4</td>\n",
              "      <td>1643</td>\n",
              "      <td>35</td>\n",
              "      <td>2</td>\n",
              "      <td>3</td>\n",
              "      <td>13</td>\n",
              "      <td>53.327208</td>\n",
              "      <td>-6.308938</td>\n",
              "      <td>5</td>\n",
              "      <td>108.0</td>\n",
              "      <td>A unique opportunity to acquire this red brick...</td>\n",
              "    </tr>\n",
              "  </tbody>\n",
              "</table>\n",
              "</div>"
            ],
            "text/plain": [
              "   index  Index  ...  Surface                                        Information\n",
              "0      0   1639  ...     65.0  OMD Estate Agents are delighted to present thi...\n",
              "1      1   1640  ...    142.0  Welcome to Saint Anthony No.214 Glasnevin Aven...\n",
              "2      2   1641  ...     80.0  Located in this ever popular road, on grounds ...\n",
              "3      3   1642  ...    209.0  DNG are delighted to represent the sale of thi...\n",
              "4      4   1643  ...    108.0  A unique opportunity to acquire this red brick...\n",
              "\n",
              "[5 rows x 11 columns]"
            ]
          },
          "metadata": {},
          "execution_count": 351
        }
      ]
    },
    {
      "cell_type": "code",
      "metadata": {
        "colab": {
          "base_uri": "https://localhost:8080/"
        },
        "id": "CVkvTWeZ2_ZT",
        "outputId": "de8fd0cb-7078-470d-cba3-b3f858e7e939"
      },
      "source": [
        "dftest.shape"
      ],
      "execution_count": 352,
      "outputs": [
        {
          "output_type": "execute_result",
          "data": {
            "text/plain": [
              "(528, 11)"
            ]
          },
          "metadata": {},
          "execution_count": 352
        }
      ]
    },
    {
      "cell_type": "code",
      "metadata": {
        "colab": {
          "base_uri": "https://localhost:8080/"
        },
        "id": "wcCNR2UbDy8D",
        "outputId": "62aa5a09-05be-4c50-890d-aaa542698901"
      },
      "source": [
        "X_nlp.shape"
      ],
      "execution_count": 353,
      "outputs": [
        {
          "output_type": "execute_result",
          "data": {
            "text/plain": [
              "(1165, 10)"
            ]
          },
          "metadata": {},
          "execution_count": 353
        }
      ]
    },
    {
      "cell_type": "code",
      "metadata": {
        "colab": {
          "base_uri": "https://localhost:8080/"
        },
        "id": "uTCZdh6FJAzi",
        "outputId": "88707750-d3d4-4236-ffa2-996c5805f219"
      },
      "source": [
        "type(X_nlp)"
      ],
      "execution_count": 354,
      "outputs": [
        {
          "output_type": "execute_result",
          "data": {
            "text/plain": [
              "numpy.matrix"
            ]
          },
          "metadata": {},
          "execution_count": 354
        }
      ]
    },
    {
      "cell_type": "code",
      "metadata": {
        "id": "zSyGcXsEJbtJ"
      },
      "source": [
        "df_X_nlp = pd.DataFrame(data=X_nlp)\n",
        "\n",
        "# dftest_nlp_total = pd.concat([nlp_test_ID, y_nlp_test_pred_df], axis=1)"
      ],
      "execution_count": 355,
      "outputs": []
    },
    {
      "cell_type": "code",
      "metadata": {
        "colab": {
          "base_uri": "https://localhost:8080/",
          "height": 423
        },
        "id": "A-FhwruILMKg",
        "outputId": "1ce5a7a8-35dd-48bf-b72f-1a3463897c9f"
      },
      "source": [
        "df_X_nlp"
      ],
      "execution_count": 356,
      "outputs": [
        {
          "output_type": "execute_result",
          "data": {
            "text/html": [
              "<div>\n",
              "<style scoped>\n",
              "    .dataframe tbody tr th:only-of-type {\n",
              "        vertical-align: middle;\n",
              "    }\n",
              "\n",
              "    .dataframe tbody tr th {\n",
              "        vertical-align: top;\n",
              "    }\n",
              "\n",
              "    .dataframe thead th {\n",
              "        text-align: right;\n",
              "    }\n",
              "</style>\n",
              "<table border=\"1\" class=\"dataframe\">\n",
              "  <thead>\n",
              "    <tr style=\"text-align: right;\">\n",
              "      <th></th>\n",
              "      <th>0</th>\n",
              "      <th>1</th>\n",
              "      <th>2</th>\n",
              "      <th>3</th>\n",
              "      <th>4</th>\n",
              "      <th>5</th>\n",
              "      <th>6</th>\n",
              "      <th>7</th>\n",
              "      <th>8</th>\n",
              "      <th>9</th>\n",
              "    </tr>\n",
              "  </thead>\n",
              "  <tbody>\n",
              "    <tr>\n",
              "      <th>0</th>\n",
              "      <td>0.759901</td>\n",
              "      <td>0.000000</td>\n",
              "      <td>0.000000</td>\n",
              "      <td>0.000000</td>\n",
              "      <td>0.000000</td>\n",
              "      <td>0.436204</td>\n",
              "      <td>0.000000</td>\n",
              "      <td>0.414139</td>\n",
              "      <td>0.000000</td>\n",
              "      <td>0.246507</td>\n",
              "    </tr>\n",
              "    <tr>\n",
              "      <th>1</th>\n",
              "      <td>0.000000</td>\n",
              "      <td>0.000000</td>\n",
              "      <td>0.000000</td>\n",
              "      <td>0.256859</td>\n",
              "      <td>0.258259</td>\n",
              "      <td>0.256025</td>\n",
              "      <td>0.000000</td>\n",
              "      <td>0.850761</td>\n",
              "      <td>0.238850</td>\n",
              "      <td>0.144685</td>\n",
              "    </tr>\n",
              "    <tr>\n",
              "      <th>2</th>\n",
              "      <td>0.000000</td>\n",
              "      <td>0.000000</td>\n",
              "      <td>0.000000</td>\n",
              "      <td>0.000000</td>\n",
              "      <td>0.000000</td>\n",
              "      <td>0.671497</td>\n",
              "      <td>0.217924</td>\n",
              "      <td>0.212510</td>\n",
              "      <td>0.626450</td>\n",
              "      <td>0.252984</td>\n",
              "    </tr>\n",
              "    <tr>\n",
              "      <th>3</th>\n",
              "      <td>0.000000</td>\n",
              "      <td>0.000000</td>\n",
              "      <td>0.000000</td>\n",
              "      <td>0.000000</td>\n",
              "      <td>0.829209</td>\n",
              "      <td>0.000000</td>\n",
              "      <td>0.400168</td>\n",
              "      <td>0.390227</td>\n",
              "      <td>0.000000</td>\n",
              "      <td>0.000000</td>\n",
              "    </tr>\n",
              "    <tr>\n",
              "      <th>4</th>\n",
              "      <td>0.000000</td>\n",
              "      <td>0.000000</td>\n",
              "      <td>0.000000</td>\n",
              "      <td>1.000000</td>\n",
              "      <td>0.000000</td>\n",
              "      <td>0.000000</td>\n",
              "      <td>0.000000</td>\n",
              "      <td>0.000000</td>\n",
              "      <td>0.000000</td>\n",
              "      <td>0.000000</td>\n",
              "    </tr>\n",
              "    <tr>\n",
              "      <th>...</th>\n",
              "      <td>...</td>\n",
              "      <td>...</td>\n",
              "      <td>...</td>\n",
              "      <td>...</td>\n",
              "      <td>...</td>\n",
              "      <td>...</td>\n",
              "      <td>...</td>\n",
              "      <td>...</td>\n",
              "      <td>...</td>\n",
              "      <td>...</td>\n",
              "    </tr>\n",
              "    <tr>\n",
              "      <th>1160</th>\n",
              "      <td>0.279662</td>\n",
              "      <td>0.000000</td>\n",
              "      <td>0.241847</td>\n",
              "      <td>0.000000</td>\n",
              "      <td>0.485803</td>\n",
              "      <td>0.722402</td>\n",
              "      <td>0.234444</td>\n",
              "      <td>0.000000</td>\n",
              "      <td>0.224646</td>\n",
              "      <td>0.000000</td>\n",
              "    </tr>\n",
              "    <tr>\n",
              "      <th>1161</th>\n",
              "      <td>0.000000</td>\n",
              "      <td>0.000000</td>\n",
              "      <td>0.000000</td>\n",
              "      <td>0.000000</td>\n",
              "      <td>0.000000</td>\n",
              "      <td>0.000000</td>\n",
              "      <td>0.000000</td>\n",
              "      <td>0.000000</td>\n",
              "      <td>1.000000</td>\n",
              "      <td>0.000000</td>\n",
              "    </tr>\n",
              "    <tr>\n",
              "      <th>1162</th>\n",
              "      <td>0.000000</td>\n",
              "      <td>0.000000</td>\n",
              "      <td>0.000000</td>\n",
              "      <td>0.000000</td>\n",
              "      <td>0.000000</td>\n",
              "      <td>0.000000</td>\n",
              "      <td>0.000000</td>\n",
              "      <td>0.000000</td>\n",
              "      <td>1.000000</td>\n",
              "      <td>0.000000</td>\n",
              "    </tr>\n",
              "    <tr>\n",
              "      <th>1163</th>\n",
              "      <td>0.000000</td>\n",
              "      <td>0.183392</td>\n",
              "      <td>0.000000</td>\n",
              "      <td>0.685321</td>\n",
              "      <td>0.000000</td>\n",
              "      <td>0.585511</td>\n",
              "      <td>0.190019</td>\n",
              "      <td>0.000000</td>\n",
              "      <td>0.091039</td>\n",
              "      <td>0.330884</td>\n",
              "    </tr>\n",
              "    <tr>\n",
              "      <th>1164</th>\n",
              "      <td>0.000000</td>\n",
              "      <td>0.460319</td>\n",
              "      <td>0.000000</td>\n",
              "      <td>0.491479</td>\n",
              "      <td>0.000000</td>\n",
              "      <td>0.489884</td>\n",
              "      <td>0.000000</td>\n",
              "      <td>0.000000</td>\n",
              "      <td>0.000000</td>\n",
              "      <td>0.553686</td>\n",
              "    </tr>\n",
              "  </tbody>\n",
              "</table>\n",
              "<p>1165 rows × 10 columns</p>\n",
              "</div>"
            ],
            "text/plain": [
              "             0         1         2  ...         7         8         9\n",
              "0     0.759901  0.000000  0.000000  ...  0.414139  0.000000  0.246507\n",
              "1     0.000000  0.000000  0.000000  ...  0.850761  0.238850  0.144685\n",
              "2     0.000000  0.000000  0.000000  ...  0.212510  0.626450  0.252984\n",
              "3     0.000000  0.000000  0.000000  ...  0.390227  0.000000  0.000000\n",
              "4     0.000000  0.000000  0.000000  ...  0.000000  0.000000  0.000000\n",
              "...        ...       ...       ...  ...       ...       ...       ...\n",
              "1160  0.279662  0.000000  0.241847  ...  0.000000  0.224646  0.000000\n",
              "1161  0.000000  0.000000  0.000000  ...  0.000000  1.000000  0.000000\n",
              "1162  0.000000  0.000000  0.000000  ...  0.000000  1.000000  0.000000\n",
              "1163  0.000000  0.183392  0.000000  ...  0.000000  0.091039  0.330884\n",
              "1164  0.000000  0.460319  0.000000  ...  0.000000  0.000000  0.553686\n",
              "\n",
              "[1165 rows x 10 columns]"
            ]
          },
          "metadata": {},
          "execution_count": 356
        }
      ]
    },
    {
      "cell_type": "code",
      "metadata": {
        "id": "YhkjK3ITQBsX"
      },
      "source": [
        "df_X_nlp.columns=['Word0', 'Word1', 'Word2', 'Word3', 'Word4', 'Word5', \\\n",
        "                  'Word6', 'Word7', 'Word8', 'Word9']"
      ],
      "execution_count": 357,
      "outputs": []
    },
    {
      "cell_type": "code",
      "metadata": {
        "colab": {
          "base_uri": "https://localhost:8080/",
          "height": 423
        },
        "id": "mMoKo0B6SITU",
        "outputId": "d1d7683f-922b-4783-8208-2a2fe2c18cb1"
      },
      "source": [
        "df_X_nlp"
      ],
      "execution_count": 358,
      "outputs": [
        {
          "output_type": "execute_result",
          "data": {
            "text/html": [
              "<div>\n",
              "<style scoped>\n",
              "    .dataframe tbody tr th:only-of-type {\n",
              "        vertical-align: middle;\n",
              "    }\n",
              "\n",
              "    .dataframe tbody tr th {\n",
              "        vertical-align: top;\n",
              "    }\n",
              "\n",
              "    .dataframe thead th {\n",
              "        text-align: right;\n",
              "    }\n",
              "</style>\n",
              "<table border=\"1\" class=\"dataframe\">\n",
              "  <thead>\n",
              "    <tr style=\"text-align: right;\">\n",
              "      <th></th>\n",
              "      <th>Word0</th>\n",
              "      <th>Word1</th>\n",
              "      <th>Word2</th>\n",
              "      <th>Word3</th>\n",
              "      <th>Word4</th>\n",
              "      <th>Word5</th>\n",
              "      <th>Word6</th>\n",
              "      <th>Word7</th>\n",
              "      <th>Word8</th>\n",
              "      <th>Word9</th>\n",
              "    </tr>\n",
              "  </thead>\n",
              "  <tbody>\n",
              "    <tr>\n",
              "      <th>0</th>\n",
              "      <td>0.759901</td>\n",
              "      <td>0.000000</td>\n",
              "      <td>0.000000</td>\n",
              "      <td>0.000000</td>\n",
              "      <td>0.000000</td>\n",
              "      <td>0.436204</td>\n",
              "      <td>0.000000</td>\n",
              "      <td>0.414139</td>\n",
              "      <td>0.000000</td>\n",
              "      <td>0.246507</td>\n",
              "    </tr>\n",
              "    <tr>\n",
              "      <th>1</th>\n",
              "      <td>0.000000</td>\n",
              "      <td>0.000000</td>\n",
              "      <td>0.000000</td>\n",
              "      <td>0.256859</td>\n",
              "      <td>0.258259</td>\n",
              "      <td>0.256025</td>\n",
              "      <td>0.000000</td>\n",
              "      <td>0.850761</td>\n",
              "      <td>0.238850</td>\n",
              "      <td>0.144685</td>\n",
              "    </tr>\n",
              "    <tr>\n",
              "      <th>2</th>\n",
              "      <td>0.000000</td>\n",
              "      <td>0.000000</td>\n",
              "      <td>0.000000</td>\n",
              "      <td>0.000000</td>\n",
              "      <td>0.000000</td>\n",
              "      <td>0.671497</td>\n",
              "      <td>0.217924</td>\n",
              "      <td>0.212510</td>\n",
              "      <td>0.626450</td>\n",
              "      <td>0.252984</td>\n",
              "    </tr>\n",
              "    <tr>\n",
              "      <th>3</th>\n",
              "      <td>0.000000</td>\n",
              "      <td>0.000000</td>\n",
              "      <td>0.000000</td>\n",
              "      <td>0.000000</td>\n",
              "      <td>0.829209</td>\n",
              "      <td>0.000000</td>\n",
              "      <td>0.400168</td>\n",
              "      <td>0.390227</td>\n",
              "      <td>0.000000</td>\n",
              "      <td>0.000000</td>\n",
              "    </tr>\n",
              "    <tr>\n",
              "      <th>4</th>\n",
              "      <td>0.000000</td>\n",
              "      <td>0.000000</td>\n",
              "      <td>0.000000</td>\n",
              "      <td>1.000000</td>\n",
              "      <td>0.000000</td>\n",
              "      <td>0.000000</td>\n",
              "      <td>0.000000</td>\n",
              "      <td>0.000000</td>\n",
              "      <td>0.000000</td>\n",
              "      <td>0.000000</td>\n",
              "    </tr>\n",
              "    <tr>\n",
              "      <th>...</th>\n",
              "      <td>...</td>\n",
              "      <td>...</td>\n",
              "      <td>...</td>\n",
              "      <td>...</td>\n",
              "      <td>...</td>\n",
              "      <td>...</td>\n",
              "      <td>...</td>\n",
              "      <td>...</td>\n",
              "      <td>...</td>\n",
              "      <td>...</td>\n",
              "    </tr>\n",
              "    <tr>\n",
              "      <th>1160</th>\n",
              "      <td>0.279662</td>\n",
              "      <td>0.000000</td>\n",
              "      <td>0.241847</td>\n",
              "      <td>0.000000</td>\n",
              "      <td>0.485803</td>\n",
              "      <td>0.722402</td>\n",
              "      <td>0.234444</td>\n",
              "      <td>0.000000</td>\n",
              "      <td>0.224646</td>\n",
              "      <td>0.000000</td>\n",
              "    </tr>\n",
              "    <tr>\n",
              "      <th>1161</th>\n",
              "      <td>0.000000</td>\n",
              "      <td>0.000000</td>\n",
              "      <td>0.000000</td>\n",
              "      <td>0.000000</td>\n",
              "      <td>0.000000</td>\n",
              "      <td>0.000000</td>\n",
              "      <td>0.000000</td>\n",
              "      <td>0.000000</td>\n",
              "      <td>1.000000</td>\n",
              "      <td>0.000000</td>\n",
              "    </tr>\n",
              "    <tr>\n",
              "      <th>1162</th>\n",
              "      <td>0.000000</td>\n",
              "      <td>0.000000</td>\n",
              "      <td>0.000000</td>\n",
              "      <td>0.000000</td>\n",
              "      <td>0.000000</td>\n",
              "      <td>0.000000</td>\n",
              "      <td>0.000000</td>\n",
              "      <td>0.000000</td>\n",
              "      <td>1.000000</td>\n",
              "      <td>0.000000</td>\n",
              "    </tr>\n",
              "    <tr>\n",
              "      <th>1163</th>\n",
              "      <td>0.000000</td>\n",
              "      <td>0.183392</td>\n",
              "      <td>0.000000</td>\n",
              "      <td>0.685321</td>\n",
              "      <td>0.000000</td>\n",
              "      <td>0.585511</td>\n",
              "      <td>0.190019</td>\n",
              "      <td>0.000000</td>\n",
              "      <td>0.091039</td>\n",
              "      <td>0.330884</td>\n",
              "    </tr>\n",
              "    <tr>\n",
              "      <th>1164</th>\n",
              "      <td>0.000000</td>\n",
              "      <td>0.460319</td>\n",
              "      <td>0.000000</td>\n",
              "      <td>0.491479</td>\n",
              "      <td>0.000000</td>\n",
              "      <td>0.489884</td>\n",
              "      <td>0.000000</td>\n",
              "      <td>0.000000</td>\n",
              "      <td>0.000000</td>\n",
              "      <td>0.553686</td>\n",
              "    </tr>\n",
              "  </tbody>\n",
              "</table>\n",
              "<p>1165 rows × 10 columns</p>\n",
              "</div>"
            ],
            "text/plain": [
              "         Word0     Word1     Word2  ...     Word7     Word8     Word9\n",
              "0     0.759901  0.000000  0.000000  ...  0.414139  0.000000  0.246507\n",
              "1     0.000000  0.000000  0.000000  ...  0.850761  0.238850  0.144685\n",
              "2     0.000000  0.000000  0.000000  ...  0.212510  0.626450  0.252984\n",
              "3     0.000000  0.000000  0.000000  ...  0.390227  0.000000  0.000000\n",
              "4     0.000000  0.000000  0.000000  ...  0.000000  0.000000  0.000000\n",
              "...        ...       ...       ...  ...       ...       ...       ...\n",
              "1160  0.279662  0.000000  0.241847  ...  0.000000  0.224646  0.000000\n",
              "1161  0.000000  0.000000  0.000000  ...  0.000000  1.000000  0.000000\n",
              "1162  0.000000  0.000000  0.000000  ...  0.000000  1.000000  0.000000\n",
              "1163  0.000000  0.183392  0.000000  ...  0.000000  0.091039  0.330884\n",
              "1164  0.000000  0.460319  0.000000  ...  0.000000  0.000000  0.553686\n",
              "\n",
              "[1165 rows x 10 columns]"
            ]
          },
          "metadata": {},
          "execution_count": 358
        }
      ]
    },
    {
      "cell_type": "code",
      "metadata": {
        "id": "aYgBv-XCOc83"
      },
      "source": [
        "dftrain.reset_index(inplace=True)"
      ],
      "execution_count": 359,
      "outputs": []
    },
    {
      "cell_type": "code",
      "metadata": {
        "id": "zZiPT7CoJzld"
      },
      "source": [
        "dftrain_nlp = pd.concat([dftrain, df_X_nlp], axis=1)"
      ],
      "execution_count": 360,
      "outputs": []
    },
    {
      "cell_type": "code",
      "metadata": {
        "colab": {
          "base_uri": "https://localhost:8080/"
        },
        "id": "wtlF0N4CKsvu",
        "outputId": "c78af6a6-afb1-43b8-f307-cb4034cef84c"
      },
      "source": [
        "dftrain_nlp.shape"
      ],
      "execution_count": 361,
      "outputs": [
        {
          "output_type": "execute_result",
          "data": {
            "text/plain": [
              "(1165, 21)"
            ]
          },
          "metadata": {},
          "execution_count": 361
        }
      ]
    },
    {
      "cell_type": "code",
      "metadata": {
        "id": "gK4lvHGWUPup"
      },
      "source": [
        "dftrain_nlp.drop(['Information'], axis=1, inplace=True)"
      ],
      "execution_count": 362,
      "outputs": []
    },
    {
      "cell_type": "code",
      "metadata": {
        "colab": {
          "base_uri": "https://localhost:8080/",
          "height": 206
        },
        "id": "LvF5EH4PG_G4",
        "outputId": "c2b4ac71-b4f0-4b3b-9375-d3579d9eb641"
      },
      "source": [
        "dftrain_nlp.head()"
      ],
      "execution_count": 363,
      "outputs": [
        {
          "output_type": "execute_result",
          "data": {
            "text/html": [
              "<div>\n",
              "<style scoped>\n",
              "    .dataframe tbody tr th:only-of-type {\n",
              "        vertical-align: middle;\n",
              "    }\n",
              "\n",
              "    .dataframe tbody tr th {\n",
              "        vertical-align: top;\n",
              "    }\n",
              "\n",
              "    .dataframe thead th {\n",
              "        text-align: right;\n",
              "    }\n",
              "</style>\n",
              "<table border=\"1\" class=\"dataframe\">\n",
              "  <thead>\n",
              "    <tr style=\"text-align: right;\">\n",
              "      <th></th>\n",
              "      <th>index</th>\n",
              "      <th>Location</th>\n",
              "      <th>Num_Bathrooms</th>\n",
              "      <th>Num_Beds</th>\n",
              "      <th>BER_class</th>\n",
              "      <th>Latitude</th>\n",
              "      <th>Longitude</th>\n",
              "      <th>Type</th>\n",
              "      <th>Surface</th>\n",
              "      <th>Price</th>\n",
              "      <th>Word0</th>\n",
              "      <th>Word1</th>\n",
              "      <th>Word2</th>\n",
              "      <th>Word3</th>\n",
              "      <th>Word4</th>\n",
              "      <th>Word5</th>\n",
              "      <th>Word6</th>\n",
              "      <th>Word7</th>\n",
              "      <th>Word8</th>\n",
              "      <th>Word9</th>\n",
              "    </tr>\n",
              "  </thead>\n",
              "  <tbody>\n",
              "    <tr>\n",
              "      <th>0</th>\n",
              "      <td>0</td>\n",
              "      <td>98</td>\n",
              "      <td>2</td>\n",
              "      <td>2</td>\n",
              "      <td>9</td>\n",
              "      <td>53.396659</td>\n",
              "      <td>-6.438791</td>\n",
              "      <td>1</td>\n",
              "      <td>67.00</td>\n",
              "      <td>195000</td>\n",
              "      <td>0.759901</td>\n",
              "      <td>0.0</td>\n",
              "      <td>0.0</td>\n",
              "      <td>0.000000</td>\n",
              "      <td>0.000000</td>\n",
              "      <td>0.436204</td>\n",
              "      <td>0.000000</td>\n",
              "      <td>0.414139</td>\n",
              "      <td>0.00000</td>\n",
              "      <td>0.246507</td>\n",
              "    </tr>\n",
              "    <tr>\n",
              "      <th>1</th>\n",
              "      <td>1</td>\n",
              "      <td>96</td>\n",
              "      <td>1</td>\n",
              "      <td>2</td>\n",
              "      <td>10</td>\n",
              "      <td>53.357129</td>\n",
              "      <td>-6.239779</td>\n",
              "      <td>9</td>\n",
              "      <td>95.97</td>\n",
              "      <td>425000</td>\n",
              "      <td>0.000000</td>\n",
              "      <td>0.0</td>\n",
              "      <td>0.0</td>\n",
              "      <td>0.256859</td>\n",
              "      <td>0.258259</td>\n",
              "      <td>0.256025</td>\n",
              "      <td>0.000000</td>\n",
              "      <td>0.850761</td>\n",
              "      <td>0.23885</td>\n",
              "      <td>0.144685</td>\n",
              "    </tr>\n",
              "    <tr>\n",
              "      <th>2</th>\n",
              "      <td>2</td>\n",
              "      <td>124</td>\n",
              "      <td>3</td>\n",
              "      <td>3</td>\n",
              "      <td>3</td>\n",
              "      <td>53.266468</td>\n",
              "      <td>-6.222771</td>\n",
              "      <td>6</td>\n",
              "      <td>107.00</td>\n",
              "      <td>535000</td>\n",
              "      <td>0.000000</td>\n",
              "      <td>0.0</td>\n",
              "      <td>0.0</td>\n",
              "      <td>0.000000</td>\n",
              "      <td>0.000000</td>\n",
              "      <td>0.671497</td>\n",
              "      <td>0.217924</td>\n",
              "      <td>0.212510</td>\n",
              "      <td>0.62645</td>\n",
              "      <td>0.252984</td>\n",
              "    </tr>\n",
              "    <tr>\n",
              "      <th>3</th>\n",
              "      <td>3</td>\n",
              "      <td>22</td>\n",
              "      <td>1</td>\n",
              "      <td>3</td>\n",
              "      <td>12</td>\n",
              "      <td>53.261600</td>\n",
              "      <td>-6.166738</td>\n",
              "      <td>3</td>\n",
              "      <td>81.00</td>\n",
              "      <td>499000</td>\n",
              "      <td>0.000000</td>\n",
              "      <td>0.0</td>\n",
              "      <td>0.0</td>\n",
              "      <td>0.000000</td>\n",
              "      <td>0.829209</td>\n",
              "      <td>0.000000</td>\n",
              "      <td>0.400168</td>\n",
              "      <td>0.390227</td>\n",
              "      <td>0.00000</td>\n",
              "      <td>0.000000</td>\n",
              "    </tr>\n",
              "    <tr>\n",
              "      <th>4</th>\n",
              "      <td>5</td>\n",
              "      <td>61</td>\n",
              "      <td>1</td>\n",
              "      <td>3</td>\n",
              "      <td>12</td>\n",
              "      <td>53.380367</td>\n",
              "      <td>-6.279310</td>\n",
              "      <td>9</td>\n",
              "      <td>140.00</td>\n",
              "      <td>360000</td>\n",
              "      <td>0.000000</td>\n",
              "      <td>0.0</td>\n",
              "      <td>0.0</td>\n",
              "      <td>1.000000</td>\n",
              "      <td>0.000000</td>\n",
              "      <td>0.000000</td>\n",
              "      <td>0.000000</td>\n",
              "      <td>0.000000</td>\n",
              "      <td>0.00000</td>\n",
              "      <td>0.000000</td>\n",
              "    </tr>\n",
              "  </tbody>\n",
              "</table>\n",
              "</div>"
            ],
            "text/plain": [
              "   index  Location  Num_Bathrooms  ...     Word7    Word8     Word9\n",
              "0      0        98              2  ...  0.414139  0.00000  0.246507\n",
              "1      1        96              1  ...  0.850761  0.23885  0.144685\n",
              "2      2       124              3  ...  0.212510  0.62645  0.252984\n",
              "3      3        22              1  ...  0.390227  0.00000  0.000000\n",
              "4      5        61              1  ...  0.000000  0.00000  0.000000\n",
              "\n",
              "[5 rows x 20 columns]"
            ]
          },
          "metadata": {},
          "execution_count": 363
        }
      ]
    },
    {
      "cell_type": "code",
      "metadata": {
        "colab": {
          "base_uri": "https://localhost:8080/"
        },
        "id": "0BEBqvhnG_Fr",
        "outputId": "0dbcb778-bd67-4d65-db5a-8189de57ad5f"
      },
      "source": [
        "dftrain_nlp.shape"
      ],
      "execution_count": 364,
      "outputs": [
        {
          "output_type": "execute_result",
          "data": {
            "text/plain": [
              "(1165, 20)"
            ]
          },
          "metadata": {},
          "execution_count": 364
        }
      ]
    },
    {
      "cell_type": "markdown",
      "metadata": {
        "id": "BPoqbGvUgbSY"
      },
      "source": [
        "**Dividing dftrain_nlp into a training and validation set.**"
      ]
    },
    {
      "cell_type": "code",
      "metadata": {
        "colab": {
          "base_uri": "https://localhost:8080/",
          "height": 206
        },
        "id": "3pRhCIJCdqd_",
        "outputId": "6f4556b6-757b-4882-d59e-f6b0bb5af7bd"
      },
      "source": [
        "df_dataset_X = dftrain_nlp.copy()\n",
        "df_dataset_X.drop(columns=['index', 'Price'], inplace=True)\n",
        "df_dataset_X.head()"
      ],
      "execution_count": 365,
      "outputs": [
        {
          "output_type": "execute_result",
          "data": {
            "text/html": [
              "<div>\n",
              "<style scoped>\n",
              "    .dataframe tbody tr th:only-of-type {\n",
              "        vertical-align: middle;\n",
              "    }\n",
              "\n",
              "    .dataframe tbody tr th {\n",
              "        vertical-align: top;\n",
              "    }\n",
              "\n",
              "    .dataframe thead th {\n",
              "        text-align: right;\n",
              "    }\n",
              "</style>\n",
              "<table border=\"1\" class=\"dataframe\">\n",
              "  <thead>\n",
              "    <tr style=\"text-align: right;\">\n",
              "      <th></th>\n",
              "      <th>Location</th>\n",
              "      <th>Num_Bathrooms</th>\n",
              "      <th>Num_Beds</th>\n",
              "      <th>BER_class</th>\n",
              "      <th>Latitude</th>\n",
              "      <th>Longitude</th>\n",
              "      <th>Type</th>\n",
              "      <th>Surface</th>\n",
              "      <th>Word0</th>\n",
              "      <th>Word1</th>\n",
              "      <th>Word2</th>\n",
              "      <th>Word3</th>\n",
              "      <th>Word4</th>\n",
              "      <th>Word5</th>\n",
              "      <th>Word6</th>\n",
              "      <th>Word7</th>\n",
              "      <th>Word8</th>\n",
              "      <th>Word9</th>\n",
              "    </tr>\n",
              "  </thead>\n",
              "  <tbody>\n",
              "    <tr>\n",
              "      <th>0</th>\n",
              "      <td>98</td>\n",
              "      <td>2</td>\n",
              "      <td>2</td>\n",
              "      <td>9</td>\n",
              "      <td>53.396659</td>\n",
              "      <td>-6.438791</td>\n",
              "      <td>1</td>\n",
              "      <td>67.00</td>\n",
              "      <td>0.759901</td>\n",
              "      <td>0.0</td>\n",
              "      <td>0.0</td>\n",
              "      <td>0.000000</td>\n",
              "      <td>0.000000</td>\n",
              "      <td>0.436204</td>\n",
              "      <td>0.000000</td>\n",
              "      <td>0.414139</td>\n",
              "      <td>0.00000</td>\n",
              "      <td>0.246507</td>\n",
              "    </tr>\n",
              "    <tr>\n",
              "      <th>1</th>\n",
              "      <td>96</td>\n",
              "      <td>1</td>\n",
              "      <td>2</td>\n",
              "      <td>10</td>\n",
              "      <td>53.357129</td>\n",
              "      <td>-6.239779</td>\n",
              "      <td>9</td>\n",
              "      <td>95.97</td>\n",
              "      <td>0.000000</td>\n",
              "      <td>0.0</td>\n",
              "      <td>0.0</td>\n",
              "      <td>0.256859</td>\n",
              "      <td>0.258259</td>\n",
              "      <td>0.256025</td>\n",
              "      <td>0.000000</td>\n",
              "      <td>0.850761</td>\n",
              "      <td>0.23885</td>\n",
              "      <td>0.144685</td>\n",
              "    </tr>\n",
              "    <tr>\n",
              "      <th>2</th>\n",
              "      <td>124</td>\n",
              "      <td>3</td>\n",
              "      <td>3</td>\n",
              "      <td>3</td>\n",
              "      <td>53.266468</td>\n",
              "      <td>-6.222771</td>\n",
              "      <td>6</td>\n",
              "      <td>107.00</td>\n",
              "      <td>0.000000</td>\n",
              "      <td>0.0</td>\n",
              "      <td>0.0</td>\n",
              "      <td>0.000000</td>\n",
              "      <td>0.000000</td>\n",
              "      <td>0.671497</td>\n",
              "      <td>0.217924</td>\n",
              "      <td>0.212510</td>\n",
              "      <td>0.62645</td>\n",
              "      <td>0.252984</td>\n",
              "    </tr>\n",
              "    <tr>\n",
              "      <th>3</th>\n",
              "      <td>22</td>\n",
              "      <td>1</td>\n",
              "      <td>3</td>\n",
              "      <td>12</td>\n",
              "      <td>53.261600</td>\n",
              "      <td>-6.166738</td>\n",
              "      <td>3</td>\n",
              "      <td>81.00</td>\n",
              "      <td>0.000000</td>\n",
              "      <td>0.0</td>\n",
              "      <td>0.0</td>\n",
              "      <td>0.000000</td>\n",
              "      <td>0.829209</td>\n",
              "      <td>0.000000</td>\n",
              "      <td>0.400168</td>\n",
              "      <td>0.390227</td>\n",
              "      <td>0.00000</td>\n",
              "      <td>0.000000</td>\n",
              "    </tr>\n",
              "    <tr>\n",
              "      <th>4</th>\n",
              "      <td>61</td>\n",
              "      <td>1</td>\n",
              "      <td>3</td>\n",
              "      <td>12</td>\n",
              "      <td>53.380367</td>\n",
              "      <td>-6.279310</td>\n",
              "      <td>9</td>\n",
              "      <td>140.00</td>\n",
              "      <td>0.000000</td>\n",
              "      <td>0.0</td>\n",
              "      <td>0.0</td>\n",
              "      <td>1.000000</td>\n",
              "      <td>0.000000</td>\n",
              "      <td>0.000000</td>\n",
              "      <td>0.000000</td>\n",
              "      <td>0.000000</td>\n",
              "      <td>0.00000</td>\n",
              "      <td>0.000000</td>\n",
              "    </tr>\n",
              "  </tbody>\n",
              "</table>\n",
              "</div>"
            ],
            "text/plain": [
              "   Location  Num_Bathrooms  Num_Beds  ...     Word7    Word8     Word9\n",
              "0        98              2         2  ...  0.414139  0.00000  0.246507\n",
              "1        96              1         2  ...  0.850761  0.23885  0.144685\n",
              "2       124              3         3  ...  0.212510  0.62645  0.252984\n",
              "3        22              1         3  ...  0.390227  0.00000  0.000000\n",
              "4        61              1         3  ...  0.000000  0.00000  0.000000\n",
              "\n",
              "[5 rows x 18 columns]"
            ]
          },
          "metadata": {},
          "execution_count": 365
        }
      ]
    },
    {
      "cell_type": "code",
      "metadata": {
        "colab": {
          "base_uri": "https://localhost:8080/"
        },
        "id": "fl4sit3_gybh",
        "outputId": "4c9042a9-7366-4211-d4d7-63ee21385473"
      },
      "source": [
        "df_dataset_X.shape"
      ],
      "execution_count": 366,
      "outputs": [
        {
          "output_type": "execute_result",
          "data": {
            "text/plain": [
              "(1165, 18)"
            ]
          },
          "metadata": {},
          "execution_count": 366
        }
      ]
    },
    {
      "cell_type": "code",
      "metadata": {
        "colab": {
          "base_uri": "https://localhost:8080/",
          "height": 206
        },
        "id": "DAotVns5dj8m",
        "outputId": "d64a6708-25d3-401a-ee11-c47f4b590b45"
      },
      "source": [
        "df_dataset_y = dftrain_nlp.copy()\n",
        "df_dataset_y.drop(columns=['index',\t'Location',\t'Num_Bathrooms',\t'Num_Beds',\\\n",
        "                           'BER_class',\t'Latitude',\t'Longitude',\t'Type',\\\n",
        "                           'Surface',\t'Word0',\t'Word1',\t'Word2',\t'Word3',\\\n",
        "                           'Word4',\t'Word5',\t'Word6',\t'Word7',\t'Word8',\\\n",
        "                           'Word9'], inplace=True)\n",
        "df_dataset_y.head()"
      ],
      "execution_count": 367,
      "outputs": [
        {
          "output_type": "execute_result",
          "data": {
            "text/html": [
              "<div>\n",
              "<style scoped>\n",
              "    .dataframe tbody tr th:only-of-type {\n",
              "        vertical-align: middle;\n",
              "    }\n",
              "\n",
              "    .dataframe tbody tr th {\n",
              "        vertical-align: top;\n",
              "    }\n",
              "\n",
              "    .dataframe thead th {\n",
              "        text-align: right;\n",
              "    }\n",
              "</style>\n",
              "<table border=\"1\" class=\"dataframe\">\n",
              "  <thead>\n",
              "    <tr style=\"text-align: right;\">\n",
              "      <th></th>\n",
              "      <th>Price</th>\n",
              "    </tr>\n",
              "  </thead>\n",
              "  <tbody>\n",
              "    <tr>\n",
              "      <th>0</th>\n",
              "      <td>195000</td>\n",
              "    </tr>\n",
              "    <tr>\n",
              "      <th>1</th>\n",
              "      <td>425000</td>\n",
              "    </tr>\n",
              "    <tr>\n",
              "      <th>2</th>\n",
              "      <td>535000</td>\n",
              "    </tr>\n",
              "    <tr>\n",
              "      <th>3</th>\n",
              "      <td>499000</td>\n",
              "    </tr>\n",
              "    <tr>\n",
              "      <th>4</th>\n",
              "      <td>360000</td>\n",
              "    </tr>\n",
              "  </tbody>\n",
              "</table>\n",
              "</div>"
            ],
            "text/plain": [
              "    Price\n",
              "0  195000\n",
              "1  425000\n",
              "2  535000\n",
              "3  499000\n",
              "4  360000"
            ]
          },
          "metadata": {},
          "execution_count": 367
        }
      ]
    },
    {
      "cell_type": "code",
      "metadata": {
        "colab": {
          "base_uri": "https://localhost:8080/"
        },
        "id": "IZRnMdQng2Z1",
        "outputId": "c04c91f9-dc10-4023-c6c6-4249f0e060e0"
      },
      "source": [
        "df_dataset_y.shape"
      ],
      "execution_count": 368,
      "outputs": [
        {
          "output_type": "execute_result",
          "data": {
            "text/plain": [
              "(1165, 1)"
            ]
          },
          "metadata": {},
          "execution_count": 368
        }
      ]
    },
    {
      "cell_type": "code",
      "metadata": {
        "id": "86nLBtISVXY4"
      },
      "source": [
        "df_dataset_X_train, df_dataset_X_val, df_dataset_y_train, df_dataset_y_val = train_test_split(df_dataset_X, df_dataset_y, test_size = 0.20, random_state = 0)"
      ],
      "execution_count": 369,
      "outputs": []
    },
    {
      "cell_type": "markdown",
      "metadata": {
        "id": "uQ_1QsLToIDi"
      },
      "source": [
        "## Full Model"
      ]
    },
    {
      "cell_type": "markdown",
      "metadata": {
        "id": "cX0NbEpr8WNP"
      },
      "source": [
        "Matching the validation data with the variables labelled 'test' as it allowed for easier re-use of code."
      ]
    },
    {
      "cell_type": "code",
      "metadata": {
        "id": "7ulbUQe1xb58"
      },
      "source": [
        "# train set, input columns\n",
        "Xs_train = df_dataset_X_train.iloc[:,:].values\n",
        "# train set, output column\n",
        "ys_train = df_dataset_y_train.Price.values.reshape(-1,1)   \n",
        "\n",
        "# test set, input columns\n",
        "Xs_test = df_dataset_X_val.iloc[:,:].values \n",
        "# test set, output column\n",
        "y_test = df_dataset_y_val.Price.values"
      ],
      "execution_count": 370,
      "outputs": []
    },
    {
      "cell_type": "code",
      "metadata": {
        "colab": {
          "base_uri": "https://localhost:8080/"
        },
        "id": "syxymvKZmIFj",
        "outputId": "6afac6f2-5f27-427a-bd7f-f60102270365"
      },
      "source": [
        "Xs_train.shape"
      ],
      "execution_count": 371,
      "outputs": [
        {
          "output_type": "execute_result",
          "data": {
            "text/plain": [
              "(932, 18)"
            ]
          },
          "metadata": {},
          "execution_count": 371
        }
      ]
    },
    {
      "cell_type": "code",
      "metadata": {
        "colab": {
          "base_uri": "https://localhost:8080/"
        },
        "id": "o8D_hMOAmJ-5",
        "outputId": "166540df-6389-4baf-fbdf-430c0204100e"
      },
      "source": [
        "ys_train.shape"
      ],
      "execution_count": 372,
      "outputs": [
        {
          "output_type": "execute_result",
          "data": {
            "text/plain": [
              "(932, 1)"
            ]
          },
          "metadata": {},
          "execution_count": 372
        }
      ]
    },
    {
      "cell_type": "code",
      "metadata": {
        "colab": {
          "base_uri": "https://localhost:8080/"
        },
        "id": "vbwQKDX5mJ0r",
        "outputId": "c7ba3025-a898-43f0-c0ee-8ee12c980b3e"
      },
      "source": [
        "Xs_test.shape"
      ],
      "execution_count": 373,
      "outputs": [
        {
          "output_type": "execute_result",
          "data": {
            "text/plain": [
              "(233, 18)"
            ]
          },
          "metadata": {},
          "execution_count": 373
        }
      ]
    },
    {
      "cell_type": "code",
      "metadata": {
        "colab": {
          "base_uri": "https://localhost:8080/"
        },
        "id": "ANl2cj0EmJmm",
        "outputId": "254cb024-f639-4376-a5dd-44c56f8d57d6"
      },
      "source": [
        "y_test.shape"
      ],
      "execution_count": 374,
      "outputs": [
        {
          "output_type": "execute_result",
          "data": {
            "text/plain": [
              "(233,)"
            ]
          },
          "metadata": {},
          "execution_count": 374
        }
      ]
    },
    {
      "cell_type": "code",
      "metadata": {
        "id": "kx7sjMi0TZ-G"
      },
      "source": [
        "# StandardScaler() will normalize the features i.e. each column of X, \n",
        "# so, each column/feature/variable will have μ = 0 and σ = 1\n",
        "sc = StandardScaler()\n",
        "\n",
        "#Xss_train = np.hstack([Xs_train,Xs_train[:,[2]]**2])\n",
        "Xss_train = Xs_train.copy()\n",
        "xscaler = sc.fit(Xss_train)\n",
        "Xn_train = xscaler.transform(Xss_train)\n",
        "\n",
        "#Xss_test = np.hstack([Xs_test,Xs_test[:,[2]]**2])\n",
        "Xss_test = Xs_test.copy()\n",
        "Xn_test = xscaler.transform(Xss_test)\n",
        "\n",
        "ylog = np.log(ys_train.astype('float'))\n",
        "yscaler = StandardScaler().fit(ylog)\n",
        "yn_train = yscaler.transform(ylog)"
      ],
      "execution_count": 375,
      "outputs": []
    },
    {
      "cell_type": "code",
      "metadata": {
        "id": "PZK2kfygoIDi"
      },
      "source": [
        "# model\n",
        "with pm.Model() as model:\n",
        "    #prior over the parameters of linear regression\n",
        "    alpha = pm.Normal('alpha', mu=0, sigma=30)\n",
        "    #we have one beta for each column of Xn\n",
        "    beta = pm.Normal('beta', mu=0, sigma=30, shape=Xn_train.shape[1])\n",
        "    #prior over the variance of the noise\n",
        "    sigma = pm.HalfCauchy('sigma_n', 5)\n",
        "    #linear regression model in matrix form\n",
        "    mu = alpha + pm.math.dot(beta, Xn_train.T)\n",
        "    #likelihood, be sure that observed is a 1d vector\n",
        "    like = pm.Normal('like', mu=mu, sigma=sigma, observed=yn_train[:,0])\n",
        "    "
      ],
      "execution_count": 376,
      "outputs": []
    },
    {
      "cell_type": "code",
      "metadata": {
        "id": "5AZgLW40oIDi",
        "colab": {
          "base_uri": "https://localhost:8080/",
          "height": 302
        },
        "outputId": "04a6f7e7-99f5-4384-9cac-57147eaa5b40"
      },
      "source": [
        "#number of iterations of the algorithms\n",
        "iter = 50000 \n",
        "\n",
        "# run the model\n",
        "with model:\n",
        "    approximation = pm.fit(iter,method='advi')\n",
        "    \n",
        "# check the convergence\n",
        "plt.plot(approximation.hist);"
      ],
      "execution_count": 377,
      "outputs": [
        {
          "output_type": "display_data",
          "data": {
            "text/html": [
              "\n",
              "    <div>\n",
              "        <style>\n",
              "            /* Turns off some styling */\n",
              "            progress {\n",
              "                /* gets rid of default border in Firefox and Opera. */\n",
              "                border: none;\n",
              "                /* Needs to be in here for Safari polyfill so background images work as expected. */\n",
              "                background-size: auto;\n",
              "            }\n",
              "            .progress-bar-interrupted, .progress-bar-interrupted::-webkit-progress-bar {\n",
              "                background: #F44336;\n",
              "            }\n",
              "        </style>\n",
              "      <progress value='50000' class='' max='50000' style='width:300px; height:20px; vertical-align: middle;'></progress>\n",
              "      100.00% [50000/50000 00:09<00:00 Average Loss = 937.22]\n",
              "    </div>\n",
              "    "
            ],
            "text/plain": [
              "<IPython.core.display.HTML object>"
            ]
          },
          "metadata": {}
        },
        {
          "output_type": "stream",
          "name": "stderr",
          "text": [
            "Finished [100%]: Average Loss = 937.2\n"
          ]
        },
        {
          "output_type": "display_data",
          "data": {
            "image/png": "[encoded data removed]",
            "text/plain": [
              "<Figure size 432x288 with 1 Axes>"
            ]
          },
          "metadata": {
            "needs_background": "light"
          }
        }
      ]
    },
    {
      "cell_type": "code",
      "metadata": {
        "id": "_7K8CnQDoIDj"
      },
      "source": [
        "# samples from the posterior\n",
        "posterior = approximation.sample(5000)"
      ],
      "execution_count": 378,
      "outputs": []
    },
    {
      "cell_type": "markdown",
      "metadata": {
        "id": "dLCo9mmw9dTk"
      },
      "source": [
        "Evaluate MAP (Mean Absolute Error) and MAPE (Mean Absolute Percentage Error)."
      ]
    },
    {
      "cell_type": "code",
      "metadata": {
        "id": "cIskuS3ToIDk",
        "colab": {
          "base_uri": "https://localhost:8080/"
        },
        "outputId": "414c2604-3da0-46aa-b9cf-7a64df1868d7"
      },
      "source": [
        "# prediction\n",
        "ll=np.mean(posterior['alpha']) + np.dot(np.mean(posterior['beta'],axis=0), Xn_test.T)\n",
        "y_pred_BLR = np.exp(yscaler.inverse_transform(ll.reshape(-1,1)))[:,0]\n",
        "print(\"MAE = \",(np.mean(abs(y_pred_BLR - y_test))))\n",
        "print(\"MAPE = \",(np.mean(abs(y_pred_BLR - y_test) / y_test)))"
      ],
      "execution_count": 379,
      "outputs": [
        {
          "output_type": "stream",
          "name": "stdout",
          "text": [
            "MAE =  87953.70831121775\n",
            "MAPE =  0.2001988074178041\n"
          ]
        }
      ]
    },
    {
      "cell_type": "markdown",
      "metadata": {
        "id": "q_jBBKvtoIDk"
      },
      "source": [
        "## Clustering"
      ]
    },
    {
      "cell_type": "markdown",
      "metadata": {
        "id": "VYFvbgYDaEOS"
      },
      "source": [
        "### Full Model"
      ]
    },
    {
      "cell_type": "code",
      "metadata": {
        "colab": {
          "base_uri": "https://localhost:8080/",
          "height": 282
        },
        "id": "UOGvmepjDWOv",
        "outputId": "f9cc2110-8a51-4d93-d995-f84644d13d6c"
      },
      "source": [
        "# training gaussian mixture model \n",
        "from sklearn.mixture import GaussianMixture\n",
        "\n",
        "gmm = GaussianMixture(n_components=4)\n",
        "\n",
        "# Choosing features 4 & 5 which relate to longitude and latitude.\n",
        "ind=[4,5]\n",
        "\n",
        "X_ind = np.vstack([Xn_train[:,ind],Xn_test[:,ind]])\n",
        "# Gaussian Mixture\n",
        "gmm.fit(X_ind)\n",
        "# plot blue dots\n",
        "plt.scatter(X_ind[:,0],X_ind[:,1])\n",
        "# centroids:  orange dots\n",
        "plt.scatter(gmm.means_[:,0],gmm.means_[:,1])"
      ],
      "execution_count": 380,
      "outputs": [
        {
          "output_type": "execute_result",
          "data": {
            "text/plain": [
              "<matplotlib.collections.PathCollection at 0x7f85aa91e550>"
            ]
          },
          "metadata": {},
          "execution_count": 380
        },
        {
          "output_type": "display_data",
          "data": {
            "image/png": "[encoded data removed]",
            "text/plain": [
              "<Figure size 432x288 with 1 Axes>"
            ]
          },
          "metadata": {
            "needs_background": "light"
          }
        }
      ]
    },
    {
      "cell_type": "code",
      "metadata": {
        "colab": {
          "base_uri": "https://localhost:8080/"
        },
        "id": "mNxC5zMRN78U",
        "outputId": "5d7e460d-f838-46dc-f767-98c5e5500702"
      },
      "source": [
        "np.max(ys_train)"
      ],
      "execution_count": 381,
      "outputs": [
        {
          "output_type": "execute_result",
          "data": {
            "text/plain": [
              "990000"
            ]
          },
          "metadata": {},
          "execution_count": 381
        }
      ]
    },
    {
      "cell_type": "markdown",
      "metadata": {
        "id": "h51OhBV5Z4tY"
      },
      "source": [
        "### Clusters"
      ]
    },
    {
      "cell_type": "code",
      "metadata": {
        "colab": {
          "base_uri": "https://localhost:8080/"
        },
        "id": "h_n9geIKFBQi",
        "outputId": "2fa49dfd-f6c7-4f53-c058-269b3cb77b32"
      },
      "source": [
        "# train clusters\n",
        "clusters_train = gmm.predict(Xn_train[:,ind])\n",
        "unique_train, counts_train = np.unique(clusters_train, return_counts=True)\n",
        "dict(zip(unique_train, counts_train))\n"
      ],
      "execution_count": 382,
      "outputs": [
        {
          "output_type": "execute_result",
          "data": {
            "text/plain": [
              "{0: 440, 1: 172, 2: 178, 3: 142}"
            ]
          },
          "metadata": {},
          "execution_count": 382
        }
      ]
    },
    {
      "cell_type": "code",
      "metadata": {
        "colab": {
          "base_uri": "https://localhost:8080/"
        },
        "id": "oMT7a00GFBQo",
        "outputId": "d8f0f55e-3302-424f-f33d-0d6bdf5aff69"
      },
      "source": [
        "# test clusters\n",
        "clusters_test = gmm.predict(Xn_test[:,ind])\n",
        "unique_test, counts_test = np.unique(clusters_test, return_counts=True)\n",
        "dict(zip(unique_test, counts_test))"
      ],
      "execution_count": 383,
      "outputs": [
        {
          "output_type": "execute_result",
          "data": {
            "text/plain": [
              "{0: 115, 1: 34, 2: 47, 3: 37}"
            ]
          },
          "metadata": {},
          "execution_count": 383
        }
      ]
    },
    {
      "cell_type": "code",
      "metadata": {
        "id": "AETsX-EkPDvk"
      },
      "source": [
        "# cluster 0\n",
        "Xn0 = Xn_train[clusters_train==0,:]\n",
        "Xtestn0 = Xn_test[clusters_test==0,:]\n",
        "\n",
        "ylog0 = np.log(ys_train.astype('float')[clusters_train==0,:])\n",
        "yscaler0 = StandardScaler().fit(ylog0)\n",
        "yn0 = yscaler0.transform(ylog0)\n"
      ],
      "execution_count": 384,
      "outputs": []
    },
    {
      "cell_type": "code",
      "metadata": {
        "id": "39suMc4QP1-L"
      },
      "source": [
        "# cluster 1\n",
        "Xn1 = Xn_train[clusters_train==1,:]\n",
        "Xtestn1 = Xn_test[clusters_test==1,:]\n",
        "ylog1 = np.log(ys_train.astype('float')[clusters_train==1,:])\n",
        "yscaler1 = StandardScaler().fit(ylog1)\n",
        "yn1 = yscaler1.transform(ylog1)"
      ],
      "execution_count": 385,
      "outputs": []
    },
    {
      "cell_type": "code",
      "metadata": {
        "id": "OVIKZbWHQ7ue"
      },
      "source": [
        "# cluster 2\n",
        "Xn2 = Xn_train[clusters_train==2,:]\n",
        "Xtestn2 = Xn_test[clusters_test==2,:]\n",
        "ylog2 = np.log(ys_train.astype('float')[clusters_train==2,:])\n",
        "yscaler2 = StandardScaler().fit(ylog2)\n",
        "yn2 = yscaler2.transform(ylog2)\n"
      ],
      "execution_count": 386,
      "outputs": []
    },
    {
      "cell_type": "code",
      "metadata": {
        "id": "2mzwzOEgRMKS"
      },
      "source": [
        "# cluster 3\n",
        "Xn3 = Xn_train[clusters_train==3,:]\n",
        "Xtestn3 = Xn_test[clusters_test==3,:]\n",
        "ylog3 = np.log(ys_train.astype('float')[clusters_train==3,:])\n",
        "yscaler3 = StandardScaler().fit(ylog3)\n",
        "yn3 = yscaler3.transform(ylog3)"
      ],
      "execution_count": 387,
      "outputs": []
    },
    {
      "cell_type": "markdown",
      "metadata": {
        "id": "dXF25ZDYoIDl"
      },
      "source": [
        "## Piecewise Model"
      ]
    },
    {
      "cell_type": "code",
      "metadata": {
        "colab": {
          "base_uri": "https://localhost:8080/",
          "height": 54
        },
        "id": "hz0FGpyKH-eP",
        "outputId": "53347b20-be3a-4f31-ad46-d157e79cdac3"
      },
      "source": [
        "# model_0\n",
        "with pm.Model() as model_0:\n",
        "  # prior over the parameters of linear regression\n",
        "  alpha = pm.Normal('alpha', mu=0, sigma=30)\n",
        "  # we have a beta for each column of Xn0\n",
        "  beta = pm.Normal('beta', mu=0, sigma=30, shape=Xn0.shape[1])\n",
        "  # prior over the variance of the noise\n",
        "  sigma = pm.HalfCauchy('sigma_n', 5)\n",
        "  # linear regression relationship\n",
        "  #linear regression model in matrix form\n",
        "  mu = alpha + pm.math.dot(beta, Xn0.T)\n",
        "  # likelihood, be sure that observed is a 1d vector\n",
        "  like = pm.Normal('like', mu=mu, sigma=sigma, observed=yn0[:,0])\n",
        "\n",
        "with model_0:\n",
        "  # iterations of the algorithm\n",
        "  approximation = pm.fit(40000,method='advi')\n",
        "\n",
        "# samples from the posterior   \n",
        "posterior0 = approximation.sample(5000)"
      ],
      "execution_count": 388,
      "outputs": [
        {
          "output_type": "display_data",
          "data": {
            "text/html": [
              "\n",
              "    <div>\n",
              "        <style>\n",
              "            /* Turns off some styling */\n",
              "            progress {\n",
              "                /* gets rid of default border in Firefox and Opera. */\n",
              "                border: none;\n",
              "                /* Needs to be in here for Safari polyfill so background images work as expected. */\n",
              "                background-size: auto;\n",
              "            }\n",
              "            .progress-bar-interrupted, .progress-bar-interrupted::-webkit-progress-bar {\n",
              "                background: #F44336;\n",
              "            }\n",
              "        </style>\n",
              "      <progress value='40000' class='' max='40000' style='width:300px; height:20px; vertical-align: middle;'></progress>\n",
              "      100.00% [40000/40000 00:04<00:00 Average Loss = 436.59]\n",
              "    </div>\n",
              "    "
            ],
            "text/plain": [
              "<IPython.core.display.HTML object>"
            ]
          },
          "metadata": {}
        },
        {
          "output_type": "stream",
          "name": "stderr",
          "text": [
            "Finished [100%]: Average Loss = 436.57\n"
          ]
        }
      ]
    },
    {
      "cell_type": "code",
      "metadata": {
        "colab": {
          "base_uri": "https://localhost:8080/",
          "height": 54
        },
        "id": "FPT_CGGja1Mo",
        "outputId": "a7de4d5c-0810-4a3c-93e7-68447d072874"
      },
      "source": [
        "# model_1\n",
        "with pm.Model() as model_1:\n",
        "  # prior over the parameters of linear regression\n",
        "  alpha = pm.Normal('alpha', mu=0, sigma=30)\n",
        "  # we have a beta for each column of Xn\n",
        "  beta = pm.Normal('beta', mu=0, sigma=30, shape=Xn1.shape[1])\n",
        "  # prior over the variance of the noise\n",
        "  sigma = pm.HalfCauchy('sigma_n', 5)\n",
        "  # linear regression relationship\n",
        "  #linear regression model in matrix form\n",
        "  mu = alpha + pm.math.dot(beta, Xn1.T)\n",
        "  # likelihood, # \n",
        "  like = pm.Normal('like', mu=mu, sigma=sigma, observed=yn1[:,0])\n",
        "  \n",
        "with model_1:\n",
        "  # iterations of the algorithm\n",
        "  approximation = pm.fit(40000,method='advi')\n",
        "\n",
        "# samples from the posterior    \n",
        "posterior1 = approximation.sample(5000)"
      ],
      "execution_count": 389,
      "outputs": [
        {
          "output_type": "display_data",
          "data": {
            "text/html": [
              "\n",
              "    <div>\n",
              "        <style>\n",
              "            /* Turns off some styling */\n",
              "            progress {\n",
              "                /* gets rid of default border in Firefox and Opera. */\n",
              "                border: none;\n",
              "                /* Needs to be in here for Safari polyfill so background images work as expected. */\n",
              "                background-size: auto;\n",
              "            }\n",
              "            .progress-bar-interrupted, .progress-bar-interrupted::-webkit-progress-bar {\n",
              "                background: #F44336;\n",
              "            }\n",
              "        </style>\n",
              "      <progress value='40000' class='' max='40000' style='width:300px; height:20px; vertical-align: middle;'></progress>\n",
              "      100.00% [40000/40000 00:04<00:00 Average Loss = 236.96]\n",
              "    </div>\n",
              "    "
            ],
            "text/plain": [
              "<IPython.core.display.HTML object>"
            ]
          },
          "metadata": {}
        },
        {
          "output_type": "stream",
          "name": "stderr",
          "text": [
            "Finished [100%]: Average Loss = 236.96\n"
          ]
        }
      ]
    },
    {
      "cell_type": "code",
      "metadata": {
        "colab": {
          "base_uri": "https://localhost:8080/",
          "height": 54
        },
        "id": "6sMEvOzabRIB",
        "outputId": "5d76f575-8c06-45dc-d394-41e307012395"
      },
      "source": [
        "# model_2\n",
        "with pm.Model() as model_2:\n",
        "  # prior over the parameters of linear regression\n",
        "  alpha = pm.Normal('alpha', mu=0, sigma=30)\n",
        "  # we have a beta for each column of Xn\n",
        "  beta = pm.Normal('beta', mu=0, sigma=30, shape=Xn2.shape[1])\n",
        "  # prior over the variance of the noise\n",
        "  sigma = pm.HalfCauchy('sigma_n', 5)\n",
        "  # linear regression relationship\n",
        "  # linear regression model in matrix form\n",
        "  mu = alpha + pm.math.dot(beta, Xn2.T)\n",
        "  # likelihood, be sure that observed is a 1d vector\n",
        "  like = pm.Normal('like', mu=mu, sigma=sigma, observed=yn2[:,0])\n",
        "    \n",
        "with model_2:\n",
        "  # iterations of the algorithms\n",
        "  approximation = pm.fit(40000,method='advi')\n",
        "\n",
        "# samples from the posterior    \n",
        "posterior2 = approximation.sample(5000)"
      ],
      "execution_count": 390,
      "outputs": [
        {
          "output_type": "display_data",
          "data": {
            "text/html": [
              "\n",
              "    <div>\n",
              "        <style>\n",
              "            /* Turns off some styling */\n",
              "            progress {\n",
              "                /* gets rid of default border in Firefox and Opera. */\n",
              "                border: none;\n",
              "                /* Needs to be in here for Safari polyfill so background images work as expected. */\n",
              "                background-size: auto;\n",
              "            }\n",
              "            .progress-bar-interrupted, .progress-bar-interrupted::-webkit-progress-bar {\n",
              "                background: #F44336;\n",
              "            }\n",
              "        </style>\n",
              "      <progress value='40000' class='' max='40000' style='width:300px; height:20px; vertical-align: middle;'></progress>\n",
              "      100.00% [40000/40000 00:04<00:00 Average Loss = 235.98]\n",
              "    </div>\n",
              "    "
            ],
            "text/plain": [
              "<IPython.core.display.HTML object>"
            ]
          },
          "metadata": {}
        },
        {
          "output_type": "stream",
          "name": "stderr",
          "text": [
            "Finished [100%]: Average Loss = 235.96\n"
          ]
        }
      ]
    },
    {
      "cell_type": "code",
      "metadata": {
        "colab": {
          "base_uri": "https://localhost:8080/",
          "height": 54
        },
        "id": "F2poA2yrb5-F",
        "outputId": "46d550d4-cd9b-4c27-e0f3-7de7976d7757"
      },
      "source": [
        "# model_3\n",
        "with pm.Model() as model3:\n",
        "  # prior over the parameters of linear regression\n",
        "  alpha = pm.Normal('alpha', mu=0, sigma=30)\n",
        "  # we have a beta for each column of Xn\n",
        "  beta = pm.Normal('beta', mu=0, sigma=30, shape=Xn3.shape[1])\n",
        "  # prior over the variance of the noise\n",
        "  sigma = pm.HalfCauchy('sigma_n', 5)\n",
        "  # linear regression relationship\n",
        "  mu = alpha + pm.math.dot(beta, Xn3.T)#linear regression model in matrix form\n",
        "  # likelihood, be sure that observed is a 1d vector\n",
        "  like = pm.Normal('like', mu=mu, sigma=sigma, observed=yn3[:,0])\n",
        "    \n",
        "with model3:\n",
        "  # number of iterations of the algorithms\n",
        "  approximation = pm.fit(40000,method='advi')\n",
        "\n",
        "# samples from the posterior     \n",
        "posterior3 = approximation.sample(5000)"
      ],
      "execution_count": 391,
      "outputs": [
        {
          "output_type": "display_data",
          "data": {
            "text/html": [
              "\n",
              "    <div>\n",
              "        <style>\n",
              "            /* Turns off some styling */\n",
              "            progress {\n",
              "                /* gets rid of default border in Firefox and Opera. */\n",
              "                border: none;\n",
              "                /* Needs to be in here for Safari polyfill so background images work as expected. */\n",
              "                background-size: auto;\n",
              "            }\n",
              "            .progress-bar-interrupted, .progress-bar-interrupted::-webkit-progress-bar {\n",
              "                background: #F44336;\n",
              "            }\n",
              "        </style>\n",
              "      <progress value='40000' class='' max='40000' style='width:300px; height:20px; vertical-align: middle;'></progress>\n",
              "      100.00% [40000/40000 00:04<00:00 Average Loss = 229.27]\n",
              "    </div>\n",
              "    "
            ],
            "text/plain": [
              "<IPython.core.display.HTML object>"
            ]
          },
          "metadata": {}
        },
        {
          "output_type": "stream",
          "name": "stderr",
          "text": [
            "Finished [100%]: Average Loss = 229.25\n"
          ]
        }
      ]
    },
    {
      "cell_type": "code",
      "metadata": {
        "id": "UhChmqzFcV0H"
      },
      "source": [
        "#############"
      ],
      "execution_count": 392,
      "outputs": []
    },
    {
      "cell_type": "code",
      "metadata": {
        "id": "gdY1yXp0oIDn"
      },
      "source": [
        "# Posterior predictive checks (PPCs)\n",
        "def ppc(alpha,beta,sigma, X,  nsamples=500):\n",
        "    #we select nsamples random samples from the posterior\n",
        "    ind = np.random.randint(0,beta.shape[0],size=nsamples)\n",
        "    alphai = alpha[ind]\n",
        "    betai = beta[ind,:]\n",
        "    sigmai = sigma[ind]\n",
        "\n",
        "    Ypred = np.zeros((nsamples,X.shape[0]))\n",
        "    for i in range(X.shape[0]):\n",
        "        #we generate data from linear model\n",
        "        y_pred = alphai + np.dot(betai, X[i:i+1,:].T).T +np.random.randn(len(sigmai))*sigmai\n",
        "        Ypred[:,i]=y_pred[0,:]\n",
        "    return Ypred\n",
        "\n"
      ],
      "execution_count": 393,
      "outputs": []
    },
    {
      "cell_type": "markdown",
      "metadata": {
        "id": "wHBgUe1pcZQQ"
      },
      "source": [
        "##Simulations"
      ]
    },
    {
      "cell_type": "markdown",
      "metadata": {
        "id": "bfSEdYAUoIDn"
      },
      "source": [
        "### Only Cluster 0"
      ]
    },
    {
      "cell_type": "code",
      "metadata": {
        "id": "5VpFfBB3oIDo",
        "colab": {
          "base_uri": "https://localhost:8080/",
          "height": 283
        },
        "outputId": "12165e3e-bb71-4814-b143-9268bbb128cf"
      },
      "source": [
        "#Simulation\n",
        "Ypred0 = yscaler0.inverse_transform(ppc(posterior0['alpha'],posterior0['beta'],posterior0['sigma_n'],Xn0,  nsamples=200))\n",
        "for i in range(Ypred0.shape[0]):\n",
        "    az.plot_dist( Ypred0[i,:],color='r',plot_kwargs={\"linewidth\": 0.2})\n",
        "az.plot_dist(Ypred0[i,:],color='r',plot_kwargs={\"linewidth\": 0.2}, label=\"prediction\")\n",
        "#plt.plot(np.linspace(-8,8,100),norm.pdf(np.linspace(-8,8,100),df=np.mean(posterior_1['nu'])))\n",
        "#plt.xlim([0,10e7])\n",
        "az.plot_dist(ylog0,label='true observations');\n",
        "plt.legend()\n",
        "plt.xlabel(\"log(y) - output variable\")\n",
        "plt.ylabel(\"density plot\");"
      ],
      "execution_count": 394,
      "outputs": [
        {
          "output_type": "display_data",
          "data": {
            "image/png": "[encoded data removed]",
            "text/plain": [
              "<Figure size 432x288 with 1 Axes>"
            ]
          },
          "metadata": {
            "needs_background": "light"
          }
        }
      ]
    },
    {
      "cell_type": "markdown",
      "metadata": {
        "id": "qOAWKZXsoIDo"
      },
      "source": [
        "### Only Cluster 1"
      ]
    },
    {
      "cell_type": "code",
      "metadata": {
        "id": "GQ5gaq1goIDo",
        "colab": {
          "base_uri": "https://localhost:8080/",
          "height": 283
        },
        "outputId": "281acfcd-0480-48b7-cb34-d08af423d770"
      },
      "source": [
        "#Simulation\n",
        "Ypred1 = yscaler1.inverse_transform(ppc(posterior1['alpha'],posterior1['beta'],posterior1['sigma_n'],Xn1,  nsamples=200))\n",
        "for i in range(Ypred1.shape[0]):\n",
        "    az.plot_dist( Ypred1[i,:],color='r',plot_kwargs={\"linewidth\": 0.2})\n",
        "az.plot_dist(Ypred1[i,:],color='r',plot_kwargs={\"linewidth\": 0.2}, label=\"prediction\")\n",
        "#plt.plot(np.linspace(-8,8,100),norm.pdf(np.linspace(-8,8,100),df=np.mean(posterior_1['nu'])))\n",
        "#plt.xlim([0,10e7])\n",
        "az.plot_dist(ylog1,label='true observations');\n",
        "plt.legend()\n",
        "plt.xlabel(\"log(y) - output variable\")\n",
        "plt.ylabel(\"density plot\");"
      ],
      "execution_count": 395,
      "outputs": [
        {
          "output_type": "display_data",
          "data": {
            "image/png": "[encoded data removed]",
            "text/plain": [
              "<Figure size 432x288 with 1 Axes>"
            ]
          },
          "metadata": {
            "needs_background": "light"
          }
        }
      ]
    },
    {
      "cell_type": "markdown",
      "metadata": {
        "id": "6KU51ObNoIDp"
      },
      "source": [
        "### Only Cluster 2"
      ]
    },
    {
      "cell_type": "code",
      "metadata": {
        "id": "pqA9z59soIDp",
        "colab": {
          "base_uri": "https://localhost:8080/",
          "height": 283
        },
        "outputId": "7ae43591-6d97-4642-ad5c-6afb3b6d5107"
      },
      "source": [
        "#Simulation\n",
        "Ypred2 = yscaler2.inverse_transform(ppc(posterior2['alpha'],posterior2['beta'],posterior2['sigma_n'],Xn2,  nsamples=200))\n",
        "for i in range(Ypred2.shape[0]):\n",
        "    az.plot_dist( Ypred2[i,:],color='r',plot_kwargs={\"linewidth\": 0.2})\n",
        "az.plot_dist(Ypred2[i,:],color='r',plot_kwargs={\"linewidth\": 0.2}, label=\"prediction\")\n",
        "#plt.plot(np.linspace(-8,8,100),norm.pdf(np.linspace(-8,8,100),df=np.mean(posterior_1['nu'])))\n",
        "#plt.xlim([0,10e7])\n",
        "az.plot_dist(ylog2,label='true observations');\n",
        "plt.legend()\n",
        "plt.xlabel(\"log(y) - output variable\")\n",
        "plt.ylabel(\"density plot\");"
      ],
      "execution_count": 396,
      "outputs": [
        {
          "output_type": "display_data",
          "data": {
            "image/png": "[encoded data removed]",
            "text/plain": [
              "<Figure size 432x288 with 1 Axes>"
            ]
          },
          "metadata": {
            "needs_background": "light"
          }
        }
      ]
    },
    {
      "cell_type": "markdown",
      "metadata": {
        "id": "1ktNrfe0oIDp"
      },
      "source": [
        "### Only Cluster 3"
      ]
    },
    {
      "cell_type": "code",
      "metadata": {
        "id": "DjieM0f-oIDp",
        "colab": {
          "base_uri": "https://localhost:8080/",
          "height": 283
        },
        "outputId": "36626126-19f9-4941-ca1a-b69eed70b709"
      },
      "source": [
        "#Simulation\n",
        "Ypred3 = yscaler3.inverse_transform(ppc(posterior3['alpha'],posterior3['beta'],posterior3['sigma_n'],Xn3,  nsamples=200))\n",
        "for i in range(Ypred3.shape[0]):\n",
        "    az.plot_dist( Ypred3[i,:],color='r',plot_kwargs={\"linewidth\": 0.2})\n",
        "az.plot_dist(Ypred3[i,:],color='r',plot_kwargs={\"linewidth\": 0.2}, label=\"prediction\")\n",
        "#plt.plot(np.linspace(-8,8,100),norm.pdf(np.linspace(-8,8,100),df=np.mean(posterior_1['nu'])))\n",
        "#plt.xlim([0,10e7])\n",
        "az.plot_dist(ylog3,label='true observations');\n",
        "plt.legend()\n",
        "plt.xlabel(\"log(y) - output variable\")\n",
        "plt.ylabel(\"density plot\");"
      ],
      "execution_count": 397,
      "outputs": [
        {
          "output_type": "display_data",
          "data": {
            "image/png": "[encoded data removed]",
            "text/plain": [
              "<Figure size 432x288 with 1 Axes>"
            ]
          },
          "metadata": {
            "needs_background": "light"
          }
        }
      ]
    },
    {
      "cell_type": "markdown",
      "metadata": {
        "id": "fSTIzR_iI_aX"
      },
      "source": [
        "## Overall"
      ]
    },
    {
      "cell_type": "code",
      "metadata": {
        "id": "qGI0qJhAoIDq",
        "colab": {
          "base_uri": "https://localhost:8080/",
          "height": 283
        },
        "outputId": "e0bbf3c6-adf8-492f-80ef-c33c75fa1c8c"
      },
      "source": [
        "# posteriors\n",
        "Ypred0 = ppc(posterior0['alpha'],posterior0['beta'],posterior0['sigma_n'],Xn0,  nsamples=200)\n",
        "Ypred1 = ppc(posterior1['alpha'],posterior1['beta'],posterior1['sigma_n'],Xn1,  nsamples=200)\n",
        "Ypred2 = ppc(posterior2['alpha'],posterior2['beta'],posterior2['sigma_n'],Xn2,  nsamples=200)\n",
        "Ypred3 = ppc(posterior3['alpha'],posterior3['beta'],posterior3['sigma_n'],Xn3,  nsamples=200)\n",
        "\n",
        "# simulation\n",
        "Ypred = np.hstack([ yscaler0.inverse_transform(Ypred0),\n",
        "                 yscaler1.inverse_transform(Ypred1),\n",
        "                 yscaler2.inverse_transform(Ypred2),\n",
        "                 yscaler3.inverse_transform(Ypred3)])\n",
        "\n",
        "# prediction\n",
        "for i in range(Ypred.shape[0]):\n",
        "    az.plot_dist( Ypred[i,:],color='r',plot_kwargs={\"linewidth\": 0.2})\n",
        "\n",
        "# plot\n",
        "az.plot_dist(Ypred[i,:],color='r',plot_kwargs={\"linewidth\": 0.2}, label=\"prediction\")\n",
        "ylog=np.vstack([ylog0,ylog1,ylog2,ylog3])\n",
        "az.plot_dist(ylog,label='true observations');\n",
        "plt.legend()\n",
        "plt.xlabel(\"log(y) - output variable\")\n",
        "plt.ylabel(\"density plot\");"
      ],
      "execution_count": 398,
      "outputs": [
        {
          "output_type": "display_data",
          "data": {
            "image/png": "[encoded data removed]",
            "text/plain": [
              "<Figure size 432x288 with 1 Axes>"
            ]
          },
          "metadata": {
            "needs_background": "light"
          }
        }
      ]
    },
    {
      "cell_type": "markdown",
      "metadata": {
        "id": "Gtt7xivZI_aX"
      },
      "source": [
        "## Validation set performance"
      ]
    },
    {
      "cell_type": "code",
      "metadata": {
        "id": "9ZTXd2y3oIDr",
        "colab": {
          "base_uri": "https://localhost:8080/"
        },
        "outputId": "57ea8e61-dd7e-4570-9328-b0176841c573"
      },
      "source": [
        "# cluster 0\n",
        "y_pred_BLR0 = np.exp(yscaler0.inverse_transform(np.mean(posterior0['alpha']) \n",
        "              + np.dot(np.mean(posterior0['beta'],axis=0), Xtestn0.T)))\n",
        "print(\"Size Cluster0\", np.sum(clusters_test==0), \", MAE Cluster0=\",\n",
        "      (np.mean(abs(y_pred_BLR0 - y_test[clusters_test==0]))))\n",
        "\n",
        "# cluster 1\n",
        "y_pred_BLR1 = np.exp(yscaler1.inverse_transform(np.mean(posterior1['alpha']) \n",
        "              + np.dot(np.mean(posterior1['beta'],axis=0), Xtestn1.T)))\n",
        "print(\"Size Cluster1\", np.sum(clusters_test==1), \", MAE Cluster1=\",\n",
        "      (np.mean(abs(y_pred_BLR1 - y_test[clusters_test==1]))))\n",
        "\n",
        "# cluster 2\n",
        "y_pred_BLR2 = np.exp(yscaler2.inverse_transform(np.mean(posterior2['alpha']) \n",
        "              + np.dot(np.mean(posterior2['beta'],axis=0), Xtestn2.T)))\n",
        "print(\"Size Cluster2\", np.sum(clusters_test==2), \", MAE Cluster2=\",\n",
        "      (np.mean(abs(y_pred_BLR2 - y_test[clusters_test==2]))))\n",
        "\n",
        "# cluster 3\n",
        "y_pred_BLR3 = np.exp(yscaler3.inverse_transform(np.mean(posterior3['alpha']) \n",
        "              + np.dot(np.mean(posterior3['beta'],axis=0), Xtestn3.T)))\n",
        "print(\"Size Cluster3\", np.sum(clusters_test==3), \", MAE Cluster3=\",\n",
        "      (np.mean(abs(y_pred_BLR3 - y_test[clusters_test==3]))))\n",
        "\n",
        "# joint\n",
        "joint=np.hstack([abs(y_pred_BLR0 - y_test[clusters_test==0]),\n",
        "                 abs(y_pred_BLR1 - y_test[clusters_test==1]),\n",
        "                 abs(y_pred_BLR2 - y_test[clusters_test==2]),\n",
        "                 abs(y_pred_BLR3 - y_test[clusters_test==3])])\n",
        "\n",
        "# MAE\n",
        "print(\"MAE=\",np.mean(joint))"
      ],
      "execution_count": 399,
      "outputs": [
        {
          "output_type": "stream",
          "name": "stdout",
          "text": [
            "Size Cluster0 115 , MAE Cluster0= 73439.54850003777\n",
            "Size Cluster1 34 , MAE Cluster1= 42064.63822989456\n",
            "Size Cluster2 47 , MAE Cluster2= 91785.44735786204\n",
            "Size Cluster3 37 , MAE Cluster3= 83244.88691841686\n",
            "MAE= 74118.9811979472\n"
          ]
        }
      ]
    },
    {
      "cell_type": "markdown",
      "metadata": {
        "id": "hsIcnMalI_aX"
      },
      "source": [
        "### PPC on the Validation set\n",
        "\n"
      ]
    },
    {
      "cell_type": "code",
      "metadata": {
        "id": "Rl4U9JKOoIDr",
        "colab": {
          "base_uri": "https://localhost:8080/",
          "height": 288
        },
        "outputId": "ced5675c-d0ac-4554-aa04-ddde84c67b04"
      },
      "source": [
        "## Posterior predictive checks (PPCs)\n",
        "\n",
        "num_samples2 = 200\n",
        "Ypred0 = ppc(posterior0['alpha'],posterior0['beta'],posterior0['sigma_n'],Xtestn0, nsamples=num_samples2)\n",
        "Ypred1 = ppc(posterior1['alpha'],posterior1['beta'],posterior1['sigma_n'],Xtestn1, nsamples=num_samples2)\n",
        "Ypred2 = ppc(posterior2['alpha'],posterior2['beta'],posterior2['sigma_n'],Xtestn2, nsamples=num_samples2)\n",
        "Ypred3 = ppc(posterior3['alpha'],posterior3['beta'],posterior3['sigma_n'],Xtestn3, nsamples=num_samples2)\n",
        "\n",
        "# Stack arrays in sequence horizontally (column wise)\n",
        "Ypred = np.hstack([yscaler0.inverse_transform(Ypred0),\n",
        "                 yscaler1.inverse_transform(Ypred1),\n",
        "                 yscaler2.inverse_transform(Ypred2),\n",
        "                 yscaler3.inverse_transform(Ypred3)])\n",
        "\n",
        "# plot prediction shape\n",
        "for i in range(Ypred.shape[0]):\n",
        "    az.plot_dist( Ypred[i,:],color='r',plot_kwargs={\"linewidth\": 0.2})\n",
        "# label\n",
        "az.plot_dist(Ypred[i,:],color='r',plot_kwargs={\"linewidth\": 0.2}, label=\"prediction\")\n",
        "\n",
        "# true observations\n",
        "az.plot_dist(np.log(y_test),label='true observations');\n",
        "plt.legend()\n",
        "plt.xlabel(\"log(y) - output variable\")\n",
        "plt.ylabel(\"density plot\");"
      ],
      "execution_count": 400,
      "outputs": [
        {
          "output_type": "display_data",
          "data": {
            "image/png": "[encoded data removed]",
            "text/plain": [
              "<Figure size 432x288 with 1 Axes>"
            ]
          },
          "metadata": {
            "needs_background": "light"
          }
        }
      ]
    },
    {
      "cell_type": "code",
      "metadata": {
        "colab": {
          "base_uri": "https://localhost:8080/"
        },
        "id": "k9DOhvrarOsV",
        "outputId": "66ee4505-ab08-419e-c3e4-590e9c33cf3c"
      },
      "source": [
        "Ypred.shape"
      ],
      "execution_count": 401,
      "outputs": [
        {
          "output_type": "execute_result",
          "data": {
            "text/plain": [
              "(200, 233)"
            ]
          },
          "metadata": {},
          "execution_count": 401
        }
      ]
    },
    {
      "cell_type": "code",
      "metadata": {
        "colab": {
          "base_uri": "https://localhost:8080/"
        },
        "id": "HjO-B9wjreNK",
        "outputId": "9e0525aa-cbe1-4ae6-9f78-08cd527f4ca5"
      },
      "source": [
        "Ypred"
      ],
      "execution_count": 402,
      "outputs": [
        {
          "output_type": "execute_result",
          "data": {
            "text/plain": [
              "array([[12.86631765, 12.69164758, 13.27531553, ..., 11.8528202 ,\n",
              "        12.7625948 , 13.15273811],\n",
              "       [12.63614287, 13.03863377, 13.36653816, ..., 12.465296  ,\n",
              "        13.09195577, 12.75638397],\n",
              "       [12.93571269, 12.57182114, 13.52849522, ..., 12.93431518,\n",
              "        12.97510828, 12.82186317],\n",
              "       ...,\n",
              "       [13.02222689, 12.81515286, 13.43173815, ..., 11.93494112,\n",
              "        12.8314393 , 12.15585032],\n",
              "       [13.16944569, 12.55921955, 13.27399947, ..., 12.30637828,\n",
              "        12.78221248, 12.53662176],\n",
              "       [13.1176266 , 12.4854982 , 13.45774045, ..., 12.10017216,\n",
              "        12.85261206, 12.68167786]])"
            ]
          },
          "metadata": {},
          "execution_count": 402
        }
      ]
    },
    {
      "cell_type": "code",
      "metadata": {
        "id": "dkzIrNAKvt9W"
      },
      "source": [
        "#Ypred.shape[0]"
      ],
      "execution_count": 403,
      "outputs": []
    },
    {
      "cell_type": "code",
      "metadata": {
        "colab": {
          "base_uri": "https://localhost:8080/"
        },
        "id": "sA-rPjS8sWoD",
        "outputId": "0c003d9c-00a9-4a0c-da04-4dbcc42e20a2"
      },
      "source": [
        "Ypred_row_avg = []\n",
        "\n",
        "for each_row in range(Ypred.T.shape[0]):\n",
        "\n",
        "  temp_total = 0\n",
        "\n",
        "  for each_column in Ypred.T[each_row,:]:\n",
        "\n",
        "    temp_total += each_column\n",
        "\n",
        "  avg_value = temp_total/Ypred.shape[0]\n",
        "\n",
        "  Ypred_row_avg.append(avg_value)\n",
        "\n",
        "#Ypred_row_avg\n",
        "len(Ypred_row_avg)\n",
        "\n",
        "Ypred_avg_array = np.array(Ypred_row_avg)\n",
        "\n",
        "Ypred_avg_array.shape"
      ],
      "execution_count": 404,
      "outputs": [
        {
          "output_type": "execute_result",
          "data": {
            "text/plain": [
              "(233,)"
            ]
          },
          "metadata": {},
          "execution_count": 404
        }
      ]
    },
    {
      "cell_type": "code",
      "metadata": {
        "colab": {
          "base_uri": "https://localhost:8080/"
        },
        "id": "9neK2UCA2_Yc",
        "outputId": "102066da-34af-436f-8650-f848b34253c4"
      },
      "source": [
        "y_test.shape"
      ],
      "execution_count": 405,
      "outputs": [
        {
          "output_type": "execute_result",
          "data": {
            "text/plain": [
              "(233,)"
            ]
          },
          "metadata": {},
          "execution_count": 405
        }
      ]
    },
    {
      "cell_type": "code",
      "metadata": {
        "id": "0kzhEb7W62SU"
      },
      "source": [
        "#np.exp(np.log(y_test))\n",
        "#y_test"
      ],
      "execution_count": 406,
      "outputs": []
    },
    {
      "cell_type": "code",
      "metadata": {
        "id": "KzCScnQErqMf"
      },
      "source": [
        "#np.log(y_test)"
      ],
      "execution_count": 407,
      "outputs": []
    },
    {
      "cell_type": "code",
      "metadata": {
        "id": "trQxjgzm2qNr"
      },
      "source": [
        "# type(y_test)\n",
        "# type(Ypred_avg_array)"
      ],
      "execution_count": 408,
      "outputs": []
    },
    {
      "cell_type": "markdown",
      "metadata": {
        "id": "rFWxlsyJ5eCI"
      },
      "source": [
        "**The prediction and true value are already in log form**"
      ]
    },
    {
      "cell_type": "code",
      "metadata": {
        "colab": {
          "base_uri": "https://localhost:8080/"
        },
        "id": "065iCjUV0qLQ",
        "outputId": "25a49e8e-59f3-44c4-f542-8bfd6acb09e7"
      },
      "source": [
        "from sklearn.metrics import mean_squared_log_error\n",
        "\n",
        "# RMSLE_PiecewiseModel = mean_squared_log_error(y_test, Ypred_avg_array, squared=False)\n",
        "\n",
        "# RMSLE_PiecewiseModel\n",
        "\n",
        "#######mean_squared_log_error(np.log(y_test), Ypred_avg_array, squared=False)\n",
        "\n",
        "# from sklearn.metrics import mean_squared_error\n",
        "\n",
        "# np.sqrt(mean_squared_error(np.log(y_test), Ypred_avg_array))\n",
        "\n",
        "np.sqrt(mean_squared_log_error( y_test, np.exp(Ypred_avg_array) ))"
      ],
      "execution_count": 409,
      "outputs": [
        {
          "output_type": "execute_result",
          "data": {
            "text/plain": [
              "0.5356252761066075"
            ]
          },
          "metadata": {},
          "execution_count": 409
        }
      ]
    },
    {
      "cell_type": "code",
      "metadata": {
        "id": "N0Qn1lIL0rlV"
      },
      "source": [
        "# type(Ypred_avg_array)\n",
        "# Ypred_avg_array\n",
        "# np.exp(Ypred_avg_array)\n",
        "# type(y_test)\n",
        "# y_test"
      ],
      "execution_count": 410,
      "outputs": []
    },
    {
      "cell_type": "markdown",
      "metadata": {
        "id": "_kFgkUA85_pn"
      },
      "source": [
        "# BAYESIAN NN"
      ]
    },
    {
      "cell_type": "markdown",
      "metadata": {
        "id": "ELer5PV37ftX"
      },
      "source": [
        "A [Bayesian network](https://en.wikipedia.org/wiki/Bayesian_network) (also known as a Bayes network, Bayes net, belief network, or decision network) is a probabilistic graphical model that represents a set of variables and their conditional dependencies via a directed acyclic graph (DAG). \n",
        "\n",
        "* Bayesian networks are ideal for taking an event that occurred and predicting the likelihood that any one of several possible known causes was the contributing factor. \n",
        "* For example, a Bayesian network could represent the probabilistic relationships between diseases and symptoms. \n",
        "* Given symptoms, the network can be used to compute the probabilities of the presence of various diseases."
      ]
    },
    {
      "cell_type": "markdown",
      "metadata": {
        "id": "z0kauv1L5_po"
      },
      "source": [
        "Your comments, explanation, and references here."
      ]
    },
    {
      "cell_type": "code",
      "metadata": {
        "id": "uIbpzCUU6x-l"
      },
      "source": [
        "# df_dataset_X_train, df_dataset_X_val, df_dataset_y_train, df_dataset_y_val = train_test_split(df_dataset_X, df_dataset_y, test_size = 0.20, random_state = 0)"
      ],
      "execution_count": 411,
      "outputs": []
    },
    {
      "cell_type": "code",
      "metadata": {
        "colab": {
          "base_uri": "https://localhost:8080/"
        },
        "id": "B5CPVTTe-BXi",
        "outputId": "0598af8b-30f0-4d9f-9f17-6add885ef95d"
      },
      "source": [
        "df_dataset_X.shape"
      ],
      "execution_count": 412,
      "outputs": [
        {
          "output_type": "execute_result",
          "data": {
            "text/plain": [
              "(1165, 18)"
            ]
          },
          "metadata": {},
          "execution_count": 412
        }
      ]
    },
    {
      "cell_type": "code",
      "metadata": {
        "colab": {
          "base_uri": "https://localhost:8080/"
        },
        "id": "6n9KsMPbKCP9",
        "outputId": "14d8e69e-e0bb-4816-ff61-52ee3819c547"
      },
      "source": [
        "df_dataset_X_train.shape"
      ],
      "execution_count": 413,
      "outputs": [
        {
          "output_type": "execute_result",
          "data": {
            "text/plain": [
              "(932, 18)"
            ]
          },
          "metadata": {},
          "execution_count": 413
        }
      ]
    },
    {
      "cell_type": "code",
      "metadata": {
        "colab": {
          "base_uri": "https://localhost:8080/"
        },
        "id": "uboZ-X08-CLB",
        "outputId": "bfea019e-2945-41a9-a98e-562c59eab404"
      },
      "source": [
        "df_dataset_y.shape"
      ],
      "execution_count": 414,
      "outputs": [
        {
          "output_type": "execute_result",
          "data": {
            "text/plain": [
              "(1165, 1)"
            ]
          },
          "metadata": {},
          "execution_count": 414
        }
      ]
    },
    {
      "cell_type": "code",
      "metadata": {
        "id": "u5-Qn922OUiU",
        "colab": {
          "base_uri": "https://localhost:8080/"
        },
        "outputId": "cc81f7e3-33bb-4631-d392-54b57542bdb1"
      },
      "source": [
        "# Gaussian Processes\n",
        "# https://gpy.readthedocs.io/en/deploy/GPy.kern.html\n",
        "# Radial Basis Functions\n",
        "# https://scikit-learn.org/stable/auto_examples/svm/plot_rbf_parameters.html\n",
        "# kernel is a function that specifies the degree of similarity \n",
        "# between variables given their relative positions in parameter space\n",
        "kernel = GPy.kern.RBF(input_dim=1,lengthscale=0.15,variance=0.2)\n",
        "print(kernel)"
      ],
      "execution_count": 415,
      "outputs": [
        {
          "output_type": "stream",
          "name": "stdout",
          "text": [
            "  \u001b[1mrbf.       \u001b[0;0m  |  value  |  constraints  |  priors\n",
            "  \u001b[1mvariance   \u001b[0;0m  |    0.2  |      +ve      |        \n",
            "  \u001b[1mlengthscale\u001b[0;0m  |   0.15  |      +ve      |        \n"
          ]
        }
      ]
    },
    {
      "cell_type": "code",
      "metadata": {
        "id": "ACwm0S7Aw4kp"
      },
      "source": [
        "X_new_train =  df_dataset_X_train.to_numpy()\n",
        "X_new_test = df_dataset_X_val.to_numpy()\n",
        "\n",
        "y_new_train = df_dataset_y_train.to_numpy()\n",
        "y_new_test = df_dataset_y_val.to_numpy()"
      ],
      "execution_count": 416,
      "outputs": []
    },
    {
      "cell_type": "code",
      "metadata": {
        "colab": {
          "base_uri": "https://localhost:8080/"
        },
        "id": "iXN0c0H8Iapb",
        "outputId": "d3fa25bb-2a7a-438e-9751-2a350cdcad66"
      },
      "source": [
        "X_new_train.shape"
      ],
      "execution_count": 417,
      "outputs": [
        {
          "output_type": "execute_result",
          "data": {
            "text/plain": [
              "(932, 18)"
            ]
          },
          "metadata": {},
          "execution_count": 417
        }
      ]
    },
    {
      "cell_type": "code",
      "metadata": {
        "colab": {
          "base_uri": "https://localhost:8080/"
        },
        "id": "gfM-XlHpMmHW",
        "outputId": "4db83e01-31f4-498c-b313-567f01b42155"
      },
      "source": [
        "y_new_train.shape\n",
        "\n",
        "#type(y_new_train)"
      ],
      "execution_count": 418,
      "outputs": [
        {
          "output_type": "execute_result",
          "data": {
            "text/plain": [
              "(932, 1)"
            ]
          },
          "metadata": {},
          "execution_count": 418
        }
      ]
    },
    {
      "cell_type": "markdown",
      "metadata": {
        "id": "8oPgbJuhV-To"
      },
      "source": [
        "**Remove dimension to suit Bayesian Neural Network code later.**"
      ]
    },
    {
      "cell_type": "code",
      "metadata": {
        "colab": {
          "base_uri": "https://localhost:8080/"
        },
        "id": "evWmMG-mV0iB",
        "outputId": "80673797-f1fd-4c05-9008-7e4c4a923b80"
      },
      "source": [
        "y_new_train = np.squeeze(y_new_train)\n",
        "\n",
        "y_new_train.shape"
      ],
      "execution_count": 419,
      "outputs": [
        {
          "output_type": "execute_result",
          "data": {
            "text/plain": [
              "(932,)"
            ]
          },
          "metadata": {},
          "execution_count": 419
        }
      ]
    },
    {
      "cell_type": "code",
      "metadata": {
        "id": "fjTNkr4iLA3D"
      },
      "source": [
        "#np.ones(len(X_new_train[0]))\n",
        "\n",
        "#np.ones((X_new_train.shape[0], 1))\n",
        "\n",
        "# x1 = np.hstack([X_new_train, np.ones((X_new_train.shape[0], 1))])\n",
        "\n",
        "# x1.shape\n",
        "\n",
        "#x1 = np.hstack([np.ones(len(X_new_train[0])), X_new_train])"
      ],
      "execution_count": 420,
      "outputs": []
    },
    {
      "cell_type": "code",
      "metadata": {
        "id": "HWzw7rMFTGzW"
      },
      "source": [
        "#x1 = np.vstack([np.ones((X_new_train.shape[0],1)), X_new_train]).T"
      ],
      "execution_count": 421,
      "outputs": []
    },
    {
      "cell_type": "code",
      "metadata": {
        "id": "vX4cTbMmw4kr"
      },
      "source": [
        "# https://theano-pymc.readthedocs.io/en/latest/\n",
        "import theano\n",
        "\n",
        "# add a column of ones to include an intercept in the model\n",
        "###########x1 = np.vstack([np.ones(len(X_new_train)), X_new_train]).T\n",
        "\n",
        "x1 = np.hstack([X_new_train, np.ones((X_new_train.shape[0], 1))])\n",
        "\n",
        "floatX = theano.config.floatX\n",
        "\n",
        "l = 15\n",
        "#####l = 25\n",
        "\n",
        "# Initialize random weights between each layer\n",
        "# we do that to help the numerical algorithm that computes the posterior\n",
        "init_1 = np.random.randn(x1.shape[1], l).astype(floatX)\n",
        "init_out = np.random.randn(l).astype(floatX)\n",
        "\n",
        "# pymc3 model as neural_network\n",
        "with pm.Model() as neural_network:\n",
        "    # we convert the data in theano type so we can do dot products with the correct type.\n",
        "    ann_input = pm.Data('ann_input', x1)\n",
        "    ann_output = pm.Data('ann_output', y_new_train)\n",
        "    # Priors \n",
        "    # Weights from input to hidden layer\n",
        "    weights_in_1 = pm.Normal('w_1', 0, sigma=10,\n",
        "                             shape=(x1.shape[1], l), testval=init_1)\n",
        "    # Weights from hidden layer to output\n",
        "    weights_2_out = pm.Normal('w_0', 0, sigma=10,\n",
        "                              shape=(l,),testval=init_out)\n",
        "\n",
        "    # Build neural-network using tanh activation function\n",
        "    # Inner layer\n",
        "    act_1 = pm.math.tanh(pm.math.dot(ann_input,weights_in_1))\n",
        "    # Linear layer, like in Linear regression\n",
        "    act_out = pm.Deterministic('act_out',pm.math.dot(act_1, weights_2_out))\n",
        "\n",
        "    # standard deviation of noise\n",
        "    sigma = pm.HalfCauchy('sigma',5)\n",
        "\n",
        "    # Normal likelihood\n",
        "    out = pm.Normal('out',\n",
        "                       act_out,\n",
        "                       sigma=sigma,\n",
        "                       observed=ann_output)"
      ],
      "execution_count": 422,
      "outputs": []
    },
    {
      "cell_type": "markdown",
      "metadata": {
        "id": "MMbI0vayXYwI"
      },
      "source": [
        "**Need to adjust the 'Draw' and 'tune' parameters before drawing samples from the posterior. Otherwise, the error highlighted in the comment below will happen.**"
      ]
    },
    {
      "cell_type": "code",
      "metadata": {
        "colab": {
          "base_uri": "https://localhost:8080/",
          "height": 193
        },
        "id": "V1efkEerw4kr",
        "outputId": "e751b87f-4fae-41cb-c3e7-18243994384a"
      },
      "source": [
        "# this can be slow because there are many parameters\n",
        "\n",
        "# # some parameters\n",
        "# par1 = 100  # start with 100, then use 1000+\n",
        "# par2 = 1000 # start with 1000, then use 10000+\n",
        "\n",
        "#!!!!!!!!!!!!!!!!!!!!!!!!!!!!!!!!!!!!!!!!!!!!!!!!!!!!!!!!!!!!!!!!!!\n",
        "# ValueError: Mass matrix contains zeros on the diagonal. \n",
        "# The derivative of RV `w_0`.ravel()[0] is zero.\n",
        "# The derivative of RV `w_0`.ravel()[1] is zero.\n",
        "# The derivative of RV `w_0`.ravel()[2] is zero.\n",
        "# The derivative of RV `w_0`.ravel()[4] is zero.\n",
        "# The derivative of RV `w_0`.ravel()[5] is zero.\n",
        "# The derivative of RV `w_0`.ravel()[6] is zero.\n",
        "# .............\n",
        "\n",
        "# some parameters\n",
        "par1 = 50  # start with 100, then use 1000+\n",
        "par2 = 250 # start with 1000, then use 10000+\n",
        "\n",
        "\n",
        "# some parameters\n",
        "par1 = 100  # start with 100, then use 1000+\n",
        "par2 = 250 # start with 1000, then use 10000+\n",
        "\n",
        "\n",
        "# neural network\n",
        "with neural_network:\n",
        "    posterior = pm.sample(par1,tune=par2,chains=1)\n",
        "    \n",
        "    # posterior = pm.sample(par1, tune=500)\n"
      ],
      "execution_count": 423,
      "outputs": [
        {
          "output_type": "stream",
          "name": "stderr",
          "text": [
            "Only 100 samples in chain.\n",
            "Auto-assigning NUTS sampler...\n",
            "Initializing NUTS using jitter+adapt_diag...\n",
            "Sequential sampling (1 chains in 1 job)\n",
            "NUTS: [sigma, w_0, w_1]\n"
          ]
        },
        {
          "output_type": "display_data",
          "data": {
            "text/html": [
              "\n",
              "    <div>\n",
              "        <style>\n",
              "            /* Turns off some styling */\n",
              "            progress {\n",
              "                /* gets rid of default border in Firefox and Opera. */\n",
              "                border: none;\n",
              "                /* Needs to be in here for Safari polyfill so background images work as expected. */\n",
              "                background-size: auto;\n",
              "            }\n",
              "            .progress-bar-interrupted, .progress-bar-interrupted::-webkit-progress-bar {\n",
              "                background: #F44336;\n",
              "            }\n",
              "        </style>\n",
              "      <progress value='350' class='' max='350' style='width:300px; height:20px; vertical-align: middle;'></progress>\n",
              "      100.00% [350/350 00:01<00:00 Sampling chain 0, 14 divergences]\n",
              "    </div>\n",
              "    "
            ],
            "text/plain": [
              "<IPython.core.display.HTML object>"
            ]
          },
          "metadata": {}
        },
        {
          "output_type": "stream",
          "name": "stderr",
          "text": [
            "Sampling 1 chain for 250 tune and 100 draw iterations (250 + 100 draws total) took 1 seconds.\n",
            "There were 14 divergences after tuning. Increase `target_accept` or reparameterize.\n",
            "The acceptance probability does not match the target. It is 1.0, but should be close to 0.8. Try to increase the number of tuning steps.\n",
            "Only one chain was sampled, this makes it impossible to run some convergence checks\n"
          ]
        }
      ]
    },
    {
      "cell_type": "code",
      "metadata": {
        "id": "SUibqLPejII6"
      },
      "source": [
        "######### my code\n",
        "\n",
        "# draw samples from variational posterior\n",
        "# D = 500\n",
        "# posterior = approx.sample(draws=D)\n",
        "\n",
        "\n",
        "x2 = np.hstack([X_new_test, np.ones((X_new_test.shape[0], 1))])\n",
        "\n",
        "y_pred = []\n",
        "for i in range(posterior['w_1'].shape[0]):\n",
        "    #inner layer\n",
        "    t1 = np.tanh(np.dot(posterior['w_1'][i,:,:].T,x2.T))\n",
        "    #outer layer\n",
        "    y_pred.append(np.dot(posterior['w_0'][i,:],t1))\n",
        "\n",
        "# predictions   \n",
        "y_pred = np.array(y_pred)\n"
      ],
      "execution_count": 424,
      "outputs": []
    },
    {
      "cell_type": "markdown",
      "metadata": {
        "id": "3GrYdYIaI4IV"
      },
      "source": [
        "Specifically, PyMC3 supports the following Variational Inference (VI) methods:\n",
        "\n",
        "  * Automatic Differentiation Variational Inference (ADVI): 'advi'\n",
        "  * ADVI full rank: 'fullrank_advi'\n",
        "  * Stein Variational Gradient Descent (SVGD): 'svgd'\n",
        "  * Amortized Stein Variational Gradient Descent (ASVGD): 'asvgd'\n",
        "  * Normalizing Flow with default scale-loc flow (NFVI): 'nfvi'\n"
      ]
    },
    {
      "cell_type": "code",
      "metadata": {
        "id": "-VPOdtftw4kr",
        "colab": {
          "base_uri": "https://localhost:8080/",
          "height": 54
        },
        "outputId": "5f450330-3f3a-458a-cd1d-a01f1a90afc5"
      },
      "source": [
        "# we can do instead an approximated inference\n",
        "param3 = 1000 # start with 1000, then use 50000+\n",
        "VI = 'advi'  # 'advi', 'fullrank_advi', 'svgd', 'asvgd', 'nfvi'\n",
        "OP = pm.adam # pm.adam, pm.sgd, pm.adagrad, pm.adagrad_window, pm.adadelta\n",
        "LR = 0.01    \n",
        "\n",
        "with neural_network:\n",
        "    approx = pm.fit(param3, method=VI, obj_optimizer=pm.adam(learning_rate=LR))"
      ],
      "execution_count": 425,
      "outputs": [
        {
          "output_type": "display_data",
          "data": {
            "text/html": [
              "\n",
              "    <div>\n",
              "        <style>\n",
              "            /* Turns off some styling */\n",
              "            progress {\n",
              "                /* gets rid of default border in Firefox and Opera. */\n",
              "                border: none;\n",
              "                /* Needs to be in here for Safari polyfill so background images work as expected. */\n",
              "                background-size: auto;\n",
              "            }\n",
              "            .progress-bar-interrupted, .progress-bar-interrupted::-webkit-progress-bar {\n",
              "                background: #F44336;\n",
              "            }\n",
              "        </style>\n",
              "      <progress value='1000' class='' max='1000' style='width:300px; height:20px; vertical-align: middle;'></progress>\n",
              "      100.00% [1000/1000 00:00<00:00 Average Loss = 8.324e+11]\n",
              "    </div>\n",
              "    "
            ],
            "text/plain": [
              "<IPython.core.display.HTML object>"
            ]
          },
          "metadata": {}
        },
        {
          "output_type": "stream",
          "name": "stderr",
          "text": [
            "Finished [100%]: Average Loss = 8.2573e+11\n"
          ]
        }
      ]
    },
    {
      "cell_type": "code",
      "metadata": {
        "id": "3OdvlxIxw4ks",
        "colab": {
          "base_uri": "https://localhost:8080/",
          "height": 290
        },
        "outputId": "fe764fa3-9512-49fd-a11b-d029930962a1"
      },
      "source": [
        "# plot \n",
        "pb.plot(approx.hist, label='Variational Inference: '+ VI.upper(), alpha=.3)\n",
        "pb.legend(loc='upper right')\n",
        "# Evidence Lower Bound (ELBO)\n",
        "# https://en.wikipedia.org/wiki/Evidence_lower_bound\n",
        "pb.ylabel('ELBO')\n",
        "pb.xlabel('iteration');"
      ],
      "execution_count": 426,
      "outputs": [
        {
          "output_type": "display_data",
          "data": {
            "image/png": "[encoded data removed]",
            "text/plain": [
              "<Figure size 432x288 with 1 Axes>"
            ]
          },
          "metadata": {
            "needs_background": "light"
          }
        }
      ]
    },
    {
      "cell_type": "code",
      "metadata": {
        "id": "eSaDuywyw4kt"
      },
      "source": [
        "# draw samples from variational posterior\n",
        "D = 500\n",
        "posterior = approx.sample(draws=D)"
      ],
      "execution_count": 427,
      "outputs": []
    },
    {
      "cell_type": "markdown",
      "metadata": {
        "id": "jOds13j2w4kt"
      },
      "source": [
        "Now, we compute the prediction for each sample. \n",
        "* Note that we use `np.tanh` instead of `pm.math.tanh`\n",
        "for speed reason. \n",
        "* `pm.math.tanh` is slower outside a Pymc3 model because it converts all data in theano format.\n",
        "* It is convenient to do GPU-based training, but it is slow when we only need to compute predictions."
      ]
    },
    {
      "cell_type": "code",
      "metadata": {
        "id": "nxmqy9iWw4kt"
      },
      "source": [
        "# # add a column of ones to include an intercept in the model\n",
        "# x2 = np.vstack([np.ones(len(X_new_test)), X_new_test]).T\n",
        "\n",
        "# add a column of ones to include an intercept in the model\n",
        "###########x2 = np.vstack([np.ones(len(X_new_test)), X_new_test]).T\n",
        "\n",
        "x2 = np.hstack([X_new_test, np.ones((X_new_test.shape[0], 1))])\n",
        "\n",
        "y_pred = []\n",
        "for i in range(posterior['w_1'].shape[0]):\n",
        "    #inner layer\n",
        "    t1 = np.tanh(np.dot(posterior['w_1'][i,:,:].T,x2.T))\n",
        "    #outer layer\n",
        "    y_pred.append(np.dot(posterior['w_0'][i,:],t1))\n",
        "\n",
        "# predictions   \n",
        "y_pred = np.array(y_pred)"
      ],
      "execution_count": 428,
      "outputs": []
    },
    {
      "cell_type": "markdown",
      "metadata": {
        "id": "9c2wqndLw4kt"
      },
      "source": [
        "We first plot the mean  of `y_pred`, this is very similar to the prediction that Keras returns"
      ]
    },
    {
      "cell_type": "code",
      "metadata": {
        "colab": {
          "base_uri": "https://localhost:8080/"
        },
        "id": "J2uCv5yZA2v2",
        "outputId": "20b8a8c1-0677-411a-d36f-8c52efd32bc6"
      },
      "source": [
        "y_pred.shape"
      ],
      "execution_count": 429,
      "outputs": [
        {
          "output_type": "execute_result",
          "data": {
            "text/plain": [
              "(500, 233)"
            ]
          },
          "metadata": {},
          "execution_count": 429
        }
      ]
    },
    {
      "cell_type": "code",
      "metadata": {
        "colab": {
          "base_uri": "https://localhost:8080/"
        },
        "id": "iFIE8zqkJ9X9",
        "outputId": "77962226-4769-458e-f35a-812ef0e7713e"
      },
      "source": [
        "y_pred"
      ],
      "execution_count": 430,
      "outputs": [
        {
          "output_type": "execute_result",
          "data": {
            "text/plain": [
              "array([[22.36221552, 22.47868632, 24.06683862, ..., 24.06683862,\n",
              "        24.06683862, 22.47868632],\n",
              "       [24.50871651, 24.50871651, 25.57177431, ..., 26.11048884,\n",
              "        26.11048884, 24.50871651],\n",
              "       [25.23864711, 25.5048315 , 25.50483149, ..., 25.5048315 ,\n",
              "        25.5048315 , 25.5048315 ],\n",
              "       ...,\n",
              "       [29.11888991, 29.11888991, 29.12131904, ..., 29.53876884,\n",
              "        29.70336301, 29.11888991],\n",
              "       [27.18271464, 27.18271464, 27.18271464, ..., 27.18271464,\n",
              "        27.18271464, 27.18271464],\n",
              "       [24.31606557, 19.77298161, 17.88382004, ..., 24.90952836,\n",
              "        24.90952836, 20.36585903]])"
            ]
          },
          "metadata": {},
          "execution_count": 430
        }
      ]
    },
    {
      "cell_type": "code",
      "metadata": {
        "colab": {
          "base_uri": "https://localhost:8080/"
        },
        "id": "vCdz0hGjOO4U",
        "outputId": "6c74278f-4955-4551-d7c5-f700c9707371"
      },
      "source": [
        "y_pred.max()"
      ],
      "execution_count": 431,
      "outputs": [
        {
          "output_type": "execute_result",
          "data": {
            "text/plain": [
              "35.832939642720866"
            ]
          },
          "metadata": {},
          "execution_count": 431
        }
      ]
    },
    {
      "cell_type": "code",
      "metadata": {
        "colab": {
          "base_uri": "https://localhost:8080/"
        },
        "id": "7JJIglHrAjZV",
        "outputId": "9173cd52-18e5-43df-f62f-89a73cfb29aa"
      },
      "source": [
        "y_new_test.shape"
      ],
      "execution_count": 432,
      "outputs": [
        {
          "output_type": "execute_result",
          "data": {
            "text/plain": [
              "(233, 1)"
            ]
          },
          "metadata": {},
          "execution_count": 432
        }
      ]
    },
    {
      "cell_type": "code",
      "metadata": {
        "colab": {
          "base_uri": "https://localhost:8080/"
        },
        "id": "Ct6lvGdLQIRs",
        "outputId": "d4670c8b-ec34-49d0-b52a-3ae265d3f39b"
      },
      "source": [
        "y_new_test[0:10]"
      ],
      "execution_count": 433,
      "outputs": [
        {
          "output_type": "execute_result",
          "data": {
            "text/plain": [
              "array([[745000],\n",
              "       [199000],\n",
              "       [650000],\n",
              "       [440000],\n",
              "       [375000],\n",
              "       [290000],\n",
              "       [410000],\n",
              "       [380000],\n",
              "       [275000],\n",
              "       [475000]])"
            ]
          },
          "metadata": {},
          "execution_count": 433
        }
      ]
    },
    {
      "cell_type": "code",
      "metadata": {
        "colab": {
          "base_uri": "https://localhost:8080/"
        },
        "id": "E8I_cH6PhTgk",
        "outputId": "1e30e57a-ce19-44ab-f5f0-fda23f79f375"
      },
      "source": [
        "y_pred.shape[0]"
      ],
      "execution_count": 434,
      "outputs": [
        {
          "output_type": "execute_result",
          "data": {
            "text/plain": [
              "500"
            ]
          },
          "metadata": {},
          "execution_count": 434
        }
      ]
    },
    {
      "cell_type": "code",
      "metadata": {
        "colab": {
          "base_uri": "https://localhost:8080/"
        },
        "id": "H040YnTVDVC5",
        "outputId": "cde916d8-397c-4b3d-9d8e-e768671c5073"
      },
      "source": [
        "Ypred_row_avg = []\n",
        "\n",
        "for each_row in range(y_pred.T.shape[0]):\n",
        "\n",
        "  temp_total = 0\n",
        "\n",
        "  for each_column in y_pred.T[each_row,:]:\n",
        "\n",
        "    temp_total += each_column\n",
        "\n",
        "  avg_value = temp_total/y_pred.shape[0]\n",
        "\n",
        "  Ypred_row_avg.append(avg_value)\n",
        "\n",
        "#Ypred_row_avg\n",
        "len(Ypred_row_avg)\n",
        "\n",
        "Ypred_avg_array = np.array(Ypred_row_avg)\n",
        "\n",
        "Ypred_avg_array.shape"
      ],
      "execution_count": 435,
      "outputs": [
        {
          "output_type": "execute_result",
          "data": {
            "text/plain": [
              "(233,)"
            ]
          },
          "metadata": {},
          "execution_count": 435
        }
      ]
    },
    {
      "cell_type": "code",
      "metadata": {
        "id": "sleR7SqBKVcN"
      },
      "source": [
        "#np.exp(Ypred_avg_array)"
      ],
      "execution_count": 436,
      "outputs": []
    },
    {
      "cell_type": "code",
      "metadata": {
        "colab": {
          "base_uri": "https://localhost:8080/"
        },
        "id": "QJ6MqqpdH677",
        "outputId": "2ceafb61-e3c8-4d8c-fd19-c50f807c362e"
      },
      "source": [
        "np.sqrt(mean_squared_log_error( y_new_test, np.exp(Ypred_avg_array)))"
      ],
      "execution_count": 437,
      "outputs": [
        {
          "output_type": "execute_result",
          "data": {
            "text/plain": [
              "14.080555201633482"
            ]
          },
          "metadata": {},
          "execution_count": 437
        }
      ]
    },
    {
      "cell_type": "markdown",
      "metadata": {
        "id": "f0GYCpwEM09T"
      },
      "source": [
        "# **SUMMARY**"
      ]
    },
    {
      "cell_type": "markdown",
      "metadata": {
        "id": "rBDzsZSJ7HZp"
      },
      "source": [
        "## Pre-Processing\n",
        "\n",
        "*\tThe attributes/features ‘Index’ and ‘ID’ both have 1638 unique values (same size of training set) so don’t offer any useful information. These features can be dropped (except when wanting to use ‘Index’ as part of a Kaggle competition submission).\n",
        "\n",
        "*\tThe attribute 'Services' can be seen to have 1061 out of 1638 samples with a NaN/Null result. That accounts for nearly 65% of all data for that column. This attribute/feature will be dropped.\n",
        "\n",
        "*\tThe attribute 'BER_class' has 251 instances of NaN/Null values but there are a variety of values it can take on so it will be maintained and instead the NaN/Null instances will be removed.\n",
        "\n",
        "*\tDrop all rows with NaN present as the sample/observation is incomplete and may be misleading.\n",
        "\n",
        "*\tRemove samples where there are 0 bathrooms and 0 bedrooms if there are any.\n",
        "\n",
        "*\tFor the categorical features 'Location', 'BER_class' and 'Type' a mapping approach will be taken to convert these to numerical features going forward.\n",
        "\n",
        "  * The approach shown below was adapted from datacamp.com by Pathak (2020) which displays a very helpful way of mapping categorical features to numerical features without having to explicitly state the mapping yourself.\n",
        "\n",
        "*\tCombine attributes 'Description' and 'Features' so the NLP actions/steps will apply to both. Drop those old features and just retain the combined new attribute 'Information'.\n",
        "\n",
        "*\tCycle through each numerical feature in the training data set and remove data points that are deemed outliers i.e. data points that fall outside the IQR (Interquartile Range). I adapted code by Brownlee (2018) to help assess outliers in the data.\n",
        "\n",
        "*\tSimilar pre-processing was done to the test set like what was mentioned above. \n",
        "o\tThis caused an issue when subsequently trying to submit to the Kaggle competition as it was expecting 702 rows in the submitted file – the removal of NaN/Null instances and the removal of outliers had to be ignored for the test set if trying to make a submission.\n",
        "\n",
        "*\t1165 rows were otherwise present in the training data with 10 features. 528 rows were present in the test data with 10 features.\n",
        "\n",
        "\n",
        "## Natural Language Processing\n",
        "\n",
        "*\tThe created feature ‘Information’ (combination of ‘Description’ and ‘Features’) was used so that any applied NLP steps would take affect collectively.\n",
        "\n",
        "*\tI followed the approaches taken in the Spam Classifier 2 example notebook.\n",
        "\n",
        "*\tThe ‘Information’ feature was cleaned such that:\n",
        "\n",
        "  *\tEverything except letters was removed.\n",
        "\n",
        "  *\tShort words (4 or less letters) were removed.\n",
        "\n",
        "  *\tAll text was made lower case.\n",
        "\n",
        "*\tThe NLTK library was used to help remove ‘stop words’ as part of the tokenization process.\n",
        "\n",
        "*\tSklearn’s ‘TfidfVectorizer’ was used to help assess word count/frequency. It helps to retain the desired number of counts relating to the most commonly occurring words. Those retained words become the ‘vocabulary’.\n",
        "\n",
        "  *\t10 vector count features were retained. I was seeing a major improvement in performance by keeping many more features.\n",
        "\n",
        "*\tThe new word count features can then be used in place of the text feature ‘Information’.\n",
        "\n",
        "*\tSklearn’s train_test_split was used to divide up the training data into a train and validation set.\n",
        "\n",
        "*\tSklearn’s MLPRegressor was used to help make an assessment of out of sample performance using the validation set – only the new word/vector count features were used in this prediction.\n",
        "\n",
        "*\tAs RMSLE (Root Mean Squared Log Error) is the metric of choice for the Kaggle competition, I used sklearn’s ‘mean_squared_log_error’ to help assess this along with Numpy’s ‘np.sqrt’.\n",
        "\n",
        "  *\tA RMSLE of about 0.3829 was seen on the validation set.\n",
        "\n",
        "*\tThe same cleaning was done to the ‘Information’ feature on the test set and a prediction was also done on the word/vector count features using the same vocabulary as in the training data.\n",
        "\n",
        "*\tThe word/vector count features are subsequently retained for the Piecewise Regression and Bayesian Neural Network sections.\n",
        "\n",
        "\n",
        "## Piecewise Regression\n",
        "\n",
        "*\tI split the training data into a train and validation set to try assess out of sample performance.\n",
        "\n",
        "*\tI stuck quite closely to my approach from Etivity 2 for this modelling approach. However, one main difference here is that the new word features from the NLP work are used here too instead of any text features.\n",
        "\n",
        "*\tA full model is initially created with the training and validation data  undergoing scaling by the use of ‘standardscaler’.\n",
        "\n",
        "  *\tSamples taken from the posterior enable initial MAP (Mean Absolute Error) and MAPE (Mean Absolute Percentage Error) results as follows:\n",
        "\n",
        "  *\tMAE =  87980.1421\n",
        "\n",
        "  *\tMAPE =  0.1997\n",
        "\n",
        "*\tFrom using ‘GaussianMixture from sklearn, 4 clusters are assigned and piecewise model applied.\n",
        "\n",
        "  *\tFrom the simulations done, the predictions relatively align with the true observations for each cluster.\n",
        "\n",
        "  *\tSize Cluster0 115 , MAE Cluster0= 73439.30940758307\n",
        "\n",
        "  *\tSize Cluster1 37 , MAE Cluster1= 82100.66439037886\n",
        "\n",
        "  *\tSize Cluster2 34 , MAE Cluster2= 41979.635315108295\n",
        "\n",
        "  *\tSize Cluster3 47 , MAE Cluster3= 92039.8092456513\n",
        "\n",
        "  *\tMAE= 73976.06780933634\n",
        "\n",
        "*\tThe Posterior predictive checks (PPCs) on the validation set show alignment with the prediction and true observations as well.\n",
        "\n",
        "*\tThe RMSLE (Root Mean Squared Log Error) observed for the validation set was 0.5406.\n",
        "\n",
        "\n",
        "## Bayesian Neural Network\n",
        "\n",
        "*\tHere I also split the training data into a train and validation set to try assess out of sample performance.\n",
        "\n",
        "*\tThe same train test split from the Piecewise Regression model is used here too. \n",
        "\n",
        "*\tI tried to follow the Bayesian Neural Network lab file closely but ran into a number of issues trying to get my code to run and a lot of debug was required.\n",
        "\n",
        "*\tA Bayesian Neural Network is ran (‘neural_network’). When trying to subsequently sample from the posterior, I ran into problems like “# ValueError: Mass matrix contains zeros on the diagonal.  The derivative of RV `w_0`.ravel()[0] is zero.” Etc.\n",
        "\n",
        "  *\tIn the end from debug I found I had to reduce the number provided to the ‘Draws’ parameter to e.g. 100 and reduce the ‘tune’ parameter to 250 to get it to sample.\n",
        "\n",
        "*\tI included the code to do an approximated inference too use the VI method but the loss was quite high.\n",
        "\n",
        "*\tWhen trying to calculate the RMSLE (Root Mean Squared Log Error) here, the value was quite poor e.g. 12 but there is likely something in my code setup that is incorrect. This would require further review.\n"
      ]
    },
    {
      "cell_type": "markdown",
      "metadata": {
        "id": "TXODvx7KqvK_"
      },
      "source": [
        "# **REFERENCES**\n",
        "\n"
      ]
    },
    {
      "cell_type": "markdown",
      "metadata": {
        "id": "TjHkad6uqrFz"
      },
      "source": [
        "\n",
        "* Ahtesham, M., Bawany, N. Z. and Fatima, K. (2020) 'House Price Prediction using Machine Learning Algorithm - The Case of Karachi City, Pakistan', *2020 21st International Arab Conference on Information Technology (ACIT)*, 1-5, available: https://doi.org/10.1109/ACIT50332.2020.9300074.\n",
        "\n",
        "* Brownlee, J. (2018) *How to Remove Outliers for Machine Learning*, machinelearningmastery.com, available: https://machinelearningmastery.com/how-to-use-statistics-to-identify-outliers-in-data/ [accessed 17 Oct 2021].\n",
        "\n",
        "* Brownlee, J. (2019) *A Gentle Introduction to Sparse Matrices for Machine Learning*, machinelearningmastery.com, available: https://machinelearningmastery.com/sparse-matrices-for-machine-learning/ [accessed 17 Oct 2021].\n",
        "\n",
        "* *Inference* (2018) docs.pymc.io, available: https://docs.pymc.io/en/stable/api/inference.html [accessed 19 Oct 2021].\n",
        "\n",
        "* Pathak, M. (2020) *Handling Categorical Data in Python*, datacamp.com, available: https://www.datacamp.com/community/tutorials/categorical-data#encoding [accessed 17 Oct 2021].\n",
        "\n",
        "* *questions-and-answers/60012* (2018) kaggle.com, available: https://www.kaggle.com/questions-and-answers/60012 [accessed 17 Oct 2021].\n",
        "\n",
        "* *sklearn.metrics.mean_squared_log_error* (2021) scikit-learn.org, available: https://scikit-learn.org/stable/modules/generated/sklearn.metrics.mean_squared_log_error.html [accessed 17 Oct 2021].\n",
        "\n",
        "* *sklearn.neural_network.MLPRegressor* (2021) scikit-learn.org, available: https://scikit-learn.org/stable/modules/generated/sklearn.neural_network.MLPRegressor.html#sklearn.neural_network.MLPRegressor [accessed 17 Oct 2021].\n",
        "\n",
        "* *Text feature extraction* (2021) scikit-learn.org, available: https://scikit-learn.org/stable/modules/feature_extraction.html#text-feature-extraction [accessed 17 Oct 2021].\n",
        "\n",
        "* *Variational Inference: Bayesian Neural Networks* (2017) docs.pymc.io, available: https://docs.pymc.io/en/stable/pymc-examples/examples/variational_inference/bayesian_neural_network_advi.html [accessed 19 Oct 2021].\n",
        "\n",
        "\n"
      ]
    },
    {
      "cell_type": "markdown",
      "metadata": {
        "id": "3WVq__cWxtUj"
      },
      "source": [
        "### **Exporting file to \".pdf\" from Google Colab.**\n",
        "\n",
        "The code below is only uncommented when I want to export."
      ]
    },
    {
      "cell_type": "code",
      "metadata": {
        "id": "EBrfIvwMmyWm"
      },
      "source": [
        "# ### https://stackoverflow.com/questions/52588552/google-co-laboratory-notebook-pdf-download\n",
        "\n",
        "# %%capture\n",
        "# !wget -nc https://raw.githubusercontent.com/brpy/colab-pdf/master/colab_pdf.py\n",
        "# from colab_pdf import colab_pdf\n",
        "# colab_pdf('ET5003_KaggleCompetition_MichaelMcKegney_20149743.ipynb')"
      ],
      "execution_count": 438,
      "outputs": []
    },
    {
      "cell_type": "code",
      "metadata": {
        "id": "6ZSNMOCsAYX0"
      },
      "source": [
        ""
      ],
      "execution_count": 438,
      "outputs": []
    }
  ]
}