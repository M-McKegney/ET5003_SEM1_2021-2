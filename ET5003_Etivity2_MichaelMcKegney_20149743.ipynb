{
  "nbformat": 4,
  "nbformat_minor": 0,
  "metadata": {
    "colab": {
      "name": "ET5003_Etivity2_MichaelMcKegney_20149743.ipynb",
      "provenance": [],
      "collapsed_sections": [],
      "include_colab_link": true
    },
    "kernelspec": {
      "name": "python3",
      "display_name": "Python 3"
    },
    "language_info": {
      "name": "python"
    }
  },
  "cells": [
    {
      "cell_type": "markdown",
      "metadata": {
        "id": "view-in-github",
        "colab_type": "text"
      },
      "source": [
        "<a href=\"https://colab.research.google.com/github/M-McKegney/ET5003_SEM1_2021-2/blob/MMcKegneyBranch/ET5003_Etivity2_MichaelMcKegney_20149743.ipynb\" target=\"_parent\"><img src=\"https://colab.research.google.com/assets/colab-badge.svg\" alt=\"Open In Colab\"/></a>"
      ]
    },
    {
      "cell_type": "markdown",
      "metadata": {
        "id": "jVRT3fbcb1tQ"
      },
      "source": [
        "## **Student Name: Michael McKegney**"
      ]
    },
    {
      "cell_type": "markdown",
      "metadata": {
        "id": "v3P00dC0b1Xw"
      },
      "source": [
        "## **Student ID: 20149743**"
      ]
    },
    {
      "cell_type": "markdown",
      "metadata": {
        "id": "930vlW5BrOtq"
      },
      "source": [
        "<div>\n",
        "<img src=\"https://drive.google.com/uc?export=view&id=1vK33e_EqaHgBHcbRV_m38hx6IkG0blK_\" width=\"350\"/>\n",
        "</div> \n",
        "\n",
        "#**Artificial Intelligence - MSc**\n",
        "##ET5003 - MACHINE LEARNING APPLICATIONS \n",
        "\n",
        "###Instructor: Enrique Naredo\n",
        "###ET5003_Etivity-2"
      ]
    },
    {
      "cell_type": "code",
      "metadata": {
        "id": "LqXD_IwUQuBF",
        "cellView": "form"
      },
      "source": [
        "#@title Current Date\n",
        "Today = '2021-10-03' #@param {type:\"date\"}\n"
      ],
      "execution_count": 1399,
      "outputs": []
    },
    {
      "cell_type": "code",
      "metadata": {
        "id": "uzDKau31OjVO",
        "cellView": "form"
      },
      "source": [
        "#@markdown ---\n",
        "#@markdown ### Enter your details here:\n",
        "Student_ID = \"20149743\" #@param {type:\"string\"}\n",
        "Student_full_name = \"Michael McKegney\" #@param {type:\"string\"}\n",
        "#@markdown ---"
      ],
      "execution_count": 1400,
      "outputs": []
    },
    {
      "cell_type": "code",
      "metadata": {
        "id": "r39xGZckTpKx",
        "cellView": "form"
      },
      "source": [
        "#@title Notebook information\n",
        "Notebook_type = 'Example' #@param [\"Example\", \"Lab\", \"Practice\", \"Etivity\", \"Assignment\", \"Exam\"]\n",
        "Version = 'Draft' #@param [\"Draft\", \"Final\"] {type:\"raw\"}\n",
        "Submission = False #@param {type:\"boolean\"}"
      ],
      "execution_count": 1401,
      "outputs": []
    },
    {
      "cell_type": "markdown",
      "metadata": {
        "id": "_A0Z6S-r6DpA"
      },
      "source": [
        "# INTRODUCTION"
      ]
    },
    {
      "cell_type": "markdown",
      "metadata": {
        "id": "QkRchZtf6IV-"
      },
      "source": [
        "**Piecewise regression**, extract from [Wikipedia](https://en.wikipedia.org/wiki/Segmented_regression):\n",
        "\n",
        "Segmented regression, also known as piecewise regression or broken-stick regression, is a method in regression analysis in which the independent variable is partitioned into intervals and a separate line segment is fit to each interval. \n",
        "\n",
        "* Segmented regression analysis can also be performed on \n",
        "multivariate data by partitioning the various independent variables. \n",
        "* Segmented regression is useful when the independent variables, clustered into different groups, exhibit different relationships between the variables in these regions. \n",
        "\n",
        "* The boundaries between the segments are breakpoints.\n",
        "\n",
        "* Segmented linear regression is segmented regression whereby the relations in the intervals are obtained by linear regression. "
      ]
    },
    {
      "cell_type": "markdown",
      "metadata": {
        "id": "aajlS0WCJ8pm"
      },
      "source": [
        "***The goal is to use advanced Machine Learning methods to predict House price.***"
      ]
    },
    {
      "cell_type": "markdown",
      "metadata": {
        "id": "Wg7VCbX77eAA"
      },
      "source": [
        "## Imports"
      ]
    },
    {
      "cell_type": "code",
      "metadata": {
        "id": "iFFLThrpwibd"
      },
      "source": [
        "# Suppressing Warnings:\n",
        "import warnings\n",
        "warnings.filterwarnings(\"ignore\")"
      ],
      "execution_count": 1402,
      "outputs": []
    },
    {
      "cell_type": "code",
      "metadata": {
        "id": "d1770_fNrCWn"
      },
      "source": [
        "import pandas as pd\n",
        "import matplotlib.pyplot as plt\n",
        "import numpy as np\n",
        "import pymc3 as pm\n",
        "import arviz as az\n",
        "from sklearn.preprocessing import StandardScaler"
      ],
      "execution_count": 1403,
      "outputs": []
    },
    {
      "cell_type": "code",
      "metadata": {
        "id": "sYPJU_Y6O6Dq"
      },
      "source": [
        "# to plot\n",
        "import matplotlib.colors\n",
        "from mpl_toolkits.mplot3d import Axes3D\n",
        "\n",
        "# to generate classification, regression and clustering datasets\n",
        "import sklearn.datasets as dt\n",
        "\n",
        "# to create data frames\n",
        "from pandas import DataFrame\n",
        "\n",
        "# to generate data from an existing dataset\n",
        "from sklearn.neighbors import KernelDensity\n",
        "from sklearn.model_selection import GridSearchCV"
      ],
      "execution_count": 1404,
      "outputs": []
    },
    {
      "cell_type": "code",
      "metadata": {
        "id": "6MUJdlxSPSMM"
      },
      "source": [
        "# Define the seed so that results can be reproduced\n",
        "seed = 11\n",
        "rand_state = 11\n",
        "\n",
        "# Define the color maps for plots\n",
        "color_map = plt.cm.get_cmap('RdYlBu')\n",
        "color_map_discrete = matplotlib.colors.LinearSegmentedColormap.from_list(\"\", [\"red\",\"cyan\",\"magenta\",\"blue\"])"
      ],
      "execution_count": 1405,
      "outputs": []
    },
    {
      "cell_type": "markdown",
      "metadata": {
        "id": "WL91ShB19RPw"
      },
      "source": [
        "# DATASET"
      ]
    },
    {
      "cell_type": "markdown",
      "metadata": {
        "id": "ESg5DGKWJSOf"
      },
      "source": [
        "Extract from this [paper](https://ieeexplore.ieee.org/document/9300074):\n",
        "\n",
        "* House prices are a significant impression of the economy, and its value ranges are of great concerns for the clients and property dealers. \n",
        "\n",
        "* Housing price escalate every year that eventually reinforced the need of strategy or technique that could predict house prices in future. \n",
        "\n",
        "* There are certain factors that influence house prices including physical conditions, locations, number of bedrooms and others.\n"
      ]
    },
    {
      "cell_type": "markdown",
      "metadata": {
        "id": "a8Y2pf50FlYL"
      },
      "source": [
        "1. [Download the dataset](https://github.com/UL-ET5003/ET5003_SEM1_2021-2/tree/main/Week-3). \n",
        "\n",
        "2. Upload the dataset into your folder.\n",
        "\n"
      ]
    },
    {
      "cell_type": "markdown",
      "metadata": {
        "id": "FMkdCQEmKTof"
      },
      "source": [
        "The challenge is to predict the final price of each house."
      ]
    },
    {
      "cell_type": "markdown",
      "metadata": {
        "id": "r4hSuwkUfVQb"
      },
      "source": [
        "## Read in the dataset"
      ]
    },
    {
      "cell_type": "markdown",
      "metadata": {
        "id": "iRc5KCRDW5KA"
      },
      "source": [
        "The data is relation to the research paper by Ahtesham *et al*. (2020)."
      ]
    },
    {
      "cell_type": "markdown",
      "metadata": {
        "id": "A2w7p5R2gUaw"
      },
      "source": [
        "**Be careful with the 'Path' location shown below i.e. make sure it is pointing to where you store the data for Etivity 2!**\n",
        "\n",
        "The following code is being used to determine if a Jupyter Notebook or Google Colab environment is being used to load the dataset.\n",
        "\n",
        "The development work for this Etivity was done in Google Colab."
      ]
    },
    {
      "cell_type": "markdown",
      "metadata": {
        "id": "fLwRjlubV9Dr"
      },
      "source": [
        "There are 3 files to account for:\n",
        "\n",
        "*   house_train.csv\n",
        "\n",
        "*   house_test.csv\n",
        "\n",
        "*   true_price.csv"
      ]
    },
    {
      "cell_type": "code",
      "metadata": {
        "colab": {
          "base_uri": "https://localhost:8080/",
          "height": 0
        },
        "id": "kRD1Buy0ikfg",
        "outputId": "8be524ee-d678-4b7a-dd84-9e821ff6d950"
      },
      "source": [
        "# Checking if you are using Google Colab.\n",
        "\n",
        "RunningInCOLAB = 'google.colab' in str(get_ipython())\n",
        "\n",
        "if RunningInCOLAB:\n",
        "    from google.colab import drive\n",
        "    drive.mount('/content/drive')\n",
        "    \n",
        "    # paste the path here, keep quotation marks and the trailing slash\n",
        "    Path = '/content/drive/MyDrive/UL_Colab_Files/ET5003/Etivity2/'\n",
        "    \n",
        "else:\n",
        "    \n",
        "    Path = './Etivity2/'"
      ],
      "execution_count": 1406,
      "outputs": [
        {
          "output_type": "stream",
          "name": "stdout",
          "text": [
            "Drive already mounted at /content/drive; to attempt to forcibly remount, call drive.mount(\"/content/drive\", force_remount=True).\n"
          ]
        }
      ]
    },
    {
      "cell_type": "markdown",
      "metadata": {
        "id": "EY8pCtlBaUrY"
      },
      "source": [
        "Read in each \".csv\" file into a Pandas dataframe and print the shape of the data."
      ]
    },
    {
      "cell_type": "code",
      "metadata": {
        "colab": {
          "base_uri": "https://localhost:8080/",
          "height": 0
        },
        "id": "_G-dubKxWewK",
        "outputId": "47ca0cf9-a71d-43ae-8e97-5fec65904550"
      },
      "source": [
        "# Training Dataset: \n",
        "training_file = Path + 'house_train.csv'\n",
        "dftrain = pd.read_csv(training_file)\n",
        "print('House train data shape: ', dftrain.shape)\n",
        "\n",
        "# Test Dataset:\n",
        "testing_file = Path + 'house_test.csv'\n",
        "dftest = pd.read_csv(testing_file)\n",
        "print('House test data shape: ', dftest.shape)\n",
        "\n",
        "# Cost Dataset:\n",
        "cost_file = Path + 'true_price.csv'\n",
        "dfcost = pd.read_csv(cost_file)\n",
        "print('True price data shape: ', dfcost.shape)\n"
      ],
      "execution_count": 1407,
      "outputs": [
        {
          "output_type": "stream",
          "name": "stdout",
          "text": [
            "House train data shape:  (2982, 17)\n",
            "House test data shape:  (500, 16)\n",
            "True price data shape:  (500, 2)\n"
          ]
        }
      ]
    },
    {
      "cell_type": "markdown",
      "metadata": {
        "id": "06PT0fcjqfyA"
      },
      "source": [
        "# METHOD"
      ]
    },
    {
      "cell_type": "markdown",
      "metadata": {
        "id": "2PMoPLlUJ1Ly"
      },
      "source": [
        "## Training & Test Data"
      ]
    },
    {
      "cell_type": "code",
      "metadata": {
        "id": "loLTHklwKGnV"
      },
      "source": [
        "# # split data into training and test\n",
        "# from sklearn.model_selection import train_test_split\n",
        "\n",
        "# # training: 70% (0.7), test: 30% (0.3) \n",
        "# # you could try any other combination \n",
        "# # but consider 50% of training as the low boundary\n",
        "# X_train,X_test,y_train,y_test = train_test_split(X, y, test_size=0.3)"
      ],
      "execution_count": 1408,
      "outputs": []
    },
    {
      "cell_type": "markdown",
      "metadata": {
        "id": "ztBkSZluye87"
      },
      "source": [
        "### Train dataset"
      ]
    },
    {
      "cell_type": "markdown",
      "metadata": {
        "id": "ENwGwNi-aeik"
      },
      "source": [
        "Check the initial rows and review some basic statistics."
      ]
    },
    {
      "cell_type": "code",
      "metadata": {
        "id": "6XUFUPABMHfF",
        "colab": {
          "base_uri": "https://localhost:8080/",
          "height": 451
        },
        "outputId": "5de2dd3d-a851-4eb6-d01d-9e6998ec6326"
      },
      "source": [
        "# Show first data frame rows.\n",
        "dftrain.head()"
      ],
      "execution_count": 1409,
      "outputs": [
        {
          "output_type": "execute_result",
          "data": {
            "text/html": [
              "<div>\n",
              "<style scoped>\n",
              "    .dataframe tbody tr th:only-of-type {\n",
              "        vertical-align: middle;\n",
              "    }\n",
              "\n",
              "    .dataframe tbody tr th {\n",
              "        vertical-align: top;\n",
              "    }\n",
              "\n",
              "    .dataframe thead th {\n",
              "        text-align: right;\n",
              "    }\n",
              "</style>\n",
              "<table border=\"1\" class=\"dataframe\">\n",
              "  <thead>\n",
              "    <tr style=\"text-align: right;\">\n",
              "      <th></th>\n",
              "      <th>ad_id</th>\n",
              "      <th>area</th>\n",
              "      <th>bathrooms</th>\n",
              "      <th>beds</th>\n",
              "      <th>ber_classification</th>\n",
              "      <th>county</th>\n",
              "      <th>description_block</th>\n",
              "      <th>environment</th>\n",
              "      <th>facility</th>\n",
              "      <th>features</th>\n",
              "      <th>latitude</th>\n",
              "      <th>longitude</th>\n",
              "      <th>no_of_units</th>\n",
              "      <th>price</th>\n",
              "      <th>property_category</th>\n",
              "      <th>property_type</th>\n",
              "      <th>surface</th>\n",
              "    </tr>\n",
              "  </thead>\n",
              "  <tbody>\n",
              "    <tr>\n",
              "      <th>0</th>\n",
              "      <td>996887</td>\n",
              "      <td>Portmarnock</td>\n",
              "      <td>NaN</td>\n",
              "      <td>NaN</td>\n",
              "      <td>NaN</td>\n",
              "      <td>Dublin</td>\n",
              "      <td>A SELECTION OF 4 AND 5 BEDROOM FAMILY HOMES LO...</td>\n",
              "      <td>prod</td>\n",
              "      <td>NaN</td>\n",
              "      <td>None</td>\n",
              "      <td>53.418216</td>\n",
              "      <td>-6.149329</td>\n",
              "      <td>18.0</td>\n",
              "      <td>NaN</td>\n",
              "      <td>new_development_parent</td>\n",
              "      <td>NaN</td>\n",
              "      <td>NaN</td>\n",
              "    </tr>\n",
              "    <tr>\n",
              "      <th>1</th>\n",
              "      <td>999327</td>\n",
              "      <td>Lucan</td>\n",
              "      <td>NaN</td>\n",
              "      <td>NaN</td>\n",
              "      <td>NaN</td>\n",
              "      <td>Dublin</td>\n",
              "      <td>**Last 2 remaining houses for sale ***\\n\\nOn v...</td>\n",
              "      <td>prod</td>\n",
              "      <td>NaN</td>\n",
              "      <td>None</td>\n",
              "      <td>53.364917</td>\n",
              "      <td>-6.454935</td>\n",
              "      <td>3.0</td>\n",
              "      <td>NaN</td>\n",
              "      <td>new_development_parent</td>\n",
              "      <td>NaN</td>\n",
              "      <td>NaN</td>\n",
              "    </tr>\n",
              "    <tr>\n",
              "      <th>2</th>\n",
              "      <td>999559</td>\n",
              "      <td>Rathfarnham</td>\n",
              "      <td>NaN</td>\n",
              "      <td>NaN</td>\n",
              "      <td>NaN</td>\n",
              "      <td>Dublin</td>\n",
              "      <td>Final 4 &amp;amp; 5 Bedroom Homes for Sale\\n\\nOn V...</td>\n",
              "      <td>prod</td>\n",
              "      <td>NaN</td>\n",
              "      <td>None</td>\n",
              "      <td>53.273447</td>\n",
              "      <td>-6.313821</td>\n",
              "      <td>3.0</td>\n",
              "      <td>NaN</td>\n",
              "      <td>new_development_parent</td>\n",
              "      <td>NaN</td>\n",
              "      <td>NaN</td>\n",
              "    </tr>\n",
              "    <tr>\n",
              "      <th>3</th>\n",
              "      <td>9102986</td>\n",
              "      <td>Balbriggan</td>\n",
              "      <td>NaN</td>\n",
              "      <td>NaN</td>\n",
              "      <td>NaN</td>\n",
              "      <td>Dublin</td>\n",
              "      <td>Glenveagh Taylor Hill, Balbriggan\\n\\r\\n*Ideal ...</td>\n",
              "      <td>prod</td>\n",
              "      <td>NaN</td>\n",
              "      <td>None</td>\n",
              "      <td>53.608167</td>\n",
              "      <td>-6.210914</td>\n",
              "      <td>30.0</td>\n",
              "      <td>NaN</td>\n",
              "      <td>new_development_parent</td>\n",
              "      <td>NaN</td>\n",
              "      <td>NaN</td>\n",
              "    </tr>\n",
              "    <tr>\n",
              "      <th>4</th>\n",
              "      <td>9106028</td>\n",
              "      <td>Foxrock</td>\n",
              "      <td>NaN</td>\n",
              "      <td>NaN</td>\n",
              "      <td>NaN</td>\n",
              "      <td>Dublin</td>\n",
              "      <td>*New phase launching this weekend Sat &amp;amp; Su...</td>\n",
              "      <td>prod</td>\n",
              "      <td>NaN</td>\n",
              "      <td>None</td>\n",
              "      <td>53.262531</td>\n",
              "      <td>-6.181527</td>\n",
              "      <td>8.0</td>\n",
              "      <td>NaN</td>\n",
              "      <td>new_development_parent</td>\n",
              "      <td>NaN</td>\n",
              "      <td>NaN</td>\n",
              "    </tr>\n",
              "  </tbody>\n",
              "</table>\n",
              "</div>"
            ],
            "text/plain": [
              "     ad_id         area  ...  property_type  surface\n",
              "0   996887  Portmarnock  ...            NaN      NaN\n",
              "1   999327        Lucan  ...            NaN      NaN\n",
              "2   999559  Rathfarnham  ...            NaN      NaN\n",
              "3  9102986   Balbriggan  ...            NaN      NaN\n",
              "4  9106028      Foxrock  ...            NaN      NaN\n",
              "\n",
              "[5 rows x 17 columns]"
            ]
          },
          "metadata": {},
          "execution_count": 1409
        }
      ]
    },
    {
      "cell_type": "code",
      "metadata": {
        "id": "5rq_p-D4yLBe",
        "colab": {
          "base_uri": "https://localhost:8080/",
          "height": 300
        },
        "outputId": "46063537-ae8f-4324-bea6-b5cc980c7e04"
      },
      "source": [
        "# Generate descriptive statistics.\n",
        "dftrain.describe()"
      ],
      "execution_count": 1410,
      "outputs": [
        {
          "output_type": "execute_result",
          "data": {
            "text/html": [
              "<div>\n",
              "<style scoped>\n",
              "    .dataframe tbody tr th:only-of-type {\n",
              "        vertical-align: middle;\n",
              "    }\n",
              "\n",
              "    .dataframe tbody tr th {\n",
              "        vertical-align: top;\n",
              "    }\n",
              "\n",
              "    .dataframe thead th {\n",
              "        text-align: right;\n",
              "    }\n",
              "</style>\n",
              "<table border=\"1\" class=\"dataframe\">\n",
              "  <thead>\n",
              "    <tr style=\"text-align: right;\">\n",
              "      <th></th>\n",
              "      <th>ad_id</th>\n",
              "      <th>bathrooms</th>\n",
              "      <th>beds</th>\n",
              "      <th>latitude</th>\n",
              "      <th>longitude</th>\n",
              "      <th>no_of_units</th>\n",
              "      <th>price</th>\n",
              "      <th>surface</th>\n",
              "    </tr>\n",
              "  </thead>\n",
              "  <tbody>\n",
              "    <tr>\n",
              "      <th>count</th>\n",
              "      <td>2.982000e+03</td>\n",
              "      <td>2931.000000</td>\n",
              "      <td>2931.000000</td>\n",
              "      <td>2982.000000</td>\n",
              "      <td>2982.000000</td>\n",
              "      <td>59.000000</td>\n",
              "      <td>2.892000e+03</td>\n",
              "      <td>2431.000000</td>\n",
              "    </tr>\n",
              "    <tr>\n",
              "      <th>mean</th>\n",
              "      <td>1.224065e+07</td>\n",
              "      <td>1.998635</td>\n",
              "      <td>2.979188</td>\n",
              "      <td>53.355991</td>\n",
              "      <td>-6.257175</td>\n",
              "      <td>7.440678</td>\n",
              "      <td>5.323536e+05</td>\n",
              "      <td>318.851787</td>\n",
              "    </tr>\n",
              "    <tr>\n",
              "      <th>std</th>\n",
              "      <td>5.793037e+05</td>\n",
              "      <td>1.291875</td>\n",
              "      <td>1.468408</td>\n",
              "      <td>0.086748</td>\n",
              "      <td>0.141906</td>\n",
              "      <td>8.937081</td>\n",
              "      <td>5.678148e+05</td>\n",
              "      <td>4389.423136</td>\n",
              "    </tr>\n",
              "    <tr>\n",
              "      <th>min</th>\n",
              "      <td>9.968870e+05</td>\n",
              "      <td>0.000000</td>\n",
              "      <td>0.000000</td>\n",
              "      <td>51.458439</td>\n",
              "      <td>-6.521183</td>\n",
              "      <td>0.000000</td>\n",
              "      <td>1.999500e+04</td>\n",
              "      <td>3.400000</td>\n",
              "    </tr>\n",
              "    <tr>\n",
              "      <th>25%</th>\n",
              "      <td>1.226813e+07</td>\n",
              "      <td>1.000000</td>\n",
              "      <td>2.000000</td>\n",
              "      <td>53.298929</td>\n",
              "      <td>-6.314064</td>\n",
              "      <td>2.000000</td>\n",
              "      <td>2.800000e+05</td>\n",
              "      <td>74.100000</td>\n",
              "    </tr>\n",
              "    <tr>\n",
              "      <th>50%</th>\n",
              "      <td>1.237758e+07</td>\n",
              "      <td>2.000000</td>\n",
              "      <td>3.000000</td>\n",
              "      <td>53.345497</td>\n",
              "      <td>-6.252254</td>\n",
              "      <td>3.000000</td>\n",
              "      <td>3.800000e+05</td>\n",
              "      <td>100.000000</td>\n",
              "    </tr>\n",
              "    <tr>\n",
              "      <th>75%</th>\n",
              "      <td>1.240294e+07</td>\n",
              "      <td>3.000000</td>\n",
              "      <td>4.000000</td>\n",
              "      <td>53.388845</td>\n",
              "      <td>-6.196049</td>\n",
              "      <td>8.000000</td>\n",
              "      <td>5.750000e+05</td>\n",
              "      <td>142.000000</td>\n",
              "    </tr>\n",
              "    <tr>\n",
              "      <th>max</th>\n",
              "      <td>1.242836e+07</td>\n",
              "      <td>18.000000</td>\n",
              "      <td>27.000000</td>\n",
              "      <td>53.630588</td>\n",
              "      <td>-1.744995</td>\n",
              "      <td>36.000000</td>\n",
              "      <td>9.995000e+06</td>\n",
              "      <td>182108.539008</td>\n",
              "    </tr>\n",
              "  </tbody>\n",
              "</table>\n",
              "</div>"
            ],
            "text/plain": [
              "              ad_id    bathrooms  ...         price        surface\n",
              "count  2.982000e+03  2931.000000  ...  2.892000e+03    2431.000000\n",
              "mean   1.224065e+07     1.998635  ...  5.323536e+05     318.851787\n",
              "std    5.793037e+05     1.291875  ...  5.678148e+05    4389.423136\n",
              "min    9.968870e+05     0.000000  ...  1.999500e+04       3.400000\n",
              "25%    1.226813e+07     1.000000  ...  2.800000e+05      74.100000\n",
              "50%    1.237758e+07     2.000000  ...  3.800000e+05     100.000000\n",
              "75%    1.240294e+07     3.000000  ...  5.750000e+05     142.000000\n",
              "max    1.242836e+07    18.000000  ...  9.995000e+06  182108.539008\n",
              "\n",
              "[8 rows x 8 columns]"
            ]
          },
          "metadata": {},
          "execution_count": 1410
        }
      ]
    },
    {
      "cell_type": "markdown",
      "metadata": {
        "id": "XadHvcoXLtjz"
      },
      "source": [
        "Assess count of each feature alongside the data type i.e. whether it is numeric or categorical."
      ]
    },
    {
      "cell_type": "code",
      "metadata": {
        "id": "ByiI0CQKOgKk",
        "colab": {
          "base_uri": "https://localhost:8080/",
          "height": 0
        },
        "outputId": "ed2ffbd3-ff33-4ad1-a42e-64105a1c1bc6"
      },
      "source": [
        "dftrain.info()"
      ],
      "execution_count": 1411,
      "outputs": [
        {
          "output_type": "stream",
          "name": "stdout",
          "text": [
            "<class 'pandas.core.frame.DataFrame'>\n",
            "RangeIndex: 2982 entries, 0 to 2981\n",
            "Data columns (total 17 columns):\n",
            " #   Column              Non-Null Count  Dtype  \n",
            "---  ------              --------------  -----  \n",
            " 0   ad_id               2982 non-null   int64  \n",
            " 1   area                2982 non-null   object \n",
            " 2   bathrooms           2931 non-null   float64\n",
            " 3   beds                2931 non-null   float64\n",
            " 4   ber_classification  2305 non-null   object \n",
            " 5   county              2982 non-null   object \n",
            " 6   description_block   2982 non-null   object \n",
            " 7   environment         2982 non-null   object \n",
            " 8   facility            965 non-null    object \n",
            " 9   features            2982 non-null   object \n",
            " 10  latitude            2982 non-null   float64\n",
            " 11  longitude           2982 non-null   float64\n",
            " 12  no_of_units         59 non-null     float64\n",
            " 13  price               2892 non-null   float64\n",
            " 14  property_category   2982 non-null   object \n",
            " 15  property_type       2931 non-null   object \n",
            " 16  surface             2431 non-null   float64\n",
            "dtypes: float64(7), int64(1), object(9)\n",
            "memory usage: 396.2+ KB\n"
          ]
        }
      ]
    },
    {
      "cell_type": "markdown",
      "metadata": {
        "id": "HpwHL39L87i4"
      },
      "source": [
        "Check each column in the dataframe how many null/NaN instances there are."
      ]
    },
    {
      "cell_type": "code",
      "metadata": {
        "colab": {
          "base_uri": "https://localhost:8080/",
          "height": 0
        },
        "id": "UpYolpIzDCc4",
        "outputId": "895c563d-d94f-4939-c82b-e205af893bed"
      },
      "source": [
        "dftrain.isna().sum()"
      ],
      "execution_count": 1412,
      "outputs": [
        {
          "output_type": "execute_result",
          "data": {
            "text/plain": [
              "ad_id                    0\n",
              "area                     0\n",
              "bathrooms               51\n",
              "beds                    51\n",
              "ber_classification     677\n",
              "county                   0\n",
              "description_block        0\n",
              "environment              0\n",
              "facility              2017\n",
              "features                 0\n",
              "latitude                 0\n",
              "longitude                0\n",
              "no_of_units           2923\n",
              "price                   90\n",
              "property_category        0\n",
              "property_type           51\n",
              "surface                551\n",
              "dtype: int64"
            ]
          },
          "metadata": {},
          "execution_count": 1412
        }
      ]
    },
    {
      "cell_type": "markdown",
      "metadata": {
        "id": "vEYuRB-u7eMF"
      },
      "source": [
        "There is 2982 rows and 17 columns in the training data. \n",
        "\n",
        "*   '**facility**' has 2017 NaN instances which means there is nearly two thirds of values missing. \n",
        "\n",
        "*   '**no_of_units**' has 2923 NaN instances which means there is nearly all values missing.\n",
        "\n",
        "*   '**ad_id**' has 2982 unique values which equates to the total amount of rows so it is not offering any helpful information.\n",
        "\n",
        "*   '**description_block**' and '**features**' have sentences/statements with inconsistent descriptions about the properties so these are not helpful for training a model. \n",
        "\n",
        "These features will be dropped as there is not much value being added in terms of training a model with them.\n",
        "\n",
        "\n"
      ]
    },
    {
      "cell_type": "code",
      "metadata": {
        "colab": {
          "base_uri": "https://localhost:8080/",
          "height": 0
        },
        "id": "g1enI3HqwODz",
        "outputId": "dba42fce-efc1-4041-f599-b20db579a8f6"
      },
      "source": [
        "dftrain_adj = dftrain.drop(columns=['ad_id', 'facility','no_of_units', 'description_block', 'features'])\n",
        "\n",
        "dftrain_adj.shape"
      ],
      "execution_count": 1413,
      "outputs": [
        {
          "output_type": "execute_result",
          "data": {
            "text/plain": [
              "(2982, 12)"
            ]
          },
          "metadata": {},
          "execution_count": 1413
        }
      ]
    },
    {
      "cell_type": "markdown",
      "metadata": {
        "id": "UVmLfEb5Pk19"
      },
      "source": [
        "Check how much variation there is in the features '**county**', '**environment**' and '**property_category**'."
      ]
    },
    {
      "cell_type": "code",
      "metadata": {
        "id": "1JEIlgTvPbDv",
        "colab": {
          "base_uri": "https://localhost:8080/",
          "height": 0
        },
        "outputId": "6cac74c2-61c1-4db5-9eaa-efa0301a2957"
      },
      "source": [
        "dftrain_adj['county'].value_counts()"
      ],
      "execution_count": 1414,
      "outputs": [
        {
          "output_type": "execute_result",
          "data": {
            "text/plain": [
              "Dublin    2982\n",
              "Name: county, dtype: int64"
            ]
          },
          "metadata": {},
          "execution_count": 1414
        }
      ]
    },
    {
      "cell_type": "code",
      "metadata": {
        "colab": {
          "base_uri": "https://localhost:8080/",
          "height": 0
        },
        "id": "t_sJc5QyRugg",
        "outputId": "9ec22dc1-17b2-40b4-cde3-45b5dfd40494"
      },
      "source": [
        "dftrain_adj['environment'].value_counts()"
      ],
      "execution_count": 1415,
      "outputs": [
        {
          "output_type": "execute_result",
          "data": {
            "text/plain": [
              "prod    2982\n",
              "Name: environment, dtype: int64"
            ]
          },
          "metadata": {},
          "execution_count": 1415
        }
      ]
    },
    {
      "cell_type": "code",
      "metadata": {
        "colab": {
          "base_uri": "https://localhost:8080/",
          "height": 0
        },
        "id": "n9sB2ADoZbEU",
        "outputId": "c82934c2-5287-4ccb-9d6e-afdd77d0d72b"
      },
      "source": [
        "dftrain_adj['property_category'].value_counts()"
      ],
      "execution_count": 1416,
      "outputs": [
        {
          "output_type": "execute_result",
          "data": {
            "text/plain": [
              "sale                      2923\n",
              "new_development_parent      59\n",
              "Name: property_category, dtype: int64"
            ]
          },
          "metadata": {},
          "execution_count": 1416
        }
      ]
    },
    {
      "cell_type": "markdown",
      "metadata": {
        "id": "3Q_d-VFPPrrE"
      },
      "source": [
        "As '**county**' has only one value 'Dublin' and '**environment**' has only one value 'prod', these features can be removed as they are not providing any useful information. \n",
        "\n",
        "\n",
        "Only 59 out of 2982 instances (~2%) of '**property_category**' are not 'sale' so this feature is not adding a lot of information either and can be removed too."
      ]
    },
    {
      "cell_type": "code",
      "metadata": {
        "id": "-xMpQCz-Pa_s"
      },
      "source": [
        "dftrain_adj.drop(columns=['county', 'environment', 'property_category'], inplace=True)"
      ],
      "execution_count": 1417,
      "outputs": []
    },
    {
      "cell_type": "code",
      "metadata": {
        "colab": {
          "base_uri": "https://localhost:8080/",
          "height": 0
        },
        "id": "Oke9a55EKN2L",
        "outputId": "bd24be72-d1cd-4eae-d4ac-d19a9acee7e0"
      },
      "source": [
        "dftrain_adj.shape"
      ],
      "execution_count": 1418,
      "outputs": [
        {
          "output_type": "execute_result",
          "data": {
            "text/plain": [
              "(2982, 9)"
            ]
          },
          "metadata": {},
          "execution_count": 1418
        }
      ]
    },
    {
      "cell_type": "markdown",
      "metadata": {
        "id": "KzYY_dW2ISNK"
      },
      "source": [
        "Drop all rows with NaN present as the sample/observation is incomplete and may be misleading."
      ]
    },
    {
      "cell_type": "code",
      "metadata": {
        "id": "GHcnY1uaGL3n",
        "colab": {
          "base_uri": "https://localhost:8080/",
          "height": 0
        },
        "outputId": "cdb533df-7ef3-4a21-da3e-6ec225a51d7d"
      },
      "source": [
        "dftrain_adj.dropna(inplace=True)\n",
        "\n",
        "dftrain_adj.shape"
      ],
      "execution_count": 1419,
      "outputs": [
        {
          "output_type": "execute_result",
          "data": {
            "text/plain": [
              "(2002, 9)"
            ]
          },
          "metadata": {},
          "execution_count": 1419
        }
      ]
    },
    {
      "cell_type": "markdown",
      "metadata": {
        "id": "iJPTIrPJIbRT"
      },
      "source": [
        "Remove samples where there are 0 bathrooms and 0 bedrooms."
      ]
    },
    {
      "cell_type": "code",
      "metadata": {
        "id": "AvlmnWdXGLsu",
        "colab": {
          "base_uri": "https://localhost:8080/",
          "height": 0
        },
        "outputId": "754cd966-fa46-4b21-a162-237c05321fde"
      },
      "source": [
        "dftrain_adj.drop(dftrain_adj[dftrain_adj.beds == 0].index, inplace=True)\n",
        "\n",
        "dftrain_adj.drop(dftrain_adj[dftrain_adj.bathrooms == 0].index, inplace=True)\n",
        "\n",
        "dftrain_adj.shape"
      ],
      "execution_count": 1420,
      "outputs": [
        {
          "output_type": "execute_result",
          "data": {
            "text/plain": [
              "(1989, 9)"
            ]
          },
          "metadata": {},
          "execution_count": 1420
        }
      ]
    },
    {
      "cell_type": "markdown",
      "metadata": {
        "id": "O9FgOhqKeXwc"
      },
      "source": [
        "Check what features remain."
      ]
    },
    {
      "cell_type": "code",
      "metadata": {
        "colab": {
          "base_uri": "https://localhost:8080/",
          "height": 206
        },
        "id": "jX-s-vePMmMD",
        "outputId": "bcfbd077-089c-4c98-f9a7-549a34128e1a"
      },
      "source": [
        "dftrain_adj.head()"
      ],
      "execution_count": 1421,
      "outputs": [
        {
          "output_type": "execute_result",
          "data": {
            "text/html": [
              "<div>\n",
              "<style scoped>\n",
              "    .dataframe tbody tr th:only-of-type {\n",
              "        vertical-align: middle;\n",
              "    }\n",
              "\n",
              "    .dataframe tbody tr th {\n",
              "        vertical-align: top;\n",
              "    }\n",
              "\n",
              "    .dataframe thead th {\n",
              "        text-align: right;\n",
              "    }\n",
              "</style>\n",
              "<table border=\"1\" class=\"dataframe\">\n",
              "  <thead>\n",
              "    <tr style=\"text-align: right;\">\n",
              "      <th></th>\n",
              "      <th>area</th>\n",
              "      <th>bathrooms</th>\n",
              "      <th>beds</th>\n",
              "      <th>ber_classification</th>\n",
              "      <th>latitude</th>\n",
              "      <th>longitude</th>\n",
              "      <th>price</th>\n",
              "      <th>property_type</th>\n",
              "      <th>surface</th>\n",
              "    </tr>\n",
              "  </thead>\n",
              "  <tbody>\n",
              "    <tr>\n",
              "      <th>15</th>\n",
              "      <td>Clonee</td>\n",
              "      <td>3.0</td>\n",
              "      <td>5.0</td>\n",
              "      <td>A3</td>\n",
              "      <td>53.400454</td>\n",
              "      <td>-6.445730</td>\n",
              "      <td>935000.0</td>\n",
              "      <td>detached</td>\n",
              "      <td>321.0</td>\n",
              "    </tr>\n",
              "    <tr>\n",
              "      <th>26</th>\n",
              "      <td>Clondalkin</td>\n",
              "      <td>4.0</td>\n",
              "      <td>4.0</td>\n",
              "      <td>A3</td>\n",
              "      <td>53.316410</td>\n",
              "      <td>-6.385214</td>\n",
              "      <td>485000.0</td>\n",
              "      <td>semi-detached</td>\n",
              "      <td>144.0</td>\n",
              "    </tr>\n",
              "    <tr>\n",
              "      <th>27</th>\n",
              "      <td>Clonee</td>\n",
              "      <td>3.0</td>\n",
              "      <td>5.0</td>\n",
              "      <td>A3</td>\n",
              "      <td>53.401414</td>\n",
              "      <td>-6.446634</td>\n",
              "      <td>935000.0</td>\n",
              "      <td>detached</td>\n",
              "      <td>321.0</td>\n",
              "    </tr>\n",
              "    <tr>\n",
              "      <th>35</th>\n",
              "      <td>Howth</td>\n",
              "      <td>5.0</td>\n",
              "      <td>5.0</td>\n",
              "      <td>A2</td>\n",
              "      <td>53.375377</td>\n",
              "      <td>-6.056749</td>\n",
              "      <td>1475000.0</td>\n",
              "      <td>detached</td>\n",
              "      <td>312.0</td>\n",
              "    </tr>\n",
              "    <tr>\n",
              "      <th>38</th>\n",
              "      <td>Castleknock</td>\n",
              "      <td>2.0</td>\n",
              "      <td>2.0</td>\n",
              "      <td>A3</td>\n",
              "      <td>53.372130</td>\n",
              "      <td>-6.338466</td>\n",
              "      <td>410000.0</td>\n",
              "      <td>apartment</td>\n",
              "      <td>83.0</td>\n",
              "    </tr>\n",
              "  </tbody>\n",
              "</table>\n",
              "</div>"
            ],
            "text/plain": [
              "           area  bathrooms  beds  ...      price  property_type  surface\n",
              "15       Clonee        3.0   5.0  ...   935000.0       detached    321.0\n",
              "26   Clondalkin        4.0   4.0  ...   485000.0  semi-detached    144.0\n",
              "27       Clonee        3.0   5.0  ...   935000.0       detached    321.0\n",
              "35        Howth        5.0   5.0  ...  1475000.0       detached    312.0\n",
              "38  Castleknock        2.0   2.0  ...   410000.0      apartment     83.0\n",
              "\n",
              "[5 rows x 9 columns]"
            ]
          },
          "metadata": {},
          "execution_count": 1421
        }
      ]
    },
    {
      "cell_type": "code",
      "metadata": {
        "colab": {
          "base_uri": "https://localhost:8080/",
          "height": 0
        },
        "id": "1XcdleMqMfNI",
        "outputId": "68927e38-73d2-4dc8-9a93-82c18bd2e45d"
      },
      "source": [
        "dftrain_adj['area'].value_counts()"
      ],
      "execution_count": 1422,
      "outputs": [
        {
          "output_type": "execute_result",
          "data": {
            "text/plain": [
              "Rathfarnham    73\n",
              "Castleknock    67\n",
              "Malahide       57\n",
              "Lucan          55\n",
              "Blackrock      51\n",
              "               ..\n",
              "The Coombe      1\n",
              "Ballybough      1\n",
              "Greenhills      1\n",
              "Kilmore         1\n",
              "Brittas         1\n",
              "Name: area, Length: 144, dtype: int64"
            ]
          },
          "metadata": {},
          "execution_count": 1422
        }
      ]
    },
    {
      "cell_type": "code",
      "metadata": {
        "colab": {
          "base_uri": "https://localhost:8080/",
          "height": 0
        },
        "id": "5zrZNx--XbzN",
        "outputId": "e4e35fb6-db69-476a-f5f6-9416e67921b4"
      },
      "source": [
        "temporary_series = dftrain_adj['area'].value_counts()\n",
        "\n",
        "temporary_series.values"
      ],
      "execution_count": 1423,
      "outputs": [
        {
          "output_type": "execute_result",
          "data": {
            "text/plain": [
              "array([73, 67, 57, 55, 51, 45, 41, 39, 39, 38, 37, 37, 36, 36, 34, 33, 33,\n",
              "       33, 32, 30, 29, 29, 26, 26, 25, 24, 24, 24, 24, 22, 22, 21, 20, 20,\n",
              "       19, 18, 18, 17, 17, 16, 16, 16, 16, 16, 15, 15, 14, 13, 13, 13, 13,\n",
              "       13, 13, 13, 13, 12, 12, 12, 12, 12, 11, 11, 11, 11, 10, 10, 10, 10,\n",
              "       10,  9,  9,  9,  9,  9,  9,  8,  8,  8,  8,  8,  8,  8,  8,  8,  7,\n",
              "        7,  7,  7,  6,  6,  6,  6,  6,  6,  6,  6,  6,  6,  6,  5,  5,  5,\n",
              "        4,  4,  4,  4,  4,  4,  4,  4,  4,  4,  3,  3,  3,  3,  3,  3,  3,\n",
              "        3,  3,  3,  3,  2,  2,  2,  2,  2,  2,  2,  1,  1,  1,  1,  1,  1,\n",
              "        1,  1,  1,  1,  1,  1,  1,  1])"
            ]
          },
          "metadata": {},
          "execution_count": 1423
        }
      ]
    },
    {
      "cell_type": "code",
      "metadata": {
        "colab": {
          "base_uri": "https://localhost:8080/",
          "height": 0
        },
        "id": "SpVXh4JIXv8n",
        "outputId": "577fc678-aa4f-4770-c9fd-2183156aaded"
      },
      "source": [
        "dftrain_adj['ber_classification'].value_counts()"
      ],
      "execution_count": 1424,
      "outputs": [
        {
          "output_type": "execute_result",
          "data": {
            "text/plain": [
              "D1                     255\n",
              "D2                     241\n",
              "C3                     224\n",
              "C2                     210\n",
              "C1                     182\n",
              "E1                     154\n",
              "E2                     148\n",
              "G                      144\n",
              "F                      135\n",
              "B3                     106\n",
              "B2                      69\n",
              "A3                      61\n",
              "SINo666of2006exempt     23\n",
              "A2                      22\n",
              "B1                      14\n",
              "A1                       1\n",
              "Name: ber_classification, dtype: int64"
            ]
          },
          "metadata": {},
          "execution_count": 1424
        }
      ]
    },
    {
      "cell_type": "code",
      "metadata": {
        "colab": {
          "base_uri": "https://localhost:8080/",
          "height": 0
        },
        "id": "hljN6KSkXvy3",
        "outputId": "d6788fff-56d3-4560-ef06-b813bda8ee48"
      },
      "source": [
        "dftrain_adj['property_type'].value_counts()"
      ],
      "execution_count": 1425,
      "outputs": [
        {
          "output_type": "execute_result",
          "data": {
            "text/plain": [
              "semi-detached     554\n",
              "apartment         530\n",
              "terraced          339\n",
              "detached          297\n",
              "end-of-terrace    153\n",
              "bungalow           56\n",
              "duplex             37\n",
              "townhouse          19\n",
              "site                3\n",
              "studio              1\n",
              "Name: property_type, dtype: int64"
            ]
          },
          "metadata": {},
          "execution_count": 1425
        }
      ]
    },
    {
      "cell_type": "markdown",
      "metadata": {
        "id": "maa0AqJceCxm"
      },
      "source": [
        "For the categorical features '**area**', '**ber_classification**' and '**property_type**' a mapping approach will be taken to convert these to numerical features going forward.\n",
        "\n",
        "\n",
        "The approach shown below was adapted from datacamp.com by Pathak (2020) which displays a very helpful way of mapping categorical features to numerical features without having to explicitly state the mapping yourself.\n"
      ]
    },
    {
      "cell_type": "markdown",
      "metadata": {
        "id": "2OhgjdzaeR6r"
      },
      "source": [
        "Convert each categorical variable in turn and update dataframe."
      ]
    },
    {
      "cell_type": "code",
      "metadata": {
        "colab": {
          "base_uri": "https://localhost:8080/",
          "height": 0
        },
        "id": "_QJPcJiFc_Ey",
        "outputId": "663e35b4-96cb-4ff1-e8d8-5d8699221597"
      },
      "source": [
        "labels = dftrain_adj['area'].astype('category').cat.categories.tolist()\n",
        "\n",
        "replace_map_comp_1 = {'area' : {k: v for k,v in zip(labels,list(range(1,len(labels)+1)))}}\n",
        "\n",
        "print(replace_map_comp_1)\n",
        "\n",
        "dftrain_adj.replace(replace_map_comp_1, inplace=True)"
      ],
      "execution_count": 1426,
      "outputs": [
        {
          "output_type": "stream",
          "name": "stdout",
          "text": [
            "{'area': {'Adamstown': 1, 'Ard Na Greine': 2, 'Artane': 3, 'Ashtown': 4, 'Balbriggan': 5, 'Baldoyle': 6, 'Balgriffin': 7, 'Ballinteer': 8, 'Ballsbridge': 9, 'Ballybough': 10, 'Ballyboughal': 11, 'Ballybrack': 12, 'Ballycullen': 13, 'Ballyfermot': 14, 'Ballymun': 15, 'Balrothery': 16, 'Beaumont': 17, 'Blackrock': 18, 'Blanchardstown': 19, 'Bluebell': 20, 'Booterstown': 21, 'Brittas': 22, 'Cabinteely': 23, 'Cabra': 24, 'Carrickmines': 25, 'Castleknock': 26, 'Chapelizod': 27, 'Christchurch': 28, 'Churchtown': 29, 'Citywest': 30, 'Clarehall': 31, 'Clondalkin': 32, 'Clonee': 33, 'Clongriffin': 34, 'Clonshaugh': 35, 'Clonsilla': 36, 'Clonskeagh': 37, 'Clontarf': 38, 'Coolock': 39, 'Crumlin': 40, 'Dalkey': 41, 'Darndale': 42, 'Dartry': 43, 'Donabate': 44, 'Donaghmede': 45, 'Donnybrook': 46, 'Donnycarney': 47, 'Drimnagh': 48, 'Drumcondra': 49, 'Dublin 1': 50, 'Dublin 2': 51, 'Dublin 4': 52, 'Dublin 7': 53, 'Dublin 8': 54, 'Dun Laoghaire': 55, 'Dundrum': 56, 'East Wall': 57, 'Edenmore': 58, 'Fairview': 59, 'Finglas': 60, 'Firhouse': 61, 'Foxrock': 62, 'Garristown': 63, 'Glasnevin': 64, 'Glenageary': 65, 'Goatstown': 66, 'Grand Canal Dock': 67, 'Greenhills': 68, \"Harold's Cross\": 69, 'Howth': 70, 'IFSC': 71, 'Inchicore': 72, 'Irishtown': 73, 'Islandbridge': 74, 'Killester': 75, 'Killiney': 76, 'Kilmacud': 77, 'Kilmainham': 78, 'Kilmore': 79, 'Kilnamanagh': 80, 'Kilternan': 81, 'Kiltipper': 82, 'Kimmage': 83, 'Kingswood': 84, 'Kinsealy': 85, 'Knocklyon': 86, 'Leopardstown': 87, 'Loughlinstown': 88, 'Loughshinny': 89, 'Lucan': 90, 'Lusk': 91, 'Malahide': 92, 'Marino': 93, 'Milltown': 94, 'Monkstown': 95, 'Mount Merrion': 96, 'Mulhuddart': 97, 'Naul': 98, 'Navan Road (D7)': 99, 'Newcastle': 100, 'North Circular Road': 101, 'North Strand': 102, 'Oldbawn': 103, 'Ongar': 104, 'Palmerstown': 105, 'Park West': 106, 'Perrystown': 107, 'Phibsborough': 108, 'Portmarnock': 109, 'Portobello': 110, 'Raheny': 111, 'Ranelagh': 112, 'Rathcoole': 113, 'Rathfarnham': 114, 'Rathgar': 115, 'Rathmichael': 116, 'Rathmines': 117, 'Rialto': 118, 'Ringsend': 119, 'Rush': 120, 'Saggart': 121, 'Sallynoggin': 122, 'Sandycove': 123, 'Sandyford': 124, 'Sandymount': 125, 'Santry': 126, 'Shankill': 127, 'Skerries': 128, 'Smithfield': 129, 'South Circular Road': 130, 'Stepaside': 131, 'Stoneybatter': 132, 'Sutton': 133, 'Swords': 134, 'Tallaght': 135, 'Temple Bar': 136, 'Templeogue': 137, 'Terenure': 138, 'The Coombe': 139, 'The Ward': 140, 'Tyrrelstown': 141, 'Walkinstown': 142, 'Whitehall': 143, 'Windy Arbour': 144}}\n"
          ]
        }
      ]
    },
    {
      "cell_type": "code",
      "metadata": {
        "colab": {
          "base_uri": "https://localhost:8080/",
          "height": 0
        },
        "id": "m3_ogR99c-5c",
        "outputId": "5a368770-c65d-4e33-df29-80d4d84cf9e8"
      },
      "source": [
        "labels = dftrain_adj['ber_classification'].astype('category').cat.categories.tolist()\n",
        "\n",
        "replace_map_comp_2 = {'ber_classification' : {k: v for k,v in zip(labels,list(range(1,len(labels)+1)))}}\n",
        "\n",
        "print(replace_map_comp_2)\n",
        "\n",
        "dftrain_adj.replace(replace_map_comp_2, inplace=True)"
      ],
      "execution_count": 1427,
      "outputs": [
        {
          "output_type": "stream",
          "name": "stdout",
          "text": [
            "{'ber_classification': {'A1': 1, 'A2': 2, 'A3': 3, 'B1': 4, 'B2': 5, 'B3': 6, 'C1': 7, 'C2': 8, 'C3': 9, 'D1': 10, 'D2': 11, 'E1': 12, 'E2': 13, 'F': 14, 'G': 15, 'SINo666of2006exempt': 16}}\n"
          ]
        }
      ]
    },
    {
      "cell_type": "code",
      "metadata": {
        "colab": {
          "base_uri": "https://localhost:8080/",
          "height": 0
        },
        "id": "jgfBrUH8eu7-",
        "outputId": "4ab1b8f5-abf5-43e2-d21b-19c4302445b5"
      },
      "source": [
        "labels = dftrain_adj['property_type'].astype('category').cat.categories.tolist()\n",
        "\n",
        "replace_map_comp_3 = {'property_type' : {k: v for k,v in zip(labels,list(range(1,len(labels)+1)))}}\n",
        "\n",
        "print(replace_map_comp_3)\n",
        "\n",
        "dftrain_adj.replace(replace_map_comp_3, inplace=True)"
      ],
      "execution_count": 1428,
      "outputs": [
        {
          "output_type": "stream",
          "name": "stdout",
          "text": [
            "{'property_type': {'apartment': 1, 'bungalow': 2, 'detached': 3, 'duplex': 4, 'end-of-terrace': 5, 'semi-detached': 6, 'site': 7, 'studio': 8, 'terraced': 9, 'townhouse': 10}}\n"
          ]
        }
      ]
    },
    {
      "cell_type": "code",
      "metadata": {
        "colab": {
          "base_uri": "https://localhost:8080/",
          "height": 206
        },
        "id": "SpKA5BUEfB-V",
        "outputId": "c6c11f27-2c2c-49e3-b4cf-58c9eae990bd"
      },
      "source": [
        "dftrain_adj.head()"
      ],
      "execution_count": 1429,
      "outputs": [
        {
          "output_type": "execute_result",
          "data": {
            "text/html": [
              "<div>\n",
              "<style scoped>\n",
              "    .dataframe tbody tr th:only-of-type {\n",
              "        vertical-align: middle;\n",
              "    }\n",
              "\n",
              "    .dataframe tbody tr th {\n",
              "        vertical-align: top;\n",
              "    }\n",
              "\n",
              "    .dataframe thead th {\n",
              "        text-align: right;\n",
              "    }\n",
              "</style>\n",
              "<table border=\"1\" class=\"dataframe\">\n",
              "  <thead>\n",
              "    <tr style=\"text-align: right;\">\n",
              "      <th></th>\n",
              "      <th>area</th>\n",
              "      <th>bathrooms</th>\n",
              "      <th>beds</th>\n",
              "      <th>ber_classification</th>\n",
              "      <th>latitude</th>\n",
              "      <th>longitude</th>\n",
              "      <th>price</th>\n",
              "      <th>property_type</th>\n",
              "      <th>surface</th>\n",
              "    </tr>\n",
              "  </thead>\n",
              "  <tbody>\n",
              "    <tr>\n",
              "      <th>15</th>\n",
              "      <td>33</td>\n",
              "      <td>3.0</td>\n",
              "      <td>5.0</td>\n",
              "      <td>3</td>\n",
              "      <td>53.400454</td>\n",
              "      <td>-6.445730</td>\n",
              "      <td>935000.0</td>\n",
              "      <td>3</td>\n",
              "      <td>321.0</td>\n",
              "    </tr>\n",
              "    <tr>\n",
              "      <th>26</th>\n",
              "      <td>32</td>\n",
              "      <td>4.0</td>\n",
              "      <td>4.0</td>\n",
              "      <td>3</td>\n",
              "      <td>53.316410</td>\n",
              "      <td>-6.385214</td>\n",
              "      <td>485000.0</td>\n",
              "      <td>6</td>\n",
              "      <td>144.0</td>\n",
              "    </tr>\n",
              "    <tr>\n",
              "      <th>27</th>\n",
              "      <td>33</td>\n",
              "      <td>3.0</td>\n",
              "      <td>5.0</td>\n",
              "      <td>3</td>\n",
              "      <td>53.401414</td>\n",
              "      <td>-6.446634</td>\n",
              "      <td>935000.0</td>\n",
              "      <td>3</td>\n",
              "      <td>321.0</td>\n",
              "    </tr>\n",
              "    <tr>\n",
              "      <th>35</th>\n",
              "      <td>70</td>\n",
              "      <td>5.0</td>\n",
              "      <td>5.0</td>\n",
              "      <td>2</td>\n",
              "      <td>53.375377</td>\n",
              "      <td>-6.056749</td>\n",
              "      <td>1475000.0</td>\n",
              "      <td>3</td>\n",
              "      <td>312.0</td>\n",
              "    </tr>\n",
              "    <tr>\n",
              "      <th>38</th>\n",
              "      <td>26</td>\n",
              "      <td>2.0</td>\n",
              "      <td>2.0</td>\n",
              "      <td>3</td>\n",
              "      <td>53.372130</td>\n",
              "      <td>-6.338466</td>\n",
              "      <td>410000.0</td>\n",
              "      <td>1</td>\n",
              "      <td>83.0</td>\n",
              "    </tr>\n",
              "  </tbody>\n",
              "</table>\n",
              "</div>"
            ],
            "text/plain": [
              "    area  bathrooms  beds  ...      price  property_type  surface\n",
              "15    33        3.0   5.0  ...   935000.0              3    321.0\n",
              "26    32        4.0   4.0  ...   485000.0              6    144.0\n",
              "27    33        3.0   5.0  ...   935000.0              3    321.0\n",
              "35    70        5.0   5.0  ...  1475000.0              3    312.0\n",
              "38    26        2.0   2.0  ...   410000.0              1     83.0\n",
              "\n",
              "[5 rows x 9 columns]"
            ]
          },
          "metadata": {},
          "execution_count": 1429
        }
      ]
    },
    {
      "cell_type": "code",
      "metadata": {
        "colab": {
          "base_uri": "https://localhost:8080/",
          "height": 0
        },
        "id": "_jQce8j5f50k",
        "outputId": "9f5c6834-c1ee-4265-e5c8-ade9d6c5e908"
      },
      "source": [
        "dftrain_adj.shape"
      ],
      "execution_count": 1430,
      "outputs": [
        {
          "output_type": "execute_result",
          "data": {
            "text/plain": [
              "(1989, 9)"
            ]
          },
          "metadata": {},
          "execution_count": 1430
        }
      ]
    },
    {
      "cell_type": "markdown",
      "metadata": {
        "id": "20hVjxsTyqFi"
      },
      "source": [
        "Check boxplots of each feature to assess if there are outliers present."
      ]
    },
    {
      "cell_type": "code",
      "metadata": {
        "colab": {
          "base_uri": "https://localhost:8080/",
          "height": 321
        },
        "id": "zXa_FrN-5hsR",
        "outputId": "812e3bb8-7111-42d2-db5c-99edd9700acf"
      },
      "source": [
        "dftrain_adj.drop('price', axis=1).loc[:,'area':'property_type'].boxplot(figsize=(20,5))\n",
        "plt.show()"
      ],
      "execution_count": 1432,
      "outputs": [
        {
          "output_type": "display_data",
          "data": {
            "image/png": "[encoded data removed]",
            "text/plain": [
              "<Figure size 1440x360 with 1 Axes>"
            ]
          },
          "metadata": {
            "needs_background": "light"
          }
        }
      ]
    },
    {
      "cell_type": "code",
      "metadata": {
        "colab": {
          "base_uri": "https://localhost:8080/",
          "height": 276
        },
        "id": "ultQbHCwLfUW",
        "outputId": "228b53fd-5db1-4f7b-b2d5-d0370b530ebf"
      },
      "source": [
        "dftrain_adj.boxplot(column=['surface', 'price'])\n",
        "plt.show()"
      ],
      "execution_count": 1433,
      "outputs": [
        {
          "output_type": "display_data",
          "data": {
            "image/png": "[encoded data removed]",
            "text/plain": [
              "<Figure size 432x288 with 1 Axes>"
            ]
          },
          "metadata": {
            "needs_background": "light"
          }
        }
      ]
    },
    {
      "cell_type": "code",
      "metadata": {
        "colab": {
          "base_uri": "https://localhost:8080/",
          "height": 0
        },
        "id": "FrCh9-AIZBmL",
        "outputId": "679aae9c-bc19-49dd-b9cf-660511cfd07b"
      },
      "source": [
        "dftrain_adj.shape"
      ],
      "execution_count": 1436,
      "outputs": [
        {
          "output_type": "execute_result",
          "data": {
            "text/plain": [
              "(1989, 9)"
            ]
          },
          "metadata": {},
          "execution_count": 1436
        }
      ]
    },
    {
      "cell_type": "markdown",
      "metadata": {
        "id": "CY90X9k_RaHd"
      },
      "source": [
        "Cycle through each feature in the training data set and remove data points that are deemed outliers i.e. data points that fall outside the IQR (Interquartile Range). I adapted code by Brownlee (2018) to help assess outliers in the data."
      ]
    },
    {
      "cell_type": "code",
      "metadata": {
        "colab": {
          "base_uri": "https://localhost:8080/",
          "height": 0
        },
        "id": "O4zsrilcOYOo",
        "outputId": "9fbcbdbb-7323-492c-e9bf-19d16b5e80f6"
      },
      "source": [
        "# Adapted from https://machinelearningmastery.com/how-to-use-statistics-to-identify-outliers-in-data/\n",
        "\n",
        "for each_feature in dftrain_adj:\n",
        "\n",
        "  data = dftrain_adj[each_feature]\n",
        "\n",
        "  # Calculate IQR (Interquartile Range).\n",
        "  q25, q75 = np.percentile(data, 25), np.percentile(data, 75)\n",
        "  iqr = q75 - q25\n",
        "\n",
        "  # Calculate the outlier cut-off.\n",
        "  cut_off = iqr * 1.5\n",
        "  lower, upper = q25 - cut_off, q75 + cut_off\n",
        "\n",
        "  # Identify outliers.\n",
        "\n",
        "  index_list = []\n",
        "  outliers_list = []\n",
        "\n",
        "  index_counter = -1\n",
        "\n",
        "  for each_element in data:\n",
        "\n",
        "    index_counter += 1\n",
        "\n",
        "    if each_element < lower or each_element > upper:\n",
        "\n",
        "      outliers_list.append(each_element)\n",
        "      \n",
        "      index_list.append(index_counter)\n",
        "\n",
        "  # print(each_feature)\n",
        "  # print(len(data))\n",
        "  # print(outliers_list)\n",
        "  # print(index_list)\n",
        "  print('Number of outliers in ', each_feature, ': ', len(index_list))\n",
        "  # print('\\n')\n",
        "\n",
        "  dftrain_adj.drop(dftrain_adj[dftrain_adj[each_feature].isin(outliers_list)].index, inplace=True)\n",
        "  #dftrain_adj.shape \n"
      ],
      "execution_count": 1437,
      "outputs": [
        {
          "output_type": "stream",
          "name": "stdout",
          "text": [
            "Number of outliers in  area :  0\n",
            "Number of outliers in  bathrooms :  9\n",
            "Number of outliers in  beds :  1\n",
            "Number of outliers in  ber_classification :  1\n",
            "Number of outliers in  latitude :  106\n",
            "Number of outliers in  longitude :  6\n",
            "Number of outliers in  price :  131\n",
            "Number of outliers in  property_type :  0\n",
            "Number of outliers in  surface :  51\n"
          ]
        }
      ]
    },
    {
      "cell_type": "markdown",
      "metadata": {
        "id": "-mHBk4N4zWrG"
      },
      "source": [
        "New shape of the training data after removing outliers."
      ]
    },
    {
      "cell_type": "code",
      "metadata": {
        "colab": {
          "base_uri": "https://localhost:8080/",
          "height": 0
        },
        "id": "Ns3DUM6f-n-_",
        "outputId": "24e402e8-c572-4475-9a83-ad09a5c01678"
      },
      "source": [
        "dftrain_adj.shape"
      ],
      "execution_count": 1438,
      "outputs": [
        {
          "output_type": "execute_result",
          "data": {
            "text/plain": [
              "(1684, 9)"
            ]
          },
          "metadata": {},
          "execution_count": 1438
        }
      ]
    },
    {
      "cell_type": "markdown",
      "metadata": {
        "id": "efYAigYTfLSK"
      },
      "source": [
        "Now all training features are now numeric. There are 9 remaining features (which includes the target 'price')."
      ]
    },
    {
      "cell_type": "markdown",
      "metadata": {
        "id": "Iqg9_uxFyZli"
      },
      "source": [
        "### Test dataset"
      ]
    },
    {
      "cell_type": "markdown",
      "metadata": {
        "id": "cTOiy4gRfo0Q"
      },
      "source": [
        "The same pre-processing approaches taken on the training dataset will be taken on the test dataset."
      ]
    },
    {
      "cell_type": "code",
      "metadata": {
        "id": "bw2_yypxMfsi",
        "colab": {
          "base_uri": "https://localhost:8080/",
          "height": 417
        },
        "outputId": "1cdeabd4-66df-4a0b-f9ce-1d65139638cb"
      },
      "source": [
        "# Show first data frame rows.\n",
        "dftest.head()"
      ],
      "execution_count": 1441,
      "outputs": [
        {
          "output_type": "execute_result",
          "data": {
            "text/html": [
              "<div>\n",
              "<style scoped>\n",
              "    .dataframe tbody tr th:only-of-type {\n",
              "        vertical-align: middle;\n",
              "    }\n",
              "\n",
              "    .dataframe tbody tr th {\n",
              "        vertical-align: top;\n",
              "    }\n",
              "\n",
              "    .dataframe thead th {\n",
              "        text-align: right;\n",
              "    }\n",
              "</style>\n",
              "<table border=\"1\" class=\"dataframe\">\n",
              "  <thead>\n",
              "    <tr style=\"text-align: right;\">\n",
              "      <th></th>\n",
              "      <th>ad_id</th>\n",
              "      <th>area</th>\n",
              "      <th>bathrooms</th>\n",
              "      <th>beds</th>\n",
              "      <th>ber_classification</th>\n",
              "      <th>county</th>\n",
              "      <th>description_block</th>\n",
              "      <th>environment</th>\n",
              "      <th>facility</th>\n",
              "      <th>features</th>\n",
              "      <th>latitude</th>\n",
              "      <th>longitude</th>\n",
              "      <th>no_of_units</th>\n",
              "      <th>property_category</th>\n",
              "      <th>property_type</th>\n",
              "      <th>surface</th>\n",
              "    </tr>\n",
              "  </thead>\n",
              "  <tbody>\n",
              "    <tr>\n",
              "      <th>0</th>\n",
              "      <td>12373510</td>\n",
              "      <td>Skerries</td>\n",
              "      <td>2.0</td>\n",
              "      <td>4.0</td>\n",
              "      <td>G</td>\n",
              "      <td>Dublin</td>\n",
              "      <td>It's all in the name \"Island View\";. Truly won...</td>\n",
              "      <td>prod</td>\n",
              "      <td>Parking,Alarm,Oil Fired Central Heating</td>\n",
              "      <td>Breath-taking panoramic views radiate from thi...</td>\n",
              "      <td>53.566881</td>\n",
              "      <td>-6.101148</td>\n",
              "      <td>NaN</td>\n",
              "      <td>sale</td>\n",
              "      <td>bungalow</td>\n",
              "      <td>142.0</td>\n",
              "    </tr>\n",
              "    <tr>\n",
              "      <th>1</th>\n",
              "      <td>12422623</td>\n",
              "      <td>Lucan</td>\n",
              "      <td>2.0</td>\n",
              "      <td>3.0</td>\n",
              "      <td>C1</td>\n",
              "      <td>Dublin</td>\n",
              "      <td>REA McDonald - Lucan' s longest established es...</td>\n",
              "      <td>prod</td>\n",
              "      <td>NaN</td>\n",
              "      <td>Gas fired central heating.\\nDouble glazed wind...</td>\n",
              "      <td>53.362992</td>\n",
              "      <td>-6.452909</td>\n",
              "      <td>NaN</td>\n",
              "      <td>sale</td>\n",
              "      <td>terraced</td>\n",
              "      <td>114.0</td>\n",
              "    </tr>\n",
              "    <tr>\n",
              "      <th>2</th>\n",
              "      <td>12377408</td>\n",
              "      <td>Swords</td>\n",
              "      <td>3.0</td>\n",
              "      <td>4.0</td>\n",
              "      <td>B3</td>\n",
              "      <td>Dublin</td>\n",
              "      <td>REA Grimes are proud to present to the market ...</td>\n",
              "      <td>prod</td>\n",
              "      <td>NaN</td>\n",
              "      <td>Pristine condition throughout\\nHighly sought-a...</td>\n",
              "      <td>53.454198</td>\n",
              "      <td>-6.262964</td>\n",
              "      <td>NaN</td>\n",
              "      <td>sale</td>\n",
              "      <td>semi-detached</td>\n",
              "      <td>172.0</td>\n",
              "    </tr>\n",
              "    <tr>\n",
              "      <th>3</th>\n",
              "      <td>12420093</td>\n",
              "      <td>Lucan</td>\n",
              "      <td>4.0</td>\n",
              "      <td>3.0</td>\n",
              "      <td>A3</td>\n",
              "      <td>Dublin</td>\n",
              "      <td>REA McDonald, Lucan' s longest established est...</td>\n",
              "      <td>prod</td>\n",
              "      <td>NaN</td>\n",
              "      <td>A-rated home within a short walk of Lucan Vill...</td>\n",
              "      <td>53.354402</td>\n",
              "      <td>-6.458647</td>\n",
              "      <td>NaN</td>\n",
              "      <td>sale</td>\n",
              "      <td>semi-detached</td>\n",
              "      <td>132.4</td>\n",
              "    </tr>\n",
              "    <tr>\n",
              "      <th>4</th>\n",
              "      <td>12417338</td>\n",
              "      <td>Clondalkin</td>\n",
              "      <td>1.0</td>\n",
              "      <td>3.0</td>\n",
              "      <td>E2</td>\n",
              "      <td>Dublin</td>\n",
              "      <td>Hibernian Auctioneers are delighted to bring, ...</td>\n",
              "      <td>prod</td>\n",
              "      <td>Parking,Gas Fired Central Heating,Wired for Ca...</td>\n",
              "      <td>Mature Location \\nGas Heating \\nClose to Ameni...</td>\n",
              "      <td>53.336530</td>\n",
              "      <td>-6.393587</td>\n",
              "      <td>NaN</td>\n",
              "      <td>sale</td>\n",
              "      <td>semi-detached</td>\n",
              "      <td>88.0</td>\n",
              "    </tr>\n",
              "  </tbody>\n",
              "</table>\n",
              "</div>"
            ],
            "text/plain": [
              "      ad_id        area  bathrooms  ...  property_category  property_type surface\n",
              "0  12373510    Skerries        2.0  ...               sale       bungalow   142.0\n",
              "1  12422623       Lucan        2.0  ...               sale       terraced   114.0\n",
              "2  12377408      Swords        3.0  ...               sale  semi-detached   172.0\n",
              "3  12420093       Lucan        4.0  ...               sale  semi-detached   132.4\n",
              "4  12417338  Clondalkin        1.0  ...               sale  semi-detached    88.0\n",
              "\n",
              "[5 rows x 16 columns]"
            ]
          },
          "metadata": {},
          "execution_count": 1441
        }
      ]
    },
    {
      "cell_type": "code",
      "metadata": {
        "id": "FXo0x2u7T7-1",
        "colab": {
          "base_uri": "https://localhost:8080/",
          "height": 300
        },
        "outputId": "4e500627-a0a3-4818-a000-d4a03ccc54eb"
      },
      "source": [
        "# Generate descriptive statistics.\n",
        "dftest.describe()"
      ],
      "execution_count": 1442,
      "outputs": [
        {
          "output_type": "execute_result",
          "data": {
            "text/html": [
              "<div>\n",
              "<style scoped>\n",
              "    .dataframe tbody tr th:only-of-type {\n",
              "        vertical-align: middle;\n",
              "    }\n",
              "\n",
              "    .dataframe tbody tr th {\n",
              "        vertical-align: top;\n",
              "    }\n",
              "\n",
              "    .dataframe thead th {\n",
              "        text-align: right;\n",
              "    }\n",
              "</style>\n",
              "<table border=\"1\" class=\"dataframe\">\n",
              "  <thead>\n",
              "    <tr style=\"text-align: right;\">\n",
              "      <th></th>\n",
              "      <th>ad_id</th>\n",
              "      <th>bathrooms</th>\n",
              "      <th>beds</th>\n",
              "      <th>latitude</th>\n",
              "      <th>longitude</th>\n",
              "      <th>no_of_units</th>\n",
              "      <th>surface</th>\n",
              "    </tr>\n",
              "  </thead>\n",
              "  <tbody>\n",
              "    <tr>\n",
              "      <th>count</th>\n",
              "      <td>5.000000e+02</td>\n",
              "      <td>500.000000</td>\n",
              "      <td>500.000000</td>\n",
              "      <td>500.000000</td>\n",
              "      <td>500.000000</td>\n",
              "      <td>0.0</td>\n",
              "      <td>500.000000</td>\n",
              "    </tr>\n",
              "    <tr>\n",
              "      <th>mean</th>\n",
              "      <td>1.231695e+07</td>\n",
              "      <td>1.994000</td>\n",
              "      <td>2.930000</td>\n",
              "      <td>53.356034</td>\n",
              "      <td>-6.247842</td>\n",
              "      <td>NaN</td>\n",
              "      <td>156.007671</td>\n",
              "    </tr>\n",
              "    <tr>\n",
              "      <th>std</th>\n",
              "      <td>1.485832e+05</td>\n",
              "      <td>1.106532</td>\n",
              "      <td>1.191612</td>\n",
              "      <td>0.081905</td>\n",
              "      <td>0.088552</td>\n",
              "      <td>NaN</td>\n",
              "      <td>344.497362</td>\n",
              "    </tr>\n",
              "    <tr>\n",
              "      <th>min</th>\n",
              "      <td>1.130615e+07</td>\n",
              "      <td>0.000000</td>\n",
              "      <td>0.000000</td>\n",
              "      <td>53.221348</td>\n",
              "      <td>-6.496987</td>\n",
              "      <td>NaN</td>\n",
              "      <td>33.500000</td>\n",
              "    </tr>\n",
              "    <tr>\n",
              "      <th>25%</th>\n",
              "      <td>1.228617e+07</td>\n",
              "      <td>1.000000</td>\n",
              "      <td>2.000000</td>\n",
              "      <td>53.297373</td>\n",
              "      <td>-6.296404</td>\n",
              "      <td>NaN</td>\n",
              "      <td>72.375000</td>\n",
              "    </tr>\n",
              "    <tr>\n",
              "      <th>50%</th>\n",
              "      <td>1.237964e+07</td>\n",
              "      <td>2.000000</td>\n",
              "      <td>3.000000</td>\n",
              "      <td>53.339547</td>\n",
              "      <td>-6.243572</td>\n",
              "      <td>NaN</td>\n",
              "      <td>98.000000</td>\n",
              "    </tr>\n",
              "    <tr>\n",
              "      <th>75%</th>\n",
              "      <td>1.240544e+07</td>\n",
              "      <td>3.000000</td>\n",
              "      <td>4.000000</td>\n",
              "      <td>53.381650</td>\n",
              "      <td>-6.185055</td>\n",
              "      <td>NaN</td>\n",
              "      <td>138.935000</td>\n",
              "    </tr>\n",
              "    <tr>\n",
              "      <th>max</th>\n",
              "      <td>1.242809e+07</td>\n",
              "      <td>8.000000</td>\n",
              "      <td>7.000000</td>\n",
              "      <td>53.619775</td>\n",
              "      <td>-6.064874</td>\n",
              "      <td>NaN</td>\n",
              "      <td>5746.536120</td>\n",
              "    </tr>\n",
              "  </tbody>\n",
              "</table>\n",
              "</div>"
            ],
            "text/plain": [
              "              ad_id   bathrooms  ...  no_of_units      surface\n",
              "count  5.000000e+02  500.000000  ...          0.0   500.000000\n",
              "mean   1.231695e+07    1.994000  ...          NaN   156.007671\n",
              "std    1.485832e+05    1.106532  ...          NaN   344.497362\n",
              "min    1.130615e+07    0.000000  ...          NaN    33.500000\n",
              "25%    1.228617e+07    1.000000  ...          NaN    72.375000\n",
              "50%    1.237964e+07    2.000000  ...          NaN    98.000000\n",
              "75%    1.240544e+07    3.000000  ...          NaN   138.935000\n",
              "max    1.242809e+07    8.000000  ...          NaN  5746.536120\n",
              "\n",
              "[8 rows x 7 columns]"
            ]
          },
          "metadata": {},
          "execution_count": 1442
        }
      ]
    },
    {
      "cell_type": "markdown",
      "metadata": {
        "id": "r_TiunQFgLRY"
      },
      "source": [
        "The 'dfcost' data will temporarily be appended to the test dataset to ensure any pre-processing steps effects 'dftest' and 'dfcost' similarly."
      ]
    },
    {
      "cell_type": "code",
      "metadata": {
        "colab": {
          "base_uri": "https://localhost:8080/",
          "height": 0
        },
        "id": "vNX2n5zMgbVG",
        "outputId": "8da2edf8-b27b-480f-f604-e3c583a3cb24"
      },
      "source": [
        "dfcost.shape"
      ],
      "execution_count": 1443,
      "outputs": [
        {
          "output_type": "execute_result",
          "data": {
            "text/plain": [
              "(500, 2)"
            ]
          },
          "metadata": {},
          "execution_count": 1443
        }
      ]
    },
    {
      "cell_type": "markdown",
      "metadata": {
        "id": "Uj1bgl6Pl0Ce"
      },
      "source": [
        "Get rid of the ID column as that is already present in the test datset."
      ]
    },
    {
      "cell_type": "code",
      "metadata": {
        "colab": {
          "base_uri": "https://localhost:8080/",
          "height": 0
        },
        "id": "dd6KOtwhjE5Y",
        "outputId": "d8b63881-a021-410d-9e47-2c96f494b13c"
      },
      "source": [
        "dfcost_temp = dfcost.drop(columns='Id')\n",
        "dfcost_temp.shape\n",
        "#dfcost_temp"
      ],
      "execution_count": 1444,
      "outputs": [
        {
          "output_type": "execute_result",
          "data": {
            "text/plain": [
              "(500, 1)"
            ]
          },
          "metadata": {},
          "execution_count": 1444
        }
      ]
    },
    {
      "cell_type": "code",
      "metadata": {
        "colab": {
          "base_uri": "https://localhost:8080/",
          "height": 417
        },
        "id": "afwP4tmLi3og",
        "outputId": "25c57070-69bc-4489-958d-338850d273de"
      },
      "source": [
        "dftest_adj = pd.concat([dftest, dfcost_temp], axis=1)\n",
        "dftest_adj.head()"
      ],
      "execution_count": 1445,
      "outputs": [
        {
          "output_type": "execute_result",
          "data": {
            "text/html": [
              "<div>\n",
              "<style scoped>\n",
              "    .dataframe tbody tr th:only-of-type {\n",
              "        vertical-align: middle;\n",
              "    }\n",
              "\n",
              "    .dataframe tbody tr th {\n",
              "        vertical-align: top;\n",
              "    }\n",
              "\n",
              "    .dataframe thead th {\n",
              "        text-align: right;\n",
              "    }\n",
              "</style>\n",
              "<table border=\"1\" class=\"dataframe\">\n",
              "  <thead>\n",
              "    <tr style=\"text-align: right;\">\n",
              "      <th></th>\n",
              "      <th>ad_id</th>\n",
              "      <th>area</th>\n",
              "      <th>bathrooms</th>\n",
              "      <th>beds</th>\n",
              "      <th>ber_classification</th>\n",
              "      <th>county</th>\n",
              "      <th>description_block</th>\n",
              "      <th>environment</th>\n",
              "      <th>facility</th>\n",
              "      <th>features</th>\n",
              "      <th>latitude</th>\n",
              "      <th>longitude</th>\n",
              "      <th>no_of_units</th>\n",
              "      <th>property_category</th>\n",
              "      <th>property_type</th>\n",
              "      <th>surface</th>\n",
              "      <th>Expected</th>\n",
              "    </tr>\n",
              "  </thead>\n",
              "  <tbody>\n",
              "    <tr>\n",
              "      <th>0</th>\n",
              "      <td>12373510</td>\n",
              "      <td>Skerries</td>\n",
              "      <td>2.0</td>\n",
              "      <td>4.0</td>\n",
              "      <td>G</td>\n",
              "      <td>Dublin</td>\n",
              "      <td>It's all in the name \"Island View\";. Truly won...</td>\n",
              "      <td>prod</td>\n",
              "      <td>Parking,Alarm,Oil Fired Central Heating</td>\n",
              "      <td>Breath-taking panoramic views radiate from thi...</td>\n",
              "      <td>53.566881</td>\n",
              "      <td>-6.101148</td>\n",
              "      <td>NaN</td>\n",
              "      <td>sale</td>\n",
              "      <td>bungalow</td>\n",
              "      <td>142.0</td>\n",
              "      <td>875000.0</td>\n",
              "    </tr>\n",
              "    <tr>\n",
              "      <th>1</th>\n",
              "      <td>12422623</td>\n",
              "      <td>Lucan</td>\n",
              "      <td>2.0</td>\n",
              "      <td>3.0</td>\n",
              "      <td>C1</td>\n",
              "      <td>Dublin</td>\n",
              "      <td>REA McDonald - Lucan' s longest established es...</td>\n",
              "      <td>prod</td>\n",
              "      <td>NaN</td>\n",
              "      <td>Gas fired central heating.\\nDouble glazed wind...</td>\n",
              "      <td>53.362992</td>\n",
              "      <td>-6.452909</td>\n",
              "      <td>NaN</td>\n",
              "      <td>sale</td>\n",
              "      <td>terraced</td>\n",
              "      <td>114.0</td>\n",
              "      <td>355000.0</td>\n",
              "    </tr>\n",
              "    <tr>\n",
              "      <th>2</th>\n",
              "      <td>12377408</td>\n",
              "      <td>Swords</td>\n",
              "      <td>3.0</td>\n",
              "      <td>4.0</td>\n",
              "      <td>B3</td>\n",
              "      <td>Dublin</td>\n",
              "      <td>REA Grimes are proud to present to the market ...</td>\n",
              "      <td>prod</td>\n",
              "      <td>NaN</td>\n",
              "      <td>Pristine condition throughout\\nHighly sought-a...</td>\n",
              "      <td>53.454198</td>\n",
              "      <td>-6.262964</td>\n",
              "      <td>NaN</td>\n",
              "      <td>sale</td>\n",
              "      <td>semi-detached</td>\n",
              "      <td>172.0</td>\n",
              "      <td>440000.0</td>\n",
              "    </tr>\n",
              "    <tr>\n",
              "      <th>3</th>\n",
              "      <td>12420093</td>\n",
              "      <td>Lucan</td>\n",
              "      <td>4.0</td>\n",
              "      <td>3.0</td>\n",
              "      <td>A3</td>\n",
              "      <td>Dublin</td>\n",
              "      <td>REA McDonald, Lucan' s longest established est...</td>\n",
              "      <td>prod</td>\n",
              "      <td>NaN</td>\n",
              "      <td>A-rated home within a short walk of Lucan Vill...</td>\n",
              "      <td>53.354402</td>\n",
              "      <td>-6.458647</td>\n",
              "      <td>NaN</td>\n",
              "      <td>sale</td>\n",
              "      <td>semi-detached</td>\n",
              "      <td>132.4</td>\n",
              "      <td>425000.0</td>\n",
              "    </tr>\n",
              "    <tr>\n",
              "      <th>4</th>\n",
              "      <td>12417338</td>\n",
              "      <td>Clondalkin</td>\n",
              "      <td>1.0</td>\n",
              "      <td>3.0</td>\n",
              "      <td>E2</td>\n",
              "      <td>Dublin</td>\n",
              "      <td>Hibernian Auctioneers are delighted to bring, ...</td>\n",
              "      <td>prod</td>\n",
              "      <td>Parking,Gas Fired Central Heating,Wired for Ca...</td>\n",
              "      <td>Mature Location \\nGas Heating \\nClose to Ameni...</td>\n",
              "      <td>53.336530</td>\n",
              "      <td>-6.393587</td>\n",
              "      <td>NaN</td>\n",
              "      <td>sale</td>\n",
              "      <td>semi-detached</td>\n",
              "      <td>88.0</td>\n",
              "      <td>265000.0</td>\n",
              "    </tr>\n",
              "  </tbody>\n",
              "</table>\n",
              "</div>"
            ],
            "text/plain": [
              "      ad_id        area  bathrooms  ...  property_type surface  Expected\n",
              "0  12373510    Skerries        2.0  ...       bungalow   142.0  875000.0\n",
              "1  12422623       Lucan        2.0  ...       terraced   114.0  355000.0\n",
              "2  12377408      Swords        3.0  ...  semi-detached   172.0  440000.0\n",
              "3  12420093       Lucan        4.0  ...  semi-detached   132.4  425000.0\n",
              "4  12417338  Clondalkin        1.0  ...  semi-detached    88.0  265000.0\n",
              "\n",
              "[5 rows x 17 columns]"
            ]
          },
          "metadata": {},
          "execution_count": 1445
        }
      ]
    },
    {
      "cell_type": "markdown",
      "metadata": {
        "id": "Sh6FXiRAl95C"
      },
      "source": [
        "Drop columns=['ad_id', 'facility','no_of_units', 'description_block', 'features'] like was done in the training set."
      ]
    },
    {
      "cell_type": "code",
      "metadata": {
        "colab": {
          "base_uri": "https://localhost:8080/",
          "height": 0
        },
        "id": "pxto3D8TgcQt",
        "outputId": "cb79c4d4-1add-4460-bcbe-f4cc7459c7ac"
      },
      "source": [
        "dftest_adj = dftest_adj.drop(columns=['ad_id', 'facility','no_of_units', 'description_block', 'features'])\n",
        "\n",
        "dftest_adj.shape"
      ],
      "execution_count": 1446,
      "outputs": [
        {
          "output_type": "execute_result",
          "data": {
            "text/plain": [
              "(500, 12)"
            ]
          },
          "metadata": {},
          "execution_count": 1446
        }
      ]
    },
    {
      "cell_type": "markdown",
      "metadata": {
        "id": "pFTMBj1JmKtU"
      },
      "source": [
        "Drop columns=['county', 'environment', 'property_category'] like was done in the training set."
      ]
    },
    {
      "cell_type": "code",
      "metadata": {
        "colab": {
          "base_uri": "https://localhost:8080/",
          "height": 0
        },
        "id": "0iAGYG0ugcQx",
        "outputId": "1536d903-735e-4be6-a89d-f184695000bf"
      },
      "source": [
        "dftest_adj.drop(columns=['county', 'environment', 'property_category'], inplace=True)\n",
        "\n",
        "dftest_adj.shape"
      ],
      "execution_count": 1447,
      "outputs": [
        {
          "output_type": "execute_result",
          "data": {
            "text/plain": [
              "(500, 9)"
            ]
          },
          "metadata": {},
          "execution_count": 1447
        }
      ]
    },
    {
      "cell_type": "markdown",
      "metadata": {
        "id": "1WlexaM0gcQy"
      },
      "source": [
        "Drop all rows with NaN present as the sample/observation is incomplete and may be misleading."
      ]
    },
    {
      "cell_type": "code",
      "metadata": {
        "colab": {
          "base_uri": "https://localhost:8080/",
          "height": 0
        },
        "id": "WbRIUZNggcQy",
        "outputId": "c17bc675-0faa-4c01-88fc-58dc5ccabf78"
      },
      "source": [
        "dftest_adj.dropna(inplace=True)\n",
        "\n",
        "dftest_adj.shape"
      ],
      "execution_count": 1448,
      "outputs": [
        {
          "output_type": "execute_result",
          "data": {
            "text/plain": [
              "(444, 9)"
            ]
          },
          "metadata": {},
          "execution_count": 1448
        }
      ]
    },
    {
      "cell_type": "markdown",
      "metadata": {
        "id": "EiHIaIRXgcQz"
      },
      "source": [
        "Remove samples where there are 0 bathrooms and 0 bedrooms."
      ]
    },
    {
      "cell_type": "code",
      "metadata": {
        "colab": {
          "base_uri": "https://localhost:8080/",
          "height": 0
        },
        "id": "qCfw7IVDgcQz",
        "outputId": "6afbc0b9-8692-449e-88b7-0aa7b52b998f"
      },
      "source": [
        "dftest_adj.drop(dftest_adj[dftest_adj.beds == 0].index, inplace=True)\n",
        "\n",
        "dftest_adj.drop(dftest_adj[dftest_adj.bathrooms == 0].index, inplace=True)\n",
        "\n",
        "dftest_adj.shape"
      ],
      "execution_count": 1449,
      "outputs": [
        {
          "output_type": "execute_result",
          "data": {
            "text/plain": [
              "(440, 9)"
            ]
          },
          "metadata": {},
          "execution_count": 1449
        }
      ]
    },
    {
      "cell_type": "markdown",
      "metadata": {
        "id": "A8FjLK3FgcQ4"
      },
      "source": [
        "Convert each categorical variable ('area', 'ber_classification' & 'property_type') in turn and update dataframe. Use the same mapping as in the training dataset pre-processing."
      ]
    },
    {
      "cell_type": "markdown",
      "metadata": {
        "id": "AhTivq_e9Tei"
      },
      "source": [
        "**In the training set there is no instance of 'Kilbarrack' for the 'area' feature but in the test data there is. This subsequently will cause a 'ValueError: could not convert string to float: 'Kilbarrack'' error later in the piecewise linear regression code if not removed now.**\n",
        "\n",
        "**In the training data there is also only a single instance of 'Deansgrange' was removed in my pre-processing approach so is removed in the test data too.**"
      ]
    },
    {
      "cell_type": "code",
      "metadata": {
        "colab": {
          "base_uri": "https://localhost:8080/",
          "height": 0
        },
        "id": "x_cZtJQj6-Ae",
        "outputId": "43671be8-7a6b-43ac-d5f6-9b5f13e8e66e"
      },
      "source": [
        "# 'kilbarrack' doesn't exist in the training data but does in the test data so should be removed.\n",
        "dftest_adj.drop(dftest_adj[dftest_adj.area == 'Kilbarrack'].index, inplace=True)     # Prevents later instance of: ValueError: could not convert string to float: 'Kilbarrack'\n",
        "\n",
        "# Removing 'Deansgrange' from the test data too as it was removed in the training data pre-processing.\n",
        "dftest_adj.drop(dftest_adj[dftest_adj.area == 'Deansgrange'].index, inplace=True)     # Prevents later instance of: ValueError: could not convert string to float: 'Deansgrange'\n",
        "\n",
        "dftest_adj.shape\n",
        "\n",
        "# for each_element in dftest_adj['area']:\n",
        "\n",
        "#   print(each_element)"
      ],
      "execution_count": 1450,
      "outputs": [
        {
          "output_type": "execute_result",
          "data": {
            "text/plain": [
              "(438, 9)"
            ]
          },
          "metadata": {},
          "execution_count": 1450
        }
      ]
    },
    {
      "cell_type": "code",
      "metadata": {
        "colab": {
          "base_uri": "https://localhost:8080/",
          "height": 0
        },
        "id": "sHz7k3VdgcQ5",
        "outputId": "c377d0a6-91f9-4d3a-b1c0-1c36bd876784"
      },
      "source": [
        "print(replace_map_comp_1)\n",
        "\n",
        "dftest_adj.replace(replace_map_comp_1, inplace=True)"
      ],
      "execution_count": 1451,
      "outputs": [
        {
          "output_type": "stream",
          "name": "stdout",
          "text": [
            "{'area': {'Adamstown': 1, 'Ard Na Greine': 2, 'Artane': 3, 'Ashtown': 4, 'Balbriggan': 5, 'Baldoyle': 6, 'Balgriffin': 7, 'Ballinteer': 8, 'Ballsbridge': 9, 'Ballybough': 10, 'Ballyboughal': 11, 'Ballybrack': 12, 'Ballycullen': 13, 'Ballyfermot': 14, 'Ballymun': 15, 'Balrothery': 16, 'Beaumont': 17, 'Blackrock': 18, 'Blanchardstown': 19, 'Bluebell': 20, 'Booterstown': 21, 'Brittas': 22, 'Cabinteely': 23, 'Cabra': 24, 'Carrickmines': 25, 'Castleknock': 26, 'Chapelizod': 27, 'Christchurch': 28, 'Churchtown': 29, 'Citywest': 30, 'Clarehall': 31, 'Clondalkin': 32, 'Clonee': 33, 'Clongriffin': 34, 'Clonshaugh': 35, 'Clonsilla': 36, 'Clonskeagh': 37, 'Clontarf': 38, 'Coolock': 39, 'Crumlin': 40, 'Dalkey': 41, 'Darndale': 42, 'Dartry': 43, 'Donabate': 44, 'Donaghmede': 45, 'Donnybrook': 46, 'Donnycarney': 47, 'Drimnagh': 48, 'Drumcondra': 49, 'Dublin 1': 50, 'Dublin 2': 51, 'Dublin 4': 52, 'Dublin 7': 53, 'Dublin 8': 54, 'Dun Laoghaire': 55, 'Dundrum': 56, 'East Wall': 57, 'Edenmore': 58, 'Fairview': 59, 'Finglas': 60, 'Firhouse': 61, 'Foxrock': 62, 'Garristown': 63, 'Glasnevin': 64, 'Glenageary': 65, 'Goatstown': 66, 'Grand Canal Dock': 67, 'Greenhills': 68, \"Harold's Cross\": 69, 'Howth': 70, 'IFSC': 71, 'Inchicore': 72, 'Irishtown': 73, 'Islandbridge': 74, 'Killester': 75, 'Killiney': 76, 'Kilmacud': 77, 'Kilmainham': 78, 'Kilmore': 79, 'Kilnamanagh': 80, 'Kilternan': 81, 'Kiltipper': 82, 'Kimmage': 83, 'Kingswood': 84, 'Kinsealy': 85, 'Knocklyon': 86, 'Leopardstown': 87, 'Loughlinstown': 88, 'Loughshinny': 89, 'Lucan': 90, 'Lusk': 91, 'Malahide': 92, 'Marino': 93, 'Milltown': 94, 'Monkstown': 95, 'Mount Merrion': 96, 'Mulhuddart': 97, 'Naul': 98, 'Navan Road (D7)': 99, 'Newcastle': 100, 'North Circular Road': 101, 'North Strand': 102, 'Oldbawn': 103, 'Ongar': 104, 'Palmerstown': 105, 'Park West': 106, 'Perrystown': 107, 'Phibsborough': 108, 'Portmarnock': 109, 'Portobello': 110, 'Raheny': 111, 'Ranelagh': 112, 'Rathcoole': 113, 'Rathfarnham': 114, 'Rathgar': 115, 'Rathmichael': 116, 'Rathmines': 117, 'Rialto': 118, 'Ringsend': 119, 'Rush': 120, 'Saggart': 121, 'Sallynoggin': 122, 'Sandycove': 123, 'Sandyford': 124, 'Sandymount': 125, 'Santry': 126, 'Shankill': 127, 'Skerries': 128, 'Smithfield': 129, 'South Circular Road': 130, 'Stepaside': 131, 'Stoneybatter': 132, 'Sutton': 133, 'Swords': 134, 'Tallaght': 135, 'Temple Bar': 136, 'Templeogue': 137, 'Terenure': 138, 'The Coombe': 139, 'The Ward': 140, 'Tyrrelstown': 141, 'Walkinstown': 142, 'Whitehall': 143, 'Windy Arbour': 144}}\n"
          ]
        }
      ]
    },
    {
      "cell_type": "code",
      "metadata": {
        "colab": {
          "base_uri": "https://localhost:8080/",
          "height": 0
        },
        "id": "r4CR1TwMgcQ5",
        "outputId": "518e8987-aafc-46cf-acc8-2bf6632609e6"
      },
      "source": [
        "print(replace_map_comp_2)\n",
        "\n",
        "dftest_adj.replace(replace_map_comp_2, inplace=True)"
      ],
      "execution_count": 1452,
      "outputs": [
        {
          "output_type": "stream",
          "name": "stdout",
          "text": [
            "{'ber_classification': {'A1': 1, 'A2': 2, 'A3': 3, 'B1': 4, 'B2': 5, 'B3': 6, 'C1': 7, 'C2': 8, 'C3': 9, 'D1': 10, 'D2': 11, 'E1': 12, 'E2': 13, 'F': 14, 'G': 15, 'SINo666of2006exempt': 16}}\n"
          ]
        }
      ]
    },
    {
      "cell_type": "code",
      "metadata": {
        "colab": {
          "base_uri": "https://localhost:8080/",
          "height": 0
        },
        "id": "rRjBR-pNgcQ6",
        "outputId": "b31a69e9-305e-4306-f152-f19626b29adb"
      },
      "source": [
        "print(replace_map_comp_3)\n",
        "\n",
        "dftest_adj.replace(replace_map_comp_3, inplace=True)"
      ],
      "execution_count": 1453,
      "outputs": [
        {
          "output_type": "stream",
          "name": "stdout",
          "text": [
            "{'property_type': {'apartment': 1, 'bungalow': 2, 'detached': 3, 'duplex': 4, 'end-of-terrace': 5, 'semi-detached': 6, 'site': 7, 'studio': 8, 'terraced': 9, 'townhouse': 10}}\n"
          ]
        }
      ]
    },
    {
      "cell_type": "code",
      "metadata": {
        "colab": {
          "base_uri": "https://localhost:8080/",
          "height": 206
        },
        "id": "BrKCC8f0gcQ6",
        "outputId": "cd89eefa-ee07-4522-9a4f-7031a3678a5c"
      },
      "source": [
        "dftest_adj.head()"
      ],
      "execution_count": 1454,
      "outputs": [
        {
          "output_type": "execute_result",
          "data": {
            "text/html": [
              "<div>\n",
              "<style scoped>\n",
              "    .dataframe tbody tr th:only-of-type {\n",
              "        vertical-align: middle;\n",
              "    }\n",
              "\n",
              "    .dataframe tbody tr th {\n",
              "        vertical-align: top;\n",
              "    }\n",
              "\n",
              "    .dataframe thead th {\n",
              "        text-align: right;\n",
              "    }\n",
              "</style>\n",
              "<table border=\"1\" class=\"dataframe\">\n",
              "  <thead>\n",
              "    <tr style=\"text-align: right;\">\n",
              "      <th></th>\n",
              "      <th>area</th>\n",
              "      <th>bathrooms</th>\n",
              "      <th>beds</th>\n",
              "      <th>ber_classification</th>\n",
              "      <th>latitude</th>\n",
              "      <th>longitude</th>\n",
              "      <th>property_type</th>\n",
              "      <th>surface</th>\n",
              "      <th>Expected</th>\n",
              "    </tr>\n",
              "  </thead>\n",
              "  <tbody>\n",
              "    <tr>\n",
              "      <th>0</th>\n",
              "      <td>128</td>\n",
              "      <td>2.0</td>\n",
              "      <td>4.0</td>\n",
              "      <td>15</td>\n",
              "      <td>53.566881</td>\n",
              "      <td>-6.101148</td>\n",
              "      <td>2</td>\n",
              "      <td>142.0</td>\n",
              "      <td>875000.0</td>\n",
              "    </tr>\n",
              "    <tr>\n",
              "      <th>1</th>\n",
              "      <td>90</td>\n",
              "      <td>2.0</td>\n",
              "      <td>3.0</td>\n",
              "      <td>7</td>\n",
              "      <td>53.362992</td>\n",
              "      <td>-6.452909</td>\n",
              "      <td>9</td>\n",
              "      <td>114.0</td>\n",
              "      <td>355000.0</td>\n",
              "    </tr>\n",
              "    <tr>\n",
              "      <th>2</th>\n",
              "      <td>134</td>\n",
              "      <td>3.0</td>\n",
              "      <td>4.0</td>\n",
              "      <td>6</td>\n",
              "      <td>53.454198</td>\n",
              "      <td>-6.262964</td>\n",
              "      <td>6</td>\n",
              "      <td>172.0</td>\n",
              "      <td>440000.0</td>\n",
              "    </tr>\n",
              "    <tr>\n",
              "      <th>3</th>\n",
              "      <td>90</td>\n",
              "      <td>4.0</td>\n",
              "      <td>3.0</td>\n",
              "      <td>3</td>\n",
              "      <td>53.354402</td>\n",
              "      <td>-6.458647</td>\n",
              "      <td>6</td>\n",
              "      <td>132.4</td>\n",
              "      <td>425000.0</td>\n",
              "    </tr>\n",
              "    <tr>\n",
              "      <th>4</th>\n",
              "      <td>32</td>\n",
              "      <td>1.0</td>\n",
              "      <td>3.0</td>\n",
              "      <td>13</td>\n",
              "      <td>53.336530</td>\n",
              "      <td>-6.393587</td>\n",
              "      <td>6</td>\n",
              "      <td>88.0</td>\n",
              "      <td>265000.0</td>\n",
              "    </tr>\n",
              "  </tbody>\n",
              "</table>\n",
              "</div>"
            ],
            "text/plain": [
              "   area  bathrooms  beds  ...  property_type  surface  Expected\n",
              "0   128        2.0   4.0  ...              2    142.0  875000.0\n",
              "1    90        2.0   3.0  ...              9    114.0  355000.0\n",
              "2   134        3.0   4.0  ...              6    172.0  440000.0\n",
              "3    90        4.0   3.0  ...              6    132.4  425000.0\n",
              "4    32        1.0   3.0  ...              6     88.0  265000.0\n",
              "\n",
              "[5 rows x 9 columns]"
            ]
          },
          "metadata": {},
          "execution_count": 1454
        }
      ]
    },
    {
      "cell_type": "code",
      "metadata": {
        "colab": {
          "base_uri": "https://localhost:8080/",
          "height": 0
        },
        "id": "EStlNL7mgcQ6",
        "outputId": "1d41d02d-0ee8-4ce6-cee1-d032de10340e"
      },
      "source": [
        "dftest_adj.shape"
      ],
      "execution_count": 1455,
      "outputs": [
        {
          "output_type": "execute_result",
          "data": {
            "text/plain": [
              "(438, 9)"
            ]
          },
          "metadata": {},
          "execution_count": 1455
        }
      ]
    },
    {
      "cell_type": "markdown",
      "metadata": {
        "id": "ctQfEMa7eaar"
      },
      "source": [
        "Cycle through each feature in the training data set and remove data points that are deemed outliers i.e. data points that fall outside the IQR (Interquartile Range). I adapted code by Brownlee (2018) to help assess outliers in the data."
      ]
    },
    {
      "cell_type": "code",
      "metadata": {
        "colab": {
          "base_uri": "https://localhost:8080/",
          "height": 0
        },
        "id": "OuCLg0IHeaas",
        "outputId": "261da47b-415e-4bc6-acd2-e36c354e332a"
      },
      "source": [
        "# Adapted from https://machinelearningmastery.com/how-to-use-statistics-to-identify-outliers-in-data/\n",
        "\n",
        "for each_feature in dftest_adj:\n",
        "\n",
        "  data = dftest_adj[each_feature]\n",
        "\n",
        "  # Calculate IQR (Interquartile Range).\n",
        "  q25, q75 = np.percentile(data, 25), np.percentile(data, 75)\n",
        "  iqr = q75 - q25\n",
        "\n",
        "  # Calculate the outlier cut-off.\n",
        "  cut_off = iqr * 1.5\n",
        "  lower, upper = q25 - cut_off, q75 + cut_off\n",
        "\n",
        "  # Identify outliers.\n",
        "\n",
        "  index_list = []\n",
        "  outliers_list = []\n",
        "\n",
        "  index_counter = -1\n",
        "\n",
        "  for each_element in data:\n",
        "\n",
        "    index_counter += 1\n",
        "\n",
        "    if each_element < lower or each_element > upper:\n",
        "\n",
        "      outliers_list.append(each_element)\n",
        "      \n",
        "      index_list.append(index_counter)\n",
        "\n",
        "  # print(each_feature)\n",
        "  # print(len(data))\n",
        "  # print(outliers_list)\n",
        "  # print(index_list)\n",
        "  print('Number of outliers in ', each_feature, ': ', len(index_list))\n",
        "  # print('\\n')\n",
        "\n",
        "  dftest_adj.drop(dftest_adj[dftest_adj[each_feature].isin(outliers_list)].index, inplace=True)\n",
        "  #dftest_adj.shape \n"
      ],
      "execution_count": 1457,
      "outputs": [
        {
          "output_type": "stream",
          "name": "stdout",
          "text": [
            "Number of outliers in  area :  0\n",
            "Number of outliers in  bathrooms :  1\n",
            "Number of outliers in  beds :  0\n",
            "Number of outliers in  ber_classification :  0\n",
            "Number of outliers in  latitude :  37\n",
            "Number of outliers in  longitude :  3\n",
            "Number of outliers in  property_type :  0\n",
            "Number of outliers in  surface :  26\n",
            "Number of outliers in  Expected :  18\n"
          ]
        }
      ]
    },
    {
      "cell_type": "markdown",
      "metadata": {
        "id": "XIWQyTouznIv"
      },
      "source": [
        "New shape of the test data after outliers are removed."
      ]
    },
    {
      "cell_type": "code",
      "metadata": {
        "colab": {
          "base_uri": "https://localhost:8080/",
          "height": 0
        },
        "id": "-Uo8VImJeaas",
        "outputId": "fb035ada-46ba-49ac-9201-457a815f6815"
      },
      "source": [
        "dftest_adj.shape"
      ],
      "execution_count": 1458,
      "outputs": [
        {
          "output_type": "execute_result",
          "data": {
            "text/plain": [
              "(353, 9)"
            ]
          },
          "metadata": {},
          "execution_count": 1458
        }
      ]
    },
    {
      "cell_type": "markdown",
      "metadata": {
        "id": "jCvKaaoegcQ7"
      },
      "source": [
        "Now all test features are now numeric. There are 9 remaining features (which includes the target 'price')."
      ]
    },
    {
      "cell_type": "markdown",
      "metadata": {
        "id": "UjMH1CSEUA1A"
      },
      "source": [
        "### Expected Cost dataset"
      ]
    },
    {
      "cell_type": "code",
      "metadata": {
        "colab": {
          "base_uri": "https://localhost:8080/",
          "height": 0
        },
        "id": "mVYR6nm-orLU",
        "outputId": "77b2e5ee-ec77-4b82-8d21-062c6ad61bde"
      },
      "source": [
        "cost_data = [dftest_adj['Expected']]\n",
        "\n",
        "header_name = ['cost']    # ['Expected']\n",
        "\n",
        "dfcost_adj = pd.concat(cost_data, axis=1, keys=header_name)\n",
        "\n",
        "dftest_adj.drop(columns='Expected', inplace=True)\n",
        "\n",
        "dfcost_adj.shape"
      ],
      "execution_count": 1460,
      "outputs": [
        {
          "output_type": "execute_result",
          "data": {
            "text/plain": [
              "(353, 1)"
            ]
          },
          "metadata": {},
          "execution_count": 1460
        }
      ]
    },
    {
      "cell_type": "code",
      "metadata": {
        "colab": {
          "base_uri": "https://localhost:8080/",
          "height": 0
        },
        "id": "uccElmxroq7r",
        "outputId": "6dfdd60e-af2b-4049-c8ee-5a96604efd9f"
      },
      "source": [
        "dftest_adj.shape"
      ],
      "execution_count": 1461,
      "outputs": [
        {
          "output_type": "execute_result",
          "data": {
            "text/plain": [
              "(353, 8)"
            ]
          },
          "metadata": {},
          "execution_count": 1461
        }
      ]
    },
    {
      "cell_type": "code",
      "metadata": {
        "colab": {
          "base_uri": "https://localhost:8080/",
          "height": 206
        },
        "id": "cW-Ppw_Fg-xd",
        "outputId": "de281789-e4c7-4b92-c4d9-a47f95aed482"
      },
      "source": [
        "# Show first data frame rows.\n",
        "dfcost_adj.head()"
      ],
      "execution_count": 1462,
      "outputs": [
        {
          "output_type": "execute_result",
          "data": {
            "text/html": [
              "<div>\n",
              "<style scoped>\n",
              "    .dataframe tbody tr th:only-of-type {\n",
              "        vertical-align: middle;\n",
              "    }\n",
              "\n",
              "    .dataframe tbody tr th {\n",
              "        vertical-align: top;\n",
              "    }\n",
              "\n",
              "    .dataframe thead th {\n",
              "        text-align: right;\n",
              "    }\n",
              "</style>\n",
              "<table border=\"1\" class=\"dataframe\">\n",
              "  <thead>\n",
              "    <tr style=\"text-align: right;\">\n",
              "      <th></th>\n",
              "      <th>cost</th>\n",
              "    </tr>\n",
              "  </thead>\n",
              "  <tbody>\n",
              "    <tr>\n",
              "      <th>1</th>\n",
              "      <td>355000.0</td>\n",
              "    </tr>\n",
              "    <tr>\n",
              "      <th>2</th>\n",
              "      <td>440000.0</td>\n",
              "    </tr>\n",
              "    <tr>\n",
              "      <th>3</th>\n",
              "      <td>425000.0</td>\n",
              "    </tr>\n",
              "    <tr>\n",
              "      <th>4</th>\n",
              "      <td>265000.0</td>\n",
              "    </tr>\n",
              "    <tr>\n",
              "      <th>5</th>\n",
              "      <td>370000.0</td>\n",
              "    </tr>\n",
              "  </tbody>\n",
              "</table>\n",
              "</div>"
            ],
            "text/plain": [
              "       cost\n",
              "1  355000.0\n",
              "2  440000.0\n",
              "3  425000.0\n",
              "4  265000.0\n",
              "5  370000.0"
            ]
          },
          "metadata": {},
          "execution_count": 1462
        }
      ]
    },
    {
      "cell_type": "code",
      "metadata": {
        "id": "7p63sCZeUNx3",
        "colab": {
          "base_uri": "https://localhost:8080/",
          "height": 300
        },
        "outputId": "a5b83bd6-c2c1-483f-d7bb-a006ce4b398f"
      },
      "source": [
        "# Generate descriptive statistics.\n",
        "dfcost_adj.describe()"
      ],
      "execution_count": 1463,
      "outputs": [
        {
          "output_type": "execute_result",
          "data": {
            "text/html": [
              "<div>\n",
              "<style scoped>\n",
              "    .dataframe tbody tr th:only-of-type {\n",
              "        vertical-align: middle;\n",
              "    }\n",
              "\n",
              "    .dataframe tbody tr th {\n",
              "        vertical-align: top;\n",
              "    }\n",
              "\n",
              "    .dataframe thead th {\n",
              "        text-align: right;\n",
              "    }\n",
              "</style>\n",
              "<table border=\"1\" class=\"dataframe\">\n",
              "  <thead>\n",
              "    <tr style=\"text-align: right;\">\n",
              "      <th></th>\n",
              "      <th>cost</th>\n",
              "    </tr>\n",
              "  </thead>\n",
              "  <tbody>\n",
              "    <tr>\n",
              "      <th>count</th>\n",
              "      <td>353.00000</td>\n",
              "    </tr>\n",
              "    <tr>\n",
              "      <th>mean</th>\n",
              "      <td>432883.98017</td>\n",
              "    </tr>\n",
              "    <tr>\n",
              "      <th>std</th>\n",
              "      <td>174639.50736</td>\n",
              "    </tr>\n",
              "    <tr>\n",
              "      <th>min</th>\n",
              "      <td>125000.00000</td>\n",
              "    </tr>\n",
              "    <tr>\n",
              "      <th>25%</th>\n",
              "      <td>295000.00000</td>\n",
              "    </tr>\n",
              "    <tr>\n",
              "      <th>50%</th>\n",
              "      <td>385000.00000</td>\n",
              "    </tr>\n",
              "    <tr>\n",
              "      <th>75%</th>\n",
              "      <td>545000.00000</td>\n",
              "    </tr>\n",
              "    <tr>\n",
              "      <th>max</th>\n",
              "      <td>950000.00000</td>\n",
              "    </tr>\n",
              "  </tbody>\n",
              "</table>\n",
              "</div>"
            ],
            "text/plain": [
              "               cost\n",
              "count     353.00000\n",
              "mean   432883.98017\n",
              "std    174639.50736\n",
              "min    125000.00000\n",
              "25%    295000.00000\n",
              "50%    385000.00000\n",
              "75%    545000.00000\n",
              "max    950000.00000"
            ]
          },
          "metadata": {},
          "execution_count": 1463
        }
      ]
    },
    {
      "cell_type": "markdown",
      "metadata": {
        "id": "bJFJQxAS9HZK"
      },
      "source": [
        "# PIECEWISE REGRESSION"
      ]
    },
    {
      "cell_type": "markdown",
      "metadata": {
        "id": "uQ_1QsLToIDi"
      },
      "source": [
        "## Full Model"
      ]
    },
    {
      "cell_type": "code",
      "metadata": {
        "id": "WjPvBjyEuvQY"
      },
      "source": [
        "# select some features columns just for the baseline model\n",
        "# assume not all of the features are informative or useful\n",
        "# in this exercise you could try all of them if possible\n",
        "\n",
        "featrain = ['area',\t'bathrooms',\t'beds',\t'ber_classification',\t\\\n",
        "            'latitude',\t'longitude', 'property_type',\t'surface', 'price']\n",
        "# dropna: remove missing values\n",
        "df_subset_train = dftrain_adj[featrain].dropna(axis=0)\n",
        "\n",
        "featest = ['area',\t'bathrooms',\t'beds',\t'ber_classification',\t\\\n",
        "           'latitude',\t'longitude',\t'property_type',\t'surface']\n",
        "df_subset_test  =  dftest_adj[featest].dropna(axis=0)\n",
        "\n",
        "# cost\n",
        "df_cost = dfcost_adj[dfcost_adj.index.isin(df_subset_test.index)]"
      ],
      "execution_count": 1464,
      "outputs": []
    },
    {
      "cell_type": "code",
      "metadata": {
        "id": "7ulbUQe1xb58"
      },
      "source": [
        "# train set, input columns\n",
        "Xs_train = df_subset_train.iloc[:,0:-1].values \n",
        "# train set, output column, cost\n",
        "ys_train = df_subset_train.iloc[:,-1].values.reshape(-1,1)   \n",
        "\n",
        "# test set, input columns\n",
        "Xs_test = df_subset_test.iloc[:,0:].values \n",
        "# test set, output column, cost\n",
        "y_test = df_cost.cost.values"
      ],
      "execution_count": 1465,
      "outputs": []
    },
    {
      "cell_type": "code",
      "metadata": {
        "colab": {
          "base_uri": "https://localhost:8080/",
          "height": 423
        },
        "id": "QWkQJFTN3vMU",
        "outputId": "531a9511-6c8b-4e00-9f95-9c6134cc97e1"
      },
      "source": [
        "df_subset_test"
      ],
      "execution_count": 1466,
      "outputs": [
        {
          "output_type": "execute_result",
          "data": {
            "text/html": [
              "<div>\n",
              "<style scoped>\n",
              "    .dataframe tbody tr th:only-of-type {\n",
              "        vertical-align: middle;\n",
              "    }\n",
              "\n",
              "    .dataframe tbody tr th {\n",
              "        vertical-align: top;\n",
              "    }\n",
              "\n",
              "    .dataframe thead th {\n",
              "        text-align: right;\n",
              "    }\n",
              "</style>\n",
              "<table border=\"1\" class=\"dataframe\">\n",
              "  <thead>\n",
              "    <tr style=\"text-align: right;\">\n",
              "      <th></th>\n",
              "      <th>area</th>\n",
              "      <th>bathrooms</th>\n",
              "      <th>beds</th>\n",
              "      <th>ber_classification</th>\n",
              "      <th>latitude</th>\n",
              "      <th>longitude</th>\n",
              "      <th>property_type</th>\n",
              "      <th>surface</th>\n",
              "    </tr>\n",
              "  </thead>\n",
              "  <tbody>\n",
              "    <tr>\n",
              "      <th>1</th>\n",
              "      <td>90</td>\n",
              "      <td>2.0</td>\n",
              "      <td>3.0</td>\n",
              "      <td>7</td>\n",
              "      <td>53.362992</td>\n",
              "      <td>-6.452909</td>\n",
              "      <td>9</td>\n",
              "      <td>114.0</td>\n",
              "    </tr>\n",
              "    <tr>\n",
              "      <th>2</th>\n",
              "      <td>134</td>\n",
              "      <td>3.0</td>\n",
              "      <td>4.0</td>\n",
              "      <td>6</td>\n",
              "      <td>53.454198</td>\n",
              "      <td>-6.262964</td>\n",
              "      <td>6</td>\n",
              "      <td>172.0</td>\n",
              "    </tr>\n",
              "    <tr>\n",
              "      <th>3</th>\n",
              "      <td>90</td>\n",
              "      <td>4.0</td>\n",
              "      <td>3.0</td>\n",
              "      <td>3</td>\n",
              "      <td>53.354402</td>\n",
              "      <td>-6.458647</td>\n",
              "      <td>6</td>\n",
              "      <td>132.4</td>\n",
              "    </tr>\n",
              "    <tr>\n",
              "      <th>4</th>\n",
              "      <td>32</td>\n",
              "      <td>1.0</td>\n",
              "      <td>3.0</td>\n",
              "      <td>13</td>\n",
              "      <td>53.336530</td>\n",
              "      <td>-6.393587</td>\n",
              "      <td>6</td>\n",
              "      <td>88.0</td>\n",
              "    </tr>\n",
              "    <tr>\n",
              "      <th>5</th>\n",
              "      <td>111</td>\n",
              "      <td>2.0</td>\n",
              "      <td>3.0</td>\n",
              "      <td>9</td>\n",
              "      <td>53.388876</td>\n",
              "      <td>-6.190721</td>\n",
              "      <td>6</td>\n",
              "      <td>98.0</td>\n",
              "    </tr>\n",
              "    <tr>\n",
              "      <th>...</th>\n",
              "      <td>...</td>\n",
              "      <td>...</td>\n",
              "      <td>...</td>\n",
              "      <td>...</td>\n",
              "      <td>...</td>\n",
              "      <td>...</td>\n",
              "      <td>...</td>\n",
              "      <td>...</td>\n",
              "    </tr>\n",
              "    <tr>\n",
              "      <th>494</th>\n",
              "      <td>9</td>\n",
              "      <td>2.0</td>\n",
              "      <td>3.0</td>\n",
              "      <td>10</td>\n",
              "      <td>53.327531</td>\n",
              "      <td>-6.238508</td>\n",
              "      <td>1</td>\n",
              "      <td>116.6</td>\n",
              "    </tr>\n",
              "    <tr>\n",
              "      <th>496</th>\n",
              "      <td>23</td>\n",
              "      <td>3.0</td>\n",
              "      <td>5.0</td>\n",
              "      <td>12</td>\n",
              "      <td>53.261475</td>\n",
              "      <td>-6.147720</td>\n",
              "      <td>3</td>\n",
              "      <td>191.3</td>\n",
              "    </tr>\n",
              "    <tr>\n",
              "      <th>497</th>\n",
              "      <td>3</td>\n",
              "      <td>1.0</td>\n",
              "      <td>3.0</td>\n",
              "      <td>15</td>\n",
              "      <td>53.391619</td>\n",
              "      <td>-6.205157</td>\n",
              "      <td>3</td>\n",
              "      <td>105.0</td>\n",
              "    </tr>\n",
              "    <tr>\n",
              "      <th>498</th>\n",
              "      <td>38</td>\n",
              "      <td>2.0</td>\n",
              "      <td>4.0</td>\n",
              "      <td>13</td>\n",
              "      <td>53.360578</td>\n",
              "      <td>-6.183701</td>\n",
              "      <td>5</td>\n",
              "      <td>130.0</td>\n",
              "    </tr>\n",
              "    <tr>\n",
              "      <th>499</th>\n",
              "      <td>49</td>\n",
              "      <td>2.0</td>\n",
              "      <td>2.0</td>\n",
              "      <td>7</td>\n",
              "      <td>53.366827</td>\n",
              "      <td>-6.248329</td>\n",
              "      <td>1</td>\n",
              "      <td>71.0</td>\n",
              "    </tr>\n",
              "  </tbody>\n",
              "</table>\n",
              "<p>353 rows × 8 columns</p>\n",
              "</div>"
            ],
            "text/plain": [
              "     area  bathrooms  beds  ...  longitude  property_type  surface\n",
              "1      90        2.0   3.0  ...  -6.452909              9    114.0\n",
              "2     134        3.0   4.0  ...  -6.262964              6    172.0\n",
              "3      90        4.0   3.0  ...  -6.458647              6    132.4\n",
              "4      32        1.0   3.0  ...  -6.393587              6     88.0\n",
              "5     111        2.0   3.0  ...  -6.190721              6     98.0\n",
              "..    ...        ...   ...  ...        ...            ...      ...\n",
              "494     9        2.0   3.0  ...  -6.238508              1    116.6\n",
              "496    23        3.0   5.0  ...  -6.147720              3    191.3\n",
              "497     3        1.0   3.0  ...  -6.205157              3    105.0\n",
              "498    38        2.0   4.0  ...  -6.183701              5    130.0\n",
              "499    49        2.0   2.0  ...  -6.248329              1     71.0\n",
              "\n",
              "[353 rows x 8 columns]"
            ]
          },
          "metadata": {},
          "execution_count": 1466
        }
      ]
    },
    {
      "cell_type": "code",
      "metadata": {
        "id": "kx7sjMi0TZ-G"
      },
      "source": [
        "# StandardScaler() will normalize the features i.e. each column of X, \n",
        "# so, each column/feature/variable will have μ = 0 and σ = 1\n",
        "sc = StandardScaler()\n",
        "\n",
        "Xss_train = np.hstack([Xs_train,Xs_train[:,[2]]**2])\n",
        "#Xss_train = Xs_train.copy()\n",
        "xscaler = sc.fit(Xss_train)\n",
        "Xn_train = xscaler.transform(Xss_train)\n",
        "\n",
        "Xss_test = np.hstack([Xs_test,Xs_test[:,[2]]**2])\n",
        "#Xss_test = Xs_test.copy()\n",
        "Xn_test = xscaler.transform(Xss_test)\n",
        "\n",
        "ylog = np.log(ys_train.astype('float'))\n",
        "yscaler = StandardScaler().fit(ylog)\n",
        "yn_train = yscaler.transform(ylog)"
      ],
      "execution_count": 1467,
      "outputs": []
    },
    {
      "cell_type": "code",
      "metadata": {
        "id": "PZK2kfygoIDi"
      },
      "source": [
        "# model\n",
        "with pm.Model() as model:\n",
        "    #prior over the parameters of linear regression\n",
        "    alpha = pm.Normal('alpha', mu=0, sigma=30)\n",
        "    #we have one beta for each column of Xn\n",
        "    beta = pm.Normal('beta', mu=0, sigma=30, shape=Xn_train.shape[1])\n",
        "    #prior over the variance of the noise\n",
        "    sigma = pm.HalfCauchy('sigma_n', 5)\n",
        "    #linear regression model in matrix form\n",
        "    mu = alpha + pm.math.dot(beta, Xn_train.T)\n",
        "    #likelihood, be sure that observed is a 1d vector\n",
        "    like = pm.Normal('like', mu=mu, sigma=sigma, observed=yn_train[:,0])\n",
        "    "
      ],
      "execution_count": 1468,
      "outputs": []
    },
    {
      "cell_type": "code",
      "metadata": {
        "id": "5AZgLW40oIDi",
        "colab": {
          "base_uri": "https://localhost:8080/",
          "height": 302
        },
        "outputId": "366a8084-b27b-4f9d-a48e-83dbc49db85e"
      },
      "source": [
        "#number of iterations of the algorithms\n",
        "iter = 50000 \n",
        "\n",
        "# run the model\n",
        "with model:\n",
        "    approximation = pm.fit(iter,method='advi')\n",
        "    \n",
        "# check the convergence\n",
        "plt.plot(approximation.hist);"
      ],
      "execution_count": 1469,
      "outputs": [
        {
          "output_type": "display_data",
          "data": {
            "text/html": [
              "\n",
              "    <div>\n",
              "        <style>\n",
              "            /* Turns off some styling */\n",
              "            progress {\n",
              "                /* gets rid of default border in Firefox and Opera. */\n",
              "                border: none;\n",
              "                /* Needs to be in here for Safari polyfill so background images work as expected. */\n",
              "                background-size: auto;\n",
              "            }\n",
              "            .progress-bar-interrupted, .progress-bar-interrupted::-webkit-progress-bar {\n",
              "                background: #F44336;\n",
              "            }\n",
              "        </style>\n",
              "      <progress value='50000' class='' max='50000' style='width:300px; height:20px; vertical-align: middle;'></progress>\n",
              "      100.00% [50000/50000 00:13<00:00 Average Loss = 1,505.2]\n",
              "    </div>\n",
              "    "
            ],
            "text/plain": [
              "<IPython.core.display.HTML object>"
            ]
          },
          "metadata": {}
        },
        {
          "output_type": "stream",
          "name": "stderr",
          "text": [
            "Finished [100%]: Average Loss = 1,505.2\n"
          ]
        },
        {
          "output_type": "display_data",
          "data": {
            "image/png": "[encoded data removed]",
            "text/plain": [
              "<Figure size 432x288 with 1 Axes>"
            ]
          },
          "metadata": {
            "needs_background": "light"
          }
        }
      ]
    },
    {
      "cell_type": "code",
      "metadata": {
        "id": "_7K8CnQDoIDj"
      },
      "source": [
        "# samples from the posterior\n",
        "posterior = approximation.sample(5000)"
      ],
      "execution_count": 1470,
      "outputs": []
    },
    {
      "cell_type": "markdown",
      "metadata": {
        "id": "dLCo9mmw9dTk"
      },
      "source": [
        "Evaluate MAP (Mean Absolute Error) and MAPE (Mean Absolute Percentage Error)."
      ]
    },
    {
      "cell_type": "code",
      "metadata": {
        "id": "cIskuS3ToIDk",
        "colab": {
          "base_uri": "https://localhost:8080/",
          "height": 0
        },
        "outputId": "a1f4a9d4-a5bb-4671-baff-fe91a782c78e"
      },
      "source": [
        "# prediction\n",
        "ll=np.mean(posterior['alpha']) + np.dot(np.mean(posterior['beta'],axis=0), Xn_test.T)\n",
        "y_pred_BLR = np.exp(yscaler.inverse_transform(ll.reshape(-1,1)))[:,0]\n",
        "print(\"MAE = \",(np.mean(abs(y_pred_BLR - y_test))))\n",
        "print(\"MAPE = \",(np.mean(abs(y_pred_BLR - y_test) / y_test)))"
      ],
      "execution_count": 1471,
      "outputs": [
        {
          "output_type": "stream",
          "name": "stdout",
          "text": [
            "MAE =  80353.95571143883\n",
            "MAPE =  0.182862209254206\n"
          ]
        }
      ]
    },
    {
      "cell_type": "markdown",
      "metadata": {
        "id": "q_jBBKvtoIDk"
      },
      "source": [
        "## Clustering"
      ]
    },
    {
      "cell_type": "markdown",
      "metadata": {
        "id": "VYFvbgYDaEOS"
      },
      "source": [
        "### Full Model"
      ]
    },
    {
      "cell_type": "code",
      "metadata": {
        "colab": {
          "base_uri": "https://localhost:8080/",
          "height": 282
        },
        "id": "UOGvmepjDWOv",
        "outputId": "140e278f-34ad-486c-e03f-6a1dce38116a"
      },
      "source": [
        "# training gaussian mixture model \n",
        "from sklearn.mixture import GaussianMixture\n",
        "\n",
        "gmm = GaussianMixture(n_components=4)\n",
        "\n",
        "# Choosing features 4 & 5 which relate to longitude and latitude.\n",
        "ind=[4,5]\n",
        "\n",
        "X_ind = np.vstack([Xn_train[:,ind],Xn_test[:,ind]])\n",
        "# Gaussian Mixture\n",
        "gmm.fit(X_ind)\n",
        "# plot blue dots\n",
        "plt.scatter(X_ind[:,0],X_ind[:,1])\n",
        "# centroids:  orange dots\n",
        "plt.scatter(gmm.means_[:,0],gmm.means_[:,1])"
      ],
      "execution_count": 1472,
      "outputs": [
        {
          "output_type": "execute_result",
          "data": {
            "text/plain": [
              "<matplotlib.collections.PathCollection at 0x7f4348571cd0>"
            ]
          },
          "metadata": {},
          "execution_count": 1472
        },
        {
          "output_type": "display_data",
          "data": {
            "image/png": "[encoded data removed]",
            "text/plain": [
              "<Figure size 432x288 with 1 Axes>"
            ]
          },
          "metadata": {
            "needs_background": "light"
          }
        }
      ]
    },
    {
      "cell_type": "code",
      "metadata": {
        "colab": {
          "base_uri": "https://localhost:8080/",
          "height": 0
        },
        "id": "mNxC5zMRN78U",
        "outputId": "8bea5c81-c960-4ca6-8269-54cb80a23568"
      },
      "source": [
        "np.max(ys_train)"
      ],
      "execution_count": 1473,
      "outputs": [
        {
          "output_type": "execute_result",
          "data": {
            "text/plain": [
              "1100000.0"
            ]
          },
          "metadata": {},
          "execution_count": 1473
        }
      ]
    },
    {
      "cell_type": "markdown",
      "metadata": {
        "id": "h51OhBV5Z4tY"
      },
      "source": [
        "### Clusters"
      ]
    },
    {
      "cell_type": "code",
      "metadata": {
        "colab": {
          "base_uri": "https://localhost:8080/",
          "height": 0
        },
        "id": "h_n9geIKFBQi",
        "outputId": "0e6d95be-f964-4b0d-e34c-52cda607c3ac"
      },
      "source": [
        "# train clusters\n",
        "clusters_train = gmm.predict(Xn_train[:,ind])\n",
        "unique_train, counts_train = np.unique(clusters_train, return_counts=True)\n",
        "dict(zip(unique_train, counts_train))\n"
      ],
      "execution_count": 1474,
      "outputs": [
        {
          "output_type": "execute_result",
          "data": {
            "text/plain": [
              "{0: 667, 1: 441, 2: 300, 3: 276}"
            ]
          },
          "metadata": {},
          "execution_count": 1474
        }
      ]
    },
    {
      "cell_type": "code",
      "metadata": {
        "colab": {
          "base_uri": "https://localhost:8080/",
          "height": 0
        },
        "id": "oMT7a00GFBQo",
        "outputId": "107b4c7b-3a5f-4be0-9dd8-3b88caa6613b"
      },
      "source": [
        "# test clusters\n",
        "clusters_test = gmm.predict(Xn_test[:,ind])\n",
        "unique_test, counts_test = np.unique(clusters_test, return_counts=True)\n",
        "dict(zip(unique_test, counts_test))"
      ],
      "execution_count": 1475,
      "outputs": [
        {
          "output_type": "execute_result",
          "data": {
            "text/plain": [
              "{0: 124, 1: 97, 2: 70, 3: 62}"
            ]
          },
          "metadata": {},
          "execution_count": 1475
        }
      ]
    },
    {
      "cell_type": "code",
      "metadata": {
        "id": "AETsX-EkPDvk"
      },
      "source": [
        "# cluster 0\n",
        "Xn0 = Xn_train[clusters_train==0,:]\n",
        "Xtestn0 = Xn_test[clusters_test==0,:]\n",
        "\n",
        "ylog0 = np.log(ys_train.astype('float')[clusters_train==0,:])\n",
        "yscaler0 = StandardScaler().fit(ylog0)\n",
        "yn0 = yscaler0.transform(ylog0)\n"
      ],
      "execution_count": 1476,
      "outputs": []
    },
    {
      "cell_type": "code",
      "metadata": {
        "id": "39suMc4QP1-L"
      },
      "source": [
        "# cluster 1\n",
        "Xn1 = Xn_train[clusters_train==1,:]\n",
        "Xtestn1 = Xn_test[clusters_test==1,:]\n",
        "ylog1 = np.log(ys_train.astype('float')[clusters_train==1,:])\n",
        "yscaler1 = StandardScaler().fit(ylog1)\n",
        "yn1 = yscaler1.transform(ylog1)"
      ],
      "execution_count": 1477,
      "outputs": []
    },
    {
      "cell_type": "code",
      "metadata": {
        "id": "OVIKZbWHQ7ue"
      },
      "source": [
        "# cluster 2\n",
        "Xn2 = Xn_train[clusters_train==2,:]\n",
        "Xtestn2 = Xn_test[clusters_test==2,:]\n",
        "ylog2 = np.log(ys_train.astype('float')[clusters_train==2,:])\n",
        "yscaler2 = StandardScaler().fit(ylog2)\n",
        "yn2 = yscaler2.transform(ylog2)\n"
      ],
      "execution_count": 1478,
      "outputs": []
    },
    {
      "cell_type": "code",
      "metadata": {
        "id": "2mzwzOEgRMKS"
      },
      "source": [
        "# cluster 3\n",
        "Xn3 = Xn_train[clusters_train==3,:]\n",
        "Xtestn3 = Xn_test[clusters_test==3,:]\n",
        "ylog3 = np.log(ys_train.astype('float')[clusters_train==3,:])\n",
        "yscaler3 = StandardScaler().fit(ylog3)\n",
        "yn3 = yscaler3.transform(ylog3)"
      ],
      "execution_count": 1479,
      "outputs": []
    },
    {
      "cell_type": "markdown",
      "metadata": {
        "id": "dXF25ZDYoIDl"
      },
      "source": [
        "## Piecewise Model"
      ]
    },
    {
      "cell_type": "code",
      "metadata": {
        "colab": {
          "base_uri": "https://localhost:8080/",
          "height": 54
        },
        "id": "hz0FGpyKH-eP",
        "outputId": "a29ea452-d913-4a2c-8e29-18efa5bf8e4d"
      },
      "source": [
        "# model_0\n",
        "with pm.Model() as model_0:\n",
        "  # prior over the parameters of linear regression\n",
        "  alpha = pm.Normal('alpha', mu=0, sigma=30)\n",
        "  # we have a beta for each column of Xn0\n",
        "  beta = pm.Normal('beta', mu=0, sigma=30, shape=Xn0.shape[1])\n",
        "  # prior over the variance of the noise\n",
        "  sigma = pm.HalfCauchy('sigma_n', 5)\n",
        "  # linear regression relationship\n",
        "  #linear regression model in matrix form\n",
        "  mu = alpha + pm.math.dot(beta, Xn0.T)\n",
        "  # likelihood, be sure that observed is a 1d vector\n",
        "  like = pm.Normal('like', mu=mu, sigma=sigma, observed=yn0[:,0])\n",
        "\n",
        "with model_0:\n",
        "  # iterations of the algorithm\n",
        "  approximation = pm.fit(40000,method='advi')\n",
        "\n",
        "# samples from the posterior   \n",
        "posterior0 = approximation.sample(5000)"
      ],
      "execution_count": 1480,
      "outputs": [
        {
          "output_type": "display_data",
          "data": {
            "text/html": [
              "\n",
              "    <div>\n",
              "        <style>\n",
              "            /* Turns off some styling */\n",
              "            progress {\n",
              "                /* gets rid of default border in Firefox and Opera. */\n",
              "                border: none;\n",
              "                /* Needs to be in here for Safari polyfill so background images work as expected. */\n",
              "                background-size: auto;\n",
              "            }\n",
              "            .progress-bar-interrupted, .progress-bar-interrupted::-webkit-progress-bar {\n",
              "                background: #F44336;\n",
              "            }\n",
              "        </style>\n",
              "      <progress value='40000' class='' max='40000' style='width:300px; height:20px; vertical-align: middle;'></progress>\n",
              "      100.00% [40000/40000 00:06<00:00 Average Loss = 519.76]\n",
              "    </div>\n",
              "    "
            ],
            "text/plain": [
              "<IPython.core.display.HTML object>"
            ]
          },
          "metadata": {}
        },
        {
          "output_type": "stream",
          "name": "stderr",
          "text": [
            "Finished [100%]: Average Loss = 519.77\n"
          ]
        }
      ]
    },
    {
      "cell_type": "code",
      "metadata": {
        "colab": {
          "base_uri": "https://localhost:8080/",
          "height": 54
        },
        "id": "FPT_CGGja1Mo",
        "outputId": "98d08ca7-408b-4045-df0a-28a6587d059c"
      },
      "source": [
        "# model_1\n",
        "with pm.Model() as model_1:\n",
        "  # prior over the parameters of linear regression\n",
        "  alpha = pm.Normal('alpha', mu=0, sigma=30)\n",
        "  # we have a beta for each column of Xn\n",
        "  beta = pm.Normal('beta', mu=0, sigma=30, shape=Xn1.shape[1])\n",
        "  # prior over the variance of the noise\n",
        "  sigma = pm.HalfCauchy('sigma_n', 5)\n",
        "  # linear regression relationship\n",
        "  #linear regression model in matrix form\n",
        "  mu = alpha + pm.math.dot(beta, Xn1.T)\n",
        "  # likelihood, # \n",
        "  like = pm.Normal('like', mu=mu, sigma=sigma, observed=yn1[:,0])\n",
        "  \n",
        "with model_1:\n",
        "  # iterations of the algorithm\n",
        "  approximation = pm.fit(40000,method='advi')\n",
        "\n",
        "# samples from the posterior    \n",
        "posterior1 = approximation.sample(5000)"
      ],
      "execution_count": 1481,
      "outputs": [
        {
          "output_type": "display_data",
          "data": {
            "text/html": [
              "\n",
              "    <div>\n",
              "        <style>\n",
              "            /* Turns off some styling */\n",
              "            progress {\n",
              "                /* gets rid of default border in Firefox and Opera. */\n",
              "                border: none;\n",
              "                /* Needs to be in here for Safari polyfill so background images work as expected. */\n",
              "                background-size: auto;\n",
              "            }\n",
              "            .progress-bar-interrupted, .progress-bar-interrupted::-webkit-progress-bar {\n",
              "                background: #F44336;\n",
              "            }\n",
              "        </style>\n",
              "      <progress value='40000' class='' max='40000' style='width:300px; height:20px; vertical-align: middle;'></progress>\n",
              "      100.00% [40000/40000 00:05<00:00 Average Loss = 367.6]\n",
              "    </div>\n",
              "    "
            ],
            "text/plain": [
              "<IPython.core.display.HTML object>"
            ]
          },
          "metadata": {}
        },
        {
          "output_type": "stream",
          "name": "stderr",
          "text": [
            "Finished [100%]: Average Loss = 367.6\n"
          ]
        }
      ]
    },
    {
      "cell_type": "code",
      "metadata": {
        "colab": {
          "base_uri": "https://localhost:8080/",
          "height": 54
        },
        "id": "6sMEvOzabRIB",
        "outputId": "14c161ec-90c2-4498-d50c-116320ed1478"
      },
      "source": [
        "# model_2\n",
        "with pm.Model() as model_2:\n",
        "  # prior over the parameters of linear regression\n",
        "  alpha = pm.Normal('alpha', mu=0, sigma=30)\n",
        "  # we have a beta for each column of Xn\n",
        "  beta = pm.Normal('beta', mu=0, sigma=30, shape=Xn2.shape[1])\n",
        "  # prior over the variance of the noise\n",
        "  sigma = pm.HalfCauchy('sigma_n', 5)\n",
        "  # linear regression relationship\n",
        "  # linear regression model in matrix form\n",
        "  mu = alpha + pm.math.dot(beta, Xn2.T)\n",
        "  # likelihood, be sure that observed is a 1d vector\n",
        "  like = pm.Normal('like', mu=mu, sigma=sigma, observed=yn2[:,0])\n",
        "    \n",
        "with model_2:\n",
        "  # iterations of the algorithms\n",
        "  approximation = pm.fit(40000,method='advi')\n",
        "\n",
        "# samples from the posterior    \n",
        "posterior2 = approximation.sample(5000)"
      ],
      "execution_count": 1482,
      "outputs": [
        {
          "output_type": "display_data",
          "data": {
            "text/html": [
              "\n",
              "    <div>\n",
              "        <style>\n",
              "            /* Turns off some styling */\n",
              "            progress {\n",
              "                /* gets rid of default border in Firefox and Opera. */\n",
              "                border: none;\n",
              "                /* Needs to be in here for Safari polyfill so background images work as expected. */\n",
              "                background-size: auto;\n",
              "            }\n",
              "            .progress-bar-interrupted, .progress-bar-interrupted::-webkit-progress-bar {\n",
              "                background: #F44336;\n",
              "            }\n",
              "        </style>\n",
              "      <progress value='40000' class='' max='40000' style='width:300px; height:20px; vertical-align: middle;'></progress>\n",
              "      100.00% [40000/40000 00:05<00:00 Average Loss = 323.32]\n",
              "    </div>\n",
              "    "
            ],
            "text/plain": [
              "<IPython.core.display.HTML object>"
            ]
          },
          "metadata": {}
        },
        {
          "output_type": "stream",
          "name": "stderr",
          "text": [
            "Finished [100%]: Average Loss = 323.33\n"
          ]
        }
      ]
    },
    {
      "cell_type": "code",
      "metadata": {
        "colab": {
          "base_uri": "https://localhost:8080/",
          "height": 54
        },
        "id": "F2poA2yrb5-F",
        "outputId": "7c8fa361-12ee-4407-d828-a92a400e9f03"
      },
      "source": [
        "# model_3\n",
        "with pm.Model() as model3:\n",
        "  # prior over the parameters of linear regression\n",
        "  alpha = pm.Normal('alpha', mu=0, sigma=30)\n",
        "  # we have a beta for each column of Xn\n",
        "  beta = pm.Normal('beta', mu=0, sigma=30, shape=Xn3.shape[1])\n",
        "  # prior over the variance of the noise\n",
        "  sigma = pm.HalfCauchy('sigma_n', 5)\n",
        "  # linear regression relationship\n",
        "  mu = alpha + pm.math.dot(beta, Xn3.T)#linear regression model in matrix form\n",
        "  # likelihood, be sure that observed is a 1d vector\n",
        "  like = pm.Normal('like', mu=mu, sigma=sigma, observed=yn3[:,0])\n",
        "    \n",
        "with model3:\n",
        "  # number of iterations of the algorithms\n",
        "  approximation = pm.fit(40000,method='advi')\n",
        "\n",
        "# samples from the posterior     \n",
        "posterior3 = approximation.sample(5000)"
      ],
      "execution_count": 1483,
      "outputs": [
        {
          "output_type": "display_data",
          "data": {
            "text/html": [
              "\n",
              "    <div>\n",
              "        <style>\n",
              "            /* Turns off some styling */\n",
              "            progress {\n",
              "                /* gets rid of default border in Firefox and Opera. */\n",
              "                border: none;\n",
              "                /* Needs to be in here for Safari polyfill so background images work as expected. */\n",
              "                background-size: auto;\n",
              "            }\n",
              "            .progress-bar-interrupted, .progress-bar-interrupted::-webkit-progress-bar {\n",
              "                background: #F44336;\n",
              "            }\n",
              "        </style>\n",
              "      <progress value='40000' class='' max='40000' style='width:300px; height:20px; vertical-align: middle;'></progress>\n",
              "      100.00% [40000/40000 00:05<00:00 Average Loss = 245.78]\n",
              "    </div>\n",
              "    "
            ],
            "text/plain": [
              "<IPython.core.display.HTML object>"
            ]
          },
          "metadata": {}
        },
        {
          "output_type": "stream",
          "name": "stderr",
          "text": [
            "Finished [100%]: Average Loss = 245.78\n"
          ]
        }
      ]
    },
    {
      "cell_type": "code",
      "metadata": {
        "id": "UhChmqzFcV0H"
      },
      "source": [
        "#############"
      ],
      "execution_count": 1484,
      "outputs": []
    },
    {
      "cell_type": "code",
      "metadata": {
        "id": "gdY1yXp0oIDn"
      },
      "source": [
        "# Posterior predictive checks (PPCs)\n",
        "def ppc(alpha,beta,sigma, X,  nsamples=500):\n",
        "    #we select nsamples random samples from the posterior\n",
        "    ind = np.random.randint(0,beta.shape[0],size=nsamples)\n",
        "    alphai = alpha[ind]\n",
        "    betai = beta[ind,:]\n",
        "    sigmai = sigma[ind]\n",
        "\n",
        "    Ypred = np.zeros((nsamples,X.shape[0]))\n",
        "    for i in range(X.shape[0]):\n",
        "        #we generate data from linear model\n",
        "        y_pred = alphai + np.dot(betai, X[i:i+1,:].T).T +np.random.randn(len(sigmai))*sigmai\n",
        "        Ypred[:,i]=y_pred[0,:]\n",
        "    return Ypred\n",
        "\n"
      ],
      "execution_count": 1485,
      "outputs": []
    },
    {
      "cell_type": "markdown",
      "metadata": {
        "id": "wHBgUe1pcZQQ"
      },
      "source": [
        "##Simulations"
      ]
    },
    {
      "cell_type": "markdown",
      "metadata": {
        "id": "bfSEdYAUoIDn"
      },
      "source": [
        "### Only Cluster 0"
      ]
    },
    {
      "cell_type": "code",
      "metadata": {
        "id": "5VpFfBB3oIDo",
        "colab": {
          "base_uri": "https://localhost:8080/",
          "height": 313
        },
        "outputId": "d1702534-bd5e-4872-e9d2-ac8b431ab804"
      },
      "source": [
        "#Simulation\n",
        "Ypred0 = yscaler0.inverse_transform(ppc(posterior0['alpha'],posterior0['beta'],posterior0['sigma_n'],Xn0,  nsamples=200))\n",
        "for i in range(Ypred0.shape[0]):\n",
        "    az.plot_dist( Ypred0[i,:],color='r',plot_kwargs={\"linewidth\": 0.2})\n",
        "az.plot_dist(Ypred0[i,:],color='r',plot_kwargs={\"linewidth\": 0.2}, label=\"prediction\")\n",
        "#plt.plot(np.linspace(-8,8,100),norm.pdf(np.linspace(-8,8,100),df=np.mean(posterior_1['nu'])))\n",
        "#plt.xlim([0,10e7])\n",
        "az.plot_dist(ylog0,label='true observations');\n",
        "plt.legend()\n",
        "plt.xlabel(\"log(y) - output variable\")\n",
        "plt.ylabel(\"density plot\");"
      ],
      "execution_count": 1486,
      "outputs": [
        {
          "output_type": "display_data",
          "data": {
            "image/png": "[encoded data removed]",
            "text/plain": [
              "<Figure size 432x288 with 1 Axes>"
            ]
          },
          "metadata": {
            "needs_background": "light"
          }
        }
      ]
    },
    {
      "cell_type": "markdown",
      "metadata": {
        "id": "qOAWKZXsoIDo"
      },
      "source": [
        "### Only Cluster 1"
      ]
    },
    {
      "cell_type": "code",
      "metadata": {
        "id": "GQ5gaq1goIDo",
        "colab": {
          "base_uri": "https://localhost:8080/",
          "height": 313
        },
        "outputId": "4f61ad8b-46fd-4ddb-e25e-c9e9306d9951"
      },
      "source": [
        "#Simulation\n",
        "Ypred1 = yscaler1.inverse_transform(ppc(posterior1['alpha'],posterior1['beta'],posterior1['sigma_n'],Xn1,  nsamples=200))\n",
        "for i in range(Ypred1.shape[0]):\n",
        "    az.plot_dist( Ypred1[i,:],color='r',plot_kwargs={\"linewidth\": 0.2})\n",
        "az.plot_dist(Ypred1[i,:],color='r',plot_kwargs={\"linewidth\": 0.2}, label=\"prediction\")\n",
        "#plt.plot(np.linspace(-8,8,100),norm.pdf(np.linspace(-8,8,100),df=np.mean(posterior_1['nu'])))\n",
        "#plt.xlim([0,10e7])\n",
        "az.plot_dist(ylog1,label='true observations');\n",
        "plt.legend()\n",
        "plt.xlabel(\"log(y) - output variable\")\n",
        "plt.ylabel(\"density plot\");"
      ],
      "execution_count": 1487,
      "outputs": [
        {
          "output_type": "display_data",
          "data": {
            "image/png": "[encoded data removed]",
            "text/plain": [
              "<Figure size 432x288 with 1 Axes>"
            ]
          },
          "metadata": {
            "needs_background": "light"
          }
        }
      ]
    },
    {
      "cell_type": "markdown",
      "metadata": {
        "id": "6KU51ObNoIDp"
      },
      "source": [
        "### Only Cluster 2"
      ]
    },
    {
      "cell_type": "code",
      "metadata": {
        "id": "pqA9z59soIDp",
        "colab": {
          "base_uri": "https://localhost:8080/",
          "height": 313
        },
        "outputId": "4f80aa13-1bfa-4e19-bb9b-58abd37c2d53"
      },
      "source": [
        "#Simulation\n",
        "Ypred2 = yscaler2.inverse_transform(ppc(posterior2['alpha'],posterior2['beta'],posterior2['sigma_n'],Xn2,  nsamples=200))\n",
        "for i in range(Ypred2.shape[0]):\n",
        "    az.plot_dist( Ypred2[i,:],color='r',plot_kwargs={\"linewidth\": 0.2})\n",
        "az.plot_dist(Ypred2[i,:],color='r',plot_kwargs={\"linewidth\": 0.2}, label=\"prediction\")\n",
        "#plt.plot(np.linspace(-8,8,100),norm.pdf(np.linspace(-8,8,100),df=np.mean(posterior_1['nu'])))\n",
        "#plt.xlim([0,10e7])\n",
        "az.plot_dist(ylog2,label='true observations');\n",
        "plt.legend()\n",
        "plt.xlabel(\"log(y) - output variable\")\n",
        "plt.ylabel(\"density plot\");"
      ],
      "execution_count": 1488,
      "outputs": [
        {
          "output_type": "display_data",
          "data": {
            "image/png": "[encoded data removed]",
            "text/plain": [
              "<Figure size 432x288 with 1 Axes>"
            ]
          },
          "metadata": {
            "needs_background": "light"
          }
        }
      ]
    },
    {
      "cell_type": "markdown",
      "metadata": {
        "id": "1ktNrfe0oIDp"
      },
      "source": [
        "### Only Cluster 3"
      ]
    },
    {
      "cell_type": "code",
      "metadata": {
        "id": "DjieM0f-oIDp",
        "colab": {
          "base_uri": "https://localhost:8080/",
          "height": 313
        },
        "outputId": "56b86205-ae60-4c8d-e9a8-ab76f39ebd24"
      },
      "source": [
        "#Simulation\n",
        "Ypred3 = yscaler3.inverse_transform(ppc(posterior3['alpha'],posterior3['beta'],posterior3['sigma_n'],Xn3,  nsamples=200))\n",
        "for i in range(Ypred3.shape[0]):\n",
        "    az.plot_dist( Ypred3[i,:],color='r',plot_kwargs={\"linewidth\": 0.2})\n",
        "az.plot_dist(Ypred3[i,:],color='r',plot_kwargs={\"linewidth\": 0.2}, label=\"prediction\")\n",
        "#plt.plot(np.linspace(-8,8,100),norm.pdf(np.linspace(-8,8,100),df=np.mean(posterior_1['nu'])))\n",
        "#plt.xlim([0,10e7])\n",
        "az.plot_dist(ylog3,label='true observations');\n",
        "plt.legend()\n",
        "plt.xlabel(\"log(y) - output variable\")\n",
        "plt.ylabel(\"density plot\");"
      ],
      "execution_count": 1489,
      "outputs": [
        {
          "output_type": "display_data",
          "data": {
            "image/png": "[encoded data removed]",
            "text/plain": [
              "<Figure size 432x288 with 1 Axes>"
            ]
          },
          "metadata": {
            "needs_background": "light"
          }
        }
      ]
    },
    {
      "cell_type": "markdown",
      "metadata": {
        "id": "fSTIzR_iI_aX"
      },
      "source": [
        "## Overall"
      ]
    },
    {
      "cell_type": "code",
      "metadata": {
        "id": "qGI0qJhAoIDq",
        "colab": {
          "base_uri": "https://localhost:8080/",
          "height": 313
        },
        "outputId": "9b2363ba-64ad-40ff-a1b9-1153004d7e83"
      },
      "source": [
        "# posteriors\n",
        "Ypred0 = ppc(posterior0['alpha'],posterior0['beta'],posterior0['sigma_n'],Xn0,  nsamples=200)\n",
        "Ypred1 = ppc(posterior1['alpha'],posterior1['beta'],posterior1['sigma_n'],Xn1,  nsamples=200)\n",
        "Ypred2 = ppc(posterior2['alpha'],posterior2['beta'],posterior2['sigma_n'],Xn2,  nsamples=200)\n",
        "Ypred3 = ppc(posterior3['alpha'],posterior3['beta'],posterior3['sigma_n'],Xn3,  nsamples=200)\n",
        "\n",
        "# simulation\n",
        "Ypred = np.hstack([ yscaler0.inverse_transform(Ypred0),\n",
        "                 yscaler1.inverse_transform(Ypred1),\n",
        "                 yscaler2.inverse_transform(Ypred2),\n",
        "                 yscaler3.inverse_transform(Ypred3)])\n",
        "\n",
        "# prediction\n",
        "for i in range(Ypred.shape[0]):\n",
        "    az.plot_dist( Ypred[i,:],color='r',plot_kwargs={\"linewidth\": 0.2})\n",
        "\n",
        "# plot\n",
        "az.plot_dist(Ypred[i,:],color='r',plot_kwargs={\"linewidth\": 0.2}, label=\"prediction\")\n",
        "ylog=np.vstack([ylog0,ylog1,ylog2,ylog3])\n",
        "az.plot_dist(ylog,label='true observations');\n",
        "plt.legend()\n",
        "plt.xlabel(\"log(y) - output variable\")\n",
        "plt.ylabel(\"density plot\");"
      ],
      "execution_count": 1490,
      "outputs": [
        {
          "output_type": "display_data",
          "data": {
            "image/png": "[encoded data removed]",
            "text/plain": [
              "<Figure size 432x288 with 1 Axes>"
            ]
          },
          "metadata": {
            "needs_background": "light"
          }
        }
      ]
    },
    {
      "cell_type": "markdown",
      "metadata": {
        "id": "Gtt7xivZI_aX"
      },
      "source": [
        "## Test set performance"
      ]
    },
    {
      "cell_type": "code",
      "metadata": {
        "id": "9ZTXd2y3oIDr",
        "colab": {
          "base_uri": "https://localhost:8080/",
          "height": 0
        },
        "outputId": "0dfccb7b-9198-4213-b37e-6420903b0e52"
      },
      "source": [
        "# cluster 0\n",
        "y_pred_BLR0 = np.exp(yscaler0.inverse_transform(np.mean(posterior0['alpha']) \n",
        "              + np.dot(np.mean(posterior0['beta'],axis=0), Xtestn0.T)))\n",
        "print(\"Size Cluster0\", np.sum(clusters_test==0), \", MAE Cluster0=\",\n",
        "      (np.mean(abs(y_pred_BLR0 - y_test[clusters_test==0]))))\n",
        "\n",
        "# cluster 1\n",
        "y_pred_BLR1 = np.exp(yscaler1.inverse_transform(np.mean(posterior1['alpha']) \n",
        "              + np.dot(np.mean(posterior1['beta'],axis=0), Xtestn1.T)))\n",
        "print(\"Size Cluster1\", np.sum(clusters_test==1), \", MAE Cluster1=\",\n",
        "      (np.mean(abs(y_pred_BLR1 - y_test[clusters_test==1]))))\n",
        "\n",
        "# cluster 2\n",
        "y_pred_BLR2 = np.exp(yscaler2.inverse_transform(np.mean(posterior2['alpha']) \n",
        "              + np.dot(np.mean(posterior2['beta'],axis=0), Xtestn2.T)))\n",
        "print(\"Size Cluster2\", np.sum(clusters_test==2), \", MAE Cluster2=\",\n",
        "      (np.mean(abs(y_pred_BLR2 - y_test[clusters_test==2]))))\n",
        "\n",
        "# cluster 3\n",
        "y_pred_BLR3 = np.exp(yscaler3.inverse_transform(np.mean(posterior3['alpha']) \n",
        "              + np.dot(np.mean(posterior3['beta'],axis=0), Xtestn3.T)))\n",
        "print(\"Size Cluster3\", np.sum(clusters_test==3), \", MAE Cluster3=\",\n",
        "      (np.mean(abs(y_pred_BLR3 - y_test[clusters_test==3]))))\n",
        "\n",
        "# joint\n",
        "joint=np.hstack([abs(y_pred_BLR0 - y_test[clusters_test==0]),\n",
        "                 abs(y_pred_BLR1 - y_test[clusters_test==1]),\n",
        "                 abs(y_pred_BLR2 - y_test[clusters_test==2]),\n",
        "                 abs(y_pred_BLR3 - y_test[clusters_test==3])])\n",
        "\n",
        "# MAE\n",
        "print(\"MAE=\",np.mean(joint))"
      ],
      "execution_count": 1491,
      "outputs": [
        {
          "output_type": "stream",
          "name": "stdout",
          "text": [
            "Size Cluster0 124 , MAE Cluster0= 62410.95510467962\n",
            "Size Cluster1 97 , MAE Cluster1= 68650.61375656076\n",
            "Size Cluster2 70 , MAE Cluster2= 77789.9175976886\n",
            "Size Cluster3 62 , MAE Cluster3= 49988.63329369938\n",
            "MAE= 64993.36391902048\n"
          ]
        }
      ]
    },
    {
      "cell_type": "markdown",
      "metadata": {
        "id": "hsIcnMalI_aX"
      },
      "source": [
        "### PPC on the Test set\n",
        "\n"
      ]
    },
    {
      "cell_type": "code",
      "metadata": {
        "id": "Rl4U9JKOoIDr",
        "colab": {
          "base_uri": "https://localhost:8080/",
          "height": 313
        },
        "outputId": "86cd0742-a4a6-446a-f115-3e8e9345ddbc"
      },
      "source": [
        "## Posterior predictive checks (PPCs)\n",
        "\n",
        "num_samples2 = 200\n",
        "Ypred0 = ppc(posterior0['alpha'],posterior0['beta'],posterior0['sigma_n'],Xtestn0, nsamples=num_samples2)\n",
        "Ypred1 = ppc(posterior1['alpha'],posterior1['beta'],posterior1['sigma_n'],Xtestn1, nsamples=num_samples2)\n",
        "Ypred2 = ppc(posterior2['alpha'],posterior2['beta'],posterior2['sigma_n'],Xtestn2, nsamples=num_samples2)\n",
        "Ypred3 = ppc(posterior3['alpha'],posterior3['beta'],posterior3['sigma_n'],Xtestn3, nsamples=num_samples2)\n",
        "\n",
        "# Stack arrays in sequence horizontally (column wise)\n",
        "Ypred = np.hstack([yscaler0.inverse_transform(Ypred0),\n",
        "                 yscaler1.inverse_transform(Ypred1),\n",
        "                 yscaler2.inverse_transform(Ypred2),\n",
        "                 yscaler3.inverse_transform(Ypred3)])\n",
        "\n",
        "# plot prediction shape\n",
        "for i in range(Ypred.shape[0]):\n",
        "    az.plot_dist( Ypred[i,:],color='r',plot_kwargs={\"linewidth\": 0.2})\n",
        "# label\n",
        "az.plot_dist(Ypred[i,:],color='r',plot_kwargs={\"linewidth\": 0.2}, label=\"prediction\")\n",
        "\n",
        "# true observations\n",
        "az.plot_dist(np.log(y_test),label='true observations');\n",
        "plt.legend()\n",
        "plt.xlabel(\"log(y) - output variable\")\n",
        "plt.ylabel(\"density plot\");"
      ],
      "execution_count": 1492,
      "outputs": [
        {
          "output_type": "display_data",
          "data": {
            "image/png": "[encoded data removed]",
            "text/plain": [
              "<Figure size 432x288 with 1 Axes>"
            ]
          },
          "metadata": {
            "needs_background": "light"
          }
        }
      ]
    },
    {
      "cell_type": "markdown",
      "metadata": {
        "id": "f0GYCpwEM09T"
      },
      "source": [
        "# SUMMARY\n",
        "\n"
      ]
    },
    {
      "cell_type": "markdown",
      "metadata": {
        "id": "n4IORplAqqkP"
      },
      "source": [
        "### **Pre-processing:**\n",
        "\n",
        "The pre-processing effort on this Etivity took longer than anticipated. There was 2982 rows and 17 columns in the training data to begin with. \n",
        "\n",
        "The following steps were taken in the end:\n",
        "\n",
        "*   '**facility**' has 2017 NaN instances which means there is nearly two thirds of values missing. The feature was dropped.\n",
        "\n",
        "*   '**no_of_units**' has 2923 NaN instances which means there is nearly all values missing. The feature was dropped.\n",
        "\n",
        "*   '**ad_id**' has 2982 unique values which equates to the total amount of rows so it is not offering any helpful information. The feature was dropped.\n",
        "\n",
        "*   '**description_block**' and '**features**' have sentences/statements with inconsistent descriptions about the properties so these are not helpful for training a model. The features were dropped.\n",
        "\n",
        "*   As '**county**' has only one value 'Dublin' and '**environment**' has only one value 'prod', these features can be removed as they are not providing any useful information.\n",
        "\n",
        "*   Only 59 out of 2982 instances (~2%) of '**property_category**' are not 'sale' so this feature is not adding a lot of information either and can be removed too.\n",
        "\n",
        "*   Drop all rows with NaN present as the sample/observation is incomplete and may be misleading when training a model.\n",
        "\n",
        "*   Samples where there are 0 bathrooms and 0 bedrooms were removed as per instruction/statement in Etivity description.\n",
        "\n",
        "*   For the categorical features '**area**', '**ber_classification**' and '**property_type**' a mapping approach will be taken to convert these to numerical features going forward.\n",
        "\n",
        "    *    A very helpful approach on this was adapted from code available by Pathak (2020) on the datacamp.com site.\n",
        "\n",
        "*   In the training set there is no instance of '*Kilbarrack*' for the '**area**' feature but in the test data there is. This subsequently will cause a 'ValueError: could not convert string to float: '*Kilbarrack*'' error later in the piecewise linear regression code if not removed now.\n",
        "\n",
        "*   In the training data there is also only a single instance of '*Deansgrange*' for the '**area**' feature and it was removed in my pre-processing approach so it was subsequently removed in the test data too as the model would have had no instance to train on.\n",
        "\n",
        "The pre-processing done to the training set was also carried out to the test set (which temporarily was made include the 'cost' data to ensure the pre-processing effects were uniform throughout).\n",
        "\n",
        "There ended up being **9 features retained in the training and test data**.\n",
        "\n",
        "*   The training data had 1684 rows in the end.\n",
        "\n",
        "*   The testing data had 353 rows in the end.\n",
        "\n",
        "### **Full Model:**\n",
        "\n",
        "Example values of MAE (Mean Absolute Error) & MAPE (Mean Absolute Percentage Error) for the full/baseline model are shown in the results section for varying pre-processing conditions such as before and after code was introduced to remove outliers in the training and test data.\n",
        "\n",
        "### **Clustering:**\n",
        "\n",
        "GMM’s (Gaussian mixture models) are said to be a more advanced clustering approach versus the traditional k-means approach which is non-probabilistic i.e. not accounting for uncertainty by default (VanderPlas 2016). K-means is also viewed as being more limited with regard to circular cluster boundaries. This can make GMM’s better suited to real-world applications. A GMM is viewed as a density estimator. A given dataset is modelled with a GMM by trying to use a combination of probability distributions which best suit it. AIC (Akaike Information Criterion) and BIC (Bayesian Information Criterion) plots can help assess the optimum number of clusters to use for a given dataset.\n",
        "\n",
        "I have stuck with 4 clusters similar to the lab notebook. A model was applied to each cluster. Example results are as follows:\n",
        "\n",
        "*   Model 0 Average Loss = 573.64\n",
        "\n",
        "*   Model 1 Average Loss = 307.76\n",
        "\n",
        "*   Model 2 Average Loss = 289.02\n",
        "\n",
        "*   Model 3 Average Loss = 276.58\n",
        "\n",
        "Example results for MAE and MAPE are displayed in the results section for various conditions of pre-processing.\n",
        "\n",
        "### **Simulations:**\n",
        "\n",
        "The PPC (Posterior Predictive Checks) function is used in this section of the code. There can be some run-to-run variation but typically I'm seeing that for the cluster plots the predictions and true observations relatively align. \n",
        "\n",
        "# **Results:**\n",
        "\n",
        "## ***(1) Initial results before outlier removal:***\n",
        "\n",
        "### Full Model:\n",
        "*   MAE =  172623.88432094402\n",
        "*   MAPE =  0.266940709982453\n",
        "\n",
        "### Clusters:\n",
        "*   Size Cluster0 102 , MAE Cluster0= 173698.47133586672\n",
        "*   Size Cluster1 86 , MAE Cluster1= 86114.5579334664\n",
        "*   Size Cluster2 38 , MAE Cluster2= 268054.2085318539\n",
        "*   Size Cluster3 212 , MAE Cluster3= 169718.00995610963\n",
        "*   MAE (Joint) = 162761.12806721963\n",
        "\n",
        "\n",
        "## ***(2) Introducing outlier removal in training set but not test set:***\n",
        "\n",
        "The error values can be seen to disimprove without removing the outliers from the test set too.\n",
        "\n",
        "### Full Model:\n",
        "*   MAE =  15510187.416049914\n",
        "*   MAPE =  39.0450051237242\n",
        "\n",
        "### Clusters:\n",
        "*   Size Cluster0 73 , MAE Cluster0= 57442511.834267\n",
        "*   Size Cluster1 54 , MAE Cluster1= 84413.4147942665\n",
        "*   Size Cluster2 87 , MAE Cluster2= 216959.91773594174\n",
        "*   Size Cluster3 224 , MAE Cluster3= 329108.94073616347\n",
        "*   MAE (Joint) = 9795565.30563541\n",
        "\n",
        "\n",
        "## ***(3) Introducing outlier removal in training set and test set:***\n",
        "\n",
        "By removing the outliers in both the training and test sets, the errors improved.\n",
        "\n",
        "### Full Model:\n",
        "*   MAE =  82392.72664632082\n",
        "*   MAPE =  0.1855701178488162\n",
        "\n",
        "### Clusters:\n",
        "*   Size Cluster0 174 , MAE Cluster0= 69000.26157526702\n",
        "*   Size Cluster1 57 , MAE Cluster1= 81085.98063276721\n",
        "*   Size Cluster2 73 , MAE Cluster2= 78344.40431153782\n",
        "*   Size Cluster3 49 , MAE Cluster3= 55368.64451106693\n",
        "*   MAE (Joint) = 70991.93061175279\n",
        "\n",
        "\n",
        "## ***(4) Introducing the extra feature:***\n",
        "I had initially left out Xs_train[:,[2]]^2 and Xs_test[:,[2]]^2 in relation to Xss_train and Xss_test respectively but added them back in to assess any performance improvements.\n",
        "\n",
        "### Full Model:\n",
        "*   MAE =  80486.48832958916\n",
        "*   MAPE =  0.18277137544506653\n",
        "\n",
        "### Clusters:\n",
        "*   Size Cluster0 167 , MAE Cluster0= 64277.05801016456\n",
        "*   Size Cluster1 65 , MAE Cluster1= 76717.62271420516\n",
        "*   Size Cluster2 72 , MAE Cluster2= 71293.29460770197\n",
        "*   Size Cluster3 49 , MAE Cluster3= 55352.52698960422\n",
        "*   MAE= 66760.07138347298\n",
        "\n",
        "\n",
        "**The last set of results shows the smallest values for MAE and MAPE which validates the inclusion of new code to remove outliers.**\n"
      ]
    },
    {
      "cell_type": "markdown",
      "metadata": {
        "id": "TXODvx7KqvK_"
      },
      "source": [
        "# REFERENCES\n",
        "\n"
      ]
    },
    {
      "cell_type": "markdown",
      "metadata": {
        "id": "TjHkad6uqrFz"
      },
      "source": [
        "\n",
        "* Ahtesham, M., Bawany, N. Z. and Fatima, K. (2020) 'House Price Prediction using Machine Learning Algorithm - The Case of Karachi City, Pakistan', *2020 21st International Arab Conference on Information Technology (ACIT)*, 1-5, available: https://doi.org/10.1109/ACIT50332.2020.9300074.\n",
        "\n",
        "* Brownlee, J. (2018) *How to Remove Outliers for Machine Learning*, machinelearningmastery.com, available: https://machinelearningmastery.com/how-to-use-statistics-to-identify-outliers-in-data/ [accessed 3 Oct 2021].\n",
        "\n",
        "* Pathak, M. (2020) *Handling Categorical Data in Python*, datacamp.com, available: https://www.datacamp.com/community/tutorials/categorical-data#encoding [accessed 1 Oct 2021].\n",
        "\n",
        "* VanderPlas, J. (2016) *In Depth: Gaussian Mixture Models*, jakevdp.github.io/PythonDataScienceHandbook, available: https://jakevdp.github.io/PythonDataScienceHandbook/05.12-gaussian-mixtures.html [accessed 3 Oct 2021].\n",
        "\n",
        "\n"
      ]
    },
    {
      "cell_type": "markdown",
      "metadata": {
        "id": "3WVq__cWxtUj"
      },
      "source": [
        "### **Exporting file to \".pdf\" from Google Colab.**\n",
        "\n",
        "The code below is only uncommented when I want to export."
      ]
    },
    {
      "cell_type": "code",
      "metadata": {
        "id": "EBrfIvwMmyWm"
      },
      "source": [
        "# ### https://stackoverflow.com/questions/52588552/google-co-laboratory-notebook-pdf-download\n",
        "\n",
        "# %%capture\n",
        "# !wget -nc https://raw.githubusercontent.com/brpy/colab-pdf/master/colab_pdf.py\n",
        "# from colab_pdf import colab_pdf\n",
        "# colab_pdf('ET5003_Etivity2_MichaelMcKegney_20149743.ipynb')"
      ],
      "execution_count": 1495,
      "outputs": []
    }
  ]
}