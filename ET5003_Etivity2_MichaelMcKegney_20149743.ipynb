{
  "nbformat": 4,
  "nbformat_minor": 0,
  "metadata": {
    "colab": {
      "name": "ET5003_Etivity2_MichaelMcKegney_20149743.ipynb",
      "provenance": [],
      "collapsed_sections": [],
      "include_colab_link": true
    },
    "kernelspec": {
      "name": "python3",
      "display_name": "Python 3"
    },
    "language_info": {
      "name": "python"
    }
  },
  "cells": [
    {
      "cell_type": "markdown",
      "metadata": {
        "id": "view-in-github",
        "colab_type": "text"
      },
      "source": [
        "<a href=\"https://colab.research.google.com/github/M-McKegney/ET5003_SEM1_2021-2/blob/MMcKegneyBranch/ET5003_Etivity2_MichaelMcKegney_20149743.ipynb\" target=\"_parent\"><img src=\"https://colab.research.google.com/assets/colab-badge.svg\" alt=\"Open In Colab\"/></a>"
      ]
    },
    {
      "cell_type": "markdown",
      "metadata": {
        "id": "930vlW5BrOtq"
      },
      "source": [
        "<div>\n",
        "<img src=\"https://drive.google.com/uc?export=view&id=1vK33e_EqaHgBHcbRV_m38hx6IkG0blK_\" width=\"350\"/>\n",
        "</div> \n",
        "\n",
        "#**Artificial Intelligence - MSc**\n",
        "##ET5003 - MACHINE LEARNING APPLICATIONS \n",
        "\n",
        "###Instructor: Enrique Naredo\n",
        "###ET5003_Etivity-2"
      ]
    },
    {
      "cell_type": "code",
      "metadata": {
        "id": "LqXD_IwUQuBF",
        "cellView": "form"
      },
      "source": [
        "#@title Current Date\n",
        "Today = '2021-10-01' #@param {type:\"date\"}\n"
      ],
      "execution_count": 1406,
      "outputs": []
    },
    {
      "cell_type": "code",
      "metadata": {
        "id": "uzDKau31OjVO",
        "cellView": "form"
      },
      "source": [
        "#@markdown ---\n",
        "#@markdown ### Enter your details here:\n",
        "Student_ID = \"20149743\" #@param {type:\"string\"}\n",
        "Student_full_name = \"Michael McKegney\" #@param {type:\"string\"}\n",
        "#@markdown ---"
      ],
      "execution_count": 1407,
      "outputs": []
    },
    {
      "cell_type": "code",
      "metadata": {
        "id": "r39xGZckTpKx",
        "cellView": "form"
      },
      "source": [
        "#@title Notebook information\n",
        "Notebook_type = 'Example' #@param [\"Example\", \"Lab\", \"Practice\", \"Etivity\", \"Assignment\", \"Exam\"]\n",
        "Version = 'Draft' #@param [\"Draft\", \"Final\"] {type:\"raw\"}\n",
        "Submission = False #@param {type:\"boolean\"}"
      ],
      "execution_count": 1408,
      "outputs": []
    },
    {
      "cell_type": "markdown",
      "metadata": {
        "id": "_A0Z6S-r6DpA"
      },
      "source": [
        "# INTRODUCTION"
      ]
    },
    {
      "cell_type": "markdown",
      "metadata": {
        "id": "QkRchZtf6IV-"
      },
      "source": [
        "**Piecewise regression**, extract from [Wikipedia](https://en.wikipedia.org/wiki/Segmented_regression):\n",
        "\n",
        "Segmented regression, also known as piecewise regression or broken-stick regression, is a method in regression analysis in which the independent variable is partitioned into intervals and a separate line segment is fit to each interval. \n",
        "\n",
        "* Segmented regression analysis can also be performed on \n",
        "multivariate data by partitioning the various independent variables. \n",
        "* Segmented regression is useful when the independent variables, clustered into different groups, exhibit different relationships between the variables in these regions. \n",
        "\n",
        "* The boundaries between the segments are breakpoints.\n",
        "\n",
        "* Segmented linear regression is segmented regression whereby the relations in the intervals are obtained by linear regression. "
      ]
    },
    {
      "cell_type": "markdown",
      "metadata": {
        "id": "aajlS0WCJ8pm"
      },
      "source": [
        "***The goal is to use advanced Machine Learning methods to predict House price.***"
      ]
    },
    {
      "cell_type": "markdown",
      "metadata": {
        "id": "Wg7VCbX77eAA"
      },
      "source": [
        "## Imports"
      ]
    },
    {
      "cell_type": "code",
      "metadata": {
        "id": "iFFLThrpwibd"
      },
      "source": [
        "# Suppressing Warnings:\n",
        "import warnings\n",
        "warnings.filterwarnings(\"ignore\")"
      ],
      "execution_count": 1409,
      "outputs": []
    },
    {
      "cell_type": "code",
      "metadata": {
        "id": "d1770_fNrCWn"
      },
      "source": [
        "import pandas as pd\n",
        "import matplotlib.pyplot as plt\n",
        "import numpy as np\n",
        "import pymc3 as pm\n",
        "import arviz as az\n",
        "from sklearn.preprocessing import StandardScaler"
      ],
      "execution_count": 1410,
      "outputs": []
    },
    {
      "cell_type": "code",
      "metadata": {
        "id": "sYPJU_Y6O6Dq"
      },
      "source": [
        "# to plot\n",
        "import matplotlib.colors\n",
        "from mpl_toolkits.mplot3d import Axes3D\n",
        "\n",
        "# to generate classification, regression and clustering datasets\n",
        "import sklearn.datasets as dt\n",
        "\n",
        "# to create data frames\n",
        "from pandas import DataFrame\n",
        "\n",
        "# to generate data from an existing dataset\n",
        "from sklearn.neighbors import KernelDensity\n",
        "from sklearn.model_selection import GridSearchCV"
      ],
      "execution_count": 1411,
      "outputs": []
    },
    {
      "cell_type": "code",
      "metadata": {
        "id": "6MUJdlxSPSMM"
      },
      "source": [
        "# Define the seed so that results can be reproduced\n",
        "seed = 11\n",
        "rand_state = 11\n",
        "\n",
        "# Define the color maps for plots\n",
        "color_map = plt.cm.get_cmap('RdYlBu')\n",
        "color_map_discrete = matplotlib.colors.LinearSegmentedColormap.from_list(\"\", [\"red\",\"cyan\",\"magenta\",\"blue\"])"
      ],
      "execution_count": 1412,
      "outputs": []
    },
    {
      "cell_type": "markdown",
      "metadata": {
        "id": "WL91ShB19RPw"
      },
      "source": [
        "# DATASET"
      ]
    },
    {
      "cell_type": "markdown",
      "metadata": {
        "id": "ESg5DGKWJSOf"
      },
      "source": [
        "Extract from this [paper](https://ieeexplore.ieee.org/document/9300074):\n",
        "\n",
        "* House prices are a significant impression of the economy, and its value ranges are of great concerns for the clients and property dealers. \n",
        "\n",
        "* Housing price escalate every year that eventually reinforced the need of strategy or technique that could predict house prices in future. \n",
        "\n",
        "* There are certain factors that influence house prices including physical conditions, locations, number of bedrooms and others.\n"
      ]
    },
    {
      "cell_type": "markdown",
      "metadata": {
        "id": "a8Y2pf50FlYL"
      },
      "source": [
        "1. [Download the dataset](https://github.com/UL-ET5003/ET5003_SEM1_2021-2/tree/main/Week-3). \n",
        "\n",
        "2. Upload the dataset into your folder.\n",
        "\n"
      ]
    },
    {
      "cell_type": "markdown",
      "metadata": {
        "id": "FMkdCQEmKTof"
      },
      "source": [
        "The challenge is to predict the final price of each house."
      ]
    },
    {
      "cell_type": "markdown",
      "metadata": {
        "id": "r4hSuwkUfVQb"
      },
      "source": [
        "## Read in the dataset"
      ]
    },
    {
      "cell_type": "markdown",
      "metadata": {
        "id": "A2w7p5R2gUaw"
      },
      "source": [
        "**Be careful with the 'Path' location shown below i.e. make sure it is pointing to where you store the data for Etivity 2!**\n",
        "\n",
        "The following code is being used to determine if a Jupyter Notebook or Google Colab environment is being used to load the dataset.\n",
        "\n",
        "The development work for this Etivity was done in Google Colab."
      ]
    },
    {
      "cell_type": "markdown",
      "metadata": {
        "id": "fLwRjlubV9Dr"
      },
      "source": [
        "There are 3 files to account for:\n",
        "*   house_train.csv\n",
        "*   house_test.csv\n",
        "*   true_price.csv"
      ]
    },
    {
      "cell_type": "code",
      "metadata": {
        "colab": {
          "base_uri": "https://localhost:8080/"
        },
        "id": "kRD1Buy0ikfg",
        "outputId": "1b0926a3-2fe3-4ed3-d5bf-9b18211ad0f1"
      },
      "source": [
        "# Checking if you are using Google Colab.\n",
        "\n",
        "RunningInCOLAB = 'google.colab' in str(get_ipython())\n",
        "\n",
        "if RunningInCOLAB:\n",
        "    from google.colab import drive\n",
        "    drive.mount('/content/drive')\n",
        "    \n",
        "    # paste the path here, keep quotation marks and the trailing slash\n",
        "    Path = '/content/drive/MyDrive/UL_Colab_Files/ET5003/Etivity2/'\n",
        "    \n",
        "else:\n",
        "    \n",
        "    Path = './Etivity2/'"
      ],
      "execution_count": 1413,
      "outputs": [
        {
          "output_type": "stream",
          "name": "stdout",
          "text": [
            "Drive already mounted at /content/drive; to attempt to forcibly remount, call drive.mount(\"/content/drive\", force_remount=True).\n"
          ]
        }
      ]
    },
    {
      "cell_type": "markdown",
      "metadata": {
        "id": "EY8pCtlBaUrY"
      },
      "source": [
        "Read in each \".csv\" file into a Pandas dataframe and print the shape of the data."
      ]
    },
    {
      "cell_type": "code",
      "metadata": {
        "colab": {
          "base_uri": "https://localhost:8080/"
        },
        "id": "_G-dubKxWewK",
        "outputId": "36859817-7cab-44c4-d274-46088277cea9"
      },
      "source": [
        "# Training Dataset: \n",
        "training_file = Path + 'house_train.csv'\n",
        "dftrain = pd.read_csv(training_file)\n",
        "print('House train data shape: ', dftrain.shape)\n",
        "\n",
        "# Test Dataset:\n",
        "testing_file = Path + 'house_test.csv'\n",
        "dftest = pd.read_csv(testing_file)\n",
        "print('House test data shape: ', dftest.shape)\n",
        "\n",
        "# Cost Dataset:\n",
        "cost_file = Path + 'true_price.csv'\n",
        "dfcost = pd.read_csv(cost_file)\n",
        "print('True price data shape: ', dfcost.shape)\n"
      ],
      "execution_count": 1414,
      "outputs": [
        {
          "output_type": "stream",
          "name": "stdout",
          "text": [
            "House train data shape:  (2982, 17)\n",
            "House test data shape:  (500, 16)\n",
            "True price data shape:  (500, 2)\n"
          ]
        }
      ]
    },
    {
      "cell_type": "markdown",
      "metadata": {
        "id": "ENwGwNi-aeik"
      },
      "source": [
        "Check the initial rows and review some basic statistics for each dataframe."
      ]
    },
    {
      "cell_type": "markdown",
      "metadata": {
        "id": "Lq6b07HiqeQ_"
      },
      "source": [
        ""
      ]
    },
    {
      "cell_type": "markdown",
      "metadata": {
        "id": "06PT0fcjqfyA"
      },
      "source": [
        "# METHOD"
      ]
    },
    {
      "cell_type": "markdown",
      "metadata": {
        "id": "2PMoPLlUJ1Ly"
      },
      "source": [
        "## Training & Test Data"
      ]
    },
    {
      "cell_type": "markdown",
      "metadata": {
        "id": "_yu-66bRfb12"
      },
      "source": [
        "**Not using this for now...**"
      ]
    },
    {
      "cell_type": "code",
      "metadata": {
        "id": "loLTHklwKGnV"
      },
      "source": [
        "# # split data into training and test\n",
        "# from sklearn.model_selection import train_test_split\n",
        "\n",
        "# # training: 70% (0.7), test: 30% (0.3) \n",
        "# # you could try any other combination \n",
        "# # but consider 50% of training as the low boundary\n",
        "# X_train,X_test,y_train,y_test = train_test_split(X, y, test_size=0.3)"
      ],
      "execution_count": 1415,
      "outputs": []
    },
    {
      "cell_type": "markdown",
      "metadata": {
        "id": "ztBkSZluye87"
      },
      "source": [
        "### Train dataset"
      ]
    },
    {
      "cell_type": "code",
      "metadata": {
        "id": "6XUFUPABMHfF",
        "colab": {
          "base_uri": "https://localhost:8080/",
          "height": 451
        },
        "outputId": "97b46011-7e23-4886-a045-0ce62106ce9b"
      },
      "source": [
        "# Show first data frame rows.\n",
        "dftrain.head()"
      ],
      "execution_count": 1416,
      "outputs": [
        {
          "output_type": "execute_result",
          "data": {
            "text/html": [
              "<div>\n",
              "<style scoped>\n",
              "    .dataframe tbody tr th:only-of-type {\n",
              "        vertical-align: middle;\n",
              "    }\n",
              "\n",
              "    .dataframe tbody tr th {\n",
              "        vertical-align: top;\n",
              "    }\n",
              "\n",
              "    .dataframe thead th {\n",
              "        text-align: right;\n",
              "    }\n",
              "</style>\n",
              "<table border=\"1\" class=\"dataframe\">\n",
              "  <thead>\n",
              "    <tr style=\"text-align: right;\">\n",
              "      <th></th>\n",
              "      <th>ad_id</th>\n",
              "      <th>area</th>\n",
              "      <th>bathrooms</th>\n",
              "      <th>beds</th>\n",
              "      <th>ber_classification</th>\n",
              "      <th>county</th>\n",
              "      <th>description_block</th>\n",
              "      <th>environment</th>\n",
              "      <th>facility</th>\n",
              "      <th>features</th>\n",
              "      <th>latitude</th>\n",
              "      <th>longitude</th>\n",
              "      <th>no_of_units</th>\n",
              "      <th>price</th>\n",
              "      <th>property_category</th>\n",
              "      <th>property_type</th>\n",
              "      <th>surface</th>\n",
              "    </tr>\n",
              "  </thead>\n",
              "  <tbody>\n",
              "    <tr>\n",
              "      <th>0</th>\n",
              "      <td>996887</td>\n",
              "      <td>Portmarnock</td>\n",
              "      <td>NaN</td>\n",
              "      <td>NaN</td>\n",
              "      <td>NaN</td>\n",
              "      <td>Dublin</td>\n",
              "      <td>A SELECTION OF 4 AND 5 BEDROOM FAMILY HOMES LO...</td>\n",
              "      <td>prod</td>\n",
              "      <td>NaN</td>\n",
              "      <td>None</td>\n",
              "      <td>53.418216</td>\n",
              "      <td>-6.149329</td>\n",
              "      <td>18.0</td>\n",
              "      <td>NaN</td>\n",
              "      <td>new_development_parent</td>\n",
              "      <td>NaN</td>\n",
              "      <td>NaN</td>\n",
              "    </tr>\n",
              "    <tr>\n",
              "      <th>1</th>\n",
              "      <td>999327</td>\n",
              "      <td>Lucan</td>\n",
              "      <td>NaN</td>\n",
              "      <td>NaN</td>\n",
              "      <td>NaN</td>\n",
              "      <td>Dublin</td>\n",
              "      <td>**Last 2 remaining houses for sale ***\\n\\nOn v...</td>\n",
              "      <td>prod</td>\n",
              "      <td>NaN</td>\n",
              "      <td>None</td>\n",
              "      <td>53.364917</td>\n",
              "      <td>-6.454935</td>\n",
              "      <td>3.0</td>\n",
              "      <td>NaN</td>\n",
              "      <td>new_development_parent</td>\n",
              "      <td>NaN</td>\n",
              "      <td>NaN</td>\n",
              "    </tr>\n",
              "    <tr>\n",
              "      <th>2</th>\n",
              "      <td>999559</td>\n",
              "      <td>Rathfarnham</td>\n",
              "      <td>NaN</td>\n",
              "      <td>NaN</td>\n",
              "      <td>NaN</td>\n",
              "      <td>Dublin</td>\n",
              "      <td>Final 4 &amp;amp; 5 Bedroom Homes for Sale\\n\\nOn V...</td>\n",
              "      <td>prod</td>\n",
              "      <td>NaN</td>\n",
              "      <td>None</td>\n",
              "      <td>53.273447</td>\n",
              "      <td>-6.313821</td>\n",
              "      <td>3.0</td>\n",
              "      <td>NaN</td>\n",
              "      <td>new_development_parent</td>\n",
              "      <td>NaN</td>\n",
              "      <td>NaN</td>\n",
              "    </tr>\n",
              "    <tr>\n",
              "      <th>3</th>\n",
              "      <td>9102986</td>\n",
              "      <td>Balbriggan</td>\n",
              "      <td>NaN</td>\n",
              "      <td>NaN</td>\n",
              "      <td>NaN</td>\n",
              "      <td>Dublin</td>\n",
              "      <td>Glenveagh Taylor Hill, Balbriggan\\n\\r\\n*Ideal ...</td>\n",
              "      <td>prod</td>\n",
              "      <td>NaN</td>\n",
              "      <td>None</td>\n",
              "      <td>53.608167</td>\n",
              "      <td>-6.210914</td>\n",
              "      <td>30.0</td>\n",
              "      <td>NaN</td>\n",
              "      <td>new_development_parent</td>\n",
              "      <td>NaN</td>\n",
              "      <td>NaN</td>\n",
              "    </tr>\n",
              "    <tr>\n",
              "      <th>4</th>\n",
              "      <td>9106028</td>\n",
              "      <td>Foxrock</td>\n",
              "      <td>NaN</td>\n",
              "      <td>NaN</td>\n",
              "      <td>NaN</td>\n",
              "      <td>Dublin</td>\n",
              "      <td>*New phase launching this weekend Sat &amp;amp; Su...</td>\n",
              "      <td>prod</td>\n",
              "      <td>NaN</td>\n",
              "      <td>None</td>\n",
              "      <td>53.262531</td>\n",
              "      <td>-6.181527</td>\n",
              "      <td>8.0</td>\n",
              "      <td>NaN</td>\n",
              "      <td>new_development_parent</td>\n",
              "      <td>NaN</td>\n",
              "      <td>NaN</td>\n",
              "    </tr>\n",
              "  </tbody>\n",
              "</table>\n",
              "</div>"
            ],
            "text/plain": [
              "     ad_id         area  ...  property_type  surface\n",
              "0   996887  Portmarnock  ...            NaN      NaN\n",
              "1   999327        Lucan  ...            NaN      NaN\n",
              "2   999559  Rathfarnham  ...            NaN      NaN\n",
              "3  9102986   Balbriggan  ...            NaN      NaN\n",
              "4  9106028      Foxrock  ...            NaN      NaN\n",
              "\n",
              "[5 rows x 17 columns]"
            ]
          },
          "metadata": {},
          "execution_count": 1416
        }
      ]
    },
    {
      "cell_type": "code",
      "metadata": {
        "id": "5rq_p-D4yLBe",
        "colab": {
          "base_uri": "https://localhost:8080/",
          "height": 300
        },
        "outputId": "bb3b7306-a5fb-4ffe-9cf7-e31bd2aca544"
      },
      "source": [
        "# Generate descriptive statistics.\n",
        "dftrain.describe()"
      ],
      "execution_count": 1417,
      "outputs": [
        {
          "output_type": "execute_result",
          "data": {
            "text/html": [
              "<div>\n",
              "<style scoped>\n",
              "    .dataframe tbody tr th:only-of-type {\n",
              "        vertical-align: middle;\n",
              "    }\n",
              "\n",
              "    .dataframe tbody tr th {\n",
              "        vertical-align: top;\n",
              "    }\n",
              "\n",
              "    .dataframe thead th {\n",
              "        text-align: right;\n",
              "    }\n",
              "</style>\n",
              "<table border=\"1\" class=\"dataframe\">\n",
              "  <thead>\n",
              "    <tr style=\"text-align: right;\">\n",
              "      <th></th>\n",
              "      <th>ad_id</th>\n",
              "      <th>bathrooms</th>\n",
              "      <th>beds</th>\n",
              "      <th>latitude</th>\n",
              "      <th>longitude</th>\n",
              "      <th>no_of_units</th>\n",
              "      <th>price</th>\n",
              "      <th>surface</th>\n",
              "    </tr>\n",
              "  </thead>\n",
              "  <tbody>\n",
              "    <tr>\n",
              "      <th>count</th>\n",
              "      <td>2.982000e+03</td>\n",
              "      <td>2931.000000</td>\n",
              "      <td>2931.000000</td>\n",
              "      <td>2982.000000</td>\n",
              "      <td>2982.000000</td>\n",
              "      <td>59.000000</td>\n",
              "      <td>2.892000e+03</td>\n",
              "      <td>2431.000000</td>\n",
              "    </tr>\n",
              "    <tr>\n",
              "      <th>mean</th>\n",
              "      <td>1.224065e+07</td>\n",
              "      <td>1.998635</td>\n",
              "      <td>2.979188</td>\n",
              "      <td>53.355991</td>\n",
              "      <td>-6.257175</td>\n",
              "      <td>7.440678</td>\n",
              "      <td>5.323536e+05</td>\n",
              "      <td>318.851787</td>\n",
              "    </tr>\n",
              "    <tr>\n",
              "      <th>std</th>\n",
              "      <td>5.793037e+05</td>\n",
              "      <td>1.291875</td>\n",
              "      <td>1.468408</td>\n",
              "      <td>0.086748</td>\n",
              "      <td>0.141906</td>\n",
              "      <td>8.937081</td>\n",
              "      <td>5.678148e+05</td>\n",
              "      <td>4389.423136</td>\n",
              "    </tr>\n",
              "    <tr>\n",
              "      <th>min</th>\n",
              "      <td>9.968870e+05</td>\n",
              "      <td>0.000000</td>\n",
              "      <td>0.000000</td>\n",
              "      <td>51.458439</td>\n",
              "      <td>-6.521183</td>\n",
              "      <td>0.000000</td>\n",
              "      <td>1.999500e+04</td>\n",
              "      <td>3.400000</td>\n",
              "    </tr>\n",
              "    <tr>\n",
              "      <th>25%</th>\n",
              "      <td>1.226813e+07</td>\n",
              "      <td>1.000000</td>\n",
              "      <td>2.000000</td>\n",
              "      <td>53.298929</td>\n",
              "      <td>-6.314064</td>\n",
              "      <td>2.000000</td>\n",
              "      <td>2.800000e+05</td>\n",
              "      <td>74.100000</td>\n",
              "    </tr>\n",
              "    <tr>\n",
              "      <th>50%</th>\n",
              "      <td>1.237758e+07</td>\n",
              "      <td>2.000000</td>\n",
              "      <td>3.000000</td>\n",
              "      <td>53.345497</td>\n",
              "      <td>-6.252254</td>\n",
              "      <td>3.000000</td>\n",
              "      <td>3.800000e+05</td>\n",
              "      <td>100.000000</td>\n",
              "    </tr>\n",
              "    <tr>\n",
              "      <th>75%</th>\n",
              "      <td>1.240294e+07</td>\n",
              "      <td>3.000000</td>\n",
              "      <td>4.000000</td>\n",
              "      <td>53.388845</td>\n",
              "      <td>-6.196049</td>\n",
              "      <td>8.000000</td>\n",
              "      <td>5.750000e+05</td>\n",
              "      <td>142.000000</td>\n",
              "    </tr>\n",
              "    <tr>\n",
              "      <th>max</th>\n",
              "      <td>1.242836e+07</td>\n",
              "      <td>18.000000</td>\n",
              "      <td>27.000000</td>\n",
              "      <td>53.630588</td>\n",
              "      <td>-1.744995</td>\n",
              "      <td>36.000000</td>\n",
              "      <td>9.995000e+06</td>\n",
              "      <td>182108.539008</td>\n",
              "    </tr>\n",
              "  </tbody>\n",
              "</table>\n",
              "</div>"
            ],
            "text/plain": [
              "              ad_id    bathrooms  ...         price        surface\n",
              "count  2.982000e+03  2931.000000  ...  2.892000e+03    2431.000000\n",
              "mean   1.224065e+07     1.998635  ...  5.323536e+05     318.851787\n",
              "std    5.793037e+05     1.291875  ...  5.678148e+05    4389.423136\n",
              "min    9.968870e+05     0.000000  ...  1.999500e+04       3.400000\n",
              "25%    1.226813e+07     1.000000  ...  2.800000e+05      74.100000\n",
              "50%    1.237758e+07     2.000000  ...  3.800000e+05     100.000000\n",
              "75%    1.240294e+07     3.000000  ...  5.750000e+05     142.000000\n",
              "max    1.242836e+07    18.000000  ...  9.995000e+06  182108.539008\n",
              "\n",
              "[8 rows x 8 columns]"
            ]
          },
          "metadata": {},
          "execution_count": 1417
        }
      ]
    },
    {
      "cell_type": "markdown",
      "metadata": {
        "id": "XadHvcoXLtjz"
      },
      "source": [
        "Assess count of each feature alongside the data type i.e. whether it is numeric or categorical."
      ]
    },
    {
      "cell_type": "code",
      "metadata": {
        "id": "ByiI0CQKOgKk",
        "colab": {
          "base_uri": "https://localhost:8080/"
        },
        "outputId": "4a7ba127-8f0b-4a25-f79a-28b07054c73d"
      },
      "source": [
        "dftrain.info()"
      ],
      "execution_count": 1418,
      "outputs": [
        {
          "output_type": "stream",
          "name": "stdout",
          "text": [
            "<class 'pandas.core.frame.DataFrame'>\n",
            "RangeIndex: 2982 entries, 0 to 2981\n",
            "Data columns (total 17 columns):\n",
            " #   Column              Non-Null Count  Dtype  \n",
            "---  ------              --------------  -----  \n",
            " 0   ad_id               2982 non-null   int64  \n",
            " 1   area                2982 non-null   object \n",
            " 2   bathrooms           2931 non-null   float64\n",
            " 3   beds                2931 non-null   float64\n",
            " 4   ber_classification  2305 non-null   object \n",
            " 5   county              2982 non-null   object \n",
            " 6   description_block   2982 non-null   object \n",
            " 7   environment         2982 non-null   object \n",
            " 8   facility            965 non-null    object \n",
            " 9   features            2982 non-null   object \n",
            " 10  latitude            2982 non-null   float64\n",
            " 11  longitude           2982 non-null   float64\n",
            " 12  no_of_units         59 non-null     float64\n",
            " 13  price               2892 non-null   float64\n",
            " 14  property_category   2982 non-null   object \n",
            " 15  property_type       2931 non-null   object \n",
            " 16  surface             2431 non-null   float64\n",
            "dtypes: float64(7), int64(1), object(9)\n",
            "memory usage: 396.2+ KB\n"
          ]
        }
      ]
    },
    {
      "cell_type": "markdown",
      "metadata": {
        "id": "HpwHL39L87i4"
      },
      "source": [
        "Check each column in the dataframe how many null/Nan instances there are."
      ]
    },
    {
      "cell_type": "code",
      "metadata": {
        "colab": {
          "base_uri": "https://localhost:8080/"
        },
        "id": "UpYolpIzDCc4",
        "outputId": "94528ce4-ec3c-48f4-d489-e266ef866e91"
      },
      "source": [
        "dftrain.isna().sum()"
      ],
      "execution_count": 1419,
      "outputs": [
        {
          "output_type": "execute_result",
          "data": {
            "text/plain": [
              "ad_id                    0\n",
              "area                     0\n",
              "bathrooms               51\n",
              "beds                    51\n",
              "ber_classification     677\n",
              "county                   0\n",
              "description_block        0\n",
              "environment              0\n",
              "facility              2017\n",
              "features                 0\n",
              "latitude                 0\n",
              "longitude                0\n",
              "no_of_units           2923\n",
              "price                   90\n",
              "property_category        0\n",
              "property_type           51\n",
              "surface                551\n",
              "dtype: int64"
            ]
          },
          "metadata": {},
          "execution_count": 1419
        }
      ]
    },
    {
      "cell_type": "markdown",
      "metadata": {
        "id": "vEYuRB-u7eMF"
      },
      "source": [
        "There is 2982 rows and 17 columns in the training data. \n",
        "*   '**facility**' has 2017 NaN instances which means there is nearly two thirds of values missing. \n",
        "*   '**no_of_units**' has 2923 NaN instances which means there is nearly all values missing.\n",
        "*   '**ad_id**' has 2982 unique values which equates to the total amount of rows so it is not offering any helpful information.\n",
        "*   '**description_block**' and '**features**' have sentences/statements with inconsistent descriptions about the properties so these are not helpful for training a model. \n",
        "\n",
        "These features will be dropped as there is not much value being added in terms of training a model with them.\n",
        "\n",
        "\n"
      ]
    },
    {
      "cell_type": "code",
      "metadata": {
        "colab": {
          "base_uri": "https://localhost:8080/"
        },
        "id": "g1enI3HqwODz",
        "outputId": "f2b78fff-630e-484c-f435-b4e6b80a09e5"
      },
      "source": [
        "dftrain_adj = dftrain.drop(columns=['ad_id', 'facility','no_of_units', 'description_block', 'features'])\n",
        "\n",
        "dftrain_adj.shape"
      ],
      "execution_count": 1420,
      "outputs": [
        {
          "output_type": "execute_result",
          "data": {
            "text/plain": [
              "(2982, 12)"
            ]
          },
          "metadata": {},
          "execution_count": 1420
        }
      ]
    },
    {
      "cell_type": "markdown",
      "metadata": {
        "id": "UVmLfEb5Pk19"
      },
      "source": [
        "Check how much variation there is in the features '**county**', '**environment**' and '**property_category**'."
      ]
    },
    {
      "cell_type": "code",
      "metadata": {
        "id": "1JEIlgTvPbDv",
        "colab": {
          "base_uri": "https://localhost:8080/"
        },
        "outputId": "b681053a-7d11-4403-dd30-1520b068ea19"
      },
      "source": [
        "dftrain_adj['county'].value_counts()"
      ],
      "execution_count": 1421,
      "outputs": [
        {
          "output_type": "execute_result",
          "data": {
            "text/plain": [
              "Dublin    2982\n",
              "Name: county, dtype: int64"
            ]
          },
          "metadata": {},
          "execution_count": 1421
        }
      ]
    },
    {
      "cell_type": "code",
      "metadata": {
        "colab": {
          "base_uri": "https://localhost:8080/"
        },
        "id": "t_sJc5QyRugg",
        "outputId": "0a2d4b30-714a-4e9e-dc54-dfc761abcb0d"
      },
      "source": [
        "dftrain_adj['environment'].value_counts()"
      ],
      "execution_count": 1422,
      "outputs": [
        {
          "output_type": "execute_result",
          "data": {
            "text/plain": [
              "prod    2982\n",
              "Name: environment, dtype: int64"
            ]
          },
          "metadata": {},
          "execution_count": 1422
        }
      ]
    },
    {
      "cell_type": "code",
      "metadata": {
        "colab": {
          "base_uri": "https://localhost:8080/"
        },
        "id": "n9sB2ADoZbEU",
        "outputId": "dbda9765-31fe-4a7c-d6b7-b3c832ca934f"
      },
      "source": [
        "dftrain_adj['property_category'].value_counts()"
      ],
      "execution_count": 1423,
      "outputs": [
        {
          "output_type": "execute_result",
          "data": {
            "text/plain": [
              "sale                      2923\n",
              "new_development_parent      59\n",
              "Name: property_category, dtype: int64"
            ]
          },
          "metadata": {},
          "execution_count": 1423
        }
      ]
    },
    {
      "cell_type": "markdown",
      "metadata": {
        "id": "3Q_d-VFPPrrE"
      },
      "source": [
        "As '**county**' has only one value 'Dublin' and '**environment**' has only one value 'prod', these features can be removed as they are not providing any useful information. \n",
        "\n",
        "Only 59 out of 2982 instances (~2%) of '**property_category**' are not 'sale' so this feature is not adding a lot of information either and can be removed too."
      ]
    },
    {
      "cell_type": "code",
      "metadata": {
        "id": "-xMpQCz-Pa_s"
      },
      "source": [
        "dftrain_adj.drop(columns=['county', 'environment', 'property_category'], inplace=True)"
      ],
      "execution_count": 1424,
      "outputs": []
    },
    {
      "cell_type": "code",
      "metadata": {
        "colab": {
          "base_uri": "https://localhost:8080/"
        },
        "id": "Oke9a55EKN2L",
        "outputId": "a6b1e555-f273-4c3e-b2a3-563299f4ddc7"
      },
      "source": [
        "dftrain_adj.shape"
      ],
      "execution_count": 1425,
      "outputs": [
        {
          "output_type": "execute_result",
          "data": {
            "text/plain": [
              "(2982, 9)"
            ]
          },
          "metadata": {},
          "execution_count": 1425
        }
      ]
    },
    {
      "cell_type": "markdown",
      "metadata": {
        "id": "KzYY_dW2ISNK"
      },
      "source": [
        "Drop all rows with NaN present as the sample/observation is incomplete and may be misleading."
      ]
    },
    {
      "cell_type": "code",
      "metadata": {
        "id": "GHcnY1uaGL3n",
        "colab": {
          "base_uri": "https://localhost:8080/"
        },
        "outputId": "0fa1d47e-5d39-46c9-bde3-90d109ec9b70"
      },
      "source": [
        "dftrain_adj.dropna(inplace=True)\n",
        "\n",
        "dftrain_adj.shape"
      ],
      "execution_count": 1426,
      "outputs": [
        {
          "output_type": "execute_result",
          "data": {
            "text/plain": [
              "(2002, 9)"
            ]
          },
          "metadata": {},
          "execution_count": 1426
        }
      ]
    },
    {
      "cell_type": "markdown",
      "metadata": {
        "id": "iJPTIrPJIbRT"
      },
      "source": [
        "Remove samples where there are 0 bathrooms and 0 bedrooms."
      ]
    },
    {
      "cell_type": "code",
      "metadata": {
        "id": "AvlmnWdXGLsu",
        "colab": {
          "base_uri": "https://localhost:8080/"
        },
        "outputId": "5eb62cab-221d-4de5-a9b6-3721fc57e755"
      },
      "source": [
        "dftrain_adj.drop(dftrain_adj[dftrain_adj.beds == 0].index, inplace=True)\n",
        "\n",
        "dftrain_adj.drop(dftrain_adj[dftrain_adj.bathrooms == 0].index, inplace=True)\n",
        "\n",
        "dftrain_adj.shape"
      ],
      "execution_count": 1427,
      "outputs": [
        {
          "output_type": "execute_result",
          "data": {
            "text/plain": [
              "(1989, 9)"
            ]
          },
          "metadata": {},
          "execution_count": 1427
        }
      ]
    },
    {
      "cell_type": "markdown",
      "metadata": {
        "id": "O9FgOhqKeXwc"
      },
      "source": [
        "Check what features remain."
      ]
    },
    {
      "cell_type": "code",
      "metadata": {
        "colab": {
          "base_uri": "https://localhost:8080/",
          "height": 206
        },
        "id": "jX-s-vePMmMD",
        "outputId": "55f3d5a9-3e94-4d5f-872f-22a7a6a58e90"
      },
      "source": [
        "dftrain_adj.head()"
      ],
      "execution_count": 1428,
      "outputs": [
        {
          "output_type": "execute_result",
          "data": {
            "text/html": [
              "<div>\n",
              "<style scoped>\n",
              "    .dataframe tbody tr th:only-of-type {\n",
              "        vertical-align: middle;\n",
              "    }\n",
              "\n",
              "    .dataframe tbody tr th {\n",
              "        vertical-align: top;\n",
              "    }\n",
              "\n",
              "    .dataframe thead th {\n",
              "        text-align: right;\n",
              "    }\n",
              "</style>\n",
              "<table border=\"1\" class=\"dataframe\">\n",
              "  <thead>\n",
              "    <tr style=\"text-align: right;\">\n",
              "      <th></th>\n",
              "      <th>area</th>\n",
              "      <th>bathrooms</th>\n",
              "      <th>beds</th>\n",
              "      <th>ber_classification</th>\n",
              "      <th>latitude</th>\n",
              "      <th>longitude</th>\n",
              "      <th>price</th>\n",
              "      <th>property_type</th>\n",
              "      <th>surface</th>\n",
              "    </tr>\n",
              "  </thead>\n",
              "  <tbody>\n",
              "    <tr>\n",
              "      <th>15</th>\n",
              "      <td>Clonee</td>\n",
              "      <td>3.0</td>\n",
              "      <td>5.0</td>\n",
              "      <td>A3</td>\n",
              "      <td>53.400454</td>\n",
              "      <td>-6.445730</td>\n",
              "      <td>935000.0</td>\n",
              "      <td>detached</td>\n",
              "      <td>321.0</td>\n",
              "    </tr>\n",
              "    <tr>\n",
              "      <th>26</th>\n",
              "      <td>Clondalkin</td>\n",
              "      <td>4.0</td>\n",
              "      <td>4.0</td>\n",
              "      <td>A3</td>\n",
              "      <td>53.316410</td>\n",
              "      <td>-6.385214</td>\n",
              "      <td>485000.0</td>\n",
              "      <td>semi-detached</td>\n",
              "      <td>144.0</td>\n",
              "    </tr>\n",
              "    <tr>\n",
              "      <th>27</th>\n",
              "      <td>Clonee</td>\n",
              "      <td>3.0</td>\n",
              "      <td>5.0</td>\n",
              "      <td>A3</td>\n",
              "      <td>53.401414</td>\n",
              "      <td>-6.446634</td>\n",
              "      <td>935000.0</td>\n",
              "      <td>detached</td>\n",
              "      <td>321.0</td>\n",
              "    </tr>\n",
              "    <tr>\n",
              "      <th>35</th>\n",
              "      <td>Howth</td>\n",
              "      <td>5.0</td>\n",
              "      <td>5.0</td>\n",
              "      <td>A2</td>\n",
              "      <td>53.375377</td>\n",
              "      <td>-6.056749</td>\n",
              "      <td>1475000.0</td>\n",
              "      <td>detached</td>\n",
              "      <td>312.0</td>\n",
              "    </tr>\n",
              "    <tr>\n",
              "      <th>38</th>\n",
              "      <td>Castleknock</td>\n",
              "      <td>2.0</td>\n",
              "      <td>2.0</td>\n",
              "      <td>A3</td>\n",
              "      <td>53.372130</td>\n",
              "      <td>-6.338466</td>\n",
              "      <td>410000.0</td>\n",
              "      <td>apartment</td>\n",
              "      <td>83.0</td>\n",
              "    </tr>\n",
              "  </tbody>\n",
              "</table>\n",
              "</div>"
            ],
            "text/plain": [
              "           area  bathrooms  beds  ...      price  property_type  surface\n",
              "15       Clonee        3.0   5.0  ...   935000.0       detached    321.0\n",
              "26   Clondalkin        4.0   4.0  ...   485000.0  semi-detached    144.0\n",
              "27       Clonee        3.0   5.0  ...   935000.0       detached    321.0\n",
              "35        Howth        5.0   5.0  ...  1475000.0       detached    312.0\n",
              "38  Castleknock        2.0   2.0  ...   410000.0      apartment     83.0\n",
              "\n",
              "[5 rows x 9 columns]"
            ]
          },
          "metadata": {},
          "execution_count": 1428
        }
      ]
    },
    {
      "cell_type": "code",
      "metadata": {
        "colab": {
          "base_uri": "https://localhost:8080/"
        },
        "id": "1XcdleMqMfNI",
        "outputId": "1d1f87f0-dcd7-41f4-ed6f-38faaba2f6b3"
      },
      "source": [
        "dftrain_adj['area'].value_counts()"
      ],
      "execution_count": 1429,
      "outputs": [
        {
          "output_type": "execute_result",
          "data": {
            "text/plain": [
              "Rathfarnham    73\n",
              "Castleknock    67\n",
              "Malahide       57\n",
              "Lucan          55\n",
              "Blackrock      51\n",
              "               ..\n",
              "Kilmore         1\n",
              "Kiltipper       1\n",
              "Greenhills      1\n",
              "Kingswood       1\n",
              "Garristown      1\n",
              "Name: area, Length: 144, dtype: int64"
            ]
          },
          "metadata": {},
          "execution_count": 1429
        }
      ]
    },
    {
      "cell_type": "code",
      "metadata": {
        "colab": {
          "base_uri": "https://localhost:8080/"
        },
        "id": "5zrZNx--XbzN",
        "outputId": "869aeb73-b0a8-4718-9ef7-3cab324b9afe"
      },
      "source": [
        "temporary_series = dftrain_adj['area'].value_counts()\n",
        "\n",
        "temporary_series.values"
      ],
      "execution_count": 1430,
      "outputs": [
        {
          "output_type": "execute_result",
          "data": {
            "text/plain": [
              "array([73, 67, 57, 55, 51, 45, 41, 39, 39, 38, 37, 37, 36, 36, 34, 33, 33,\n",
              "       33, 32, 30, 29, 29, 26, 26, 25, 24, 24, 24, 24, 22, 22, 21, 20, 20,\n",
              "       19, 18, 18, 17, 17, 16, 16, 16, 16, 16, 15, 15, 14, 13, 13, 13, 13,\n",
              "       13, 13, 13, 13, 12, 12, 12, 12, 12, 11, 11, 11, 11, 10, 10, 10, 10,\n",
              "       10,  9,  9,  9,  9,  9,  9,  8,  8,  8,  8,  8,  8,  8,  8,  8,  7,\n",
              "        7,  7,  7,  6,  6,  6,  6,  6,  6,  6,  6,  6,  6,  6,  5,  5,  5,\n",
              "        4,  4,  4,  4,  4,  4,  4,  4,  4,  4,  3,  3,  3,  3,  3,  3,  3,\n",
              "        3,  3,  3,  3,  2,  2,  2,  2,  2,  2,  2,  1,  1,  1,  1,  1,  1,\n",
              "        1,  1,  1,  1,  1,  1,  1,  1])"
            ]
          },
          "metadata": {},
          "execution_count": 1430
        }
      ]
    },
    {
      "cell_type": "code",
      "metadata": {
        "colab": {
          "base_uri": "https://localhost:8080/"
        },
        "id": "SpVXh4JIXv8n",
        "outputId": "c40f637e-ced9-467b-bf0a-930a160dcb32"
      },
      "source": [
        "dftrain_adj['ber_classification'].value_counts()"
      ],
      "execution_count": 1431,
      "outputs": [
        {
          "output_type": "execute_result",
          "data": {
            "text/plain": [
              "D1                     255\n",
              "D2                     241\n",
              "C3                     224\n",
              "C2                     210\n",
              "C1                     182\n",
              "E1                     154\n",
              "E2                     148\n",
              "G                      144\n",
              "F                      135\n",
              "B3                     106\n",
              "B2                      69\n",
              "A3                      61\n",
              "SINo666of2006exempt     23\n",
              "A2                      22\n",
              "B1                      14\n",
              "A1                       1\n",
              "Name: ber_classification, dtype: int64"
            ]
          },
          "metadata": {},
          "execution_count": 1431
        }
      ]
    },
    {
      "cell_type": "code",
      "metadata": {
        "colab": {
          "base_uri": "https://localhost:8080/"
        },
        "id": "hljN6KSkXvy3",
        "outputId": "511fafab-77b3-49d2-c6bb-7cb794703bf3"
      },
      "source": [
        "dftrain_adj['property_type'].value_counts()"
      ],
      "execution_count": 1432,
      "outputs": [
        {
          "output_type": "execute_result",
          "data": {
            "text/plain": [
              "semi-detached     554\n",
              "apartment         530\n",
              "terraced          339\n",
              "detached          297\n",
              "end-of-terrace    153\n",
              "bungalow           56\n",
              "duplex             37\n",
              "townhouse          19\n",
              "site                3\n",
              "studio              1\n",
              "Name: property_type, dtype: int64"
            ]
          },
          "metadata": {},
          "execution_count": 1432
        }
      ]
    },
    {
      "cell_type": "markdown",
      "metadata": {
        "id": "maa0AqJceCxm"
      },
      "source": [
        "For the categorical features '**area**', '**ber_classification**' and '**property_type**' a mapping approach will be taken to convert these to numerical features going forward.\n",
        "\n",
        "DATACAMP LINK....................\n"
      ]
    },
    {
      "cell_type": "markdown",
      "metadata": {
        "id": "2OhgjdzaeR6r"
      },
      "source": [
        "Convert each categorical variable in turn and update dataframe."
      ]
    },
    {
      "cell_type": "code",
      "metadata": {
        "colab": {
          "base_uri": "https://localhost:8080/"
        },
        "id": "_QJPcJiFc_Ey",
        "outputId": "902d435b-5fab-4d1d-bbe4-000fad0f9b02"
      },
      "source": [
        "labels = dftrain_adj['area'].astype('category').cat.categories.tolist()\n",
        "\n",
        "replace_map_comp_1 = {'area' : {k: v for k,v in zip(labels,list(range(1,len(labels)+1)))}}\n",
        "\n",
        "print(replace_map_comp_1)\n",
        "\n",
        "dftrain_adj.replace(replace_map_comp_1, inplace=True)"
      ],
      "execution_count": 1433,
      "outputs": [
        {
          "output_type": "stream",
          "name": "stdout",
          "text": [
            "{'area': {'Adamstown': 1, 'Ard Na Greine': 2, 'Artane': 3, 'Ashtown': 4, 'Balbriggan': 5, 'Baldoyle': 6, 'Balgriffin': 7, 'Ballinteer': 8, 'Ballsbridge': 9, 'Ballybough': 10, 'Ballyboughal': 11, 'Ballybrack': 12, 'Ballycullen': 13, 'Ballyfermot': 14, 'Ballymun': 15, 'Balrothery': 16, 'Beaumont': 17, 'Blackrock': 18, 'Blanchardstown': 19, 'Bluebell': 20, 'Booterstown': 21, 'Brittas': 22, 'Cabinteely': 23, 'Cabra': 24, 'Carrickmines': 25, 'Castleknock': 26, 'Chapelizod': 27, 'Christchurch': 28, 'Churchtown': 29, 'Citywest': 30, 'Clarehall': 31, 'Clondalkin': 32, 'Clonee': 33, 'Clongriffin': 34, 'Clonshaugh': 35, 'Clonsilla': 36, 'Clonskeagh': 37, 'Clontarf': 38, 'Coolock': 39, 'Crumlin': 40, 'Dalkey': 41, 'Darndale': 42, 'Dartry': 43, 'Donabate': 44, 'Donaghmede': 45, 'Donnybrook': 46, 'Donnycarney': 47, 'Drimnagh': 48, 'Drumcondra': 49, 'Dublin 1': 50, 'Dublin 2': 51, 'Dublin 4': 52, 'Dublin 7': 53, 'Dublin 8': 54, 'Dun Laoghaire': 55, 'Dundrum': 56, 'East Wall': 57, 'Edenmore': 58, 'Fairview': 59, 'Finglas': 60, 'Firhouse': 61, 'Foxrock': 62, 'Garristown': 63, 'Glasnevin': 64, 'Glenageary': 65, 'Goatstown': 66, 'Grand Canal Dock': 67, 'Greenhills': 68, \"Harold's Cross\": 69, 'Howth': 70, 'IFSC': 71, 'Inchicore': 72, 'Irishtown': 73, 'Islandbridge': 74, 'Killester': 75, 'Killiney': 76, 'Kilmacud': 77, 'Kilmainham': 78, 'Kilmore': 79, 'Kilnamanagh': 80, 'Kilternan': 81, 'Kiltipper': 82, 'Kimmage': 83, 'Kingswood': 84, 'Kinsealy': 85, 'Knocklyon': 86, 'Leopardstown': 87, 'Loughlinstown': 88, 'Loughshinny': 89, 'Lucan': 90, 'Lusk': 91, 'Malahide': 92, 'Marino': 93, 'Milltown': 94, 'Monkstown': 95, 'Mount Merrion': 96, 'Mulhuddart': 97, 'Naul': 98, 'Navan Road (D7)': 99, 'Newcastle': 100, 'North Circular Road': 101, 'North Strand': 102, 'Oldbawn': 103, 'Ongar': 104, 'Palmerstown': 105, 'Park West': 106, 'Perrystown': 107, 'Phibsborough': 108, 'Portmarnock': 109, 'Portobello': 110, 'Raheny': 111, 'Ranelagh': 112, 'Rathcoole': 113, 'Rathfarnham': 114, 'Rathgar': 115, 'Rathmichael': 116, 'Rathmines': 117, 'Rialto': 118, 'Ringsend': 119, 'Rush': 120, 'Saggart': 121, 'Sallynoggin': 122, 'Sandycove': 123, 'Sandyford': 124, 'Sandymount': 125, 'Santry': 126, 'Shankill': 127, 'Skerries': 128, 'Smithfield': 129, 'South Circular Road': 130, 'Stepaside': 131, 'Stoneybatter': 132, 'Sutton': 133, 'Swords': 134, 'Tallaght': 135, 'Temple Bar': 136, 'Templeogue': 137, 'Terenure': 138, 'The Coombe': 139, 'The Ward': 140, 'Tyrrelstown': 141, 'Walkinstown': 142, 'Whitehall': 143, 'Windy Arbour': 144}}\n"
          ]
        }
      ]
    },
    {
      "cell_type": "code",
      "metadata": {
        "colab": {
          "base_uri": "https://localhost:8080/"
        },
        "id": "m3_ogR99c-5c",
        "outputId": "42b4a8cf-4d95-486b-a4f0-0a8f4411b841"
      },
      "source": [
        "labels = dftrain_adj['ber_classification'].astype('category').cat.categories.tolist()\n",
        "\n",
        "replace_map_comp_2 = {'ber_classification' : {k: v for k,v in zip(labels,list(range(1,len(labels)+1)))}}\n",
        "\n",
        "print(replace_map_comp_2)\n",
        "\n",
        "dftrain_adj.replace(replace_map_comp_2, inplace=True)"
      ],
      "execution_count": 1434,
      "outputs": [
        {
          "output_type": "stream",
          "name": "stdout",
          "text": [
            "{'ber_classification': {'A1': 1, 'A2': 2, 'A3': 3, 'B1': 4, 'B2': 5, 'B3': 6, 'C1': 7, 'C2': 8, 'C3': 9, 'D1': 10, 'D2': 11, 'E1': 12, 'E2': 13, 'F': 14, 'G': 15, 'SINo666of2006exempt': 16}}\n"
          ]
        }
      ]
    },
    {
      "cell_type": "code",
      "metadata": {
        "colab": {
          "base_uri": "https://localhost:8080/"
        },
        "id": "jgfBrUH8eu7-",
        "outputId": "ae84cb4e-a88f-49d7-ee02-5ac215e7930f"
      },
      "source": [
        "labels = dftrain_adj['property_type'].astype('category').cat.categories.tolist()\n",
        "\n",
        "replace_map_comp_3 = {'property_type' : {k: v for k,v in zip(labels,list(range(1,len(labels)+1)))}}\n",
        "\n",
        "print(replace_map_comp_3)\n",
        "\n",
        "dftrain_adj.replace(replace_map_comp_3, inplace=True)"
      ],
      "execution_count": 1435,
      "outputs": [
        {
          "output_type": "stream",
          "name": "stdout",
          "text": [
            "{'property_type': {'apartment': 1, 'bungalow': 2, 'detached': 3, 'duplex': 4, 'end-of-terrace': 5, 'semi-detached': 6, 'site': 7, 'studio': 8, 'terraced': 9, 'townhouse': 10}}\n"
          ]
        }
      ]
    },
    {
      "cell_type": "code",
      "metadata": {
        "colab": {
          "base_uri": "https://localhost:8080/",
          "height": 206
        },
        "id": "SpKA5BUEfB-V",
        "outputId": "63f80bd0-19c9-4a1c-b405-957f6511ffc0"
      },
      "source": [
        "dftrain_adj.head()"
      ],
      "execution_count": 1436,
      "outputs": [
        {
          "output_type": "execute_result",
          "data": {
            "text/html": [
              "<div>\n",
              "<style scoped>\n",
              "    .dataframe tbody tr th:only-of-type {\n",
              "        vertical-align: middle;\n",
              "    }\n",
              "\n",
              "    .dataframe tbody tr th {\n",
              "        vertical-align: top;\n",
              "    }\n",
              "\n",
              "    .dataframe thead th {\n",
              "        text-align: right;\n",
              "    }\n",
              "</style>\n",
              "<table border=\"1\" class=\"dataframe\">\n",
              "  <thead>\n",
              "    <tr style=\"text-align: right;\">\n",
              "      <th></th>\n",
              "      <th>area</th>\n",
              "      <th>bathrooms</th>\n",
              "      <th>beds</th>\n",
              "      <th>ber_classification</th>\n",
              "      <th>latitude</th>\n",
              "      <th>longitude</th>\n",
              "      <th>price</th>\n",
              "      <th>property_type</th>\n",
              "      <th>surface</th>\n",
              "    </tr>\n",
              "  </thead>\n",
              "  <tbody>\n",
              "    <tr>\n",
              "      <th>15</th>\n",
              "      <td>33</td>\n",
              "      <td>3.0</td>\n",
              "      <td>5.0</td>\n",
              "      <td>3</td>\n",
              "      <td>53.400454</td>\n",
              "      <td>-6.445730</td>\n",
              "      <td>935000.0</td>\n",
              "      <td>3</td>\n",
              "      <td>321.0</td>\n",
              "    </tr>\n",
              "    <tr>\n",
              "      <th>26</th>\n",
              "      <td>32</td>\n",
              "      <td>4.0</td>\n",
              "      <td>4.0</td>\n",
              "      <td>3</td>\n",
              "      <td>53.316410</td>\n",
              "      <td>-6.385214</td>\n",
              "      <td>485000.0</td>\n",
              "      <td>6</td>\n",
              "      <td>144.0</td>\n",
              "    </tr>\n",
              "    <tr>\n",
              "      <th>27</th>\n",
              "      <td>33</td>\n",
              "      <td>3.0</td>\n",
              "      <td>5.0</td>\n",
              "      <td>3</td>\n",
              "      <td>53.401414</td>\n",
              "      <td>-6.446634</td>\n",
              "      <td>935000.0</td>\n",
              "      <td>3</td>\n",
              "      <td>321.0</td>\n",
              "    </tr>\n",
              "    <tr>\n",
              "      <th>35</th>\n",
              "      <td>70</td>\n",
              "      <td>5.0</td>\n",
              "      <td>5.0</td>\n",
              "      <td>2</td>\n",
              "      <td>53.375377</td>\n",
              "      <td>-6.056749</td>\n",
              "      <td>1475000.0</td>\n",
              "      <td>3</td>\n",
              "      <td>312.0</td>\n",
              "    </tr>\n",
              "    <tr>\n",
              "      <th>38</th>\n",
              "      <td>26</td>\n",
              "      <td>2.0</td>\n",
              "      <td>2.0</td>\n",
              "      <td>3</td>\n",
              "      <td>53.372130</td>\n",
              "      <td>-6.338466</td>\n",
              "      <td>410000.0</td>\n",
              "      <td>1</td>\n",
              "      <td>83.0</td>\n",
              "    </tr>\n",
              "  </tbody>\n",
              "</table>\n",
              "</div>"
            ],
            "text/plain": [
              "    area  bathrooms  beds  ...      price  property_type  surface\n",
              "15    33        3.0   5.0  ...   935000.0              3    321.0\n",
              "26    32        4.0   4.0  ...   485000.0              6    144.0\n",
              "27    33        3.0   5.0  ...   935000.0              3    321.0\n",
              "35    70        5.0   5.0  ...  1475000.0              3    312.0\n",
              "38    26        2.0   2.0  ...   410000.0              1     83.0\n",
              "\n",
              "[5 rows x 9 columns]"
            ]
          },
          "metadata": {},
          "execution_count": 1436
        }
      ]
    },
    {
      "cell_type": "code",
      "metadata": {
        "colab": {
          "base_uri": "https://localhost:8080/"
        },
        "id": "_jQce8j5f50k",
        "outputId": "817d22ba-9153-4088-d27f-a51d3a432f74"
      },
      "source": [
        "dftrain_adj.shape"
      ],
      "execution_count": 1437,
      "outputs": [
        {
          "output_type": "execute_result",
          "data": {
            "text/plain": [
              "(1989, 9)"
            ]
          },
          "metadata": {},
          "execution_count": 1437
        }
      ]
    },
    {
      "cell_type": "markdown",
      "metadata": {
        "id": "efYAigYTfLSK"
      },
      "source": [
        "Now all training features are now numeric. There are 9 remaining features (which includes the target 'price')."
      ]
    },
    {
      "cell_type": "markdown",
      "metadata": {
        "id": "Iqg9_uxFyZli"
      },
      "source": [
        "### Test dataset"
      ]
    },
    {
      "cell_type": "markdown",
      "metadata": {
        "id": "cTOiy4gRfo0Q"
      },
      "source": [
        "The same pre-processing approaches taken on the training dataset will be taken on the test dataset."
      ]
    },
    {
      "cell_type": "code",
      "metadata": {
        "id": "bw2_yypxMfsi",
        "colab": {
          "base_uri": "https://localhost:8080/",
          "height": 417
        },
        "outputId": "3a1c9904-f3c0-4bcd-9445-f714d1bce04d"
      },
      "source": [
        "# Show first data frame rows.\n",
        "dftest.head()"
      ],
      "execution_count": 1438,
      "outputs": [
        {
          "output_type": "execute_result",
          "data": {
            "text/html": [
              "<div>\n",
              "<style scoped>\n",
              "    .dataframe tbody tr th:only-of-type {\n",
              "        vertical-align: middle;\n",
              "    }\n",
              "\n",
              "    .dataframe tbody tr th {\n",
              "        vertical-align: top;\n",
              "    }\n",
              "\n",
              "    .dataframe thead th {\n",
              "        text-align: right;\n",
              "    }\n",
              "</style>\n",
              "<table border=\"1\" class=\"dataframe\">\n",
              "  <thead>\n",
              "    <tr style=\"text-align: right;\">\n",
              "      <th></th>\n",
              "      <th>ad_id</th>\n",
              "      <th>area</th>\n",
              "      <th>bathrooms</th>\n",
              "      <th>beds</th>\n",
              "      <th>ber_classification</th>\n",
              "      <th>county</th>\n",
              "      <th>description_block</th>\n",
              "      <th>environment</th>\n",
              "      <th>facility</th>\n",
              "      <th>features</th>\n",
              "      <th>latitude</th>\n",
              "      <th>longitude</th>\n",
              "      <th>no_of_units</th>\n",
              "      <th>property_category</th>\n",
              "      <th>property_type</th>\n",
              "      <th>surface</th>\n",
              "    </tr>\n",
              "  </thead>\n",
              "  <tbody>\n",
              "    <tr>\n",
              "      <th>0</th>\n",
              "      <td>12373510</td>\n",
              "      <td>Skerries</td>\n",
              "      <td>2.0</td>\n",
              "      <td>4.0</td>\n",
              "      <td>G</td>\n",
              "      <td>Dublin</td>\n",
              "      <td>It's all in the name \"Island View\";. Truly won...</td>\n",
              "      <td>prod</td>\n",
              "      <td>Parking,Alarm,Oil Fired Central Heating</td>\n",
              "      <td>Breath-taking panoramic views radiate from thi...</td>\n",
              "      <td>53.566881</td>\n",
              "      <td>-6.101148</td>\n",
              "      <td>NaN</td>\n",
              "      <td>sale</td>\n",
              "      <td>bungalow</td>\n",
              "      <td>142.0</td>\n",
              "    </tr>\n",
              "    <tr>\n",
              "      <th>1</th>\n",
              "      <td>12422623</td>\n",
              "      <td>Lucan</td>\n",
              "      <td>2.0</td>\n",
              "      <td>3.0</td>\n",
              "      <td>C1</td>\n",
              "      <td>Dublin</td>\n",
              "      <td>REA McDonald - Lucan' s longest established es...</td>\n",
              "      <td>prod</td>\n",
              "      <td>NaN</td>\n",
              "      <td>Gas fired central heating.\\nDouble glazed wind...</td>\n",
              "      <td>53.362992</td>\n",
              "      <td>-6.452909</td>\n",
              "      <td>NaN</td>\n",
              "      <td>sale</td>\n",
              "      <td>terraced</td>\n",
              "      <td>114.0</td>\n",
              "    </tr>\n",
              "    <tr>\n",
              "      <th>2</th>\n",
              "      <td>12377408</td>\n",
              "      <td>Swords</td>\n",
              "      <td>3.0</td>\n",
              "      <td>4.0</td>\n",
              "      <td>B3</td>\n",
              "      <td>Dublin</td>\n",
              "      <td>REA Grimes are proud to present to the market ...</td>\n",
              "      <td>prod</td>\n",
              "      <td>NaN</td>\n",
              "      <td>Pristine condition throughout\\nHighly sought-a...</td>\n",
              "      <td>53.454198</td>\n",
              "      <td>-6.262964</td>\n",
              "      <td>NaN</td>\n",
              "      <td>sale</td>\n",
              "      <td>semi-detached</td>\n",
              "      <td>172.0</td>\n",
              "    </tr>\n",
              "    <tr>\n",
              "      <th>3</th>\n",
              "      <td>12420093</td>\n",
              "      <td>Lucan</td>\n",
              "      <td>4.0</td>\n",
              "      <td>3.0</td>\n",
              "      <td>A3</td>\n",
              "      <td>Dublin</td>\n",
              "      <td>REA McDonald, Lucan' s longest established est...</td>\n",
              "      <td>prod</td>\n",
              "      <td>NaN</td>\n",
              "      <td>A-rated home within a short walk of Lucan Vill...</td>\n",
              "      <td>53.354402</td>\n",
              "      <td>-6.458647</td>\n",
              "      <td>NaN</td>\n",
              "      <td>sale</td>\n",
              "      <td>semi-detached</td>\n",
              "      <td>132.4</td>\n",
              "    </tr>\n",
              "    <tr>\n",
              "      <th>4</th>\n",
              "      <td>12417338</td>\n",
              "      <td>Clondalkin</td>\n",
              "      <td>1.0</td>\n",
              "      <td>3.0</td>\n",
              "      <td>E2</td>\n",
              "      <td>Dublin</td>\n",
              "      <td>Hibernian Auctioneers are delighted to bring, ...</td>\n",
              "      <td>prod</td>\n",
              "      <td>Parking,Gas Fired Central Heating,Wired for Ca...</td>\n",
              "      <td>Mature Location \\nGas Heating \\nClose to Ameni...</td>\n",
              "      <td>53.336530</td>\n",
              "      <td>-6.393587</td>\n",
              "      <td>NaN</td>\n",
              "      <td>sale</td>\n",
              "      <td>semi-detached</td>\n",
              "      <td>88.0</td>\n",
              "    </tr>\n",
              "  </tbody>\n",
              "</table>\n",
              "</div>"
            ],
            "text/plain": [
              "      ad_id        area  bathrooms  ...  property_category  property_type surface\n",
              "0  12373510    Skerries        2.0  ...               sale       bungalow   142.0\n",
              "1  12422623       Lucan        2.0  ...               sale       terraced   114.0\n",
              "2  12377408      Swords        3.0  ...               sale  semi-detached   172.0\n",
              "3  12420093       Lucan        4.0  ...               sale  semi-detached   132.4\n",
              "4  12417338  Clondalkin        1.0  ...               sale  semi-detached    88.0\n",
              "\n",
              "[5 rows x 16 columns]"
            ]
          },
          "metadata": {},
          "execution_count": 1438
        }
      ]
    },
    {
      "cell_type": "code",
      "metadata": {
        "id": "FXo0x2u7T7-1",
        "colab": {
          "base_uri": "https://localhost:8080/",
          "height": 300
        },
        "outputId": "cc732c86-165b-45c8-d648-10fb32f60386"
      },
      "source": [
        "# Generate descriptive statistics.\n",
        "dftest.describe()"
      ],
      "execution_count": 1439,
      "outputs": [
        {
          "output_type": "execute_result",
          "data": {
            "text/html": [
              "<div>\n",
              "<style scoped>\n",
              "    .dataframe tbody tr th:only-of-type {\n",
              "        vertical-align: middle;\n",
              "    }\n",
              "\n",
              "    .dataframe tbody tr th {\n",
              "        vertical-align: top;\n",
              "    }\n",
              "\n",
              "    .dataframe thead th {\n",
              "        text-align: right;\n",
              "    }\n",
              "</style>\n",
              "<table border=\"1\" class=\"dataframe\">\n",
              "  <thead>\n",
              "    <tr style=\"text-align: right;\">\n",
              "      <th></th>\n",
              "      <th>ad_id</th>\n",
              "      <th>bathrooms</th>\n",
              "      <th>beds</th>\n",
              "      <th>latitude</th>\n",
              "      <th>longitude</th>\n",
              "      <th>no_of_units</th>\n",
              "      <th>surface</th>\n",
              "    </tr>\n",
              "  </thead>\n",
              "  <tbody>\n",
              "    <tr>\n",
              "      <th>count</th>\n",
              "      <td>5.000000e+02</td>\n",
              "      <td>500.000000</td>\n",
              "      <td>500.000000</td>\n",
              "      <td>500.000000</td>\n",
              "      <td>500.000000</td>\n",
              "      <td>0.0</td>\n",
              "      <td>500.000000</td>\n",
              "    </tr>\n",
              "    <tr>\n",
              "      <th>mean</th>\n",
              "      <td>1.231695e+07</td>\n",
              "      <td>1.994000</td>\n",
              "      <td>2.930000</td>\n",
              "      <td>53.356034</td>\n",
              "      <td>-6.247842</td>\n",
              "      <td>NaN</td>\n",
              "      <td>156.007671</td>\n",
              "    </tr>\n",
              "    <tr>\n",
              "      <th>std</th>\n",
              "      <td>1.485832e+05</td>\n",
              "      <td>1.106532</td>\n",
              "      <td>1.191612</td>\n",
              "      <td>0.081905</td>\n",
              "      <td>0.088552</td>\n",
              "      <td>NaN</td>\n",
              "      <td>344.497362</td>\n",
              "    </tr>\n",
              "    <tr>\n",
              "      <th>min</th>\n",
              "      <td>1.130615e+07</td>\n",
              "      <td>0.000000</td>\n",
              "      <td>0.000000</td>\n",
              "      <td>53.221348</td>\n",
              "      <td>-6.496987</td>\n",
              "      <td>NaN</td>\n",
              "      <td>33.500000</td>\n",
              "    </tr>\n",
              "    <tr>\n",
              "      <th>25%</th>\n",
              "      <td>1.228617e+07</td>\n",
              "      <td>1.000000</td>\n",
              "      <td>2.000000</td>\n",
              "      <td>53.297373</td>\n",
              "      <td>-6.296404</td>\n",
              "      <td>NaN</td>\n",
              "      <td>72.375000</td>\n",
              "    </tr>\n",
              "    <tr>\n",
              "      <th>50%</th>\n",
              "      <td>1.237964e+07</td>\n",
              "      <td>2.000000</td>\n",
              "      <td>3.000000</td>\n",
              "      <td>53.339547</td>\n",
              "      <td>-6.243572</td>\n",
              "      <td>NaN</td>\n",
              "      <td>98.000000</td>\n",
              "    </tr>\n",
              "    <tr>\n",
              "      <th>75%</th>\n",
              "      <td>1.240544e+07</td>\n",
              "      <td>3.000000</td>\n",
              "      <td>4.000000</td>\n",
              "      <td>53.381650</td>\n",
              "      <td>-6.185055</td>\n",
              "      <td>NaN</td>\n",
              "      <td>138.935000</td>\n",
              "    </tr>\n",
              "    <tr>\n",
              "      <th>max</th>\n",
              "      <td>1.242809e+07</td>\n",
              "      <td>8.000000</td>\n",
              "      <td>7.000000</td>\n",
              "      <td>53.619775</td>\n",
              "      <td>-6.064874</td>\n",
              "      <td>NaN</td>\n",
              "      <td>5746.536120</td>\n",
              "    </tr>\n",
              "  </tbody>\n",
              "</table>\n",
              "</div>"
            ],
            "text/plain": [
              "              ad_id   bathrooms  ...  no_of_units      surface\n",
              "count  5.000000e+02  500.000000  ...          0.0   500.000000\n",
              "mean   1.231695e+07    1.994000  ...          NaN   156.007671\n",
              "std    1.485832e+05    1.106532  ...          NaN   344.497362\n",
              "min    1.130615e+07    0.000000  ...          NaN    33.500000\n",
              "25%    1.228617e+07    1.000000  ...          NaN    72.375000\n",
              "50%    1.237964e+07    2.000000  ...          NaN    98.000000\n",
              "75%    1.240544e+07    3.000000  ...          NaN   138.935000\n",
              "max    1.242809e+07    8.000000  ...          NaN  5746.536120\n",
              "\n",
              "[8 rows x 7 columns]"
            ]
          },
          "metadata": {},
          "execution_count": 1439
        }
      ]
    },
    {
      "cell_type": "markdown",
      "metadata": {
        "id": "r_TiunQFgLRY"
      },
      "source": [
        "The 'dfcost' data will temporarily be appended to the test dataset to ensure any pre-processing steps effects 'dftest' and 'dfcost' similarly."
      ]
    },
    {
      "cell_type": "code",
      "metadata": {
        "colab": {
          "base_uri": "https://localhost:8080/"
        },
        "id": "vNX2n5zMgbVG",
        "outputId": "b3ac9a6b-b0e6-4790-e593-ea75d65f55cf"
      },
      "source": [
        "dfcost.shape"
      ],
      "execution_count": 1440,
      "outputs": [
        {
          "output_type": "execute_result",
          "data": {
            "text/plain": [
              "(500, 2)"
            ]
          },
          "metadata": {},
          "execution_count": 1440
        }
      ]
    },
    {
      "cell_type": "markdown",
      "metadata": {
        "id": "Uj1bgl6Pl0Ce"
      },
      "source": [
        "Get rid of the ID column as that is already present in the test datset."
      ]
    },
    {
      "cell_type": "code",
      "metadata": {
        "colab": {
          "base_uri": "https://localhost:8080/"
        },
        "id": "dd6KOtwhjE5Y",
        "outputId": "aa9a5bf0-64be-4335-a0b3-a44e34a1899e"
      },
      "source": [
        "dfcost_temp = dfcost.drop(columns='Id')\n",
        "dfcost_temp.shape\n",
        "#dfcost_temp"
      ],
      "execution_count": 1441,
      "outputs": [
        {
          "output_type": "execute_result",
          "data": {
            "text/plain": [
              "(500, 1)"
            ]
          },
          "metadata": {},
          "execution_count": 1441
        }
      ]
    },
    {
      "cell_type": "code",
      "metadata": {
        "colab": {
          "base_uri": "https://localhost:8080/",
          "height": 417
        },
        "id": "afwP4tmLi3og",
        "outputId": "20058e1f-9f95-4296-cfd9-1d55ca340454"
      },
      "source": [
        "dftest_adj = pd.concat([dftest, dfcost_temp], axis=1)\n",
        "dftest_adj.head()"
      ],
      "execution_count": 1442,
      "outputs": [
        {
          "output_type": "execute_result",
          "data": {
            "text/html": [
              "<div>\n",
              "<style scoped>\n",
              "    .dataframe tbody tr th:only-of-type {\n",
              "        vertical-align: middle;\n",
              "    }\n",
              "\n",
              "    .dataframe tbody tr th {\n",
              "        vertical-align: top;\n",
              "    }\n",
              "\n",
              "    .dataframe thead th {\n",
              "        text-align: right;\n",
              "    }\n",
              "</style>\n",
              "<table border=\"1\" class=\"dataframe\">\n",
              "  <thead>\n",
              "    <tr style=\"text-align: right;\">\n",
              "      <th></th>\n",
              "      <th>ad_id</th>\n",
              "      <th>area</th>\n",
              "      <th>bathrooms</th>\n",
              "      <th>beds</th>\n",
              "      <th>ber_classification</th>\n",
              "      <th>county</th>\n",
              "      <th>description_block</th>\n",
              "      <th>environment</th>\n",
              "      <th>facility</th>\n",
              "      <th>features</th>\n",
              "      <th>latitude</th>\n",
              "      <th>longitude</th>\n",
              "      <th>no_of_units</th>\n",
              "      <th>property_category</th>\n",
              "      <th>property_type</th>\n",
              "      <th>surface</th>\n",
              "      <th>Expected</th>\n",
              "    </tr>\n",
              "  </thead>\n",
              "  <tbody>\n",
              "    <tr>\n",
              "      <th>0</th>\n",
              "      <td>12373510</td>\n",
              "      <td>Skerries</td>\n",
              "      <td>2.0</td>\n",
              "      <td>4.0</td>\n",
              "      <td>G</td>\n",
              "      <td>Dublin</td>\n",
              "      <td>It's all in the name \"Island View\";. Truly won...</td>\n",
              "      <td>prod</td>\n",
              "      <td>Parking,Alarm,Oil Fired Central Heating</td>\n",
              "      <td>Breath-taking panoramic views radiate from thi...</td>\n",
              "      <td>53.566881</td>\n",
              "      <td>-6.101148</td>\n",
              "      <td>NaN</td>\n",
              "      <td>sale</td>\n",
              "      <td>bungalow</td>\n",
              "      <td>142.0</td>\n",
              "      <td>875000.0</td>\n",
              "    </tr>\n",
              "    <tr>\n",
              "      <th>1</th>\n",
              "      <td>12422623</td>\n",
              "      <td>Lucan</td>\n",
              "      <td>2.0</td>\n",
              "      <td>3.0</td>\n",
              "      <td>C1</td>\n",
              "      <td>Dublin</td>\n",
              "      <td>REA McDonald - Lucan' s longest established es...</td>\n",
              "      <td>prod</td>\n",
              "      <td>NaN</td>\n",
              "      <td>Gas fired central heating.\\nDouble glazed wind...</td>\n",
              "      <td>53.362992</td>\n",
              "      <td>-6.452909</td>\n",
              "      <td>NaN</td>\n",
              "      <td>sale</td>\n",
              "      <td>terraced</td>\n",
              "      <td>114.0</td>\n",
              "      <td>355000.0</td>\n",
              "    </tr>\n",
              "    <tr>\n",
              "      <th>2</th>\n",
              "      <td>12377408</td>\n",
              "      <td>Swords</td>\n",
              "      <td>3.0</td>\n",
              "      <td>4.0</td>\n",
              "      <td>B3</td>\n",
              "      <td>Dublin</td>\n",
              "      <td>REA Grimes are proud to present to the market ...</td>\n",
              "      <td>prod</td>\n",
              "      <td>NaN</td>\n",
              "      <td>Pristine condition throughout\\nHighly sought-a...</td>\n",
              "      <td>53.454198</td>\n",
              "      <td>-6.262964</td>\n",
              "      <td>NaN</td>\n",
              "      <td>sale</td>\n",
              "      <td>semi-detached</td>\n",
              "      <td>172.0</td>\n",
              "      <td>440000.0</td>\n",
              "    </tr>\n",
              "    <tr>\n",
              "      <th>3</th>\n",
              "      <td>12420093</td>\n",
              "      <td>Lucan</td>\n",
              "      <td>4.0</td>\n",
              "      <td>3.0</td>\n",
              "      <td>A3</td>\n",
              "      <td>Dublin</td>\n",
              "      <td>REA McDonald, Lucan' s longest established est...</td>\n",
              "      <td>prod</td>\n",
              "      <td>NaN</td>\n",
              "      <td>A-rated home within a short walk of Lucan Vill...</td>\n",
              "      <td>53.354402</td>\n",
              "      <td>-6.458647</td>\n",
              "      <td>NaN</td>\n",
              "      <td>sale</td>\n",
              "      <td>semi-detached</td>\n",
              "      <td>132.4</td>\n",
              "      <td>425000.0</td>\n",
              "    </tr>\n",
              "    <tr>\n",
              "      <th>4</th>\n",
              "      <td>12417338</td>\n",
              "      <td>Clondalkin</td>\n",
              "      <td>1.0</td>\n",
              "      <td>3.0</td>\n",
              "      <td>E2</td>\n",
              "      <td>Dublin</td>\n",
              "      <td>Hibernian Auctioneers are delighted to bring, ...</td>\n",
              "      <td>prod</td>\n",
              "      <td>Parking,Gas Fired Central Heating,Wired for Ca...</td>\n",
              "      <td>Mature Location \\nGas Heating \\nClose to Ameni...</td>\n",
              "      <td>53.336530</td>\n",
              "      <td>-6.393587</td>\n",
              "      <td>NaN</td>\n",
              "      <td>sale</td>\n",
              "      <td>semi-detached</td>\n",
              "      <td>88.0</td>\n",
              "      <td>265000.0</td>\n",
              "    </tr>\n",
              "  </tbody>\n",
              "</table>\n",
              "</div>"
            ],
            "text/plain": [
              "      ad_id        area  bathrooms  ...  property_type surface  Expected\n",
              "0  12373510    Skerries        2.0  ...       bungalow   142.0  875000.0\n",
              "1  12422623       Lucan        2.0  ...       terraced   114.0  355000.0\n",
              "2  12377408      Swords        3.0  ...  semi-detached   172.0  440000.0\n",
              "3  12420093       Lucan        4.0  ...  semi-detached   132.4  425000.0\n",
              "4  12417338  Clondalkin        1.0  ...  semi-detached    88.0  265000.0\n",
              "\n",
              "[5 rows x 17 columns]"
            ]
          },
          "metadata": {},
          "execution_count": 1442
        }
      ]
    },
    {
      "cell_type": "markdown",
      "metadata": {
        "id": "Sh6FXiRAl95C"
      },
      "source": [
        "Drop columns=['ad_id', 'facility','no_of_units', 'description_block', 'features'] like was done in the training set."
      ]
    },
    {
      "cell_type": "code",
      "metadata": {
        "colab": {
          "base_uri": "https://localhost:8080/"
        },
        "id": "pxto3D8TgcQt",
        "outputId": "b56a3bce-9207-4ece-f258-99a8cf4a47aa"
      },
      "source": [
        "dftest_adj = dftest_adj.drop(columns=['ad_id', 'facility','no_of_units', 'description_block', 'features'])\n",
        "\n",
        "dftest_adj.shape"
      ],
      "execution_count": 1443,
      "outputs": [
        {
          "output_type": "execute_result",
          "data": {
            "text/plain": [
              "(500, 12)"
            ]
          },
          "metadata": {},
          "execution_count": 1443
        }
      ]
    },
    {
      "cell_type": "markdown",
      "metadata": {
        "id": "pFTMBj1JmKtU"
      },
      "source": [
        "Drop columns=['county', 'environment', 'property_category'] like was done in the training set."
      ]
    },
    {
      "cell_type": "code",
      "metadata": {
        "colab": {
          "base_uri": "https://localhost:8080/"
        },
        "id": "0iAGYG0ugcQx",
        "outputId": "4870a3f3-acb5-4b37-947f-522010ce7a9b"
      },
      "source": [
        "dftest_adj.drop(columns=['county', 'environment', 'property_category'], inplace=True)\n",
        "\n",
        "dftest_adj.shape"
      ],
      "execution_count": 1444,
      "outputs": [
        {
          "output_type": "execute_result",
          "data": {
            "text/plain": [
              "(500, 9)"
            ]
          },
          "metadata": {},
          "execution_count": 1444
        }
      ]
    },
    {
      "cell_type": "markdown",
      "metadata": {
        "id": "1WlexaM0gcQy"
      },
      "source": [
        "Drop all rows with NaN present as the sample/observation is incomplete and may be misleading."
      ]
    },
    {
      "cell_type": "code",
      "metadata": {
        "colab": {
          "base_uri": "https://localhost:8080/"
        },
        "id": "WbRIUZNggcQy",
        "outputId": "6c737936-9c09-42dc-e9e1-cf2f7de2f0c6"
      },
      "source": [
        "dftest_adj.dropna(inplace=True)\n",
        "\n",
        "dftest_adj.shape"
      ],
      "execution_count": 1445,
      "outputs": [
        {
          "output_type": "execute_result",
          "data": {
            "text/plain": [
              "(444, 9)"
            ]
          },
          "metadata": {},
          "execution_count": 1445
        }
      ]
    },
    {
      "cell_type": "markdown",
      "metadata": {
        "id": "EiHIaIRXgcQz"
      },
      "source": [
        "Remove samples where there are 0 bathrooms and 0 bedrooms."
      ]
    },
    {
      "cell_type": "code",
      "metadata": {
        "colab": {
          "base_uri": "https://localhost:8080/"
        },
        "id": "qCfw7IVDgcQz",
        "outputId": "1800ec7b-2d72-42a6-a199-2b8c9df4e4ca"
      },
      "source": [
        "dftest_adj.drop(dftest_adj[dftest_adj.beds == 0].index, inplace=True)\n",
        "\n",
        "dftest_adj.drop(dftest_adj[dftest_adj.bathrooms == 0].index, inplace=True)\n",
        "\n",
        "dftest_adj.shape"
      ],
      "execution_count": 1446,
      "outputs": [
        {
          "output_type": "execute_result",
          "data": {
            "text/plain": [
              "(440, 9)"
            ]
          },
          "metadata": {},
          "execution_count": 1446
        }
      ]
    },
    {
      "cell_type": "markdown",
      "metadata": {
        "id": "A8FjLK3FgcQ4"
      },
      "source": [
        "Convert each categorical variable ('area', 'ber_classification' & 'property_type') in turn and update dataframe. Use the same mapping as in the training dataset pre-processing."
      ]
    },
    {
      "cell_type": "markdown",
      "metadata": {
        "id": "AhTivq_e9Tei"
      },
      "source": [
        "**In the training set there is no instance of 'Kilbarrack' for the 'area' feature but in the test data there is. This subsequently will cause a 'ValueError: could not convert string to float: 'Kilbarrack'' error later in the piecewise linear regression code if not removed now.**\n",
        "\n",
        "**In the training data there is also only a single instance of 'Deansgrange' was removed in my pre-processing approach so is removed in the test data too.**"
      ]
    },
    {
      "cell_type": "code",
      "metadata": {
        "id": "x_cZtJQj6-Ae",
        "outputId": "d1ad248e-abff-4c81-8c56-c8cb32ba8f06",
        "colab": {
          "base_uri": "https://localhost:8080/"
        }
      },
      "source": [
        "# 'kilbarrack' doesn't exist in the training data but does in the test data so should be removed.\n",
        "dftest_adj.drop(dftest_adj[dftest_adj.area == 'Kilbarrack'].index, inplace=True)     # Prevents later instance of: ValueError: could not convert string to float: 'Kilbarrack'\n",
        "\n",
        "# Removing 'Deansgrange' from the test data too as it was removed in the training data pre-processing.\n",
        "dftest_adj.drop(dftest_adj[dftest_adj.area == 'Deansgrange'].index, inplace=True)     # Prevents later instance of: ValueError: could not convert string to float: 'Deansgrange'\n",
        "\n",
        "dftest_adj.shape\n",
        "\n",
        "# for each_element in dftest_adj['area']:\n",
        "\n",
        "#   print(each_element)"
      ],
      "execution_count": 1447,
      "outputs": [
        {
          "output_type": "execute_result",
          "data": {
            "text/plain": [
              "(438, 9)"
            ]
          },
          "metadata": {},
          "execution_count": 1447
        }
      ]
    },
    {
      "cell_type": "code",
      "metadata": {
        "colab": {
          "base_uri": "https://localhost:8080/"
        },
        "id": "sHz7k3VdgcQ5",
        "outputId": "ea9d1e0b-f33f-464a-8821-45ab2ea38f10"
      },
      "source": [
        "print(replace_map_comp_1)\n",
        "\n",
        "dftest_adj.replace(replace_map_comp_1, inplace=True)"
      ],
      "execution_count": 1448,
      "outputs": [
        {
          "output_type": "stream",
          "name": "stdout",
          "text": [
            "{'area': {'Adamstown': 1, 'Ard Na Greine': 2, 'Artane': 3, 'Ashtown': 4, 'Balbriggan': 5, 'Baldoyle': 6, 'Balgriffin': 7, 'Ballinteer': 8, 'Ballsbridge': 9, 'Ballybough': 10, 'Ballyboughal': 11, 'Ballybrack': 12, 'Ballycullen': 13, 'Ballyfermot': 14, 'Ballymun': 15, 'Balrothery': 16, 'Beaumont': 17, 'Blackrock': 18, 'Blanchardstown': 19, 'Bluebell': 20, 'Booterstown': 21, 'Brittas': 22, 'Cabinteely': 23, 'Cabra': 24, 'Carrickmines': 25, 'Castleknock': 26, 'Chapelizod': 27, 'Christchurch': 28, 'Churchtown': 29, 'Citywest': 30, 'Clarehall': 31, 'Clondalkin': 32, 'Clonee': 33, 'Clongriffin': 34, 'Clonshaugh': 35, 'Clonsilla': 36, 'Clonskeagh': 37, 'Clontarf': 38, 'Coolock': 39, 'Crumlin': 40, 'Dalkey': 41, 'Darndale': 42, 'Dartry': 43, 'Donabate': 44, 'Donaghmede': 45, 'Donnybrook': 46, 'Donnycarney': 47, 'Drimnagh': 48, 'Drumcondra': 49, 'Dublin 1': 50, 'Dublin 2': 51, 'Dublin 4': 52, 'Dublin 7': 53, 'Dublin 8': 54, 'Dun Laoghaire': 55, 'Dundrum': 56, 'East Wall': 57, 'Edenmore': 58, 'Fairview': 59, 'Finglas': 60, 'Firhouse': 61, 'Foxrock': 62, 'Garristown': 63, 'Glasnevin': 64, 'Glenageary': 65, 'Goatstown': 66, 'Grand Canal Dock': 67, 'Greenhills': 68, \"Harold's Cross\": 69, 'Howth': 70, 'IFSC': 71, 'Inchicore': 72, 'Irishtown': 73, 'Islandbridge': 74, 'Killester': 75, 'Killiney': 76, 'Kilmacud': 77, 'Kilmainham': 78, 'Kilmore': 79, 'Kilnamanagh': 80, 'Kilternan': 81, 'Kiltipper': 82, 'Kimmage': 83, 'Kingswood': 84, 'Kinsealy': 85, 'Knocklyon': 86, 'Leopardstown': 87, 'Loughlinstown': 88, 'Loughshinny': 89, 'Lucan': 90, 'Lusk': 91, 'Malahide': 92, 'Marino': 93, 'Milltown': 94, 'Monkstown': 95, 'Mount Merrion': 96, 'Mulhuddart': 97, 'Naul': 98, 'Navan Road (D7)': 99, 'Newcastle': 100, 'North Circular Road': 101, 'North Strand': 102, 'Oldbawn': 103, 'Ongar': 104, 'Palmerstown': 105, 'Park West': 106, 'Perrystown': 107, 'Phibsborough': 108, 'Portmarnock': 109, 'Portobello': 110, 'Raheny': 111, 'Ranelagh': 112, 'Rathcoole': 113, 'Rathfarnham': 114, 'Rathgar': 115, 'Rathmichael': 116, 'Rathmines': 117, 'Rialto': 118, 'Ringsend': 119, 'Rush': 120, 'Saggart': 121, 'Sallynoggin': 122, 'Sandycove': 123, 'Sandyford': 124, 'Sandymount': 125, 'Santry': 126, 'Shankill': 127, 'Skerries': 128, 'Smithfield': 129, 'South Circular Road': 130, 'Stepaside': 131, 'Stoneybatter': 132, 'Sutton': 133, 'Swords': 134, 'Tallaght': 135, 'Temple Bar': 136, 'Templeogue': 137, 'Terenure': 138, 'The Coombe': 139, 'The Ward': 140, 'Tyrrelstown': 141, 'Walkinstown': 142, 'Whitehall': 143, 'Windy Arbour': 144}}\n"
          ]
        }
      ]
    },
    {
      "cell_type": "code",
      "metadata": {
        "colab": {
          "base_uri": "https://localhost:8080/"
        },
        "id": "r4CR1TwMgcQ5",
        "outputId": "9457a92a-97ed-40aa-d0b4-7a5d3b4655bb"
      },
      "source": [
        "print(replace_map_comp_2)\n",
        "\n",
        "dftest_adj.replace(replace_map_comp_2, inplace=True)"
      ],
      "execution_count": 1449,
      "outputs": [
        {
          "output_type": "stream",
          "name": "stdout",
          "text": [
            "{'ber_classification': {'A1': 1, 'A2': 2, 'A3': 3, 'B1': 4, 'B2': 5, 'B3': 6, 'C1': 7, 'C2': 8, 'C3': 9, 'D1': 10, 'D2': 11, 'E1': 12, 'E2': 13, 'F': 14, 'G': 15, 'SINo666of2006exempt': 16}}\n"
          ]
        }
      ]
    },
    {
      "cell_type": "code",
      "metadata": {
        "colab": {
          "base_uri": "https://localhost:8080/"
        },
        "id": "rRjBR-pNgcQ6",
        "outputId": "c75ee4ed-630c-4364-bf70-e7a0ac4da5a3"
      },
      "source": [
        "print(replace_map_comp_3)\n",
        "\n",
        "dftest_adj.replace(replace_map_comp_3, inplace=True)"
      ],
      "execution_count": 1450,
      "outputs": [
        {
          "output_type": "stream",
          "name": "stdout",
          "text": [
            "{'property_type': {'apartment': 1, 'bungalow': 2, 'detached': 3, 'duplex': 4, 'end-of-terrace': 5, 'semi-detached': 6, 'site': 7, 'studio': 8, 'terraced': 9, 'townhouse': 10}}\n"
          ]
        }
      ]
    },
    {
      "cell_type": "code",
      "metadata": {
        "colab": {
          "base_uri": "https://localhost:8080/",
          "height": 206
        },
        "id": "BrKCC8f0gcQ6",
        "outputId": "c1a176e8-8e11-43e5-e4f9-87568512a391"
      },
      "source": [
        "dftest_adj.head()"
      ],
      "execution_count": 1451,
      "outputs": [
        {
          "output_type": "execute_result",
          "data": {
            "text/html": [
              "<div>\n",
              "<style scoped>\n",
              "    .dataframe tbody tr th:only-of-type {\n",
              "        vertical-align: middle;\n",
              "    }\n",
              "\n",
              "    .dataframe tbody tr th {\n",
              "        vertical-align: top;\n",
              "    }\n",
              "\n",
              "    .dataframe thead th {\n",
              "        text-align: right;\n",
              "    }\n",
              "</style>\n",
              "<table border=\"1\" class=\"dataframe\">\n",
              "  <thead>\n",
              "    <tr style=\"text-align: right;\">\n",
              "      <th></th>\n",
              "      <th>area</th>\n",
              "      <th>bathrooms</th>\n",
              "      <th>beds</th>\n",
              "      <th>ber_classification</th>\n",
              "      <th>latitude</th>\n",
              "      <th>longitude</th>\n",
              "      <th>property_type</th>\n",
              "      <th>surface</th>\n",
              "      <th>Expected</th>\n",
              "    </tr>\n",
              "  </thead>\n",
              "  <tbody>\n",
              "    <tr>\n",
              "      <th>0</th>\n",
              "      <td>128</td>\n",
              "      <td>2.0</td>\n",
              "      <td>4.0</td>\n",
              "      <td>15</td>\n",
              "      <td>53.566881</td>\n",
              "      <td>-6.101148</td>\n",
              "      <td>2</td>\n",
              "      <td>142.0</td>\n",
              "      <td>875000.0</td>\n",
              "    </tr>\n",
              "    <tr>\n",
              "      <th>1</th>\n",
              "      <td>90</td>\n",
              "      <td>2.0</td>\n",
              "      <td>3.0</td>\n",
              "      <td>7</td>\n",
              "      <td>53.362992</td>\n",
              "      <td>-6.452909</td>\n",
              "      <td>9</td>\n",
              "      <td>114.0</td>\n",
              "      <td>355000.0</td>\n",
              "    </tr>\n",
              "    <tr>\n",
              "      <th>2</th>\n",
              "      <td>134</td>\n",
              "      <td>3.0</td>\n",
              "      <td>4.0</td>\n",
              "      <td>6</td>\n",
              "      <td>53.454198</td>\n",
              "      <td>-6.262964</td>\n",
              "      <td>6</td>\n",
              "      <td>172.0</td>\n",
              "      <td>440000.0</td>\n",
              "    </tr>\n",
              "    <tr>\n",
              "      <th>3</th>\n",
              "      <td>90</td>\n",
              "      <td>4.0</td>\n",
              "      <td>3.0</td>\n",
              "      <td>3</td>\n",
              "      <td>53.354402</td>\n",
              "      <td>-6.458647</td>\n",
              "      <td>6</td>\n",
              "      <td>132.4</td>\n",
              "      <td>425000.0</td>\n",
              "    </tr>\n",
              "    <tr>\n",
              "      <th>4</th>\n",
              "      <td>32</td>\n",
              "      <td>1.0</td>\n",
              "      <td>3.0</td>\n",
              "      <td>13</td>\n",
              "      <td>53.336530</td>\n",
              "      <td>-6.393587</td>\n",
              "      <td>6</td>\n",
              "      <td>88.0</td>\n",
              "      <td>265000.0</td>\n",
              "    </tr>\n",
              "  </tbody>\n",
              "</table>\n",
              "</div>"
            ],
            "text/plain": [
              "   area  bathrooms  beds  ...  property_type  surface  Expected\n",
              "0   128        2.0   4.0  ...              2    142.0  875000.0\n",
              "1    90        2.0   3.0  ...              9    114.0  355000.0\n",
              "2   134        3.0   4.0  ...              6    172.0  440000.0\n",
              "3    90        4.0   3.0  ...              6    132.4  425000.0\n",
              "4    32        1.0   3.0  ...              6     88.0  265000.0\n",
              "\n",
              "[5 rows x 9 columns]"
            ]
          },
          "metadata": {},
          "execution_count": 1451
        }
      ]
    },
    {
      "cell_type": "code",
      "metadata": {
        "colab": {
          "base_uri": "https://localhost:8080/"
        },
        "id": "EStlNL7mgcQ6",
        "outputId": "9511c197-5399-470e-da94-d2cfa4359a61"
      },
      "source": [
        "dftest_adj.shape"
      ],
      "execution_count": 1452,
      "outputs": [
        {
          "output_type": "execute_result",
          "data": {
            "text/plain": [
              "(438, 9)"
            ]
          },
          "metadata": {},
          "execution_count": 1452
        }
      ]
    },
    {
      "cell_type": "markdown",
      "metadata": {
        "id": "jCvKaaoegcQ7"
      },
      "source": [
        "Now all test features are now numeric. There are 9 remaining features (which includes the target 'price')."
      ]
    },
    {
      "cell_type": "markdown",
      "metadata": {
        "id": "UjMH1CSEUA1A"
      },
      "source": [
        "### Expected Cost dataset"
      ]
    },
    {
      "cell_type": "code",
      "metadata": {
        "colab": {
          "base_uri": "https://localhost:8080/"
        },
        "id": "mVYR6nm-orLU",
        "outputId": "e779626e-03cc-4144-90f5-9ec0f4d2af9a"
      },
      "source": [
        "cost_data = [dftest_adj['Expected']]\n",
        "\n",
        "header_name = ['cost']    # ['Expected']\n",
        "\n",
        "dfcost_adj = pd.concat(cost_data, axis=1, keys=header_name)\n",
        "\n",
        "dftest_adj.drop(columns='Expected', inplace=True)\n",
        "\n",
        "dfcost_adj.shape"
      ],
      "execution_count": 1453,
      "outputs": [
        {
          "output_type": "execute_result",
          "data": {
            "text/plain": [
              "(438, 1)"
            ]
          },
          "metadata": {},
          "execution_count": 1453
        }
      ]
    },
    {
      "cell_type": "code",
      "metadata": {
        "colab": {
          "base_uri": "https://localhost:8080/"
        },
        "id": "uccElmxroq7r",
        "outputId": "879e094d-90d9-44d2-8ab8-e71c1efc1d66"
      },
      "source": [
        "dftest_adj.shape"
      ],
      "execution_count": 1454,
      "outputs": [
        {
          "output_type": "execute_result",
          "data": {
            "text/plain": [
              "(438, 8)"
            ]
          },
          "metadata": {},
          "execution_count": 1454
        }
      ]
    },
    {
      "cell_type": "code",
      "metadata": {
        "colab": {
          "base_uri": "https://localhost:8080/",
          "height": 206
        },
        "id": "cW-Ppw_Fg-xd",
        "outputId": "5109450a-de55-44c9-cce6-5f86352e2fb8"
      },
      "source": [
        "# Show first data frame rows.\n",
        "dfcost_adj.head()"
      ],
      "execution_count": 1455,
      "outputs": [
        {
          "output_type": "execute_result",
          "data": {
            "text/html": [
              "<div>\n",
              "<style scoped>\n",
              "    .dataframe tbody tr th:only-of-type {\n",
              "        vertical-align: middle;\n",
              "    }\n",
              "\n",
              "    .dataframe tbody tr th {\n",
              "        vertical-align: top;\n",
              "    }\n",
              "\n",
              "    .dataframe thead th {\n",
              "        text-align: right;\n",
              "    }\n",
              "</style>\n",
              "<table border=\"1\" class=\"dataframe\">\n",
              "  <thead>\n",
              "    <tr style=\"text-align: right;\">\n",
              "      <th></th>\n",
              "      <th>cost</th>\n",
              "    </tr>\n",
              "  </thead>\n",
              "  <tbody>\n",
              "    <tr>\n",
              "      <th>0</th>\n",
              "      <td>875000.0</td>\n",
              "    </tr>\n",
              "    <tr>\n",
              "      <th>1</th>\n",
              "      <td>355000.0</td>\n",
              "    </tr>\n",
              "    <tr>\n",
              "      <th>2</th>\n",
              "      <td>440000.0</td>\n",
              "    </tr>\n",
              "    <tr>\n",
              "      <th>3</th>\n",
              "      <td>425000.0</td>\n",
              "    </tr>\n",
              "    <tr>\n",
              "      <th>4</th>\n",
              "      <td>265000.0</td>\n",
              "    </tr>\n",
              "  </tbody>\n",
              "</table>\n",
              "</div>"
            ],
            "text/plain": [
              "       cost\n",
              "0  875000.0\n",
              "1  355000.0\n",
              "2  440000.0\n",
              "3  425000.0\n",
              "4  265000.0"
            ]
          },
          "metadata": {},
          "execution_count": 1455
        }
      ]
    },
    {
      "cell_type": "code",
      "metadata": {
        "id": "7p63sCZeUNx3",
        "colab": {
          "base_uri": "https://localhost:8080/",
          "height": 300
        },
        "outputId": "a37eef66-8bef-473e-9a32-4de280d0a6e8"
      },
      "source": [
        "# Generate descriptive statistics.\n",
        "dfcost_adj.describe()"
      ],
      "execution_count": 1456,
      "outputs": [
        {
          "output_type": "execute_result",
          "data": {
            "text/html": [
              "<div>\n",
              "<style scoped>\n",
              "    .dataframe tbody tr th:only-of-type {\n",
              "        vertical-align: middle;\n",
              "    }\n",
              "\n",
              "    .dataframe tbody tr th {\n",
              "        vertical-align: top;\n",
              "    }\n",
              "\n",
              "    .dataframe thead th {\n",
              "        text-align: right;\n",
              "    }\n",
              "</style>\n",
              "<table border=\"1\" class=\"dataframe\">\n",
              "  <thead>\n",
              "    <tr style=\"text-align: right;\">\n",
              "      <th></th>\n",
              "      <th>cost</th>\n",
              "    </tr>\n",
              "  </thead>\n",
              "  <tbody>\n",
              "    <tr>\n",
              "      <th>count</th>\n",
              "      <td>4.380000e+02</td>\n",
              "    </tr>\n",
              "    <tr>\n",
              "      <th>mean</th>\n",
              "      <td>5.441125e+05</td>\n",
              "    </tr>\n",
              "    <tr>\n",
              "      <th>std</th>\n",
              "      <td>4.719529e+05</td>\n",
              "    </tr>\n",
              "    <tr>\n",
              "      <th>min</th>\n",
              "      <td>1.250000e+05</td>\n",
              "    </tr>\n",
              "    <tr>\n",
              "      <th>25%</th>\n",
              "      <td>2.950000e+05</td>\n",
              "    </tr>\n",
              "    <tr>\n",
              "      <th>50%</th>\n",
              "      <td>4.225000e+05</td>\n",
              "    </tr>\n",
              "    <tr>\n",
              "      <th>75%</th>\n",
              "      <td>5.950000e+05</td>\n",
              "    </tr>\n",
              "    <tr>\n",
              "      <th>max</th>\n",
              "      <td>5.250000e+06</td>\n",
              "    </tr>\n",
              "  </tbody>\n",
              "</table>\n",
              "</div>"
            ],
            "text/plain": [
              "               cost\n",
              "count  4.380000e+02\n",
              "mean   5.441125e+05\n",
              "std    4.719529e+05\n",
              "min    1.250000e+05\n",
              "25%    2.950000e+05\n",
              "50%    4.225000e+05\n",
              "75%    5.950000e+05\n",
              "max    5.250000e+06"
            ]
          },
          "metadata": {},
          "execution_count": 1456
        }
      ]
    },
    {
      "cell_type": "markdown",
      "metadata": {
        "id": "bJFJQxAS9HZK"
      },
      "source": [
        "# PIECEWISE REGRESSION"
      ]
    },
    {
      "cell_type": "code",
      "metadata": {
        "id": "AADXic1Ds0sA"
      },
      "source": [
        "# dftrain_adj.head()\n",
        "\n",
        "# area\tbathrooms\tbeds\tber_classification\tlatitude\tlongitude\tprice\tproperty_type\tsurface\n",
        "\n",
        "# dftest_adj.head()\n",
        "\n",
        "# area\tbathrooms\tbeds\tber_classification\tlatitude\tlongitude\tproperty_type\tsurface\n",
        "\n",
        "# dfcost_adj.head()\n",
        "\n",
        "# Expected"
      ],
      "execution_count": 1457,
      "outputs": []
    },
    {
      "cell_type": "markdown",
      "metadata": {
        "id": "uQ_1QsLToIDi"
      },
      "source": [
        "## Full Model"
      ]
    },
    {
      "cell_type": "code",
      "metadata": {
        "id": "Yv5j1KzzMUnm"
      },
      "source": [
        "# # select some features columns just for the baseline model\n",
        "# # assume not all of the features are informative or useful\n",
        "# # in this exercise you could try all of them if possible\n",
        "\n",
        "# featrain = ['feature_1','feature_2','feature_3','cost']\n",
        "# # dropna: remove missing values\n",
        "# df_subset_train = dftrain[featrain].dropna(axis=0)\n",
        "\n",
        "# featest = ['feature_1','feature_2','feature_3']\n",
        "# df_subset_test  =  dftest[featest].dropna(axis=0)\n",
        "\n",
        "# # cost\n",
        "# df_cost = df_cost[df_cost.index.isin(df_subset_test.index)]"
      ],
      "execution_count": 1458,
      "outputs": []
    },
    {
      "cell_type": "code",
      "metadata": {
        "id": "WjPvBjyEuvQY"
      },
      "source": [
        "# select some features columns just for the baseline model\n",
        "# assume not all of the features are informative or useful\n",
        "# in this exercise you could try all of them if possible\n",
        "\n",
        "featrain = ['area',\t'bathrooms',\t'beds',\t'ber_classification',\t'latitude',\t'longitude',\t'price',\t'property_type',\t'surface']\n",
        "# dropna: remove missing values\n",
        "df_subset_train = dftrain_adj[featrain].dropna(axis=0)\n",
        "\n",
        "featest = ['area',\t'bathrooms',\t'beds',\t'ber_classification',\t'latitude',\t'longitude',\t'property_type',\t'surface']\n",
        "df_subset_test  =  dftest_adj[featest].dropna(axis=0)\n",
        "\n",
        "# cost\n",
        "df_cost = dfcost_adj[dfcost_adj.index.isin(df_subset_test.index)]"
      ],
      "execution_count": 1459,
      "outputs": []
    },
    {
      "cell_type": "code",
      "metadata": {
        "id": "7ulbUQe1xb58"
      },
      "source": [
        "# train set, input columns\n",
        "Xs_train = df_subset_train.iloc[:,0:-1].values \n",
        "# train set, output column, cost\n",
        "ys_train = df_subset_train.iloc[:,-1].values.reshape(-1,1)   \n",
        "\n",
        "# test set, input columns\n",
        "Xs_test = df_subset_test.iloc[:,0:].values \n",
        "# test set, output column, cost\n",
        "y_test = df_cost.cost.values"
      ],
      "execution_count": 1460,
      "outputs": []
    },
    {
      "cell_type": "code",
      "metadata": {
        "id": "QWkQJFTN3vMU",
        "outputId": "f345a88e-5872-41d4-edb8-bfbcd8df5e34",
        "colab": {
          "base_uri": "https://localhost:8080/",
          "height": 423
        }
      },
      "source": [
        "df_subset_test"
      ],
      "execution_count": 1461,
      "outputs": [
        {
          "output_type": "execute_result",
          "data": {
            "text/html": [
              "<div>\n",
              "<style scoped>\n",
              "    .dataframe tbody tr th:only-of-type {\n",
              "        vertical-align: middle;\n",
              "    }\n",
              "\n",
              "    .dataframe tbody tr th {\n",
              "        vertical-align: top;\n",
              "    }\n",
              "\n",
              "    .dataframe thead th {\n",
              "        text-align: right;\n",
              "    }\n",
              "</style>\n",
              "<table border=\"1\" class=\"dataframe\">\n",
              "  <thead>\n",
              "    <tr style=\"text-align: right;\">\n",
              "      <th></th>\n",
              "      <th>area</th>\n",
              "      <th>bathrooms</th>\n",
              "      <th>beds</th>\n",
              "      <th>ber_classification</th>\n",
              "      <th>latitude</th>\n",
              "      <th>longitude</th>\n",
              "      <th>property_type</th>\n",
              "      <th>surface</th>\n",
              "    </tr>\n",
              "  </thead>\n",
              "  <tbody>\n",
              "    <tr>\n",
              "      <th>0</th>\n",
              "      <td>128</td>\n",
              "      <td>2.0</td>\n",
              "      <td>4.0</td>\n",
              "      <td>15</td>\n",
              "      <td>53.566881</td>\n",
              "      <td>-6.101148</td>\n",
              "      <td>2</td>\n",
              "      <td>142.0</td>\n",
              "    </tr>\n",
              "    <tr>\n",
              "      <th>1</th>\n",
              "      <td>90</td>\n",
              "      <td>2.0</td>\n",
              "      <td>3.0</td>\n",
              "      <td>7</td>\n",
              "      <td>53.362992</td>\n",
              "      <td>-6.452909</td>\n",
              "      <td>9</td>\n",
              "      <td>114.0</td>\n",
              "    </tr>\n",
              "    <tr>\n",
              "      <th>2</th>\n",
              "      <td>134</td>\n",
              "      <td>3.0</td>\n",
              "      <td>4.0</td>\n",
              "      <td>6</td>\n",
              "      <td>53.454198</td>\n",
              "      <td>-6.262964</td>\n",
              "      <td>6</td>\n",
              "      <td>172.0</td>\n",
              "    </tr>\n",
              "    <tr>\n",
              "      <th>3</th>\n",
              "      <td>90</td>\n",
              "      <td>4.0</td>\n",
              "      <td>3.0</td>\n",
              "      <td>3</td>\n",
              "      <td>53.354402</td>\n",
              "      <td>-6.458647</td>\n",
              "      <td>6</td>\n",
              "      <td>132.4</td>\n",
              "    </tr>\n",
              "    <tr>\n",
              "      <th>4</th>\n",
              "      <td>32</td>\n",
              "      <td>1.0</td>\n",
              "      <td>3.0</td>\n",
              "      <td>13</td>\n",
              "      <td>53.336530</td>\n",
              "      <td>-6.393587</td>\n",
              "      <td>6</td>\n",
              "      <td>88.0</td>\n",
              "    </tr>\n",
              "    <tr>\n",
              "      <th>...</th>\n",
              "      <td>...</td>\n",
              "      <td>...</td>\n",
              "      <td>...</td>\n",
              "      <td>...</td>\n",
              "      <td>...</td>\n",
              "      <td>...</td>\n",
              "      <td>...</td>\n",
              "      <td>...</td>\n",
              "    </tr>\n",
              "    <tr>\n",
              "      <th>494</th>\n",
              "      <td>9</td>\n",
              "      <td>2.0</td>\n",
              "      <td>3.0</td>\n",
              "      <td>10</td>\n",
              "      <td>53.327531</td>\n",
              "      <td>-6.238508</td>\n",
              "      <td>1</td>\n",
              "      <td>116.6</td>\n",
              "    </tr>\n",
              "    <tr>\n",
              "      <th>496</th>\n",
              "      <td>23</td>\n",
              "      <td>3.0</td>\n",
              "      <td>5.0</td>\n",
              "      <td>12</td>\n",
              "      <td>53.261475</td>\n",
              "      <td>-6.147720</td>\n",
              "      <td>3</td>\n",
              "      <td>191.3</td>\n",
              "    </tr>\n",
              "    <tr>\n",
              "      <th>497</th>\n",
              "      <td>3</td>\n",
              "      <td>1.0</td>\n",
              "      <td>3.0</td>\n",
              "      <td>15</td>\n",
              "      <td>53.391619</td>\n",
              "      <td>-6.205157</td>\n",
              "      <td>3</td>\n",
              "      <td>105.0</td>\n",
              "    </tr>\n",
              "    <tr>\n",
              "      <th>498</th>\n",
              "      <td>38</td>\n",
              "      <td>2.0</td>\n",
              "      <td>4.0</td>\n",
              "      <td>13</td>\n",
              "      <td>53.360578</td>\n",
              "      <td>-6.183701</td>\n",
              "      <td>5</td>\n",
              "      <td>130.0</td>\n",
              "    </tr>\n",
              "    <tr>\n",
              "      <th>499</th>\n",
              "      <td>49</td>\n",
              "      <td>2.0</td>\n",
              "      <td>2.0</td>\n",
              "      <td>7</td>\n",
              "      <td>53.366827</td>\n",
              "      <td>-6.248329</td>\n",
              "      <td>1</td>\n",
              "      <td>71.0</td>\n",
              "    </tr>\n",
              "  </tbody>\n",
              "</table>\n",
              "<p>438 rows × 8 columns</p>\n",
              "</div>"
            ],
            "text/plain": [
              "     area  bathrooms  beds  ...  longitude  property_type  surface\n",
              "0     128        2.0   4.0  ...  -6.101148              2    142.0\n",
              "1      90        2.0   3.0  ...  -6.452909              9    114.0\n",
              "2     134        3.0   4.0  ...  -6.262964              6    172.0\n",
              "3      90        4.0   3.0  ...  -6.458647              6    132.4\n",
              "4      32        1.0   3.0  ...  -6.393587              6     88.0\n",
              "..    ...        ...   ...  ...        ...            ...      ...\n",
              "494     9        2.0   3.0  ...  -6.238508              1    116.6\n",
              "496    23        3.0   5.0  ...  -6.147720              3    191.3\n",
              "497     3        1.0   3.0  ...  -6.205157              3    105.0\n",
              "498    38        2.0   4.0  ...  -6.183701              5    130.0\n",
              "499    49        2.0   2.0  ...  -6.248329              1     71.0\n",
              "\n",
              "[438 rows x 8 columns]"
            ]
          },
          "metadata": {},
          "execution_count": 1461
        }
      ]
    },
    {
      "cell_type": "code",
      "metadata": {
        "id": "kx7sjMi0TZ-G"
      },
      "source": [
        "# StandardScaler() will normalize the features i.e. each column of X, \n",
        "# so, each column/feature/variable will have μ = 0 and σ = 1\n",
        "sc = StandardScaler()\n",
        "\n",
        "#Xss_train = np.hstack([Xs_train,Xs_train[:,[2]]**2])\n",
        "Xss_train = Xs_train.copy()\n",
        "xscaler = sc.fit(Xss_train)\n",
        "Xn_train = xscaler.transform(Xss_train)\n",
        "\n",
        "#Xss_test = np.hstack([Xs_test,Xs_test[:,[2]]**2])\n",
        "Xss_test = Xs_test.copy()\n",
        "Xn_test = xscaler.transform(Xss_test)\n",
        "\n",
        "ylog = np.log(ys_train.astype('float'))\n",
        "yscaler = StandardScaler().fit(ylog)\n",
        "yn_train = yscaler.transform(ylog)"
      ],
      "execution_count": 1462,
      "outputs": []
    },
    {
      "cell_type": "code",
      "metadata": {
        "id": "PZK2kfygoIDi"
      },
      "source": [
        "# model\n",
        "with pm.Model() as model:\n",
        "    #prior over the parameters of linear regression\n",
        "    alpha = pm.Normal('alpha', mu=0, sigma=30)\n",
        "    #we have one beta for each column of Xn\n",
        "    beta = pm.Normal('beta', mu=0, sigma=30, shape=Xn_train.shape[1])\n",
        "    #prior over the variance of the noise\n",
        "    sigma = pm.HalfCauchy('sigma_n', 5)\n",
        "    #linear regression model in matrix form\n",
        "    mu = alpha + pm.math.dot(beta, Xn_train.T)\n",
        "    #likelihood, be sure that observed is a 1d vector\n",
        "    like = pm.Normal('like', mu=mu, sigma=sigma, observed=yn_train[:,0])\n",
        "    "
      ],
      "execution_count": 1463,
      "outputs": []
    },
    {
      "cell_type": "code",
      "metadata": {
        "id": "cIskuS3ToIDk"
      },
      "source": [
        "# prediction\n",
        "ll=np.mean(posterior['alpha']) + np.dot(np.mean(posterior['beta'],axis=0), Xn_test.T)\n",
        "y_pred_BLR = np.exp(yscaler.inverse_transform(ll.reshape(-1,1)))[:,0]\n",
        "print(\"MAE = \",(np.mean(abs(y_pred_BLR - y_test))))\n",
        "print(\"MAPE = \",(np.mean(abs(y_pred_BLR - y_test) / y_test)))"
      ],
      "execution_count": null,
      "outputs": []
    },
    {
      "cell_type": "markdown",
      "metadata": {
        "id": "q_jBBKvtoIDk"
      },
      "source": [
        "## Clustering"
      ]
    },
    {
      "cell_type": "markdown",
      "metadata": {
        "id": "VYFvbgYDaEOS"
      },
      "source": [
        "### Full Model"
      ]
    },
    {
      "cell_type": "code",
      "metadata": {
        "id": "iphQ53UE0iVw"
      },
      "source": [
        "# training gaussian mixture model \n",
        "from sklearn.mixture import GaussianMixture\n",
        "\n",
        "gmm = GaussianMixture(n_components=4)\n"
      ],
      "execution_count": null,
      "outputs": []
    },
    {
      "cell_type": "markdown",
      "metadata": {
        "id": "h51OhBV5Z4tY"
      },
      "source": [
        "### Clusters"
      ]
    },
    {
      "cell_type": "code",
      "metadata": {
        "id": "vNvx_KxrLt90"
      },
      "source": [
        "# train clusters\n",
        "\n"
      ],
      "execution_count": null,
      "outputs": []
    },
    {
      "cell_type": "code",
      "metadata": {
        "id": "-wTT4220zFNx"
      },
      "source": [
        "# test clusters\n"
      ],
      "execution_count": null,
      "outputs": []
    },
    {
      "cell_type": "markdown",
      "metadata": {
        "id": "dXF25ZDYoIDl"
      },
      "source": [
        "## Piecewise Model"
      ]
    },
    {
      "cell_type": "code",
      "metadata": {
        "id": "N1e-4ruvaJci"
      },
      "source": [
        "# model_0\n",
        "with pm.Model() as model_0:\n",
        "  # prior over the parameters of linear regression\n",
        "  alpha = pm.Normal('alpha', mu=0, sigma=30)\n",
        "  # we have a beta for each column of Xn0\n",
        "  beta = pm.Normal('beta', mu=0, sigma=30, shape=Xn0.shape[1])\n",
        "  # prior over the variance of the noise\n",
        "  sigma = pm.HalfCauchy('sigma_n', 5)\n",
        "  # linear regression relationship\n",
        "  #linear regression model in matrix form\n",
        "  mu = alpha + pm.math.dot(beta, Xn0.T)\n",
        "  # likelihood, be sure that observed is a 1d vector\n",
        "  like = pm.Normal('like', mu=mu, sigma=sigma, observed=yn0[:,0])\n",
        "\n"
      ],
      "execution_count": null,
      "outputs": []
    },
    {
      "cell_type": "markdown",
      "metadata": {
        "id": "wHBgUe1pcZQQ"
      },
      "source": [
        "##Simulations"
      ]
    },
    {
      "cell_type": "markdown",
      "metadata": {
        "id": "bfSEdYAUoIDn"
      },
      "source": [
        "### Only Cluster 0"
      ]
    },
    {
      "cell_type": "markdown",
      "metadata": {
        "id": "qgMUwBO7oIDq"
      },
      "source": [
        "## Overall"
      ]
    },
    {
      "cell_type": "markdown",
      "metadata": {
        "id": "QMY9rDvVoIDq"
      },
      "source": [
        "## Test set performance"
      ]
    },
    {
      "cell_type": "markdown",
      "metadata": {
        "id": "YGmB9BNkoIDr"
      },
      "source": [
        "### PPC on the Test set\n",
        "\n"
      ]
    },
    {
      "cell_type": "markdown",
      "metadata": {
        "id": "f0GYCpwEM09T"
      },
      "source": [
        "# SUMMARY\n",
        "\n"
      ]
    },
    {
      "cell_type": "markdown",
      "metadata": {
        "id": "n4IORplAqqkP"
      },
      "source": [
        ""
      ]
    },
    {
      "cell_type": "markdown",
      "metadata": {
        "id": "TXODvx7KqvK_"
      },
      "source": [
        "# REFERENCES\n",
        "\n"
      ]
    },
    {
      "cell_type": "markdown",
      "metadata": {
        "id": "TjHkad6uqrFz"
      },
      "source": [
        "\n",
        "https://www.datacamp.com/community/tutorials/categorical-data#encoding "
      ]
    }
  ]
}