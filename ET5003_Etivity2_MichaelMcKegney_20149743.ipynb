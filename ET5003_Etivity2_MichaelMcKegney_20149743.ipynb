{
  "nbformat": 4,
  "nbformat_minor": 0,
  "metadata": {
    "colab": {
      "name": "ET5003_Etivity2_MichaelMcKegney_20149743.ipynb",
      "provenance": [],
      "collapsed_sections": [],
      "include_colab_link": true
    },
    "kernelspec": {
      "name": "python3",
      "display_name": "Python 3"
    },
    "language_info": {
      "name": "python"
    }
  },
  "cells": [
    {
      "cell_type": "markdown",
      "metadata": {
        "id": "view-in-github",
        "colab_type": "text"
      },
      "source": [
        "<a href=\"https://colab.research.google.com/github/M-McKegney/ET5003_SEM1_2021-2/blob/MMcKegneyBranch/ET5003_Etivity2_MichaelMcKegney_20149743.ipynb\" target=\"_parent\"><img src=\"https://colab.research.google.com/assets/colab-badge.svg\" alt=\"Open In Colab\"/></a>"
      ]
    },
    {
      "cell_type": "markdown",
      "metadata": {
        "id": "930vlW5BrOtq"
      },
      "source": [
        "<div>\n",
        "<img src=\"https://drive.google.com/uc?export=view&id=1vK33e_EqaHgBHcbRV_m38hx6IkG0blK_\" width=\"350\"/>\n",
        "</div> \n",
        "\n",
        "#**Artificial Intelligence - MSc**\n",
        "##ET5003 - MACHINE LEARNING APPLICATIONS \n",
        "\n",
        "###Instructor: Enrique Naredo\n",
        "###ET5003_Etivity-2"
      ]
    },
    {
      "cell_type": "code",
      "metadata": {
        "id": "LqXD_IwUQuBF",
        "cellView": "form"
      },
      "source": [
        "#@title Current Date\n",
        "Today = '2021-10-01' #@param {type:\"date\"}\n"
      ],
      "execution_count": 517,
      "outputs": []
    },
    {
      "cell_type": "code",
      "metadata": {
        "id": "uzDKau31OjVO",
        "cellView": "form"
      },
      "source": [
        "#@markdown ---\n",
        "#@markdown ### Enter your details here:\n",
        "Student_ID = \"20149743\" #@param {type:\"string\"}\n",
        "Student_full_name = \"Michael McKegney\" #@param {type:\"string\"}\n",
        "#@markdown ---"
      ],
      "execution_count": 518,
      "outputs": []
    },
    {
      "cell_type": "code",
      "metadata": {
        "id": "r39xGZckTpKx",
        "cellView": "form"
      },
      "source": [
        "#@title Notebook information\n",
        "Notebook_type = 'Example' #@param [\"Example\", \"Lab\", \"Practice\", \"Etivity\", \"Assignment\", \"Exam\"]\n",
        "Version = 'Draft' #@param [\"Draft\", \"Final\"] {type:\"raw\"}\n",
        "Submission = False #@param {type:\"boolean\"}"
      ],
      "execution_count": 519,
      "outputs": []
    },
    {
      "cell_type": "markdown",
      "metadata": {
        "id": "_A0Z6S-r6DpA"
      },
      "source": [
        "# INTRODUCTION"
      ]
    },
    {
      "cell_type": "markdown",
      "metadata": {
        "id": "QkRchZtf6IV-"
      },
      "source": [
        "**Piecewise regression**, extract from [Wikipedia](https://en.wikipedia.org/wiki/Segmented_regression):\n",
        "\n",
        "Segmented regression, also known as piecewise regression or broken-stick regression, is a method in regression analysis in which the independent variable is partitioned into intervals and a separate line segment is fit to each interval. \n",
        "\n",
        "* Segmented regression analysis can also be performed on \n",
        "multivariate data by partitioning the various independent variables. \n",
        "* Segmented regression is useful when the independent variables, clustered into different groups, exhibit different relationships between the variables in these regions. \n",
        "\n",
        "* The boundaries between the segments are breakpoints.\n",
        "\n",
        "* Segmented linear regression is segmented regression whereby the relations in the intervals are obtained by linear regression. "
      ]
    },
    {
      "cell_type": "markdown",
      "metadata": {
        "id": "aajlS0WCJ8pm"
      },
      "source": [
        "***The goal is to use advanced Machine Learning methods to predict House price.***"
      ]
    },
    {
      "cell_type": "markdown",
      "metadata": {
        "id": "Wg7VCbX77eAA"
      },
      "source": [
        "## Imports"
      ]
    },
    {
      "cell_type": "code",
      "metadata": {
        "id": "iFFLThrpwibd"
      },
      "source": [
        "# Suppressing Warnings:\n",
        "import warnings\n",
        "warnings.filterwarnings(\"ignore\")"
      ],
      "execution_count": 520,
      "outputs": []
    },
    {
      "cell_type": "code",
      "metadata": {
        "id": "d1770_fNrCWn"
      },
      "source": [
        "import pandas as pd\n",
        "import matplotlib.pyplot as plt\n",
        "import numpy as np\n",
        "import pymc3 as pm\n",
        "import arviz as az\n",
        "from sklearn.preprocessing import StandardScaler"
      ],
      "execution_count": 521,
      "outputs": []
    },
    {
      "cell_type": "code",
      "metadata": {
        "id": "sYPJU_Y6O6Dq"
      },
      "source": [
        "# to plot\n",
        "import matplotlib.colors\n",
        "from mpl_toolkits.mplot3d import Axes3D\n",
        "\n",
        "# to generate classification, regression and clustering datasets\n",
        "import sklearn.datasets as dt\n",
        "\n",
        "# to create data frames\n",
        "from pandas import DataFrame\n",
        "\n",
        "# to generate data from an existing dataset\n",
        "from sklearn.neighbors import KernelDensity\n",
        "from sklearn.model_selection import GridSearchCV"
      ],
      "execution_count": 522,
      "outputs": []
    },
    {
      "cell_type": "code",
      "metadata": {
        "id": "6MUJdlxSPSMM"
      },
      "source": [
        "# Define the seed so that results can be reproduced\n",
        "seed = 11\n",
        "rand_state = 11\n",
        "\n",
        "# Define the color maps for plots\n",
        "color_map = plt.cm.get_cmap('RdYlBu')\n",
        "color_map_discrete = matplotlib.colors.LinearSegmentedColormap.from_list(\"\", [\"red\",\"cyan\",\"magenta\",\"blue\"])"
      ],
      "execution_count": 523,
      "outputs": []
    },
    {
      "cell_type": "markdown",
      "metadata": {
        "id": "WL91ShB19RPw"
      },
      "source": [
        "# DATASET"
      ]
    },
    {
      "cell_type": "markdown",
      "metadata": {
        "id": "ESg5DGKWJSOf"
      },
      "source": [
        "Extract from this [paper](https://ieeexplore.ieee.org/document/9300074):\n",
        "\n",
        "* House prices are a significant impression of the economy, and its value ranges are of great concerns for the clients and property dealers. \n",
        "\n",
        "* Housing price escalate every year that eventually reinforced the need of strategy or technique that could predict house prices in future. \n",
        "\n",
        "* There are certain factors that influence house prices including physical conditions, locations, number of bedrooms and others.\n"
      ]
    },
    {
      "cell_type": "markdown",
      "metadata": {
        "id": "a8Y2pf50FlYL"
      },
      "source": [
        "1. [Download the dataset](https://github.com/UL-ET5003/ET5003_SEM1_2021-2/tree/main/Week-3). \n",
        "\n",
        "2. Upload the dataset into your folder.\n",
        "\n"
      ]
    },
    {
      "cell_type": "markdown",
      "metadata": {
        "id": "FMkdCQEmKTof"
      },
      "source": [
        "The challenge is to predict the final price of each house."
      ]
    },
    {
      "cell_type": "markdown",
      "metadata": {
        "id": "r4hSuwkUfVQb"
      },
      "source": [
        "## Read in the dataset"
      ]
    },
    {
      "cell_type": "markdown",
      "metadata": {
        "id": "A2w7p5R2gUaw"
      },
      "source": [
        "**Be careful with the 'Path' location shown below i.e. make sure it is pointing to where you store the data for Etivity 2!**\n",
        "\n",
        "The following code is being used to determine if a Jupyter Notebook or Google Colab environment is being used to load the dataset.\n",
        "\n",
        "The development work for this Etivity was done in Google Colab."
      ]
    },
    {
      "cell_type": "markdown",
      "metadata": {
        "id": "fLwRjlubV9Dr"
      },
      "source": [
        "There are 3 files to account for:\n",
        "*   house_train.csv\n",
        "*   house_test.csv\n",
        "*   true_price.csv"
      ]
    },
    {
      "cell_type": "code",
      "metadata": {
        "colab": {
          "base_uri": "https://localhost:8080/"
        },
        "id": "kRD1Buy0ikfg",
        "outputId": "9ed11106-1611-4947-ab77-b53c932ae814"
      },
      "source": [
        "# Checking if you are using Google Colab.\n",
        "\n",
        "RunningInCOLAB = 'google.colab' in str(get_ipython())\n",
        "\n",
        "if RunningInCOLAB:\n",
        "    from google.colab import drive\n",
        "    drive.mount('/content/drive')\n",
        "    \n",
        "    # paste the path here, keep quotation marks and the trailing slash\n",
        "    Path = '/content/drive/MyDrive/UL_Colab_Files/ET5003/Etivity2/'\n",
        "    \n",
        "else:\n",
        "    \n",
        "    Path = './Etivity2/'"
      ],
      "execution_count": 524,
      "outputs": [
        {
          "output_type": "stream",
          "name": "stdout",
          "text": [
            "Drive already mounted at /content/drive; to attempt to forcibly remount, call drive.mount(\"/content/drive\", force_remount=True).\n"
          ]
        }
      ]
    },
    {
      "cell_type": "markdown",
      "metadata": {
        "id": "EY8pCtlBaUrY"
      },
      "source": [
        "Read in each \".csv\" file into a Pandas dataframe and print the shape of the data."
      ]
    },
    {
      "cell_type": "code",
      "metadata": {
        "colab": {
          "base_uri": "https://localhost:8080/"
        },
        "id": "_G-dubKxWewK",
        "outputId": "8e3aefe3-764b-4bf6-dd34-4d6d23d42e3d"
      },
      "source": [
        "# Training Dataset: \n",
        "training_file = Path + 'house_train.csv'\n",
        "dftrain = pd.read_csv(training_file)\n",
        "print('House train data shape: ', dftrain.shape)\n",
        "\n",
        "# Test Dataset:\n",
        "testing_file = Path + 'house_test.csv'\n",
        "dftest = pd.read_csv(testing_file)\n",
        "print('House test data shape: ', dftest.shape)\n",
        "\n",
        "# Cost Dataset:\n",
        "cost_file = Path + 'true_price.csv'\n",
        "dfcost = pd.read_csv(cost_file)\n",
        "print('True price data shape: ', dfcost.shape)\n"
      ],
      "execution_count": 525,
      "outputs": [
        {
          "output_type": "stream",
          "name": "stdout",
          "text": [
            "House train data shape:  (2982, 17)\n",
            "House test data shape:  (500, 16)\n",
            "True price data shape:  (500, 2)\n"
          ]
        }
      ]
    },
    {
      "cell_type": "markdown",
      "metadata": {
        "id": "ENwGwNi-aeik"
      },
      "source": [
        "Check the initial rows and review some basic statistics for each dataframe."
      ]
    },
    {
      "cell_type": "markdown",
      "metadata": {
        "id": "2PMoPLlUJ1Ly"
      },
      "source": [
        "## Training & Test Data"
      ]
    },
    {
      "cell_type": "markdown",
      "metadata": {
        "id": "_yu-66bRfb12"
      },
      "source": [
        "**Not using this for now...**"
      ]
    },
    {
      "cell_type": "code",
      "metadata": {
        "id": "loLTHklwKGnV"
      },
      "source": [
        "# # split data into training and test\n",
        "# from sklearn.model_selection import train_test_split\n",
        "\n",
        "# # training: 70% (0.7), test: 30% (0.3) \n",
        "# # you could try any other combination \n",
        "# # but consider 50% of training as the low boundary\n",
        "# X_train,X_test,y_train,y_test = train_test_split(X, y, test_size=0.3)"
      ],
      "execution_count": 526,
      "outputs": []
    },
    {
      "cell_type": "markdown",
      "metadata": {
        "id": "ztBkSZluye87"
      },
      "source": [
        "### Train dataset"
      ]
    },
    {
      "cell_type": "code",
      "metadata": {
        "id": "6XUFUPABMHfF",
        "colab": {
          "base_uri": "https://localhost:8080/",
          "height": 451
        },
        "outputId": "9736656e-e033-4d10-8790-0baeb915392c"
      },
      "source": [
        "# Show first data frame rows.\n",
        "dftrain.head()"
      ],
      "execution_count": 527,
      "outputs": [
        {
          "output_type": "execute_result",
          "data": {
            "text/html": [
              "<div>\n",
              "<style scoped>\n",
              "    .dataframe tbody tr th:only-of-type {\n",
              "        vertical-align: middle;\n",
              "    }\n",
              "\n",
              "    .dataframe tbody tr th {\n",
              "        vertical-align: top;\n",
              "    }\n",
              "\n",
              "    .dataframe thead th {\n",
              "        text-align: right;\n",
              "    }\n",
              "</style>\n",
              "<table border=\"1\" class=\"dataframe\">\n",
              "  <thead>\n",
              "    <tr style=\"text-align: right;\">\n",
              "      <th></th>\n",
              "      <th>ad_id</th>\n",
              "      <th>area</th>\n",
              "      <th>bathrooms</th>\n",
              "      <th>beds</th>\n",
              "      <th>ber_classification</th>\n",
              "      <th>county</th>\n",
              "      <th>description_block</th>\n",
              "      <th>environment</th>\n",
              "      <th>facility</th>\n",
              "      <th>features</th>\n",
              "      <th>latitude</th>\n",
              "      <th>longitude</th>\n",
              "      <th>no_of_units</th>\n",
              "      <th>price</th>\n",
              "      <th>property_category</th>\n",
              "      <th>property_type</th>\n",
              "      <th>surface</th>\n",
              "    </tr>\n",
              "  </thead>\n",
              "  <tbody>\n",
              "    <tr>\n",
              "      <th>0</th>\n",
              "      <td>996887</td>\n",
              "      <td>Portmarnock</td>\n",
              "      <td>NaN</td>\n",
              "      <td>NaN</td>\n",
              "      <td>NaN</td>\n",
              "      <td>Dublin</td>\n",
              "      <td>A SELECTION OF 4 AND 5 BEDROOM FAMILY HOMES LO...</td>\n",
              "      <td>prod</td>\n",
              "      <td>NaN</td>\n",
              "      <td>None</td>\n",
              "      <td>53.418216</td>\n",
              "      <td>-6.149329</td>\n",
              "      <td>18.0</td>\n",
              "      <td>NaN</td>\n",
              "      <td>new_development_parent</td>\n",
              "      <td>NaN</td>\n",
              "      <td>NaN</td>\n",
              "    </tr>\n",
              "    <tr>\n",
              "      <th>1</th>\n",
              "      <td>999327</td>\n",
              "      <td>Lucan</td>\n",
              "      <td>NaN</td>\n",
              "      <td>NaN</td>\n",
              "      <td>NaN</td>\n",
              "      <td>Dublin</td>\n",
              "      <td>**Last 2 remaining houses for sale ***\\n\\nOn v...</td>\n",
              "      <td>prod</td>\n",
              "      <td>NaN</td>\n",
              "      <td>None</td>\n",
              "      <td>53.364917</td>\n",
              "      <td>-6.454935</td>\n",
              "      <td>3.0</td>\n",
              "      <td>NaN</td>\n",
              "      <td>new_development_parent</td>\n",
              "      <td>NaN</td>\n",
              "      <td>NaN</td>\n",
              "    </tr>\n",
              "    <tr>\n",
              "      <th>2</th>\n",
              "      <td>999559</td>\n",
              "      <td>Rathfarnham</td>\n",
              "      <td>NaN</td>\n",
              "      <td>NaN</td>\n",
              "      <td>NaN</td>\n",
              "      <td>Dublin</td>\n",
              "      <td>Final 4 &amp;amp; 5 Bedroom Homes for Sale\\n\\nOn V...</td>\n",
              "      <td>prod</td>\n",
              "      <td>NaN</td>\n",
              "      <td>None</td>\n",
              "      <td>53.273447</td>\n",
              "      <td>-6.313821</td>\n",
              "      <td>3.0</td>\n",
              "      <td>NaN</td>\n",
              "      <td>new_development_parent</td>\n",
              "      <td>NaN</td>\n",
              "      <td>NaN</td>\n",
              "    </tr>\n",
              "    <tr>\n",
              "      <th>3</th>\n",
              "      <td>9102986</td>\n",
              "      <td>Balbriggan</td>\n",
              "      <td>NaN</td>\n",
              "      <td>NaN</td>\n",
              "      <td>NaN</td>\n",
              "      <td>Dublin</td>\n",
              "      <td>Glenveagh Taylor Hill, Balbriggan\\n\\r\\n*Ideal ...</td>\n",
              "      <td>prod</td>\n",
              "      <td>NaN</td>\n",
              "      <td>None</td>\n",
              "      <td>53.608167</td>\n",
              "      <td>-6.210914</td>\n",
              "      <td>30.0</td>\n",
              "      <td>NaN</td>\n",
              "      <td>new_development_parent</td>\n",
              "      <td>NaN</td>\n",
              "      <td>NaN</td>\n",
              "    </tr>\n",
              "    <tr>\n",
              "      <th>4</th>\n",
              "      <td>9106028</td>\n",
              "      <td>Foxrock</td>\n",
              "      <td>NaN</td>\n",
              "      <td>NaN</td>\n",
              "      <td>NaN</td>\n",
              "      <td>Dublin</td>\n",
              "      <td>*New phase launching this weekend Sat &amp;amp; Su...</td>\n",
              "      <td>prod</td>\n",
              "      <td>NaN</td>\n",
              "      <td>None</td>\n",
              "      <td>53.262531</td>\n",
              "      <td>-6.181527</td>\n",
              "      <td>8.0</td>\n",
              "      <td>NaN</td>\n",
              "      <td>new_development_parent</td>\n",
              "      <td>NaN</td>\n",
              "      <td>NaN</td>\n",
              "    </tr>\n",
              "  </tbody>\n",
              "</table>\n",
              "</div>"
            ],
            "text/plain": [
              "     ad_id         area  ...  property_type  surface\n",
              "0   996887  Portmarnock  ...            NaN      NaN\n",
              "1   999327        Lucan  ...            NaN      NaN\n",
              "2   999559  Rathfarnham  ...            NaN      NaN\n",
              "3  9102986   Balbriggan  ...            NaN      NaN\n",
              "4  9106028      Foxrock  ...            NaN      NaN\n",
              "\n",
              "[5 rows x 17 columns]"
            ]
          },
          "metadata": {},
          "execution_count": 527
        }
      ]
    },
    {
      "cell_type": "code",
      "metadata": {
        "id": "5rq_p-D4yLBe",
        "colab": {
          "base_uri": "https://localhost:8080/",
          "height": 300
        },
        "outputId": "821bcc02-ccc9-4d3e-944c-3b6456f3a2be"
      },
      "source": [
        "# Generate descriptive statistics.\n",
        "dftrain.describe()"
      ],
      "execution_count": 528,
      "outputs": [
        {
          "output_type": "execute_result",
          "data": {
            "text/html": [
              "<div>\n",
              "<style scoped>\n",
              "    .dataframe tbody tr th:only-of-type {\n",
              "        vertical-align: middle;\n",
              "    }\n",
              "\n",
              "    .dataframe tbody tr th {\n",
              "        vertical-align: top;\n",
              "    }\n",
              "\n",
              "    .dataframe thead th {\n",
              "        text-align: right;\n",
              "    }\n",
              "</style>\n",
              "<table border=\"1\" class=\"dataframe\">\n",
              "  <thead>\n",
              "    <tr style=\"text-align: right;\">\n",
              "      <th></th>\n",
              "      <th>ad_id</th>\n",
              "      <th>bathrooms</th>\n",
              "      <th>beds</th>\n",
              "      <th>latitude</th>\n",
              "      <th>longitude</th>\n",
              "      <th>no_of_units</th>\n",
              "      <th>price</th>\n",
              "      <th>surface</th>\n",
              "    </tr>\n",
              "  </thead>\n",
              "  <tbody>\n",
              "    <tr>\n",
              "      <th>count</th>\n",
              "      <td>2.982000e+03</td>\n",
              "      <td>2931.000000</td>\n",
              "      <td>2931.000000</td>\n",
              "      <td>2982.000000</td>\n",
              "      <td>2982.000000</td>\n",
              "      <td>59.000000</td>\n",
              "      <td>2.892000e+03</td>\n",
              "      <td>2431.000000</td>\n",
              "    </tr>\n",
              "    <tr>\n",
              "      <th>mean</th>\n",
              "      <td>1.224065e+07</td>\n",
              "      <td>1.998635</td>\n",
              "      <td>2.979188</td>\n",
              "      <td>53.355991</td>\n",
              "      <td>-6.257175</td>\n",
              "      <td>7.440678</td>\n",
              "      <td>5.323536e+05</td>\n",
              "      <td>318.851787</td>\n",
              "    </tr>\n",
              "    <tr>\n",
              "      <th>std</th>\n",
              "      <td>5.793037e+05</td>\n",
              "      <td>1.291875</td>\n",
              "      <td>1.468408</td>\n",
              "      <td>0.086748</td>\n",
              "      <td>0.141906</td>\n",
              "      <td>8.937081</td>\n",
              "      <td>5.678148e+05</td>\n",
              "      <td>4389.423136</td>\n",
              "    </tr>\n",
              "    <tr>\n",
              "      <th>min</th>\n",
              "      <td>9.968870e+05</td>\n",
              "      <td>0.000000</td>\n",
              "      <td>0.000000</td>\n",
              "      <td>51.458439</td>\n",
              "      <td>-6.521183</td>\n",
              "      <td>0.000000</td>\n",
              "      <td>1.999500e+04</td>\n",
              "      <td>3.400000</td>\n",
              "    </tr>\n",
              "    <tr>\n",
              "      <th>25%</th>\n",
              "      <td>1.226813e+07</td>\n",
              "      <td>1.000000</td>\n",
              "      <td>2.000000</td>\n",
              "      <td>53.298929</td>\n",
              "      <td>-6.314064</td>\n",
              "      <td>2.000000</td>\n",
              "      <td>2.800000e+05</td>\n",
              "      <td>74.100000</td>\n",
              "    </tr>\n",
              "    <tr>\n",
              "      <th>50%</th>\n",
              "      <td>1.237758e+07</td>\n",
              "      <td>2.000000</td>\n",
              "      <td>3.000000</td>\n",
              "      <td>53.345497</td>\n",
              "      <td>-6.252254</td>\n",
              "      <td>3.000000</td>\n",
              "      <td>3.800000e+05</td>\n",
              "      <td>100.000000</td>\n",
              "    </tr>\n",
              "    <tr>\n",
              "      <th>75%</th>\n",
              "      <td>1.240294e+07</td>\n",
              "      <td>3.000000</td>\n",
              "      <td>4.000000</td>\n",
              "      <td>53.388845</td>\n",
              "      <td>-6.196049</td>\n",
              "      <td>8.000000</td>\n",
              "      <td>5.750000e+05</td>\n",
              "      <td>142.000000</td>\n",
              "    </tr>\n",
              "    <tr>\n",
              "      <th>max</th>\n",
              "      <td>1.242836e+07</td>\n",
              "      <td>18.000000</td>\n",
              "      <td>27.000000</td>\n",
              "      <td>53.630588</td>\n",
              "      <td>-1.744995</td>\n",
              "      <td>36.000000</td>\n",
              "      <td>9.995000e+06</td>\n",
              "      <td>182108.539008</td>\n",
              "    </tr>\n",
              "  </tbody>\n",
              "</table>\n",
              "</div>"
            ],
            "text/plain": [
              "              ad_id    bathrooms  ...         price        surface\n",
              "count  2.982000e+03  2931.000000  ...  2.892000e+03    2431.000000\n",
              "mean   1.224065e+07     1.998635  ...  5.323536e+05     318.851787\n",
              "std    5.793037e+05     1.291875  ...  5.678148e+05    4389.423136\n",
              "min    9.968870e+05     0.000000  ...  1.999500e+04       3.400000\n",
              "25%    1.226813e+07     1.000000  ...  2.800000e+05      74.100000\n",
              "50%    1.237758e+07     2.000000  ...  3.800000e+05     100.000000\n",
              "75%    1.240294e+07     3.000000  ...  5.750000e+05     142.000000\n",
              "max    1.242836e+07    18.000000  ...  9.995000e+06  182108.539008\n",
              "\n",
              "[8 rows x 8 columns]"
            ]
          },
          "metadata": {},
          "execution_count": 528
        }
      ]
    },
    {
      "cell_type": "markdown",
      "metadata": {
        "id": "XadHvcoXLtjz"
      },
      "source": [
        "Assess count of each feature alongside the data type i.e. whether it is numeric or categorical."
      ]
    },
    {
      "cell_type": "code",
      "metadata": {
        "id": "ByiI0CQKOgKk",
        "colab": {
          "base_uri": "https://localhost:8080/"
        },
        "outputId": "b34e26ef-527e-47ac-ff2b-aa775d4dbb34"
      },
      "source": [
        "dftrain.info()"
      ],
      "execution_count": 529,
      "outputs": [
        {
          "output_type": "stream",
          "name": "stdout",
          "text": [
            "<class 'pandas.core.frame.DataFrame'>\n",
            "RangeIndex: 2982 entries, 0 to 2981\n",
            "Data columns (total 17 columns):\n",
            " #   Column              Non-Null Count  Dtype  \n",
            "---  ------              --------------  -----  \n",
            " 0   ad_id               2982 non-null   int64  \n",
            " 1   area                2982 non-null   object \n",
            " 2   bathrooms           2931 non-null   float64\n",
            " 3   beds                2931 non-null   float64\n",
            " 4   ber_classification  2305 non-null   object \n",
            " 5   county              2982 non-null   object \n",
            " 6   description_block   2982 non-null   object \n",
            " 7   environment         2982 non-null   object \n",
            " 8   facility            965 non-null    object \n",
            " 9   features            2982 non-null   object \n",
            " 10  latitude            2982 non-null   float64\n",
            " 11  longitude           2982 non-null   float64\n",
            " 12  no_of_units         59 non-null     float64\n",
            " 13  price               2892 non-null   float64\n",
            " 14  property_category   2982 non-null   object \n",
            " 15  property_type       2931 non-null   object \n",
            " 16  surface             2431 non-null   float64\n",
            "dtypes: float64(7), int64(1), object(9)\n",
            "memory usage: 396.2+ KB\n"
          ]
        }
      ]
    },
    {
      "cell_type": "markdown",
      "metadata": {
        "id": "HpwHL39L87i4"
      },
      "source": [
        "Check each column in the dataframe how many null/Nan instances there are."
      ]
    },
    {
      "cell_type": "code",
      "metadata": {
        "colab": {
          "base_uri": "https://localhost:8080/"
        },
        "id": "UpYolpIzDCc4",
        "outputId": "66e8ffe1-d9db-412b-fe94-8546ce2f1687"
      },
      "source": [
        "dftrain.isna().sum()"
      ],
      "execution_count": 530,
      "outputs": [
        {
          "output_type": "execute_result",
          "data": {
            "text/plain": [
              "ad_id                    0\n",
              "area                     0\n",
              "bathrooms               51\n",
              "beds                    51\n",
              "ber_classification     677\n",
              "county                   0\n",
              "description_block        0\n",
              "environment              0\n",
              "facility              2017\n",
              "features                 0\n",
              "latitude                 0\n",
              "longitude                0\n",
              "no_of_units           2923\n",
              "price                   90\n",
              "property_category        0\n",
              "property_type           51\n",
              "surface                551\n",
              "dtype: int64"
            ]
          },
          "metadata": {},
          "execution_count": 530
        }
      ]
    },
    {
      "cell_type": "markdown",
      "metadata": {
        "id": "vEYuRB-u7eMF"
      },
      "source": [
        "There is 2982 rows and 17 columns in the training data. \n",
        "*   '**facility**' has 2017 NaN instances which means there is nearly two thirds of values missing. \n",
        "*   '**no_of_units**' has 2923 NaN instances which means there is nearly all values missing.\n",
        "*   '**ad_id**' has 2982 unique values which equates to the total amount of rows so it is not offering any helpful information.\n",
        "*   '**description_block**' and '**features**' have sentences/statements with inconsistent descriptions about the properties so these are not helpful for training a model. \n",
        "\n",
        "These features will be dropped as there is not much value being added in terms of training a model with them.\n",
        "\n",
        "\n"
      ]
    },
    {
      "cell_type": "code",
      "metadata": {
        "colab": {
          "base_uri": "https://localhost:8080/"
        },
        "id": "g1enI3HqwODz",
        "outputId": "ff49bbe9-9a2a-4f3d-df39-36c237e1542d"
      },
      "source": [
        "dftrain_adj = dftrain.drop(columns=['ad_id', 'facility','no_of_units', 'description_block', 'features'])\n",
        "\n",
        "dftrain_adj.shape"
      ],
      "execution_count": 531,
      "outputs": [
        {
          "output_type": "execute_result",
          "data": {
            "text/plain": [
              "(2982, 12)"
            ]
          },
          "metadata": {},
          "execution_count": 531
        }
      ]
    },
    {
      "cell_type": "markdown",
      "metadata": {
        "id": "UVmLfEb5Pk19"
      },
      "source": [
        "Check how much variation there is in the features '**county**', '**environment**' and '**property_category**'."
      ]
    },
    {
      "cell_type": "code",
      "metadata": {
        "id": "1JEIlgTvPbDv",
        "colab": {
          "base_uri": "https://localhost:8080/"
        },
        "outputId": "f0b835c4-c2d5-433b-e9c0-dca6fb0e6534"
      },
      "source": [
        "dftrain_adj['county'].value_counts()"
      ],
      "execution_count": 532,
      "outputs": [
        {
          "output_type": "execute_result",
          "data": {
            "text/plain": [
              "Dublin    2982\n",
              "Name: county, dtype: int64"
            ]
          },
          "metadata": {},
          "execution_count": 532
        }
      ]
    },
    {
      "cell_type": "code",
      "metadata": {
        "colab": {
          "base_uri": "https://localhost:8080/"
        },
        "id": "t_sJc5QyRugg",
        "outputId": "1922bb57-89ae-4004-8408-471d654ce71b"
      },
      "source": [
        "dftrain_adj['environment'].value_counts()"
      ],
      "execution_count": 533,
      "outputs": [
        {
          "output_type": "execute_result",
          "data": {
            "text/plain": [
              "prod    2982\n",
              "Name: environment, dtype: int64"
            ]
          },
          "metadata": {},
          "execution_count": 533
        }
      ]
    },
    {
      "cell_type": "code",
      "metadata": {
        "colab": {
          "base_uri": "https://localhost:8080/"
        },
        "id": "n9sB2ADoZbEU",
        "outputId": "16689975-345b-4725-af5c-5fb13f5e4a2e"
      },
      "source": [
        "dftrain_adj['property_category'].value_counts()"
      ],
      "execution_count": 534,
      "outputs": [
        {
          "output_type": "execute_result",
          "data": {
            "text/plain": [
              "sale                      2923\n",
              "new_development_parent      59\n",
              "Name: property_category, dtype: int64"
            ]
          },
          "metadata": {},
          "execution_count": 534
        }
      ]
    },
    {
      "cell_type": "markdown",
      "metadata": {
        "id": "3Q_d-VFPPrrE"
      },
      "source": [
        "As '**county**' has only one value 'Dublin' and '**environment**' has only one value 'prod', these features can be removed as they are not providing any useful information. \n",
        "\n",
        "Only 59 out of 2982 instances (~2%) of '**property_category**' are not 'sale' so this feature is not adding a lot of information either and can be removed too."
      ]
    },
    {
      "cell_type": "code",
      "metadata": {
        "id": "-xMpQCz-Pa_s"
      },
      "source": [
        "dftrain_adj.drop(columns=['county', 'environment', 'property_category'], inplace=True)"
      ],
      "execution_count": 535,
      "outputs": []
    },
    {
      "cell_type": "code",
      "metadata": {
        "colab": {
          "base_uri": "https://localhost:8080/"
        },
        "id": "Oke9a55EKN2L",
        "outputId": "2b0f9803-a14a-4d07-9f5e-7296ebaea919"
      },
      "source": [
        "dftrain_adj.shape"
      ],
      "execution_count": 536,
      "outputs": [
        {
          "output_type": "execute_result",
          "data": {
            "text/plain": [
              "(2982, 9)"
            ]
          },
          "metadata": {},
          "execution_count": 536
        }
      ]
    },
    {
      "cell_type": "markdown",
      "metadata": {
        "id": "KzYY_dW2ISNK"
      },
      "source": [
        "Drop all rows with NaN present as the sample/observation is incomplete and may be misleading."
      ]
    },
    {
      "cell_type": "code",
      "metadata": {
        "id": "GHcnY1uaGL3n",
        "colab": {
          "base_uri": "https://localhost:8080/"
        },
        "outputId": "896ef7e5-9577-440e-d245-1e4f248cf3d7"
      },
      "source": [
        "dftrain_adj.dropna(inplace=True)\n",
        "\n",
        "dftrain_adj.shape"
      ],
      "execution_count": 537,
      "outputs": [
        {
          "output_type": "execute_result",
          "data": {
            "text/plain": [
              "(2002, 9)"
            ]
          },
          "metadata": {},
          "execution_count": 537
        }
      ]
    },
    {
      "cell_type": "markdown",
      "metadata": {
        "id": "iJPTIrPJIbRT"
      },
      "source": [
        "Remove samples where there are 0 bathrooms and 0 bedrooms."
      ]
    },
    {
      "cell_type": "code",
      "metadata": {
        "id": "AvlmnWdXGLsu",
        "colab": {
          "base_uri": "https://localhost:8080/"
        },
        "outputId": "88a6d41a-cf15-4f29-ea41-c6273589f67b"
      },
      "source": [
        "dftrain_adj.drop(dftrain_adj[dftrain_adj.beds == 0].index, inplace=True)\n",
        "\n",
        "dftrain_adj.drop(dftrain_adj[dftrain_adj.bathrooms == 0].index, inplace=True)\n",
        "\n",
        "dftrain_adj.shape"
      ],
      "execution_count": 538,
      "outputs": [
        {
          "output_type": "execute_result",
          "data": {
            "text/plain": [
              "(1989, 9)"
            ]
          },
          "metadata": {},
          "execution_count": 538
        }
      ]
    },
    {
      "cell_type": "markdown",
      "metadata": {
        "id": "O9FgOhqKeXwc"
      },
      "source": [
        "Check what features remain."
      ]
    },
    {
      "cell_type": "code",
      "metadata": {
        "colab": {
          "base_uri": "https://localhost:8080/",
          "height": 206
        },
        "id": "jX-s-vePMmMD",
        "outputId": "e49533f8-d5a1-4b8e-8806-de2fadc06be0"
      },
      "source": [
        "dftrain_adj.head()"
      ],
      "execution_count": 539,
      "outputs": [
        {
          "output_type": "execute_result",
          "data": {
            "text/html": [
              "<div>\n",
              "<style scoped>\n",
              "    .dataframe tbody tr th:only-of-type {\n",
              "        vertical-align: middle;\n",
              "    }\n",
              "\n",
              "    .dataframe tbody tr th {\n",
              "        vertical-align: top;\n",
              "    }\n",
              "\n",
              "    .dataframe thead th {\n",
              "        text-align: right;\n",
              "    }\n",
              "</style>\n",
              "<table border=\"1\" class=\"dataframe\">\n",
              "  <thead>\n",
              "    <tr style=\"text-align: right;\">\n",
              "      <th></th>\n",
              "      <th>area</th>\n",
              "      <th>bathrooms</th>\n",
              "      <th>beds</th>\n",
              "      <th>ber_classification</th>\n",
              "      <th>latitude</th>\n",
              "      <th>longitude</th>\n",
              "      <th>price</th>\n",
              "      <th>property_type</th>\n",
              "      <th>surface</th>\n",
              "    </tr>\n",
              "  </thead>\n",
              "  <tbody>\n",
              "    <tr>\n",
              "      <th>15</th>\n",
              "      <td>Clonee</td>\n",
              "      <td>3.0</td>\n",
              "      <td>5.0</td>\n",
              "      <td>A3</td>\n",
              "      <td>53.400454</td>\n",
              "      <td>-6.445730</td>\n",
              "      <td>935000.0</td>\n",
              "      <td>detached</td>\n",
              "      <td>321.0</td>\n",
              "    </tr>\n",
              "    <tr>\n",
              "      <th>26</th>\n",
              "      <td>Clondalkin</td>\n",
              "      <td>4.0</td>\n",
              "      <td>4.0</td>\n",
              "      <td>A3</td>\n",
              "      <td>53.316410</td>\n",
              "      <td>-6.385214</td>\n",
              "      <td>485000.0</td>\n",
              "      <td>semi-detached</td>\n",
              "      <td>144.0</td>\n",
              "    </tr>\n",
              "    <tr>\n",
              "      <th>27</th>\n",
              "      <td>Clonee</td>\n",
              "      <td>3.0</td>\n",
              "      <td>5.0</td>\n",
              "      <td>A3</td>\n",
              "      <td>53.401414</td>\n",
              "      <td>-6.446634</td>\n",
              "      <td>935000.0</td>\n",
              "      <td>detached</td>\n",
              "      <td>321.0</td>\n",
              "    </tr>\n",
              "    <tr>\n",
              "      <th>35</th>\n",
              "      <td>Howth</td>\n",
              "      <td>5.0</td>\n",
              "      <td>5.0</td>\n",
              "      <td>A2</td>\n",
              "      <td>53.375377</td>\n",
              "      <td>-6.056749</td>\n",
              "      <td>1475000.0</td>\n",
              "      <td>detached</td>\n",
              "      <td>312.0</td>\n",
              "    </tr>\n",
              "    <tr>\n",
              "      <th>38</th>\n",
              "      <td>Castleknock</td>\n",
              "      <td>2.0</td>\n",
              "      <td>2.0</td>\n",
              "      <td>A3</td>\n",
              "      <td>53.372130</td>\n",
              "      <td>-6.338466</td>\n",
              "      <td>410000.0</td>\n",
              "      <td>apartment</td>\n",
              "      <td>83.0</td>\n",
              "    </tr>\n",
              "  </tbody>\n",
              "</table>\n",
              "</div>"
            ],
            "text/plain": [
              "           area  bathrooms  beds  ...      price  property_type  surface\n",
              "15       Clonee        3.0   5.0  ...   935000.0       detached    321.0\n",
              "26   Clondalkin        4.0   4.0  ...   485000.0  semi-detached    144.0\n",
              "27       Clonee        3.0   5.0  ...   935000.0       detached    321.0\n",
              "35        Howth        5.0   5.0  ...  1475000.0       detached    312.0\n",
              "38  Castleknock        2.0   2.0  ...   410000.0      apartment     83.0\n",
              "\n",
              "[5 rows x 9 columns]"
            ]
          },
          "metadata": {},
          "execution_count": 539
        }
      ]
    },
    {
      "cell_type": "code",
      "metadata": {
        "colab": {
          "base_uri": "https://localhost:8080/"
        },
        "id": "1XcdleMqMfNI",
        "outputId": "341caace-50d4-402c-985d-dd0ace91f7a4"
      },
      "source": [
        "dftrain_adj['area'].value_counts()"
      ],
      "execution_count": 540,
      "outputs": [
        {
          "output_type": "execute_result",
          "data": {
            "text/plain": [
              "Rathfarnham    73\n",
              "Castleknock    67\n",
              "Malahide       57\n",
              "Lucan          55\n",
              "Blackrock      51\n",
              "               ..\n",
              "Kilmore         1\n",
              "Kiltipper       1\n",
              "Greenhills      1\n",
              "Kingswood       1\n",
              "Garristown      1\n",
              "Name: area, Length: 144, dtype: int64"
            ]
          },
          "metadata": {},
          "execution_count": 540
        }
      ]
    },
    {
      "cell_type": "code",
      "metadata": {
        "colab": {
          "base_uri": "https://localhost:8080/"
        },
        "id": "5zrZNx--XbzN",
        "outputId": "2e1ad7bf-a7fd-4ee2-b5f4-2a1bacb17872"
      },
      "source": [
        "temporary_series = dftrain_adj['area'].value_counts()\n",
        "\n",
        "temporary_series.values"
      ],
      "execution_count": 541,
      "outputs": [
        {
          "output_type": "execute_result",
          "data": {
            "text/plain": [
              "array([73, 67, 57, 55, 51, 45, 41, 39, 39, 38, 37, 37, 36, 36, 34, 33, 33,\n",
              "       33, 32, 30, 29, 29, 26, 26, 25, 24, 24, 24, 24, 22, 22, 21, 20, 20,\n",
              "       19, 18, 18, 17, 17, 16, 16, 16, 16, 16, 15, 15, 14, 13, 13, 13, 13,\n",
              "       13, 13, 13, 13, 12, 12, 12, 12, 12, 11, 11, 11, 11, 10, 10, 10, 10,\n",
              "       10,  9,  9,  9,  9,  9,  9,  8,  8,  8,  8,  8,  8,  8,  8,  8,  7,\n",
              "        7,  7,  7,  6,  6,  6,  6,  6,  6,  6,  6,  6,  6,  6,  5,  5,  5,\n",
              "        4,  4,  4,  4,  4,  4,  4,  4,  4,  4,  3,  3,  3,  3,  3,  3,  3,\n",
              "        3,  3,  3,  3,  2,  2,  2,  2,  2,  2,  2,  1,  1,  1,  1,  1,  1,\n",
              "        1,  1,  1,  1,  1,  1,  1,  1])"
            ]
          },
          "metadata": {},
          "execution_count": 541
        }
      ]
    },
    {
      "cell_type": "code",
      "metadata": {
        "colab": {
          "base_uri": "https://localhost:8080/"
        },
        "id": "SpVXh4JIXv8n",
        "outputId": "0819e623-6cc1-4110-d4d3-6d1bf2b46d60"
      },
      "source": [
        "dftrain_adj['ber_classification'].value_counts()"
      ],
      "execution_count": 542,
      "outputs": [
        {
          "output_type": "execute_result",
          "data": {
            "text/plain": [
              "D1                     255\n",
              "D2                     241\n",
              "C3                     224\n",
              "C2                     210\n",
              "C1                     182\n",
              "E1                     154\n",
              "E2                     148\n",
              "G                      144\n",
              "F                      135\n",
              "B3                     106\n",
              "B2                      69\n",
              "A3                      61\n",
              "SINo666of2006exempt     23\n",
              "A2                      22\n",
              "B1                      14\n",
              "A1                       1\n",
              "Name: ber_classification, dtype: int64"
            ]
          },
          "metadata": {},
          "execution_count": 542
        }
      ]
    },
    {
      "cell_type": "code",
      "metadata": {
        "colab": {
          "base_uri": "https://localhost:8080/"
        },
        "id": "hljN6KSkXvy3",
        "outputId": "6d36bac5-e463-49f3-afa7-24ceca0ffe52"
      },
      "source": [
        "dftrain_adj['property_type'].value_counts()"
      ],
      "execution_count": 543,
      "outputs": [
        {
          "output_type": "execute_result",
          "data": {
            "text/plain": [
              "semi-detached     554\n",
              "apartment         530\n",
              "terraced          339\n",
              "detached          297\n",
              "end-of-terrace    153\n",
              "bungalow           56\n",
              "duplex             37\n",
              "townhouse          19\n",
              "site                3\n",
              "studio              1\n",
              "Name: property_type, dtype: int64"
            ]
          },
          "metadata": {},
          "execution_count": 543
        }
      ]
    },
    {
      "cell_type": "markdown",
      "metadata": {
        "id": "maa0AqJceCxm"
      },
      "source": [
        "For the categorical features '**area**', '**ber_classification**' and '**property_type**' a mapping approach will be taken to convert these to numerical features going forward.\n",
        "\n",
        "DATACAMP LINK....................\n"
      ]
    },
    {
      "cell_type": "markdown",
      "metadata": {
        "id": "2OhgjdzaeR6r"
      },
      "source": [
        "Convert each categorical variable in turn and update dataframe."
      ]
    },
    {
      "cell_type": "code",
      "metadata": {
        "colab": {
          "base_uri": "https://localhost:8080/"
        },
        "id": "_QJPcJiFc_Ey",
        "outputId": "1e20eec7-8477-4752-b2dc-34950b69ebcc"
      },
      "source": [
        "labels = dftrain_adj['area'].astype('category').cat.categories.tolist()\n",
        "\n",
        "replace_map_comp_1 = {'area' : {k: v for k,v in zip(labels,list(range(1,len(labels)+1)))}}\n",
        "\n",
        "print(replace_map_comp_1)\n",
        "\n",
        "dftrain_adj.replace(replace_map_comp_1, inplace=True)"
      ],
      "execution_count": 544,
      "outputs": [
        {
          "output_type": "stream",
          "name": "stdout",
          "text": [
            "{'area': {'Adamstown': 1, 'Ard Na Greine': 2, 'Artane': 3, 'Ashtown': 4, 'Balbriggan': 5, 'Baldoyle': 6, 'Balgriffin': 7, 'Ballinteer': 8, 'Ballsbridge': 9, 'Ballybough': 10, 'Ballyboughal': 11, 'Ballybrack': 12, 'Ballycullen': 13, 'Ballyfermot': 14, 'Ballymun': 15, 'Balrothery': 16, 'Beaumont': 17, 'Blackrock': 18, 'Blanchardstown': 19, 'Bluebell': 20, 'Booterstown': 21, 'Brittas': 22, 'Cabinteely': 23, 'Cabra': 24, 'Carrickmines': 25, 'Castleknock': 26, 'Chapelizod': 27, 'Christchurch': 28, 'Churchtown': 29, 'Citywest': 30, 'Clarehall': 31, 'Clondalkin': 32, 'Clonee': 33, 'Clongriffin': 34, 'Clonshaugh': 35, 'Clonsilla': 36, 'Clonskeagh': 37, 'Clontarf': 38, 'Coolock': 39, 'Crumlin': 40, 'Dalkey': 41, 'Darndale': 42, 'Dartry': 43, 'Donabate': 44, 'Donaghmede': 45, 'Donnybrook': 46, 'Donnycarney': 47, 'Drimnagh': 48, 'Drumcondra': 49, 'Dublin 1': 50, 'Dublin 2': 51, 'Dublin 4': 52, 'Dublin 7': 53, 'Dublin 8': 54, 'Dun Laoghaire': 55, 'Dundrum': 56, 'East Wall': 57, 'Edenmore': 58, 'Fairview': 59, 'Finglas': 60, 'Firhouse': 61, 'Foxrock': 62, 'Garristown': 63, 'Glasnevin': 64, 'Glenageary': 65, 'Goatstown': 66, 'Grand Canal Dock': 67, 'Greenhills': 68, \"Harold's Cross\": 69, 'Howth': 70, 'IFSC': 71, 'Inchicore': 72, 'Irishtown': 73, 'Islandbridge': 74, 'Killester': 75, 'Killiney': 76, 'Kilmacud': 77, 'Kilmainham': 78, 'Kilmore': 79, 'Kilnamanagh': 80, 'Kilternan': 81, 'Kiltipper': 82, 'Kimmage': 83, 'Kingswood': 84, 'Kinsealy': 85, 'Knocklyon': 86, 'Leopardstown': 87, 'Loughlinstown': 88, 'Loughshinny': 89, 'Lucan': 90, 'Lusk': 91, 'Malahide': 92, 'Marino': 93, 'Milltown': 94, 'Monkstown': 95, 'Mount Merrion': 96, 'Mulhuddart': 97, 'Naul': 98, 'Navan Road (D7)': 99, 'Newcastle': 100, 'North Circular Road': 101, 'North Strand': 102, 'Oldbawn': 103, 'Ongar': 104, 'Palmerstown': 105, 'Park West': 106, 'Perrystown': 107, 'Phibsborough': 108, 'Portmarnock': 109, 'Portobello': 110, 'Raheny': 111, 'Ranelagh': 112, 'Rathcoole': 113, 'Rathfarnham': 114, 'Rathgar': 115, 'Rathmichael': 116, 'Rathmines': 117, 'Rialto': 118, 'Ringsend': 119, 'Rush': 120, 'Saggart': 121, 'Sallynoggin': 122, 'Sandycove': 123, 'Sandyford': 124, 'Sandymount': 125, 'Santry': 126, 'Shankill': 127, 'Skerries': 128, 'Smithfield': 129, 'South Circular Road': 130, 'Stepaside': 131, 'Stoneybatter': 132, 'Sutton': 133, 'Swords': 134, 'Tallaght': 135, 'Temple Bar': 136, 'Templeogue': 137, 'Terenure': 138, 'The Coombe': 139, 'The Ward': 140, 'Tyrrelstown': 141, 'Walkinstown': 142, 'Whitehall': 143, 'Windy Arbour': 144}}\n"
          ]
        }
      ]
    },
    {
      "cell_type": "code",
      "metadata": {
        "colab": {
          "base_uri": "https://localhost:8080/"
        },
        "id": "m3_ogR99c-5c",
        "outputId": "43866ccf-5c16-4a03-a55b-552fb2c5632a"
      },
      "source": [
        "labels = dftrain_adj['ber_classification'].astype('category').cat.categories.tolist()\n",
        "\n",
        "replace_map_comp_2 = {'ber_classification' : {k: v for k,v in zip(labels,list(range(1,len(labels)+1)))}}\n",
        "\n",
        "print(replace_map_comp_2)\n",
        "\n",
        "dftrain_adj.replace(replace_map_comp_2, inplace=True)"
      ],
      "execution_count": 545,
      "outputs": [
        {
          "output_type": "stream",
          "name": "stdout",
          "text": [
            "{'ber_classification': {'A1': 1, 'A2': 2, 'A3': 3, 'B1': 4, 'B2': 5, 'B3': 6, 'C1': 7, 'C2': 8, 'C3': 9, 'D1': 10, 'D2': 11, 'E1': 12, 'E2': 13, 'F': 14, 'G': 15, 'SINo666of2006exempt': 16}}\n"
          ]
        }
      ]
    },
    {
      "cell_type": "code",
      "metadata": {
        "colab": {
          "base_uri": "https://localhost:8080/"
        },
        "id": "jgfBrUH8eu7-",
        "outputId": "83a03fde-0424-456f-f5f1-ae73c4231d6c"
      },
      "source": [
        "labels = dftrain_adj['property_type'].astype('category').cat.categories.tolist()\n",
        "\n",
        "replace_map_comp_3 = {'property_type' : {k: v for k,v in zip(labels,list(range(1,len(labels)+1)))}}\n",
        "\n",
        "print(replace_map_comp_3)\n",
        "\n",
        "dftrain_adj.replace(replace_map_comp_3, inplace=True)"
      ],
      "execution_count": 546,
      "outputs": [
        {
          "output_type": "stream",
          "name": "stdout",
          "text": [
            "{'property_type': {'apartment': 1, 'bungalow': 2, 'detached': 3, 'duplex': 4, 'end-of-terrace': 5, 'semi-detached': 6, 'site': 7, 'studio': 8, 'terraced': 9, 'townhouse': 10}}\n"
          ]
        }
      ]
    },
    {
      "cell_type": "code",
      "metadata": {
        "colab": {
          "base_uri": "https://localhost:8080/",
          "height": 206
        },
        "id": "SpKA5BUEfB-V",
        "outputId": "6a0a51b1-5189-4077-b725-3387f85995c0"
      },
      "source": [
        "dftrain_adj.head()"
      ],
      "execution_count": 547,
      "outputs": [
        {
          "output_type": "execute_result",
          "data": {
            "text/html": [
              "<div>\n",
              "<style scoped>\n",
              "    .dataframe tbody tr th:only-of-type {\n",
              "        vertical-align: middle;\n",
              "    }\n",
              "\n",
              "    .dataframe tbody tr th {\n",
              "        vertical-align: top;\n",
              "    }\n",
              "\n",
              "    .dataframe thead th {\n",
              "        text-align: right;\n",
              "    }\n",
              "</style>\n",
              "<table border=\"1\" class=\"dataframe\">\n",
              "  <thead>\n",
              "    <tr style=\"text-align: right;\">\n",
              "      <th></th>\n",
              "      <th>area</th>\n",
              "      <th>bathrooms</th>\n",
              "      <th>beds</th>\n",
              "      <th>ber_classification</th>\n",
              "      <th>latitude</th>\n",
              "      <th>longitude</th>\n",
              "      <th>price</th>\n",
              "      <th>property_type</th>\n",
              "      <th>surface</th>\n",
              "    </tr>\n",
              "  </thead>\n",
              "  <tbody>\n",
              "    <tr>\n",
              "      <th>15</th>\n",
              "      <td>33</td>\n",
              "      <td>3.0</td>\n",
              "      <td>5.0</td>\n",
              "      <td>3</td>\n",
              "      <td>53.400454</td>\n",
              "      <td>-6.445730</td>\n",
              "      <td>935000.0</td>\n",
              "      <td>3</td>\n",
              "      <td>321.0</td>\n",
              "    </tr>\n",
              "    <tr>\n",
              "      <th>26</th>\n",
              "      <td>32</td>\n",
              "      <td>4.0</td>\n",
              "      <td>4.0</td>\n",
              "      <td>3</td>\n",
              "      <td>53.316410</td>\n",
              "      <td>-6.385214</td>\n",
              "      <td>485000.0</td>\n",
              "      <td>6</td>\n",
              "      <td>144.0</td>\n",
              "    </tr>\n",
              "    <tr>\n",
              "      <th>27</th>\n",
              "      <td>33</td>\n",
              "      <td>3.0</td>\n",
              "      <td>5.0</td>\n",
              "      <td>3</td>\n",
              "      <td>53.401414</td>\n",
              "      <td>-6.446634</td>\n",
              "      <td>935000.0</td>\n",
              "      <td>3</td>\n",
              "      <td>321.0</td>\n",
              "    </tr>\n",
              "    <tr>\n",
              "      <th>35</th>\n",
              "      <td>70</td>\n",
              "      <td>5.0</td>\n",
              "      <td>5.0</td>\n",
              "      <td>2</td>\n",
              "      <td>53.375377</td>\n",
              "      <td>-6.056749</td>\n",
              "      <td>1475000.0</td>\n",
              "      <td>3</td>\n",
              "      <td>312.0</td>\n",
              "    </tr>\n",
              "    <tr>\n",
              "      <th>38</th>\n",
              "      <td>26</td>\n",
              "      <td>2.0</td>\n",
              "      <td>2.0</td>\n",
              "      <td>3</td>\n",
              "      <td>53.372130</td>\n",
              "      <td>-6.338466</td>\n",
              "      <td>410000.0</td>\n",
              "      <td>1</td>\n",
              "      <td>83.0</td>\n",
              "    </tr>\n",
              "  </tbody>\n",
              "</table>\n",
              "</div>"
            ],
            "text/plain": [
              "    area  bathrooms  beds  ...      price  property_type  surface\n",
              "15    33        3.0   5.0  ...   935000.0              3    321.0\n",
              "26    32        4.0   4.0  ...   485000.0              6    144.0\n",
              "27    33        3.0   5.0  ...   935000.0              3    321.0\n",
              "35    70        5.0   5.0  ...  1475000.0              3    312.0\n",
              "38    26        2.0   2.0  ...   410000.0              1     83.0\n",
              "\n",
              "[5 rows x 9 columns]"
            ]
          },
          "metadata": {},
          "execution_count": 547
        }
      ]
    },
    {
      "cell_type": "code",
      "metadata": {
        "colab": {
          "base_uri": "https://localhost:8080/"
        },
        "id": "_jQce8j5f50k",
        "outputId": "35428896-7d67-45c3-aff4-398f173f66ea"
      },
      "source": [
        "dftrain_adj.shape"
      ],
      "execution_count": 548,
      "outputs": [
        {
          "output_type": "execute_result",
          "data": {
            "text/plain": [
              "(1989, 9)"
            ]
          },
          "metadata": {},
          "execution_count": 548
        }
      ]
    },
    {
      "cell_type": "markdown",
      "metadata": {
        "id": "efYAigYTfLSK"
      },
      "source": [
        "Now all training features are now numeric. There are 9 remaining features (which includes the target 'price')."
      ]
    },
    {
      "cell_type": "markdown",
      "metadata": {
        "id": "Iqg9_uxFyZli"
      },
      "source": [
        "### Test dataset"
      ]
    },
    {
      "cell_type": "markdown",
      "metadata": {
        "id": "cTOiy4gRfo0Q"
      },
      "source": [
        "The same pre-processing approaches taken on the training dataset will be taken on the test dataset."
      ]
    },
    {
      "cell_type": "code",
      "metadata": {
        "id": "bw2_yypxMfsi",
        "colab": {
          "base_uri": "https://localhost:8080/",
          "height": 417
        },
        "outputId": "760dbbc1-503b-4ec3-c149-9a62cc472ffa"
      },
      "source": [
        "# Show first data frame rows.\n",
        "dftest.head()"
      ],
      "execution_count": 549,
      "outputs": [
        {
          "output_type": "execute_result",
          "data": {
            "text/html": [
              "<div>\n",
              "<style scoped>\n",
              "    .dataframe tbody tr th:only-of-type {\n",
              "        vertical-align: middle;\n",
              "    }\n",
              "\n",
              "    .dataframe tbody tr th {\n",
              "        vertical-align: top;\n",
              "    }\n",
              "\n",
              "    .dataframe thead th {\n",
              "        text-align: right;\n",
              "    }\n",
              "</style>\n",
              "<table border=\"1\" class=\"dataframe\">\n",
              "  <thead>\n",
              "    <tr style=\"text-align: right;\">\n",
              "      <th></th>\n",
              "      <th>ad_id</th>\n",
              "      <th>area</th>\n",
              "      <th>bathrooms</th>\n",
              "      <th>beds</th>\n",
              "      <th>ber_classification</th>\n",
              "      <th>county</th>\n",
              "      <th>description_block</th>\n",
              "      <th>environment</th>\n",
              "      <th>facility</th>\n",
              "      <th>features</th>\n",
              "      <th>latitude</th>\n",
              "      <th>longitude</th>\n",
              "      <th>no_of_units</th>\n",
              "      <th>property_category</th>\n",
              "      <th>property_type</th>\n",
              "      <th>surface</th>\n",
              "    </tr>\n",
              "  </thead>\n",
              "  <tbody>\n",
              "    <tr>\n",
              "      <th>0</th>\n",
              "      <td>12373510</td>\n",
              "      <td>Skerries</td>\n",
              "      <td>2.0</td>\n",
              "      <td>4.0</td>\n",
              "      <td>G</td>\n",
              "      <td>Dublin</td>\n",
              "      <td>It's all in the name \"Island View\";. Truly won...</td>\n",
              "      <td>prod</td>\n",
              "      <td>Parking,Alarm,Oil Fired Central Heating</td>\n",
              "      <td>Breath-taking panoramic views radiate from thi...</td>\n",
              "      <td>53.566881</td>\n",
              "      <td>-6.101148</td>\n",
              "      <td>NaN</td>\n",
              "      <td>sale</td>\n",
              "      <td>bungalow</td>\n",
              "      <td>142.0</td>\n",
              "    </tr>\n",
              "    <tr>\n",
              "      <th>1</th>\n",
              "      <td>12422623</td>\n",
              "      <td>Lucan</td>\n",
              "      <td>2.0</td>\n",
              "      <td>3.0</td>\n",
              "      <td>C1</td>\n",
              "      <td>Dublin</td>\n",
              "      <td>REA McDonald - Lucan' s longest established es...</td>\n",
              "      <td>prod</td>\n",
              "      <td>NaN</td>\n",
              "      <td>Gas fired central heating.\\nDouble glazed wind...</td>\n",
              "      <td>53.362992</td>\n",
              "      <td>-6.452909</td>\n",
              "      <td>NaN</td>\n",
              "      <td>sale</td>\n",
              "      <td>terraced</td>\n",
              "      <td>114.0</td>\n",
              "    </tr>\n",
              "    <tr>\n",
              "      <th>2</th>\n",
              "      <td>12377408</td>\n",
              "      <td>Swords</td>\n",
              "      <td>3.0</td>\n",
              "      <td>4.0</td>\n",
              "      <td>B3</td>\n",
              "      <td>Dublin</td>\n",
              "      <td>REA Grimes are proud to present to the market ...</td>\n",
              "      <td>prod</td>\n",
              "      <td>NaN</td>\n",
              "      <td>Pristine condition throughout\\nHighly sought-a...</td>\n",
              "      <td>53.454198</td>\n",
              "      <td>-6.262964</td>\n",
              "      <td>NaN</td>\n",
              "      <td>sale</td>\n",
              "      <td>semi-detached</td>\n",
              "      <td>172.0</td>\n",
              "    </tr>\n",
              "    <tr>\n",
              "      <th>3</th>\n",
              "      <td>12420093</td>\n",
              "      <td>Lucan</td>\n",
              "      <td>4.0</td>\n",
              "      <td>3.0</td>\n",
              "      <td>A3</td>\n",
              "      <td>Dublin</td>\n",
              "      <td>REA McDonald, Lucan' s longest established est...</td>\n",
              "      <td>prod</td>\n",
              "      <td>NaN</td>\n",
              "      <td>A-rated home within a short walk of Lucan Vill...</td>\n",
              "      <td>53.354402</td>\n",
              "      <td>-6.458647</td>\n",
              "      <td>NaN</td>\n",
              "      <td>sale</td>\n",
              "      <td>semi-detached</td>\n",
              "      <td>132.4</td>\n",
              "    </tr>\n",
              "    <tr>\n",
              "      <th>4</th>\n",
              "      <td>12417338</td>\n",
              "      <td>Clondalkin</td>\n",
              "      <td>1.0</td>\n",
              "      <td>3.0</td>\n",
              "      <td>E2</td>\n",
              "      <td>Dublin</td>\n",
              "      <td>Hibernian Auctioneers are delighted to bring, ...</td>\n",
              "      <td>prod</td>\n",
              "      <td>Parking,Gas Fired Central Heating,Wired for Ca...</td>\n",
              "      <td>Mature Location \\nGas Heating \\nClose to Ameni...</td>\n",
              "      <td>53.336530</td>\n",
              "      <td>-6.393587</td>\n",
              "      <td>NaN</td>\n",
              "      <td>sale</td>\n",
              "      <td>semi-detached</td>\n",
              "      <td>88.0</td>\n",
              "    </tr>\n",
              "  </tbody>\n",
              "</table>\n",
              "</div>"
            ],
            "text/plain": [
              "      ad_id        area  bathrooms  ...  property_category  property_type surface\n",
              "0  12373510    Skerries        2.0  ...               sale       bungalow   142.0\n",
              "1  12422623       Lucan        2.0  ...               sale       terraced   114.0\n",
              "2  12377408      Swords        3.0  ...               sale  semi-detached   172.0\n",
              "3  12420093       Lucan        4.0  ...               sale  semi-detached   132.4\n",
              "4  12417338  Clondalkin        1.0  ...               sale  semi-detached    88.0\n",
              "\n",
              "[5 rows x 16 columns]"
            ]
          },
          "metadata": {},
          "execution_count": 549
        }
      ]
    },
    {
      "cell_type": "code",
      "metadata": {
        "id": "FXo0x2u7T7-1",
        "colab": {
          "base_uri": "https://localhost:8080/",
          "height": 300
        },
        "outputId": "dc663c89-1513-415a-eef1-8329bfdb346c"
      },
      "source": [
        "# Generate descriptive statistics.\n",
        "dftest.describe()"
      ],
      "execution_count": 550,
      "outputs": [
        {
          "output_type": "execute_result",
          "data": {
            "text/html": [
              "<div>\n",
              "<style scoped>\n",
              "    .dataframe tbody tr th:only-of-type {\n",
              "        vertical-align: middle;\n",
              "    }\n",
              "\n",
              "    .dataframe tbody tr th {\n",
              "        vertical-align: top;\n",
              "    }\n",
              "\n",
              "    .dataframe thead th {\n",
              "        text-align: right;\n",
              "    }\n",
              "</style>\n",
              "<table border=\"1\" class=\"dataframe\">\n",
              "  <thead>\n",
              "    <tr style=\"text-align: right;\">\n",
              "      <th></th>\n",
              "      <th>ad_id</th>\n",
              "      <th>bathrooms</th>\n",
              "      <th>beds</th>\n",
              "      <th>latitude</th>\n",
              "      <th>longitude</th>\n",
              "      <th>no_of_units</th>\n",
              "      <th>surface</th>\n",
              "    </tr>\n",
              "  </thead>\n",
              "  <tbody>\n",
              "    <tr>\n",
              "      <th>count</th>\n",
              "      <td>5.000000e+02</td>\n",
              "      <td>500.000000</td>\n",
              "      <td>500.000000</td>\n",
              "      <td>500.000000</td>\n",
              "      <td>500.000000</td>\n",
              "      <td>0.0</td>\n",
              "      <td>500.000000</td>\n",
              "    </tr>\n",
              "    <tr>\n",
              "      <th>mean</th>\n",
              "      <td>1.231695e+07</td>\n",
              "      <td>1.994000</td>\n",
              "      <td>2.930000</td>\n",
              "      <td>53.356034</td>\n",
              "      <td>-6.247842</td>\n",
              "      <td>NaN</td>\n",
              "      <td>156.007671</td>\n",
              "    </tr>\n",
              "    <tr>\n",
              "      <th>std</th>\n",
              "      <td>1.485832e+05</td>\n",
              "      <td>1.106532</td>\n",
              "      <td>1.191612</td>\n",
              "      <td>0.081905</td>\n",
              "      <td>0.088552</td>\n",
              "      <td>NaN</td>\n",
              "      <td>344.497362</td>\n",
              "    </tr>\n",
              "    <tr>\n",
              "      <th>min</th>\n",
              "      <td>1.130615e+07</td>\n",
              "      <td>0.000000</td>\n",
              "      <td>0.000000</td>\n",
              "      <td>53.221348</td>\n",
              "      <td>-6.496987</td>\n",
              "      <td>NaN</td>\n",
              "      <td>33.500000</td>\n",
              "    </tr>\n",
              "    <tr>\n",
              "      <th>25%</th>\n",
              "      <td>1.228617e+07</td>\n",
              "      <td>1.000000</td>\n",
              "      <td>2.000000</td>\n",
              "      <td>53.297373</td>\n",
              "      <td>-6.296404</td>\n",
              "      <td>NaN</td>\n",
              "      <td>72.375000</td>\n",
              "    </tr>\n",
              "    <tr>\n",
              "      <th>50%</th>\n",
              "      <td>1.237964e+07</td>\n",
              "      <td>2.000000</td>\n",
              "      <td>3.000000</td>\n",
              "      <td>53.339547</td>\n",
              "      <td>-6.243572</td>\n",
              "      <td>NaN</td>\n",
              "      <td>98.000000</td>\n",
              "    </tr>\n",
              "    <tr>\n",
              "      <th>75%</th>\n",
              "      <td>1.240544e+07</td>\n",
              "      <td>3.000000</td>\n",
              "      <td>4.000000</td>\n",
              "      <td>53.381650</td>\n",
              "      <td>-6.185055</td>\n",
              "      <td>NaN</td>\n",
              "      <td>138.935000</td>\n",
              "    </tr>\n",
              "    <tr>\n",
              "      <th>max</th>\n",
              "      <td>1.242809e+07</td>\n",
              "      <td>8.000000</td>\n",
              "      <td>7.000000</td>\n",
              "      <td>53.619775</td>\n",
              "      <td>-6.064874</td>\n",
              "      <td>NaN</td>\n",
              "      <td>5746.536120</td>\n",
              "    </tr>\n",
              "  </tbody>\n",
              "</table>\n",
              "</div>"
            ],
            "text/plain": [
              "              ad_id   bathrooms  ...  no_of_units      surface\n",
              "count  5.000000e+02  500.000000  ...          0.0   500.000000\n",
              "mean   1.231695e+07    1.994000  ...          NaN   156.007671\n",
              "std    1.485832e+05    1.106532  ...          NaN   344.497362\n",
              "min    1.130615e+07    0.000000  ...          NaN    33.500000\n",
              "25%    1.228617e+07    1.000000  ...          NaN    72.375000\n",
              "50%    1.237964e+07    2.000000  ...          NaN    98.000000\n",
              "75%    1.240544e+07    3.000000  ...          NaN   138.935000\n",
              "max    1.242809e+07    8.000000  ...          NaN  5746.536120\n",
              "\n",
              "[8 rows x 7 columns]"
            ]
          },
          "metadata": {},
          "execution_count": 550
        }
      ]
    },
    {
      "cell_type": "markdown",
      "metadata": {
        "id": "r_TiunQFgLRY"
      },
      "source": [
        "The 'dfcost' data will temporarily be appended to the test dataset to ensure any pre-processing steps effects 'dftest' and 'dfcost' similarly."
      ]
    },
    {
      "cell_type": "code",
      "metadata": {
        "id": "vNX2n5zMgbVG",
        "outputId": "3b57cde5-b181-443b-8955-a668e14bf2b6",
        "colab": {
          "base_uri": "https://localhost:8080/"
        }
      },
      "source": [
        "dfcost.shape"
      ],
      "execution_count": 551,
      "outputs": [
        {
          "output_type": "execute_result",
          "data": {
            "text/plain": [
              "(500, 2)"
            ]
          },
          "metadata": {},
          "execution_count": 551
        }
      ]
    },
    {
      "cell_type": "markdown",
      "metadata": {
        "id": "Uj1bgl6Pl0Ce"
      },
      "source": [
        "Get rid of the ID column as that is already present in the test datset."
      ]
    },
    {
      "cell_type": "code",
      "metadata": {
        "id": "dd6KOtwhjE5Y",
        "outputId": "0bba03f5-1da6-4138-ec7b-56430a25245d",
        "colab": {
          "base_uri": "https://localhost:8080/"
        }
      },
      "source": [
        "dfcost_adj = dfcost.drop(columns='Id')\n",
        "dfcost_adj.shape\n",
        "#dfcost_adj"
      ],
      "execution_count": 552,
      "outputs": [
        {
          "output_type": "execute_result",
          "data": {
            "text/plain": [
              "(500, 1)"
            ]
          },
          "metadata": {},
          "execution_count": 552
        }
      ]
    },
    {
      "cell_type": "code",
      "metadata": {
        "id": "afwP4tmLi3og",
        "outputId": "cdbd5bc9-392b-461b-9eca-3fa82524f89d",
        "colab": {
          "base_uri": "https://localhost:8080/",
          "height": 417
        }
      },
      "source": [
        "dftest_adj = pd.concat([dftest, dfcost_adj], axis=1)\n",
        "dftest_adj.head()"
      ],
      "execution_count": 553,
      "outputs": [
        {
          "output_type": "execute_result",
          "data": {
            "text/html": [
              "<div>\n",
              "<style scoped>\n",
              "    .dataframe tbody tr th:only-of-type {\n",
              "        vertical-align: middle;\n",
              "    }\n",
              "\n",
              "    .dataframe tbody tr th {\n",
              "        vertical-align: top;\n",
              "    }\n",
              "\n",
              "    .dataframe thead th {\n",
              "        text-align: right;\n",
              "    }\n",
              "</style>\n",
              "<table border=\"1\" class=\"dataframe\">\n",
              "  <thead>\n",
              "    <tr style=\"text-align: right;\">\n",
              "      <th></th>\n",
              "      <th>ad_id</th>\n",
              "      <th>area</th>\n",
              "      <th>bathrooms</th>\n",
              "      <th>beds</th>\n",
              "      <th>ber_classification</th>\n",
              "      <th>county</th>\n",
              "      <th>description_block</th>\n",
              "      <th>environment</th>\n",
              "      <th>facility</th>\n",
              "      <th>features</th>\n",
              "      <th>latitude</th>\n",
              "      <th>longitude</th>\n",
              "      <th>no_of_units</th>\n",
              "      <th>property_category</th>\n",
              "      <th>property_type</th>\n",
              "      <th>surface</th>\n",
              "      <th>Expected</th>\n",
              "    </tr>\n",
              "  </thead>\n",
              "  <tbody>\n",
              "    <tr>\n",
              "      <th>0</th>\n",
              "      <td>12373510</td>\n",
              "      <td>Skerries</td>\n",
              "      <td>2.0</td>\n",
              "      <td>4.0</td>\n",
              "      <td>G</td>\n",
              "      <td>Dublin</td>\n",
              "      <td>It's all in the name \"Island View\";. Truly won...</td>\n",
              "      <td>prod</td>\n",
              "      <td>Parking,Alarm,Oil Fired Central Heating</td>\n",
              "      <td>Breath-taking panoramic views radiate from thi...</td>\n",
              "      <td>53.566881</td>\n",
              "      <td>-6.101148</td>\n",
              "      <td>NaN</td>\n",
              "      <td>sale</td>\n",
              "      <td>bungalow</td>\n",
              "      <td>142.0</td>\n",
              "      <td>875000.0</td>\n",
              "    </tr>\n",
              "    <tr>\n",
              "      <th>1</th>\n",
              "      <td>12422623</td>\n",
              "      <td>Lucan</td>\n",
              "      <td>2.0</td>\n",
              "      <td>3.0</td>\n",
              "      <td>C1</td>\n",
              "      <td>Dublin</td>\n",
              "      <td>REA McDonald - Lucan' s longest established es...</td>\n",
              "      <td>prod</td>\n",
              "      <td>NaN</td>\n",
              "      <td>Gas fired central heating.\\nDouble glazed wind...</td>\n",
              "      <td>53.362992</td>\n",
              "      <td>-6.452909</td>\n",
              "      <td>NaN</td>\n",
              "      <td>sale</td>\n",
              "      <td>terraced</td>\n",
              "      <td>114.0</td>\n",
              "      <td>355000.0</td>\n",
              "    </tr>\n",
              "    <tr>\n",
              "      <th>2</th>\n",
              "      <td>12377408</td>\n",
              "      <td>Swords</td>\n",
              "      <td>3.0</td>\n",
              "      <td>4.0</td>\n",
              "      <td>B3</td>\n",
              "      <td>Dublin</td>\n",
              "      <td>REA Grimes are proud to present to the market ...</td>\n",
              "      <td>prod</td>\n",
              "      <td>NaN</td>\n",
              "      <td>Pristine condition throughout\\nHighly sought-a...</td>\n",
              "      <td>53.454198</td>\n",
              "      <td>-6.262964</td>\n",
              "      <td>NaN</td>\n",
              "      <td>sale</td>\n",
              "      <td>semi-detached</td>\n",
              "      <td>172.0</td>\n",
              "      <td>440000.0</td>\n",
              "    </tr>\n",
              "    <tr>\n",
              "      <th>3</th>\n",
              "      <td>12420093</td>\n",
              "      <td>Lucan</td>\n",
              "      <td>4.0</td>\n",
              "      <td>3.0</td>\n",
              "      <td>A3</td>\n",
              "      <td>Dublin</td>\n",
              "      <td>REA McDonald, Lucan' s longest established est...</td>\n",
              "      <td>prod</td>\n",
              "      <td>NaN</td>\n",
              "      <td>A-rated home within a short walk of Lucan Vill...</td>\n",
              "      <td>53.354402</td>\n",
              "      <td>-6.458647</td>\n",
              "      <td>NaN</td>\n",
              "      <td>sale</td>\n",
              "      <td>semi-detached</td>\n",
              "      <td>132.4</td>\n",
              "      <td>425000.0</td>\n",
              "    </tr>\n",
              "    <tr>\n",
              "      <th>4</th>\n",
              "      <td>12417338</td>\n",
              "      <td>Clondalkin</td>\n",
              "      <td>1.0</td>\n",
              "      <td>3.0</td>\n",
              "      <td>E2</td>\n",
              "      <td>Dublin</td>\n",
              "      <td>Hibernian Auctioneers are delighted to bring, ...</td>\n",
              "      <td>prod</td>\n",
              "      <td>Parking,Gas Fired Central Heating,Wired for Ca...</td>\n",
              "      <td>Mature Location \\nGas Heating \\nClose to Ameni...</td>\n",
              "      <td>53.336530</td>\n",
              "      <td>-6.393587</td>\n",
              "      <td>NaN</td>\n",
              "      <td>sale</td>\n",
              "      <td>semi-detached</td>\n",
              "      <td>88.0</td>\n",
              "      <td>265000.0</td>\n",
              "    </tr>\n",
              "  </tbody>\n",
              "</table>\n",
              "</div>"
            ],
            "text/plain": [
              "      ad_id        area  bathrooms  ...  property_type surface  Expected\n",
              "0  12373510    Skerries        2.0  ...       bungalow   142.0  875000.0\n",
              "1  12422623       Lucan        2.0  ...       terraced   114.0  355000.0\n",
              "2  12377408      Swords        3.0  ...  semi-detached   172.0  440000.0\n",
              "3  12420093       Lucan        4.0  ...  semi-detached   132.4  425000.0\n",
              "4  12417338  Clondalkin        1.0  ...  semi-detached    88.0  265000.0\n",
              "\n",
              "[5 rows x 17 columns]"
            ]
          },
          "metadata": {},
          "execution_count": 553
        }
      ]
    },
    {
      "cell_type": "markdown",
      "metadata": {
        "id": "Sh6FXiRAl95C"
      },
      "source": [
        "Drop columns=['ad_id', 'facility','no_of_units', 'description_block', 'features'] like was done in the training set."
      ]
    },
    {
      "cell_type": "code",
      "metadata": {
        "colab": {
          "base_uri": "https://localhost:8080/"
        },
        "id": "pxto3D8TgcQt",
        "outputId": "6b22dae0-58a5-463a-b722-77e20599a394"
      },
      "source": [
        "dftest_adj = dftest_adj.drop(columns=['ad_id', 'facility','no_of_units', 'description_block', 'features'])\n",
        "\n",
        "dftest_adj.shape"
      ],
      "execution_count": 554,
      "outputs": [
        {
          "output_type": "execute_result",
          "data": {
            "text/plain": [
              "(500, 12)"
            ]
          },
          "metadata": {},
          "execution_count": 554
        }
      ]
    },
    {
      "cell_type": "markdown",
      "metadata": {
        "id": "pFTMBj1JmKtU"
      },
      "source": [
        "Drop columns=['county', 'environment', 'property_category'] like was done in the training set."
      ]
    },
    {
      "cell_type": "code",
      "metadata": {
        "id": "0iAGYG0ugcQx",
        "outputId": "7d9bb954-349d-40d9-e255-856b9ddb73bd",
        "colab": {
          "base_uri": "https://localhost:8080/"
        }
      },
      "source": [
        "dftest_adj.drop(columns=['county', 'environment', 'property_category'], inplace=True)\n",
        "\n",
        "dftest_adj.shape"
      ],
      "execution_count": 555,
      "outputs": [
        {
          "output_type": "execute_result",
          "data": {
            "text/plain": [
              "(500, 9)"
            ]
          },
          "metadata": {},
          "execution_count": 555
        }
      ]
    },
    {
      "cell_type": "markdown",
      "metadata": {
        "id": "1WlexaM0gcQy"
      },
      "source": [
        "Drop all rows with NaN present as the sample/observation is incomplete and may be misleading."
      ]
    },
    {
      "cell_type": "code",
      "metadata": {
        "colab": {
          "base_uri": "https://localhost:8080/"
        },
        "id": "WbRIUZNggcQy",
        "outputId": "401a7283-8064-479c-c76c-ca00256051ea"
      },
      "source": [
        "dftest_adj.dropna(inplace=True)\n",
        "\n",
        "dftest_adj.shape"
      ],
      "execution_count": 556,
      "outputs": [
        {
          "output_type": "execute_result",
          "data": {
            "text/plain": [
              "(444, 9)"
            ]
          },
          "metadata": {},
          "execution_count": 556
        }
      ]
    },
    {
      "cell_type": "markdown",
      "metadata": {
        "id": "EiHIaIRXgcQz"
      },
      "source": [
        "Remove samples where there are 0 bathrooms and 0 bedrooms."
      ]
    },
    {
      "cell_type": "code",
      "metadata": {
        "colab": {
          "base_uri": "https://localhost:8080/"
        },
        "id": "qCfw7IVDgcQz",
        "outputId": "9715e2be-41c0-4f80-ef9e-f08d1be09844"
      },
      "source": [
        "dftest_adj.drop(dftest_adj[dftest_adj.beds == 0].index, inplace=True)\n",
        "\n",
        "dftest_adj.drop(dftest_adj[dftest_adj.bathrooms == 0].index, inplace=True)\n",
        "\n",
        "dftest_adj.shape"
      ],
      "execution_count": 557,
      "outputs": [
        {
          "output_type": "execute_result",
          "data": {
            "text/plain": [
              "(440, 9)"
            ]
          },
          "metadata": {},
          "execution_count": 557
        }
      ]
    },
    {
      "cell_type": "markdown",
      "metadata": {
        "id": "A8FjLK3FgcQ4"
      },
      "source": [
        "Convert each categorical variable in turn and update dataframe. Use the same mapping as in the training dataset pre-processing."
      ]
    },
    {
      "cell_type": "code",
      "metadata": {
        "colab": {
          "base_uri": "https://localhost:8080/"
        },
        "id": "sHz7k3VdgcQ5",
        "outputId": "e42a3de2-d9d3-4ca4-b6bb-d8cfe821700d"
      },
      "source": [
        "print(replace_map_comp_1)\n",
        "\n",
        "dftest_adj.replace(replace_map_comp_1, inplace=True)"
      ],
      "execution_count": 558,
      "outputs": [
        {
          "output_type": "stream",
          "name": "stdout",
          "text": [
            "{'area': {'Adamstown': 1, 'Ard Na Greine': 2, 'Artane': 3, 'Ashtown': 4, 'Balbriggan': 5, 'Baldoyle': 6, 'Balgriffin': 7, 'Ballinteer': 8, 'Ballsbridge': 9, 'Ballybough': 10, 'Ballyboughal': 11, 'Ballybrack': 12, 'Ballycullen': 13, 'Ballyfermot': 14, 'Ballymun': 15, 'Balrothery': 16, 'Beaumont': 17, 'Blackrock': 18, 'Blanchardstown': 19, 'Bluebell': 20, 'Booterstown': 21, 'Brittas': 22, 'Cabinteely': 23, 'Cabra': 24, 'Carrickmines': 25, 'Castleknock': 26, 'Chapelizod': 27, 'Christchurch': 28, 'Churchtown': 29, 'Citywest': 30, 'Clarehall': 31, 'Clondalkin': 32, 'Clonee': 33, 'Clongriffin': 34, 'Clonshaugh': 35, 'Clonsilla': 36, 'Clonskeagh': 37, 'Clontarf': 38, 'Coolock': 39, 'Crumlin': 40, 'Dalkey': 41, 'Darndale': 42, 'Dartry': 43, 'Donabate': 44, 'Donaghmede': 45, 'Donnybrook': 46, 'Donnycarney': 47, 'Drimnagh': 48, 'Drumcondra': 49, 'Dublin 1': 50, 'Dublin 2': 51, 'Dublin 4': 52, 'Dublin 7': 53, 'Dublin 8': 54, 'Dun Laoghaire': 55, 'Dundrum': 56, 'East Wall': 57, 'Edenmore': 58, 'Fairview': 59, 'Finglas': 60, 'Firhouse': 61, 'Foxrock': 62, 'Garristown': 63, 'Glasnevin': 64, 'Glenageary': 65, 'Goatstown': 66, 'Grand Canal Dock': 67, 'Greenhills': 68, \"Harold's Cross\": 69, 'Howth': 70, 'IFSC': 71, 'Inchicore': 72, 'Irishtown': 73, 'Islandbridge': 74, 'Killester': 75, 'Killiney': 76, 'Kilmacud': 77, 'Kilmainham': 78, 'Kilmore': 79, 'Kilnamanagh': 80, 'Kilternan': 81, 'Kiltipper': 82, 'Kimmage': 83, 'Kingswood': 84, 'Kinsealy': 85, 'Knocklyon': 86, 'Leopardstown': 87, 'Loughlinstown': 88, 'Loughshinny': 89, 'Lucan': 90, 'Lusk': 91, 'Malahide': 92, 'Marino': 93, 'Milltown': 94, 'Monkstown': 95, 'Mount Merrion': 96, 'Mulhuddart': 97, 'Naul': 98, 'Navan Road (D7)': 99, 'Newcastle': 100, 'North Circular Road': 101, 'North Strand': 102, 'Oldbawn': 103, 'Ongar': 104, 'Palmerstown': 105, 'Park West': 106, 'Perrystown': 107, 'Phibsborough': 108, 'Portmarnock': 109, 'Portobello': 110, 'Raheny': 111, 'Ranelagh': 112, 'Rathcoole': 113, 'Rathfarnham': 114, 'Rathgar': 115, 'Rathmichael': 116, 'Rathmines': 117, 'Rialto': 118, 'Ringsend': 119, 'Rush': 120, 'Saggart': 121, 'Sallynoggin': 122, 'Sandycove': 123, 'Sandyford': 124, 'Sandymount': 125, 'Santry': 126, 'Shankill': 127, 'Skerries': 128, 'Smithfield': 129, 'South Circular Road': 130, 'Stepaside': 131, 'Stoneybatter': 132, 'Sutton': 133, 'Swords': 134, 'Tallaght': 135, 'Temple Bar': 136, 'Templeogue': 137, 'Terenure': 138, 'The Coombe': 139, 'The Ward': 140, 'Tyrrelstown': 141, 'Walkinstown': 142, 'Whitehall': 143, 'Windy Arbour': 144}}\n"
          ]
        }
      ]
    },
    {
      "cell_type": "code",
      "metadata": {
        "colab": {
          "base_uri": "https://localhost:8080/"
        },
        "id": "r4CR1TwMgcQ5",
        "outputId": "d642dffd-652e-4c3f-87f5-6d30fd51bd38"
      },
      "source": [
        "print(replace_map_comp_2)\n",
        "\n",
        "dftest_adj.replace(replace_map_comp_2, inplace=True)"
      ],
      "execution_count": 559,
      "outputs": [
        {
          "output_type": "stream",
          "name": "stdout",
          "text": [
            "{'ber_classification': {'A1': 1, 'A2': 2, 'A3': 3, 'B1': 4, 'B2': 5, 'B3': 6, 'C1': 7, 'C2': 8, 'C3': 9, 'D1': 10, 'D2': 11, 'E1': 12, 'E2': 13, 'F': 14, 'G': 15, 'SINo666of2006exempt': 16}}\n"
          ]
        }
      ]
    },
    {
      "cell_type": "code",
      "metadata": {
        "colab": {
          "base_uri": "https://localhost:8080/"
        },
        "id": "rRjBR-pNgcQ6",
        "outputId": "0d4ee440-5199-4a1e-da63-bedd77fae7fb"
      },
      "source": [
        "print(replace_map_comp_3)\n",
        "\n",
        "dftest_adj.replace(replace_map_comp_3, inplace=True)"
      ],
      "execution_count": 560,
      "outputs": [
        {
          "output_type": "stream",
          "name": "stdout",
          "text": [
            "{'property_type': {'apartment': 1, 'bungalow': 2, 'detached': 3, 'duplex': 4, 'end-of-terrace': 5, 'semi-detached': 6, 'site': 7, 'studio': 8, 'terraced': 9, 'townhouse': 10}}\n"
          ]
        }
      ]
    },
    {
      "cell_type": "code",
      "metadata": {
        "colab": {
          "base_uri": "https://localhost:8080/",
          "height": 206
        },
        "id": "BrKCC8f0gcQ6",
        "outputId": "ca74cc44-4cee-4da5-edc7-1af5e1c8fa89"
      },
      "source": [
        "dftest_adj.head()"
      ],
      "execution_count": 561,
      "outputs": [
        {
          "output_type": "execute_result",
          "data": {
            "text/html": [
              "<div>\n",
              "<style scoped>\n",
              "    .dataframe tbody tr th:only-of-type {\n",
              "        vertical-align: middle;\n",
              "    }\n",
              "\n",
              "    .dataframe tbody tr th {\n",
              "        vertical-align: top;\n",
              "    }\n",
              "\n",
              "    .dataframe thead th {\n",
              "        text-align: right;\n",
              "    }\n",
              "</style>\n",
              "<table border=\"1\" class=\"dataframe\">\n",
              "  <thead>\n",
              "    <tr style=\"text-align: right;\">\n",
              "      <th></th>\n",
              "      <th>area</th>\n",
              "      <th>bathrooms</th>\n",
              "      <th>beds</th>\n",
              "      <th>ber_classification</th>\n",
              "      <th>latitude</th>\n",
              "      <th>longitude</th>\n",
              "      <th>property_type</th>\n",
              "      <th>surface</th>\n",
              "      <th>Expected</th>\n",
              "    </tr>\n",
              "  </thead>\n",
              "  <tbody>\n",
              "    <tr>\n",
              "      <th>0</th>\n",
              "      <td>128</td>\n",
              "      <td>2.0</td>\n",
              "      <td>4.0</td>\n",
              "      <td>15</td>\n",
              "      <td>53.566881</td>\n",
              "      <td>-6.101148</td>\n",
              "      <td>2</td>\n",
              "      <td>142.0</td>\n",
              "      <td>875000.0</td>\n",
              "    </tr>\n",
              "    <tr>\n",
              "      <th>1</th>\n",
              "      <td>90</td>\n",
              "      <td>2.0</td>\n",
              "      <td>3.0</td>\n",
              "      <td>7</td>\n",
              "      <td>53.362992</td>\n",
              "      <td>-6.452909</td>\n",
              "      <td>9</td>\n",
              "      <td>114.0</td>\n",
              "      <td>355000.0</td>\n",
              "    </tr>\n",
              "    <tr>\n",
              "      <th>2</th>\n",
              "      <td>134</td>\n",
              "      <td>3.0</td>\n",
              "      <td>4.0</td>\n",
              "      <td>6</td>\n",
              "      <td>53.454198</td>\n",
              "      <td>-6.262964</td>\n",
              "      <td>6</td>\n",
              "      <td>172.0</td>\n",
              "      <td>440000.0</td>\n",
              "    </tr>\n",
              "    <tr>\n",
              "      <th>3</th>\n",
              "      <td>90</td>\n",
              "      <td>4.0</td>\n",
              "      <td>3.0</td>\n",
              "      <td>3</td>\n",
              "      <td>53.354402</td>\n",
              "      <td>-6.458647</td>\n",
              "      <td>6</td>\n",
              "      <td>132.4</td>\n",
              "      <td>425000.0</td>\n",
              "    </tr>\n",
              "    <tr>\n",
              "      <th>4</th>\n",
              "      <td>32</td>\n",
              "      <td>1.0</td>\n",
              "      <td>3.0</td>\n",
              "      <td>13</td>\n",
              "      <td>53.336530</td>\n",
              "      <td>-6.393587</td>\n",
              "      <td>6</td>\n",
              "      <td>88.0</td>\n",
              "      <td>265000.0</td>\n",
              "    </tr>\n",
              "  </tbody>\n",
              "</table>\n",
              "</div>"
            ],
            "text/plain": [
              "  area  bathrooms  beds  ...  property_type  surface  Expected\n",
              "0  128        2.0   4.0  ...              2    142.0  875000.0\n",
              "1   90        2.0   3.0  ...              9    114.0  355000.0\n",
              "2  134        3.0   4.0  ...              6    172.0  440000.0\n",
              "3   90        4.0   3.0  ...              6    132.4  425000.0\n",
              "4   32        1.0   3.0  ...              6     88.0  265000.0\n",
              "\n",
              "[5 rows x 9 columns]"
            ]
          },
          "metadata": {},
          "execution_count": 561
        }
      ]
    },
    {
      "cell_type": "code",
      "metadata": {
        "colab": {
          "base_uri": "https://localhost:8080/"
        },
        "id": "EStlNL7mgcQ6",
        "outputId": "4c8a1512-3cf7-49c2-f48c-5256de26888c"
      },
      "source": [
        "dftest_adj.shape"
      ],
      "execution_count": 562,
      "outputs": [
        {
          "output_type": "execute_result",
          "data": {
            "text/plain": [
              "(440, 9)"
            ]
          },
          "metadata": {},
          "execution_count": 562
        }
      ]
    },
    {
      "cell_type": "markdown",
      "metadata": {
        "id": "jCvKaaoegcQ7"
      },
      "source": [
        "Now all test features are now numeric. There are 9 remaining features (which includes the target 'price')."
      ]
    },
    {
      "cell_type": "markdown",
      "metadata": {
        "id": "UjMH1CSEUA1A"
      },
      "source": [
        "### Expected Cost dataset"
      ]
    },
    {
      "cell_type": "code",
      "metadata": {
        "id": "mVYR6nm-orLU",
        "outputId": "40d7d58f-4013-47ea-e728-e4d4acacdc55",
        "colab": {
          "base_uri": "https://localhost:8080/"
        }
      },
      "source": [
        "cost_data = [dftest_adj['Expected']]\n",
        "\n",
        "header_name = ['Expected']\n",
        "\n",
        "dfcost_updated = pd.concat(cost_data, axis=1, keys=header_name)\n",
        "\n",
        "dftest_adj.drop(columns='Expected', inplace=True)\n",
        "\n",
        "dfcost_updated.shape"
      ],
      "execution_count": 565,
      "outputs": [
        {
          "output_type": "execute_result",
          "data": {
            "text/plain": [
              "(440, 1)"
            ]
          },
          "metadata": {},
          "execution_count": 565
        }
      ]
    },
    {
      "cell_type": "code",
      "metadata": {
        "id": "uccElmxroq7r",
        "outputId": "49c2ee4d-b441-41f7-aba7-4b46d4f11899",
        "colab": {
          "base_uri": "https://localhost:8080/"
        }
      },
      "source": [
        "dftest_adj.shape"
      ],
      "execution_count": 566,
      "outputs": [
        {
          "output_type": "execute_result",
          "data": {
            "text/plain": [
              "(440, 8)"
            ]
          },
          "metadata": {},
          "execution_count": 566
        }
      ]
    },
    {
      "cell_type": "code",
      "metadata": {
        "colab": {
          "base_uri": "https://localhost:8080/",
          "height": 206
        },
        "id": "cW-Ppw_Fg-xd",
        "outputId": "ae15aa31-a095-4454-c08d-cb6320882f3c"
      },
      "source": [
        "# Show first data frame rows.\n",
        "dfcost_updated.head()"
      ],
      "execution_count": 567,
      "outputs": [
        {
          "output_type": "execute_result",
          "data": {
            "text/html": [
              "<div>\n",
              "<style scoped>\n",
              "    .dataframe tbody tr th:only-of-type {\n",
              "        vertical-align: middle;\n",
              "    }\n",
              "\n",
              "    .dataframe tbody tr th {\n",
              "        vertical-align: top;\n",
              "    }\n",
              "\n",
              "    .dataframe thead th {\n",
              "        text-align: right;\n",
              "    }\n",
              "</style>\n",
              "<table border=\"1\" class=\"dataframe\">\n",
              "  <thead>\n",
              "    <tr style=\"text-align: right;\">\n",
              "      <th></th>\n",
              "      <th>Expected</th>\n",
              "    </tr>\n",
              "  </thead>\n",
              "  <tbody>\n",
              "    <tr>\n",
              "      <th>0</th>\n",
              "      <td>875000.0</td>\n",
              "    </tr>\n",
              "    <tr>\n",
              "      <th>1</th>\n",
              "      <td>355000.0</td>\n",
              "    </tr>\n",
              "    <tr>\n",
              "      <th>2</th>\n",
              "      <td>440000.0</td>\n",
              "    </tr>\n",
              "    <tr>\n",
              "      <th>3</th>\n",
              "      <td>425000.0</td>\n",
              "    </tr>\n",
              "    <tr>\n",
              "      <th>4</th>\n",
              "      <td>265000.0</td>\n",
              "    </tr>\n",
              "  </tbody>\n",
              "</table>\n",
              "</div>"
            ],
            "text/plain": [
              "   Expected\n",
              "0  875000.0\n",
              "1  355000.0\n",
              "2  440000.0\n",
              "3  425000.0\n",
              "4  265000.0"
            ]
          },
          "metadata": {},
          "execution_count": 567
        }
      ]
    },
    {
      "cell_type": "code",
      "metadata": {
        "id": "7p63sCZeUNx3",
        "colab": {
          "base_uri": "https://localhost:8080/",
          "height": 300
        },
        "outputId": "c32d9639-a098-404e-d28b-71393f571fa0"
      },
      "source": [
        "# Generate descriptive statistics.\n",
        "dfcost_updated.describe()"
      ],
      "execution_count": 568,
      "outputs": [
        {
          "output_type": "execute_result",
          "data": {
            "text/html": [
              "<div>\n",
              "<style scoped>\n",
              "    .dataframe tbody tr th:only-of-type {\n",
              "        vertical-align: middle;\n",
              "    }\n",
              "\n",
              "    .dataframe tbody tr th {\n",
              "        vertical-align: top;\n",
              "    }\n",
              "\n",
              "    .dataframe thead th {\n",
              "        text-align: right;\n",
              "    }\n",
              "</style>\n",
              "<table border=\"1\" class=\"dataframe\">\n",
              "  <thead>\n",
              "    <tr style=\"text-align: right;\">\n",
              "      <th></th>\n",
              "      <th>Expected</th>\n",
              "    </tr>\n",
              "  </thead>\n",
              "  <tbody>\n",
              "    <tr>\n",
              "      <th>count</th>\n",
              "      <td>4.400000e+02</td>\n",
              "    </tr>\n",
              "    <tr>\n",
              "      <th>mean</th>\n",
              "      <td>5.431734e+05</td>\n",
              "    </tr>\n",
              "    <tr>\n",
              "      <th>std</th>\n",
              "      <td>4.711011e+05</td>\n",
              "    </tr>\n",
              "    <tr>\n",
              "      <th>min</th>\n",
              "      <td>1.250000e+05</td>\n",
              "    </tr>\n",
              "    <tr>\n",
              "      <th>25%</th>\n",
              "      <td>2.950000e+05</td>\n",
              "    </tr>\n",
              "    <tr>\n",
              "      <th>50%</th>\n",
              "      <td>4.175000e+05</td>\n",
              "    </tr>\n",
              "    <tr>\n",
              "      <th>75%</th>\n",
              "      <td>5.950000e+05</td>\n",
              "    </tr>\n",
              "    <tr>\n",
              "      <th>max</th>\n",
              "      <td>5.250000e+06</td>\n",
              "    </tr>\n",
              "  </tbody>\n",
              "</table>\n",
              "</div>"
            ],
            "text/plain": [
              "           Expected\n",
              "count  4.400000e+02\n",
              "mean   5.431734e+05\n",
              "std    4.711011e+05\n",
              "min    1.250000e+05\n",
              "25%    2.950000e+05\n",
              "50%    4.175000e+05\n",
              "75%    5.950000e+05\n",
              "max    5.250000e+06"
            ]
          },
          "metadata": {},
          "execution_count": 568
        }
      ]
    },
    {
      "cell_type": "markdown",
      "metadata": {
        "id": "bJFJQxAS9HZK"
      },
      "source": [
        "# PIECEWISE REGRESSION"
      ]
    },
    {
      "cell_type": "markdown",
      "metadata": {
        "id": "uQ_1QsLToIDi"
      },
      "source": [
        "## Full Model"
      ]
    },
    {
      "cell_type": "code",
      "metadata": {
        "id": "Yv5j1KzzMUnm"
      },
      "source": [
        "# select some features columns just for the baseline model\n",
        "# assume not all of the features are informative or useful\n",
        "# in this exercise you could try all of them if possible\n",
        "\n",
        "featrain = ['feature_1','feature_2','feature_3','cost']\n",
        "# dropna: remove missing values\n",
        "df_subset_train = dftrain[featrain].dropna(axis=0)\n",
        "\n",
        "featest = ['feature_1','feature_2','feature_3']\n",
        "df_subset_test  =  dftest[featest].dropna(axis=0)\n",
        "\n",
        "# cost\n",
        "df_cost = df_cost[df_cost.index.isin(df_subset_test.index)]"
      ],
      "execution_count": null,
      "outputs": []
    },
    {
      "cell_type": "code",
      "metadata": {
        "id": "PZK2kfygoIDi"
      },
      "source": [
        "# model\n",
        "with pm.Model() as model:\n",
        "    #prior over the parameters of linear regression\n",
        "    alpha = pm.Normal('alpha', mu=0, sigma=30)\n",
        "    #we have one beta for each column of Xn\n",
        "    beta = pm.Normal('beta', mu=0, sigma=30, shape=Xn_train.shape[1])\n",
        "    #prior over the variance of the noise\n",
        "    sigma = pm.HalfCauchy('sigma_n', 5)\n",
        "    #linear regression model in matrix form\n",
        "    mu = alpha + pm.math.dot(beta, Xn_train.T)\n",
        "    #likelihood, be sure that observed is a 1d vector\n",
        "    like = pm.Normal('like', mu=mu, sigma=sigma, observed=yn_train[:,0])\n",
        "    "
      ],
      "execution_count": null,
      "outputs": []
    },
    {
      "cell_type": "code",
      "metadata": {
        "id": "cIskuS3ToIDk"
      },
      "source": [
        "# prediction\n",
        "ll=np.mean(posterior['alpha']) + np.dot(np.mean(posterior['beta'],axis=0), Xn_test.T)\n",
        "y_pred_BLR = np.exp(yscaler.inverse_transform(ll.reshape(-1,1)))[:,0]\n",
        "print(\"MAE = \",(np.mean(abs(y_pred_BLR - y_test))))\n",
        "print(\"MAPE = \",(np.mean(abs(y_pred_BLR - y_test) / y_test)))"
      ],
      "execution_count": null,
      "outputs": []
    },
    {
      "cell_type": "markdown",
      "metadata": {
        "id": "q_jBBKvtoIDk"
      },
      "source": [
        "## Clustering"
      ]
    },
    {
      "cell_type": "markdown",
      "metadata": {
        "id": "VYFvbgYDaEOS"
      },
      "source": [
        "### Full Model"
      ]
    },
    {
      "cell_type": "code",
      "metadata": {
        "id": "iphQ53UE0iVw"
      },
      "source": [
        "# training gaussian mixture model \n",
        "from sklearn.mixture import GaussianMixture\n",
        "\n",
        "gmm = GaussianMixture(n_components=4)\n"
      ],
      "execution_count": null,
      "outputs": []
    },
    {
      "cell_type": "markdown",
      "metadata": {
        "id": "h51OhBV5Z4tY"
      },
      "source": [
        "### Clusters"
      ]
    },
    {
      "cell_type": "code",
      "metadata": {
        "id": "vNvx_KxrLt90"
      },
      "source": [
        "# train clusters\n",
        "\n"
      ],
      "execution_count": null,
      "outputs": []
    },
    {
      "cell_type": "code",
      "metadata": {
        "id": "-wTT4220zFNx"
      },
      "source": [
        "# test clusters\n"
      ],
      "execution_count": null,
      "outputs": []
    },
    {
      "cell_type": "markdown",
      "metadata": {
        "id": "dXF25ZDYoIDl"
      },
      "source": [
        "## Piecewise Model"
      ]
    },
    {
      "cell_type": "code",
      "metadata": {
        "id": "N1e-4ruvaJci"
      },
      "source": [
        "# model_0\n",
        "with pm.Model() as model_0:\n",
        "  # prior over the parameters of linear regression\n",
        "  alpha = pm.Normal('alpha', mu=0, sigma=30)\n",
        "  # we have a beta for each column of Xn0\n",
        "  beta = pm.Normal('beta', mu=0, sigma=30, shape=Xn0.shape[1])\n",
        "  # prior over the variance of the noise\n",
        "  sigma = pm.HalfCauchy('sigma_n', 5)\n",
        "  # linear regression relationship\n",
        "  #linear regression model in matrix form\n",
        "  mu = alpha + pm.math.dot(beta, Xn0.T)\n",
        "  # likelihood, be sure that observed is a 1d vector\n",
        "  like = pm.Normal('like', mu=mu, sigma=sigma, observed=yn0[:,0])\n",
        "\n"
      ],
      "execution_count": null,
      "outputs": []
    },
    {
      "cell_type": "markdown",
      "metadata": {
        "id": "wHBgUe1pcZQQ"
      },
      "source": [
        "##Simulations"
      ]
    },
    {
      "cell_type": "markdown",
      "metadata": {
        "id": "bfSEdYAUoIDn"
      },
      "source": [
        "### Only Cluster 0"
      ]
    },
    {
      "cell_type": "markdown",
      "metadata": {
        "id": "qgMUwBO7oIDq"
      },
      "source": [
        "## Overall"
      ]
    },
    {
      "cell_type": "markdown",
      "metadata": {
        "id": "QMY9rDvVoIDq"
      },
      "source": [
        "## Test set performance"
      ]
    },
    {
      "cell_type": "markdown",
      "metadata": {
        "id": "YGmB9BNkoIDr"
      },
      "source": [
        "### PPC on the Test set\n",
        "\n"
      ]
    },
    {
      "cell_type": "markdown",
      "metadata": {
        "id": "f0GYCpwEM09T"
      },
      "source": [
        "# SUMMARY\n",
        "\n",
        "\n",
        "https://www.datacamp.com/community/tutorials/categorical-data#encoding "
      ]
    }
  ]
}